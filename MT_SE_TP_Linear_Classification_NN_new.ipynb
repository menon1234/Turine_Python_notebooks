{
 "cells": [
  {
   "cell_type": "code",
   "execution_count": 47,
   "id": "689cb8cf",
   "metadata": {},
   "outputs": [
    {
     "name": "stdout",
     "output_type": "stream",
     "text": [
      "Collecting plotly\n",
      "  Using cached plotly-5.4.0-py2.py3-none-any.whl (25.3 MB)\n",
      "Collecting tenacity>=6.2.0\n",
      "  Using cached tenacity-8.0.1-py3-none-any.whl (24 kB)\n",
      "Requirement already satisfied: six in c:\\users\\z004csar\\anaconda3\\envs\\tensor\\lib\\site-packages (from plotly) (1.15.0)\n",
      "Installing collected packages: tenacity, plotly\n",
      "Successfully installed plotly-5.4.0 tenacity-8.0.1\n"
     ]
    }
   ],
   "source": [
    "!pip install plotly"
   ]
  },
  {
   "cell_type": "code",
   "execution_count": 98,
   "id": "a1ab97c4",
   "metadata": {},
   "outputs": [],
   "source": [
    "##Run all the scripts\n",
    "\n",
    "# %run ../Pyscripts/MT_SE_PT_Preprocess.py\n",
    "# %run ../Pyscripts/MT_SE_PT_Visusalisation.py\n",
    "# %run ../Pyscripts/MT_SE_PT_Turbine_Funtions.py\n",
    "%run ../Pyscripts/MT_SE_PT_CombineDF_preprocess.py\n",
    "# %run ../Pyscripts/MT_SE_PT_Funtions.py\n",
    "# %run ../Pyscripts/MT_SE_PT_Heatmap.py\n",
    "# %run ../Pyscripts/MT_SE_PT_Tuner.py\n",
    "%run ../Pyscripts/MT_SE_PT_CombineDF_Model.py\n",
    "%run ../Pyscripts/MT_SE_PT_CombineDF_Heatmaps.py\n"
   ]
  },
  {
   "cell_type": "code",
   "execution_count": 14,
   "id": "2e6186bc",
   "metadata": {},
   "outputs": [],
   "source": [
    "from os import listdir\n",
    "from os.path import isfile, join\n",
    "onlyfiles = [f for f in listdir('../Data to train') if isfile(join('../Data to train', f))]"
   ]
  },
  {
   "cell_type": "code",
   "execution_count": 16,
   "id": "21fb1dbd",
   "metadata": {},
   "outputs": [
    {
     "data": {
      "text/plain": [
       "['Gazli-1_750_20210629_flamedetector_data(T6 and T7).xlsx',\n",
       " 'Gazli-2_750_20210618_UnbalancedDataset.xlsx',\n",
       " 'SGT-750, CastbergSpare_2021112_Provskott-2.xlsx',\n",
       " 'SGT-750, Chimei-1_20210902_Provskott-1.xlsx',\n",
       " 'SGT-750, Chimei-1_20210903_Provskott-2.xlsx',\n",
       " 'SGT-750, Chimei-1_20210906_Kundprov.xlsx',\n",
       " 'SGT-750, Gazli-1_20210617_Provskott.xlsx',\n",
       " 'SGT-750, Gazli-1_20210618_Kundprov.xlsx',\n",
       " 'SGT-750, Gazli-2_20210629_Provskott-1.xlsx',\n",
       " 'SGT-750, Gazli-2_20210629_Provskott-1_MoreVariables.xlsx',\n",
       " 'SGT-750, Gazli-2_20210630_Provskott-2.xlsx',\n",
       " 'SGT-750, Gazli-2_20210701_Provskott-3.xlsx',\n",
       " 'SGT-750, Gazli-2_20210705_Kundprov.xlsx',\n",
       " 'SGT-750, Pipestone_20200528_Kundprov.xlsx',\n",
       " 'SGT-750, Pipestone_20200529_Provskott.xlsx',\n",
       " 'SGT-750, Pipestone_20200601_Startprover.xlsx',\n",
       " 'SGT-750, Pipestone_20200605_Förbränningsverifering.xlsx']"
      ]
     },
     "execution_count": 16,
     "metadata": {},
     "output_type": "execute_result"
    }
   ],
   "source": [
    "onlyfiles"
   ]
  },
  {
   "cell_type": "code",
   "execution_count": 4,
   "id": "139ae59e",
   "metadata": {},
   "outputs": [],
   "source": [
    "# ###Unbalanced Dataset\n",
    "\n",
    "# ##Data from Gazli20210618Unbalanced\n",
    "# DS = []\n",
    "# count = 1\n",
    "# with warnings.catch_warnings(record=True):\n",
    "#     warnings.simplefilter(\"always\")\n",
    "#     File  = pd.read_excel(f'C:/Users/z004csar/Desktop/Thesis_Project/Data to train/SGT-750, Chimei-1_20210906_Kundprov.xlsx',engine=\"openpyxl\",index_col=0)\n",
    "        "
   ]
  },
  {
   "cell_type": "code",
   "execution_count": 19,
   "id": "295ef096",
   "metadata": {},
   "outputs": [
    {
     "name": "stderr",
     "output_type": "stream",
     "text": [
      "C:\\Users\\z004csar\\Anaconda3\\envs\\tensor\\lib\\site-packages\\openpyxl\\styles\\stylesheet.py:226: UserWarning: Workbook contains no default style, apply openpyxl's default\n",
      "  warn(\"Workbook contains no default style, apply openpyxl's default\")\n",
      "C:\\Users\\z004csar\\Anaconda3\\envs\\tensor\\lib\\site-packages\\openpyxl\\styles\\stylesheet.py:226: UserWarning: Workbook contains no default style, apply openpyxl's default\n",
      "  warn(\"Workbook contains no default style, apply openpyxl's default\")\n"
     ]
    },
    {
     "name": "stdout",
     "output_type": "stream",
     "text": [
      "No na values\n"
     ]
    },
    {
     "name": "stderr",
     "output_type": "stream",
     "text": [
      "C:\\Users\\z004csar\\Anaconda3\\envs\\tensor\\lib\\site-packages\\openpyxl\\styles\\stylesheet.py:226: UserWarning: Workbook contains no default style, apply openpyxl's default\n",
      "  warn(\"Workbook contains no default style, apply openpyxl's default\")\n"
     ]
    },
    {
     "name": "stdout",
     "output_type": "stream",
     "text": [
      "No na values\n",
      "No na values\n",
      "No na values\n",
      "No na values\n",
      "No na values\n"
     ]
    },
    {
     "name": "stderr",
     "output_type": "stream",
     "text": [
      "C:\\Users\\z004csar\\Anaconda3\\envs\\tensor\\lib\\site-packages\\openpyxl\\styles\\stylesheet.py:226: UserWarning: Workbook contains no default style, apply openpyxl's default\n",
      "  warn(\"Workbook contains no default style, apply openpyxl's default\")\n",
      "C:\\Users\\z004csar\\Anaconda3\\envs\\tensor\\lib\\site-packages\\openpyxl\\styles\\stylesheet.py:226: UserWarning: Workbook contains no default style, apply openpyxl's default\n",
      "  warn(\"Workbook contains no default style, apply openpyxl's default\")\n"
     ]
    },
    {
     "name": "stdout",
     "output_type": "stream",
     "text": [
      "No na values\n"
     ]
    },
    {
     "name": "stderr",
     "output_type": "stream",
     "text": [
      "C:\\Users\\z004csar\\Anaconda3\\envs\\tensor\\lib\\site-packages\\openpyxl\\styles\\stylesheet.py:226: UserWarning: Workbook contains no default style, apply openpyxl's default\n",
      "  warn(\"Workbook contains no default style, apply openpyxl's default\")\n"
     ]
    },
    {
     "name": "stdout",
     "output_type": "stream",
     "text": [
      "No na values\n"
     ]
    },
    {
     "name": "stderr",
     "output_type": "stream",
     "text": [
      "C:\\Users\\z004csar\\Anaconda3\\envs\\tensor\\lib\\site-packages\\openpyxl\\styles\\stylesheet.py:226: UserWarning: Workbook contains no default style, apply openpyxl's default\n",
      "  warn(\"Workbook contains no default style, apply openpyxl's default\")\n",
      "C:\\Users\\z004csar\\Anaconda3\\envs\\tensor\\lib\\site-packages\\openpyxl\\styles\\stylesheet.py:226: UserWarning: Workbook contains no default style, apply openpyxl's default\n",
      "  warn(\"Workbook contains no default style, apply openpyxl's default\")\n",
      "C:\\Users\\z004csar\\Anaconda3\\envs\\tensor\\lib\\site-packages\\openpyxl\\styles\\stylesheet.py:226: UserWarning: Workbook contains no default style, apply openpyxl's default\n",
      "  warn(\"Workbook contains no default style, apply openpyxl's default\")\n"
     ]
    }
   ],
   "source": [
    "DS = []\n",
    "for i in onlyfiles:\n",
    "    DS.append(preprocess_combineburner_TP_sans_SP(pd.read_excel(f'../Data to train/{i}',engine=\"openpyxl\",index_col=0)))\n",
    "        "
   ]
  },
  {
   "cell_type": "code",
   "execution_count": 20,
   "id": "749d33bc",
   "metadata": {},
   "outputs": [],
   "source": [
    "stackdf = pd.concat(DS).reset_index(drop=True)"
   ]
  },
  {
   "cell_type": "code",
   "execution_count": 21,
   "id": "1255c239",
   "metadata": {},
   "outputs": [
    {
     "data": {
      "text/plain": [
       "[<matplotlib.lines.Line2D at 0x202195b7eb8>]"
      ]
     },
     "execution_count": 21,
     "metadata": {},
     "output_type": "execute_result"
    },
    {
     "data": {
      "image/png": "[encoded data removed]",
      "text/plain": [
       "<Figure size 432x288 with 1 Axes>"
      ]
     },
     "metadata": {
      "needs_background": "light"
     },
     "output_type": "display_data"
    }
   ],
   "source": [
    "plt.plot(stackdf['BurnerStatus'])"
   ]
  },
  {
   "cell_type": "code",
   "execution_count": null,
   "id": "7bf99484",
   "metadata": {},
   "outputs": [],
   "source": [
    "# # Set up the matplotlib plot configuration\n",
    "# #\n",
    "# f, ax = plt.subplots(figsize=(12, 10))\n",
    "# #\n",
    "# # Generate a mask for upper traingle\n",
    "# #\n",
    "# mask = np.triu(np.ones_like(corr, dtype=bool))\n",
    "# #\n",
    "# # Configure a custom diverging colormap\n",
    "# #\n",
    "# cmap = sns.diverging_palette(230, 20, as_cmap=True)\n",
    "# #\n",
    "# # Draw the heatmap\n",
    "# #\n",
    "# sns.heatmap(corr, annot=True, mask = mask, cmap=cmap)"
   ]
  },
  {
   "cell_type": "code",
   "execution_count": 61,
   "id": "068a5ade",
   "metadata": {},
   "outputs": [
    {
     "data": {
      "image/png": "[encoded data removed]",
      "text/plain": [
       "<Figure size 432x288 with 2 Axes>"
      ]
     },
     "metadata": {
      "needs_background": "light"
     },
     "output_type": "display_data"
    }
   ],
   "source": [
    "heatmap_burner(stackdf)"
   ]
  },
  {
   "cell_type": "code",
   "execution_count": 28,
   "id": "1cfc90ed",
   "metadata": {},
   "outputs": [
    {
     "ename": "ImportError",
     "evalue": "cannot import name 'CategoryEncoding'",
     "output_type": "error",
     "traceback": [
      "\u001b[1;31m---------------------------------------------------------------------------\u001b[0m",
      "\u001b[1;31mImportError\u001b[0m                               Traceback (most recent call last)",
      "\u001b[1;32m<ipython-input-28-24c21dcb1351>\u001b[0m in \u001b[0;36m<module>\u001b[1;34m\u001b[0m\n\u001b[0;32m      3\u001b[0m \u001b[1;31m# import tensorflow as tf\u001b[0m\u001b[1;33m\u001b[0m\u001b[1;33m\u001b[0m\u001b[1;33m\u001b[0m\u001b[0m\n\u001b[0;32m      4\u001b[0m \u001b[1;31m# from tensorflow.python.keras.models import Sequential\u001b[0m\u001b[1;33m\u001b[0m\u001b[1;33m\u001b[0m\u001b[1;33m\u001b[0m\u001b[0m\n\u001b[1;32m----> 5\u001b[1;33m \u001b[1;32mfrom\u001b[0m \u001b[0mtensorflow\u001b[0m\u001b[1;33m.\u001b[0m\u001b[0mkeras\u001b[0m\u001b[1;33m.\u001b[0m\u001b[0mlayers\u001b[0m \u001b[1;32mimport\u001b[0m \u001b[0mDense\u001b[0m\u001b[1;33m,\u001b[0m\u001b[0mCategoryEncoding\u001b[0m\u001b[1;33m\u001b[0m\u001b[1;33m\u001b[0m\u001b[0m\n\u001b[0m\u001b[0;32m      6\u001b[0m \u001b[1;32mfrom\u001b[0m \u001b[0mtensorflow\u001b[0m\u001b[1;33m.\u001b[0m\u001b[0mkeras\u001b[0m\u001b[1;33m.\u001b[0m\u001b[0mwrappers\u001b[0m\u001b[1;33m.\u001b[0m\u001b[0mscikit_learn\u001b[0m \u001b[1;32mimport\u001b[0m \u001b[0mKerasClassifier\u001b[0m\u001b[1;33m\u001b[0m\u001b[1;33m\u001b[0m\u001b[0m\n\u001b[0;32m      7\u001b[0m \u001b[1;32mfrom\u001b[0m \u001b[0msklearn\u001b[0m\u001b[1;33m.\u001b[0m\u001b[0mmodel_selection\u001b[0m \u001b[1;32mimport\u001b[0m \u001b[0mcross_val_score\u001b[0m\u001b[1;33m\u001b[0m\u001b[1;33m\u001b[0m\u001b[0m\n",
      "\u001b[1;31mImportError\u001b[0m: cannot import name 'CategoryEncoding'"
     ]
    }
   ],
   "source": [
    "import tensorflow as tf\n",
    "import pandas\n",
    "# import tensorflow as tf\n",
    "# from tensorflow.python.keras.models import Sequential\n",
    "from tensorflow.keras.layers import Dense\n",
    "from tensorflow.keras.wrappers.scikit_learn import KerasClassifier\n",
    "from sklearn.model_selection import cross_val_score\n",
    "from sklearn.preprocessing import LabelEncoder\n",
    "from sklearn.model_selection import StratifiedKFold\n",
    "from sklearn.preprocessing import StandardScaler\n",
    "from sklearn.pipeline import Pipeline"
   ]
  },
  {
   "cell_type": "code",
   "execution_count": 9,
   "id": "3ba1450b",
   "metadata": {},
   "outputs": [],
   "source": [
    "from tensorflow.python.keras.models import Sequential"
   ]
  },
  {
   "cell_type": "code",
   "execution_count": 30,
   "id": "4e285e5e",
   "metadata": {},
   "outputs": [
    {
     "ename": "ImportError",
     "evalue": "cannot import name 'CategoryEncoding'",
     "output_type": "error",
     "traceback": [
      "\u001b[1;31m---------------------------------------------------------------------------\u001b[0m",
      "\u001b[1;31mImportError\u001b[0m                               Traceback (most recent call last)",
      "\u001b[1;32m<ipython-input-30-bec7dfc62486>\u001b[0m in \u001b[0;36m<module>\u001b[1;34m\u001b[0m\n\u001b[0;32m      3\u001b[0m \u001b[1;32mfrom\u001b[0m \u001b[0mtensorflow\u001b[0m\u001b[1;33m.\u001b[0m\u001b[0mkeras\u001b[0m\u001b[1;33m.\u001b[0m\u001b[0mlayers\u001b[0m \u001b[1;32mimport\u001b[0m \u001b[0mBatchNormalization\u001b[0m\u001b[1;33m\u001b[0m\u001b[1;33m\u001b[0m\u001b[0m\n\u001b[0;32m      4\u001b[0m \u001b[1;32mfrom\u001b[0m \u001b[0mtensorflow\u001b[0m\u001b[1;33m.\u001b[0m\u001b[0mkeras\u001b[0m\u001b[1;33m.\u001b[0m\u001b[0mlayers\u001b[0m \u001b[1;32mimport\u001b[0m \u001b[0mDropout\u001b[0m\u001b[1;33m\u001b[0m\u001b[1;33m\u001b[0m\u001b[0m\n\u001b[1;32m----> 5\u001b[1;33m \u001b[1;32mfrom\u001b[0m \u001b[0mtensorflow\u001b[0m\u001b[1;33m.\u001b[0m\u001b[0mkeras\u001b[0m\u001b[1;33m.\u001b[0m\u001b[0mlayers\u001b[0m \u001b[1;32mimport\u001b[0m \u001b[0mCategoryEncoding\u001b[0m\u001b[1;33m\u001b[0m\u001b[1;33m\u001b[0m\u001b[0m\n\u001b[0m\u001b[0;32m      6\u001b[0m \u001b[0mscaler\u001b[0m \u001b[1;33m=\u001b[0m \u001b[0mMinMaxScaler\u001b[0m\u001b[1;33m(\u001b[0m\u001b[1;33m)\u001b[0m\u001b[1;33m\u001b[0m\u001b[1;33m\u001b[0m\u001b[0m\n\u001b[0;32m      7\u001b[0m \u001b[0mscaler2\u001b[0m \u001b[1;33m=\u001b[0m \u001b[0mStandardScaler\u001b[0m\u001b[1;33m(\u001b[0m\u001b[1;33m)\u001b[0m\u001b[1;33m\u001b[0m\u001b[1;33m\u001b[0m\u001b[0m\n",
      "\u001b[1;31mImportError\u001b[0m: cannot import name 'CategoryEncoding'"
     ]
    }
   ],
   "source": [
    "from sklearn.preprocessing import MinMaxScaler\n",
    "from sklearn.preprocessing import StandardScaler\n",
    "from tensorflow.keras.layers import BatchNormalization\n",
    "from tensorflow.keras.layers import Dropout\n",
    "# from tensorflow.keras.layers import CategoryEncoding\n",
    "scaler = MinMaxScaler()\n",
    "scaler2 = StandardScaler()"
   ]
  },
  {
   "cell_type": "code",
   "execution_count": 36,
   "id": "fd6a6812",
   "metadata": {},
   "outputs": [],
   "source": [
    "from tensorflow.keras.models import model_from_json"
   ]
  },
  {
   "cell_type": "code",
   "execution_count": 25,
   "id": "44d9a458",
   "metadata": {},
   "outputs": [],
   "source": [
    "from sklearn import preprocessing\n",
    "X = stackdf.iloc[:,1:].astype('float32')\n",
    "y = stackdf.iloc[:,0].astype('category')\n",
    "y = preprocessing.LabelEncoder().fit_transform(y)"
   ]
  },
  {
   "cell_type": "code",
   "execution_count": 26,
   "id": "843961bc",
   "metadata": {},
   "outputs": [],
   "source": [
    "##train test split for the x and y \n",
    "seed = 23\n",
    "test_size = 0.30\n",
    "X_train, X_test, y_train, y_test = train_test_split(X, y, test_size=test_size, random_state=seed)"
   ]
  },
  {
   "cell_type": "code",
   "execution_count": 33,
   "id": "a7c50da8",
   "metadata": {},
   "outputs": [],
   "source": [
    "def create_baseline():\n",
    "    nnmodel = Sequential()\n",
    "    nnmodel.add(Dense(8, input_dim=7, activation='relu'))\n",
    "#     nnmodel.add(CategoryEncoding(num_tokens=8, output_mode=\"multi_hot\"))\n",
    "    nnmodel.add(BatchNormalization())\n",
    "    nnmodel.add(Dense(units=128, activation='relu'))\n",
    "    nnmodel.add(Dense(1, activation='sigmoid'))\n",
    "    # compile the keras model\n",
    "    nnmodel.compile(loss='binary_crossentropy', optimizer='adam')\n",
    "    return(nnmodel)\n",
    "\n",
    "nnmodel=create_baseline()"
   ]
  },
  {
   "cell_type": "code",
   "execution_count": 34,
   "id": "708f6a90",
   "metadata": {},
   "outputs": [
    {
     "name": "stdout",
     "output_type": "stream",
     "text": [
      "Wall time: 0 ns\n",
      "Train on 1517185 samples\n",
      "Epoch 1/25\n",
      "1517185/1517185 [==============================] - 394s 260us/sample - loss: 0.0330\n",
      "Epoch 2/25\n",
      "1517185/1517185 [==============================] - 391s 258us/sample - loss: 0.0269\n",
      "Epoch 3/25\n",
      "1517185/1517185 [==============================] - 18567s 12ms/sample - loss: 0.0258\n",
      "Epoch 4/25\n",
      "1517185/1517185 [==============================] - 374s 247us/sample - loss: 0.0251\n",
      "Epoch 5/25\n",
      "1517185/1517185 [==============================] - 6296s 4ms/sample - loss: 0.0252\n",
      "Epoch 6/25\n",
      "1517185/1517185 [==============================] - 335s 221us/sample - loss: 0.0237\n",
      "Epoch 7/25\n",
      "1517185/1517185 [==============================] - 386s 254us/sample - loss: 0.0227\n",
      "Epoch 8/25\n",
      "1517185/1517185 [==============================] - 1828s 1ms/sample - loss: 0.0219\n",
      "Epoch 9/25\n",
      "1517185/1517185 [==============================] - 360s 237us/sample - loss: 0.0219\n",
      "Epoch 10/25\n",
      "1517185/1517185 [==============================] - 363s 239us/sample - loss: 0.0213\n",
      "Epoch 11/25\n",
      "1517185/1517185 [==============================] - 351s 231us/sample - loss: 0.0213\n",
      "Epoch 12/25\n",
      "1517185/1517185 [==============================] - 358s 236us/sample - loss: 0.0211\n",
      "Epoch 13/25\n",
      "1517185/1517185 [==============================] - 352s 232us/sample - loss: 0.0210\n",
      "Epoch 14/25\n",
      "1517185/1517185 [==============================] - 360s 237us/sample - loss: 0.0208\n",
      "Epoch 15/25\n",
      "1517185/1517185 [==============================] - 364s 240us/sample - loss: 0.0206\n",
      "Epoch 16/25\n",
      "1517185/1517185 [==============================] - 355s 234us/sample - loss: 0.0204- los\n",
      "Epoch 17/25\n",
      "1517185/1517185 [==============================] - 369s 243us/sample - loss: 0.0204\n",
      "Epoch 18/25\n",
      "1517185/1517185 [==============================] - 359s 237us/sample - loss: 0.0201\n",
      "Epoch 19/25\n",
      "1517185/1517185 [==============================] - 361s 238us/sample - loss: 0.0198\n",
      "Epoch 20/25\n",
      "1517185/1517185 [==============================] - 335s 221us/sample - loss: 0.0198\n",
      "Epoch 21/25\n",
      "1517185/1517185 [==============================] - 382s 252us/sample - loss: 0.0193\n",
      "Epoch 22/25\n",
      "1517185/1517185 [==============================] - 353s 233us/sample - loss: 0.0195\n",
      "Epoch 23/25\n",
      "1517185/1517185 [==============================] - 368s 243us/sample - loss: 0.0195\n",
      "Epoch 24/25\n",
      "1517185/1517185 [==============================] - 545s 359us/sample - loss: 0.0191\n",
      "Epoch 25/25\n",
      "1517185/1517185 [==============================] - 367s 242us/sample - loss: 0.0191\n"
     ]
    },
    {
     "data": {
      "text/plain": [
       "<tensorflow.python.keras.callbacks.History at 0x20220c3b710>"
      ]
     },
     "execution_count": 34,
     "metadata": {},
     "output_type": "execute_result"
    }
   ],
   "source": [
    "%time\n",
    "nnmodel.fit(X_train,y_train,epochs = 25,verbose =1,batch_size = 10)"
   ]
  },
  {
   "cell_type": "code",
   "execution_count": 38,
   "id": "52ae9c38",
   "metadata": {},
   "outputs": [
    {
     "name": "stdout",
     "output_type": "stream",
     "text": [
      "Saved model to disk\n"
     ]
    }
   ],
   "source": [
    "## Saving a model\n",
    "\n",
    "model_json = nnmodel.to_json()\n",
    "with open(\"nnmodel.json\", \"w\") as json_file:\n",
    "    json_file.write(model_json)\n",
    "# serialize weights to HDF5\n",
    "nnmodel.save_weights(\"nnmodel.h5\")\n",
    "print(\"Saved model to disk\")"
   ]
  },
  {
   "cell_type": "code",
   "execution_count": 39,
   "id": "e1d813f7",
   "metadata": {},
   "outputs": [
    {
     "name": "stdout",
     "output_type": "stream",
     "text": [
      "Loaded model from disk\n"
     ]
    }
   ],
   "source": [
    "## Reading a model from disk\n",
    "\n",
    "# load json and create model\n",
    "json_file = open('nnmodel.json', 'r')\n",
    "loaded_model_json = json_file.read()\n",
    "json_file.close()\n",
    "loaded_model = model_from_json(loaded_model_json)\n",
    "# load weights into new model\n",
    "loaded_model.load_weights(\"nnmodel.h5\")\n",
    "print(\"Loaded model from disk\")"
   ]
  },
  {
   "cell_type": "code",
   "execution_count": 40,
   "id": "d752f203",
   "metadata": {},
   "outputs": [
    {
     "name": "stdout",
     "output_type": "stream",
     "text": [
      "accuracy: 99.81%\n"
     ]
    }
   ],
   "source": [
    "## evaluate loaded model on test data\n",
    "loaded_model.compile(loss='binary_crossentropy', optimizer='rmsprop', metrics=['accuracy'])\n",
    "score = loaded_model.evaluate(X_test, y_test, verbose=0)\n",
    "print(\"%s: %.2f%%\" % (loaded_model.metrics_names[1], score[1]*100))"
   ]
  },
  {
   "cell_type": "code",
   "execution_count": 58,
   "id": "5c4d38b2",
   "metadata": {},
   "outputs": [
    {
     "data": {
      "text/plain": [
       "array([[0],\n",
       "       [0],\n",
       "       [1],\n",
       "       ...,\n",
       "       [0],\n",
       "       [1],\n",
       "       [1]])"
      ]
     },
     "execution_count": 58,
     "metadata": {},
     "output_type": "execute_result"
    }
   ],
   "source": [
    "nnmodel.predict_classes(X_test)"
   ]
  },
  {
   "cell_type": "code",
   "execution_count": 60,
   "id": "e87679eb",
   "metadata": {},
   "outputs": [
    {
     "data": {
      "image/png": "[encoded data removed]",
      "text/plain": [
       "<Figure size 432x288 with 2 Axes>"
      ]
     },
     "metadata": {
      "needs_background": "light"
     },
     "output_type": "display_data"
    },
    {
     "data": {
      "image/png": "[encoded data removed]",
      "text/plain": [
       "<Figure size 432x288 with 1 Axes>"
      ]
     },
     "metadata": {
      "needs_background": "light"
     },
     "output_type": "display_data"
    },
    {
     "name": "stdout",
     "output_type": "stream",
     "text": [
      "FN : 293 \n",
      "FP : 927 \n",
      "TN : 337165 \n",
      "TP : 311838\n",
      "Wall time: 46.2 s\n"
     ]
    }
   ],
   "source": [
    "\n",
    "%%time\n",
    "ConfusionmatrixTrainHighTestLow  = {\n",
    "    \"NN\": XYconfumatrixCDF_NN(X_test,y_test,nnmodel)\n",
    "}"
   ]
  },
  {
   "cell_type": "markdown",
   "id": "e714ca96",
   "metadata": {},
   "source": [
    "## Logistic Regression"
   ]
  },
  {
   "cell_type": "code",
   "execution_count": 71,
   "id": "f3aaf0d3",
   "metadata": {},
   "outputs": [
    {
     "data": {
      "image/png": "[encoded data removed]",
      "text/plain": [
       "<Figure size 432x288 with 2 Axes>"
      ]
     },
     "metadata": {
      "needs_background": "light"
     },
     "output_type": "display_data"
    },
    {
     "data": {
      "image/png": "[encoded data removed]",
      "text/plain": [
       "<Figure size 432x288 with 1 Axes>"
      ]
     },
     "metadata": {
      "needs_background": "light"
     },
     "output_type": "display_data"
    },
    {
     "name": "stdout",
     "output_type": "stream",
     "text": [
      "FN : 419 \n",
      "FP : 964 \n",
      "TN : 337128 \n",
      "TP : 311712\n",
      "Wall time: 9.74 s\n"
     ]
    },
    {
     "data": {
      "text/plain": [
       "(array([[337128,    964],\n",
       "        [   419, 311712]], dtype=int64),\n",
       " 337128,\n",
       " 964,\n",
       " 419,\n",
       " 311712)"
      ]
     },
     "execution_count": 71,
     "metadata": {},
     "output_type": "execute_result"
    }
   ],
   "source": [
    "%%time\n",
    "from sklearn.linear_model import LogisticRegression\n",
    "log_model = LogisticRegression(solver='liblinear', random_state=21,penalty = 'l2',max_iter=249)#,multi_class = 'multinomial', max_iter = 1000)\n",
    "\n",
    "# turbine_model_eval(X,y,log_model)x\n",
    "XYconfumatrixCDF_ALLModels(X_train, X_test, y_train, y_test,log_model)"
   ]
  },
  {
   "cell_type": "code",
   "execution_count": 81,
   "id": "d3503f76",
   "metadata": {},
   "outputs": [
    {
     "data": {
      "image/png": "[encoded data removed]",
      "text/plain": [
       "<Figure size 432x288 with 2 Axes>"
      ]
     },
     "metadata": {
      "needs_background": "light"
     },
     "output_type": "display_data"
    },
    {
     "data": {
      "image/png": "[encoded data removed]",
      "text/plain": [
       "<Figure size 432x288 with 1 Axes>"
      ]
     },
     "metadata": {
      "needs_background": "light"
     },
     "output_type": "display_data"
    },
    {
     "name": "stdout",
     "output_type": "stream",
     "text": [
      "FN : 441 \n",
      "FP : 1003 \n",
      "TN : 337089 \n",
      "TP : 311690\n"
     ]
    },
    {
     "data": {
      "text/plain": [
       "(array([[337089,   1003],\n",
       "        [   441, 311690]], dtype=int64),\n",
       " 337089,\n",
       " 1003,\n",
       " 441,\n",
       " 311690)"
      ]
     },
     "execution_count": 81,
     "metadata": {},
     "output_type": "execute_result"
    }
   ],
   "source": [
    "# turbine_model_eval(X,y,log_model)\n",
    "XYconfumatrixCDF_ALLModels(X_train, X_test, y_train, y_test,log_model,S = True)"
   ]
  },
  {
   "cell_type": "code",
   "execution_count": 80,
   "id": "8c9df440",
   "metadata": {},
   "outputs": [
    {
     "data": {
      "image/png": "[encoded data removed]",
      "text/plain": [
       "<Figure size 432x288 with 2 Axes>"
      ]
     },
     "metadata": {
      "needs_background": "light"
     },
     "output_type": "display_data"
    },
    {
     "data": {
      "image/png": "[encoded data removed]",
      "text/plain": [
       "<Figure size 432x288 with 1 Axes>"
      ]
     },
     "metadata": {
      "needs_background": "light"
     },
     "output_type": "display_data"
    },
    {
     "name": "stdout",
     "output_type": "stream",
     "text": [
      "FN : 369 \n",
      "FP : 1184 \n",
      "TN : 336908 \n",
      "TP : 311762\n"
     ]
    },
    {
     "data": {
      "text/plain": [
       "(array([[336908,   1184],\n",
       "        [   369, 311762]], dtype=int64),\n",
       " 336908,\n",
       " 1184,\n",
       " 369,\n",
       " 311762)"
      ]
     },
     "execution_count": 80,
     "metadata": {},
     "output_type": "execute_result"
    }
   ],
   "source": [
    "# turbine_model_eval(X,y,log_model)\n",
    "XYconfumatrixCDF_ALLModels(X_train, X_test, y_train, y_test,log_model,S = True,MS = 'Minmax')"
   ]
  },
  {
   "cell_type": "markdown",
   "id": "03f9805f",
   "metadata": {},
   "source": [
    "## RandomForest"
   ]
  },
  {
   "cell_type": "code",
   "execution_count": null,
   "id": "0ccb6eef",
   "metadata": {},
   "outputs": [],
   "source": []
  },
  {
   "cell_type": "code",
   "execution_count": 73,
   "id": "03a92f21",
   "metadata": {},
   "outputs": [],
   "source": [
    "from sklearn.ensemble import RandomForestClassifier\n",
    "rfclf = RandomForestClassifier(max_depth=2, random_state=0)"
   ]
  },
  {
   "cell_type": "code",
   "execution_count": 74,
   "id": "2a918c4e",
   "metadata": {},
   "outputs": [
    {
     "data": {
      "image/png": "[encoded data removed]",
      "text/plain": [
       "<Figure size 432x288 with 2 Axes>"
      ]
     },
     "metadata": {
      "needs_background": "light"
     },
     "output_type": "display_data"
    },
    {
     "data": {
      "image/png": "[encoded data removed]",
      "text/plain": [
       "<Figure size 432x288 with 1 Axes>"
      ]
     },
     "metadata": {
      "needs_background": "light"
     },
     "output_type": "display_data"
    },
    {
     "name": "stdout",
     "output_type": "stream",
     "text": [
      "FN : 299 \n",
      "FP : 1326 \n",
      "TN : 336766 \n",
      "TP : 311832\n"
     ]
    },
    {
     "data": {
      "text/plain": [
       "(array([[336766,   1326],\n",
       "        [   299, 311832]], dtype=int64),\n",
       " 336766,\n",
       " 1326,\n",
       " 299,\n",
       " 311832)"
      ]
     },
     "execution_count": 74,
     "metadata": {},
     "output_type": "execute_result"
    }
   ],
   "source": [
    "# turbine_model_eval(X,y,log_model)\n",
    "XYconfumatrixCDF_ALLModels(X_train, X_test, y_train, y_test,rfclf)"
   ]
  },
  {
   "cell_type": "markdown",
   "id": "f5c0f525",
   "metadata": {},
   "source": [
    "## XGBoost\n",
    "\n"
   ]
  },
  {
   "cell_type": "code",
   "execution_count": 82,
   "id": "c8a142fb",
   "metadata": {},
   "outputs": [
    {
     "name": "stdout",
     "output_type": "stream",
     "text": [
      "Wall time: 1e+03 µs\n"
     ]
    }
   ],
   "source": [
    "%%time\n",
    "import xgboost as xgb\n",
    "xgbmodel = xgb.XGBClassifier()"
   ]
  },
  {
   "cell_type": "code",
   "execution_count": 95,
   "id": "d452c447",
   "metadata": {},
   "outputs": [
    {
     "name": "stderr",
     "output_type": "stream",
     "text": [
      "C:\\Users\\z004csar\\Anaconda3\\envs\\tensor\\lib\\site-packages\\xgboost\\sklearn.py:1224: UserWarning:\n",
      "\n",
      "The use of label encoder in XGBClassifier is deprecated and will be removed in a future release. To remove this warning, do the following: 1) Pass option use_label_encoder=False when constructing XGBClassifier object; and 2) Encode your labels (y) as integers starting with 0, i.e. 0, 1, 2, ..., [num_class - 1].\n",
      "\n"
     ]
    },
    {
     "name": "stdout",
     "output_type": "stream",
     "text": [
      "[16:08:32] WARNING: C:/Users/Administrator/workspace/xgboost-win64_release_1.5.1/src/learner.cc:1115: Starting in XGBoost 1.3.0, the default evaluation metric used with the objective 'binary:logistic' was changed from 'error' to 'logloss'. Explicitly set eval_metric if you'd like to restore the old behavior.\n",
      "\n",
      "The score using XGBClassifier(base_score=0.5, booster='gbtree', colsample_bylevel=1,\n",
      "              colsample_bynode=1, colsample_bytree=1, enable_categorical=False,\n",
      "              gamma=0, gpu_id=-1, importance_type=None,\n",
      "              interaction_constraints='', learning_rate=0.300000012,\n",
      "              max_delta_step=0, max_depth=6, min_child_weight=1, missing=nan,\n",
      "              monotone_constraints='()', n_estimators=100, n_jobs=12,\n",
      "              num_parallel_tree=1, predictor='auto', random_state=0,\n",
      "              reg_alpha=0, reg_lambda=1, scale_pos_weight=1, subsample=1,\n",
      "              tree_method='exact', validate_parameters=1, verbosity=None) after training on Data1 and testing on Data2 is\n",
      " 99.94924818100867\n"
     ]
    }
   ],
   "source": [
    "XYXGBoost_testing(X_train, X_test, y_train, y_test,xgbmodel)"
   ]
  },
  {
   "cell_type": "code",
   "execution_count": 99,
   "id": "9427af82",
   "metadata": {},
   "outputs": [
    {
     "name": "stderr",
     "output_type": "stream",
     "text": [
      "C:\\Users\\z004csar\\Anaconda3\\envs\\tensor\\lib\\site-packages\\xgboost\\sklearn.py:1224: UserWarning:\n",
      "\n",
      "The use of label encoder in XGBClassifier is deprecated and will be removed in a future release. To remove this warning, do the following: 1) Pass option use_label_encoder=False when constructing XGBClassifier object; and 2) Encode your labels (y) as integers starting with 0, i.e. 0, 1, 2, ..., [num_class - 1].\n",
      "\n"
     ]
    },
    {
     "name": "stdout",
     "output_type": "stream",
     "text": [
      "[16:20:50] WARNING: C:/Users/Administrator/workspace/xgboost-win64_release_1.5.1/src/learner.cc:1115: Starting in XGBoost 1.3.0, the default evaluation metric used with the objective 'binary:logistic' was changed from 'error' to 'logloss'. Explicitly set eval_metric if you'd like to restore the old behavior.\n"
     ]
    },
    {
     "data": {
      "image/png": "[encoded data removed]",
      "text/plain": [
       "<Figure size 432x288 with 2 Axes>"
      ]
     },
     "metadata": {
      "needs_background": "light"
     },
     "output_type": "display_data"
    },
    {
     "data": {
      "image/png": "[encoded data removed]",
      "text/plain": [
       "<Figure size 432x288 with 1 Axes>"
      ]
     },
     "metadata": {
      "needs_background": "light"
     },
     "output_type": "display_data"
    },
    {
     "name": "stdout",
     "output_type": "stream",
     "text": [
      "FN : 129 \n",
      "FP : 201 \n",
      "TN : 337891 \n",
      "TP : 312002\n"
     ]
    },
    {
     "data": {
      "text/plain": [
       "(array([[337891,    201],\n",
       "        [   129, 312002]], dtype=int64),\n",
       " 337891,\n",
       " 201,\n",
       " 129,\n",
       " 312002)"
      ]
     },
     "execution_count": 99,
     "metadata": {},
     "output_type": "execute_result"
    }
   ],
   "source": [
    "# turbine_model_eval(X,y,log_model)\n",
    "XYXGBoost_confumatrix(X_train, X_test, y_train, y_test,xgbmodel)"
   ]
  },
  {
   "cell_type": "code",
   "execution_count": null,
   "id": "17e58515",
   "metadata": {},
   "outputs": [],
   "source": []
  }
 ],
 "metadata": {
  "kernelspec": {
   "display_name": "Python 3",
   "language": "python",
   "name": "python3"
  },
  "language_info": {
   "codemirror_mode": {
    "name": "ipython",
    "version": 3
   },
   "file_extension": ".py",
   "mimetype": "text/x-python",
   "name": "python",
   "nbconvert_exporter": "python",
   "pygments_lexer": "ipython3",
   "version": "3.6.13"
  }
 },
 "nbformat": 4,
 "nbformat_minor": 5
}
