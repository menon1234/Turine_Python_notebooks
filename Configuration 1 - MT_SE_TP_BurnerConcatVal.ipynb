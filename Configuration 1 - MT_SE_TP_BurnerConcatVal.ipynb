{
 "cells": [
  {
   "cell_type": "markdown",
   "id": "7f3c08d0",
   "metadata": {},
   "source": [
    "# Configuration -1 \n",
    "This is when only one dataset is tested \n",
    "Here is where we check thresholds of different frequency\n",
    "\n"
   ]
  },
  {
   "cell_type": "code",
   "execution_count": 1,
   "id": "6d396eab",
   "metadata": {},
   "outputs": [],
   "source": [
    "%load_ext autoreload"
   ]
  },
  {
   "cell_type": "code",
   "execution_count": 1,
   "id": "111d6b75",
   "metadata": {},
   "outputs": [],
   "source": [
    "%run C:/Users/z004csar/Thesis_Project/MasterThesis_2022_CombustionFlameComparison/Master_thesis_Final_script.py\n",
    "%load_ext autoreload\n",
    "%run Pyscripts/MT_SE_PT_Preprocess.py\n",
    "%run  Pyscripts/MT_SE_PT_Stacked_Ind_DF_Model.py\n",
    "# %run  Pyscripts/MT_SE_PT_Stacked_Ind_DF_Visualisation.py\n",
    "# %run  Pyscripts/Combinedf/MT_SE_PT_CombineDF_Model.py"
   ]
  },
  {
   "cell_type": "code",
   "execution_count": 2,
   "id": "33a4498c",
   "metadata": {},
   "outputs": [],
   "source": [
    "##Different Data for testing \n",
    "Datalist  = ['C:\\\\Users\\\\z004csar\\\\Thesis_Project\\\\Data\\\\SGT-750_Data\\\\Data to train\\\\Gazli-2_750_20210618_UnbalancedDataset.xlsx',\n",
    "             'C:\\\\Users\\\\z004csar\\\\Thesis_Project\\\\Data\\\\SGT-750_Data\\\\Data to train\\\\Gazli-1_750_20210629_flamedetector_data(T6 and T7).xlsx',\n",
    "#             'C:\\\\Users\\\\z004csar\\\\Thesis_Project\\\\Data-Siemens\\\\SGT-750_Data\\\\Data to train\\\\Gazli-2_750_20210629_Provskott1_3.xlsx',\n",
    "#             'C:\\\\Users\\\\z004csar\\\\Thesis_Project\\\\Data-Siemens\\\\SGT-750_Data\\\\Data to train\\\\Gazli-2_750_20210629_Provskott1_2.xlsx',\n",
    "#             'C:\\\\Users\\\\z004csar\\\\Thesis_Project\\\\Data-Siemens\\\\SGT-750_Data\\\\Data to train\\\\Gazli-2_750_20210629_Provskott1_1.xlsx',\n",
    "#             'C:\\\\Users\\\\z004csar\\\\Thesis_Project\\\\Data\\\\SGT-750_Data\\\\Data to train\\\\Gazli-2_750_20210701_Provskott3_3.xlsx',\n",
    "#             'C:\\\\Users\\\\z004csar\\\\Thesis_Project\\\\Data\\\\SGT-750_Data\\\\Data to train\\\\Gazli-2_750_20210701_Provskott3_2.xlsx',\n",
    "#             'C:\\\\Users\\\\z004csar\\\\Thesis_Project\\\\Data\\\\SGT-750_Data\\\\Data to train\\\\Gazli-2_750_20210701_Provskott3_1.xlsx',\n",
    "#             'C:\\\\Users\\\\z004csar\\\\Thesis_Project\\\\Data\\\\SGT-750_Data\\\\Data to train\\\\SGT-750, Gazli-2_20210629_Provskott-1_MoreVariables.xlsx',\n",
    "#             'C:\\\\Users\\\\z004csar\\\\Thesis_Project\\\\Data\\\\SGT-750_Data\\\\Data to train\\\\SGT-750, CastbergSpare_2021112_Provskott-2.xlsx',\n",
    "#             'C:\\\\Users\\\\z004csar\\\\Thesis_Project\\\\Data\\\\SGT-750_Data\\\\Data to train\\\\SGT-750, Chimei-1_20210906_Kundprov.xlsx',\n",
    "#             'C:\\\\Users\\\\z004csar\\\\Thesis_Project\\\\Data\\\\SGT-750_Data\\\\Data to train\\\\SGT-750, Chimei-1_20210903_Provskott-2.xlsx',\n",
    "#             'C:\\\\Users\\\\z004csar\\\\Thesis_Project\\\\Data\\\\SGT-750_Data\\\\Data to train\\\\SGT-750, Chimei-1_20210902_Provskott-1.xlsx',\n",
    "#             'C:\\\\Users\\\\z004csar\\\\Thesis_Project\\\\Data\\\\SGT-750_Data\\\\Data to train\\\\SGT-750, Gazli-2_20210705_Kundprov.xlsx',\n",
    "#             'C:\\\\Users\\\\z004csar\\\\Thesis_Project\\\\Data\\\\SGT-750_Data\\\\Data to train\\\\SGT-750, Gazli-2_20210701_Provskott-3.xlsx',\n",
    "#             'C:\\\\Users\\\\z004csar\\\\Thesis_Project\\\\Data\\\\SGT-750_Data\\\\Data to train\\\\SGT-750, Gazli-2_20210630_Provskott-2.xlsx',\n",
    "#             'C:\\\\Users\\\\z004csar\\\\Thesis_Project\\\\Data\\\\SGT-750_Data\\\\Data to train\\\\SGT-750, Gazli-2_20210629_Provskott-1.xlsx',\n",
    "#             'C:\\\\Users\\\\z004csar\\\\Thesis_Project\\\\Data\\\\SGT-750_Data\\\\Data to train\\\\SGT-750, Gazli-1_20210618_Kundprov.xlsx',\n",
    "#             'C:\\\\Users\\\\z004csar\\\\Thesis_Project\\\\Data\\\\SGT-750_Data\\\\Data to train\\\\SGT-750, Gazli-1_20210617_Provskott.xlsx',\n",
    "#             'C:\\\\Users\\\\z004csar\\\\Thesis_Project\\\\Data\\\\SGT-750_Data\\\\Data to train\\\\SGT-750, Pipestone_20200605_Förbränningsverifering.xlsx',\n",
    "#             'C:\\\\Users\\\\z004csar\\\\Thesis_Project\\\\Data\\\\SGT-750_Data\\\\Data to train\\\\SGT-750, Pipestone_20200601_Startprover.xlsx',\n",
    "#             'C:\\\\Users\\\\z004csar\\\\Thesis_Project\\\\Data\\\\SGT-750_Data\\\\Data to train\\\\SGT-750, Pipestone_20200528_Kundprov.xlsx',        \n",
    "            'C:\\\\Users\\\\z004csar\\\\Thesis_Project\\\\Data\\\\SGT-750_Data\\\\Data to train\\\\SGT-750, Pipestone_20200529_Provskott.xlsx'\n",
    "                ]"
   ]
  },
  {
   "cell_type": "markdown",
   "id": "156b8a8a",
   "metadata": {},
   "source": [
    "### Create datadictionary"
   ]
  },
  {
   "cell_type": "code",
   "execution_count": 3,
   "id": "934457b4",
   "metadata": {},
   "outputs": [],
   "source": [
    "Datadic = {}\n",
    "with warnings.catch_warnings(record=True):\n",
    "    warnings.simplefilter(\"always\")\n",
    "    for i in range(len(Datalist)):\n",
    "        Datadic[i] = pd.read_excel(Datalist[i],engine=\"openpyxl\",index_col=0)"
   ]
  },
  {
   "cell_type": "code",
   "execution_count": 5,
   "id": "31e6f2df",
   "metadata": {},
   "outputs": [],
   "source": [
    "####For Single Turbine Training take Datadic[1]\n",
    "####For Single Turbine Testing take Datadic[0]\n",
    "##Combined Burners\n",
    "# %run Pyscripts/Combinedf/MT_SE_PT_CombineDF_preprocess.py"
   ]
  },
  {
   "cell_type": "code",
   "execution_count": 6,
   "id": "9880b717",
   "metadata": {},
   "outputs": [
    {
     "name": "stdout",
     "output_type": "stream",
     "text": [
      "No na values\n",
      "No na values\n",
      "No na values\n",
      "Wall time: 641 ms\n"
     ]
    }
   ],
   "source": [
    "%%time\n",
    "##Training Data\n",
    "dataPT = preprocess_Indiv_burner_T_P_sans_SULP(Datadic[1])\n",
    "dataStacked = preprocess_combineburner_T_P_sans_SP(Datadic[1],rm = False)\n",
    "\n",
    "## Testing Data\n",
    "\n",
    "dataPT_Test = preprocess_Indiv_burner_T_P_sans_SULP(Datadic[0])\n",
    "dataStacked_Test = preprocess_combineburner_T_P_sans_SP(Datadic[0],rm = False)\n",
    "dataStacked_Test2 = preprocess_combineburner_T_P_sans_SP(Datadic[0])"
   ]
  },
  {
   "cell_type": "markdown",
   "id": "dd921769",
   "metadata": {},
   "source": [
    "#### Custom metric for scoring \n",
    "\n",
    "Import FNRFPR  <br>\n",
    "create make_score \n"
   ]
  },
  {
   "cell_type": "code",
   "execution_count": 11,
   "id": "e7fa5720",
   "metadata": {},
   "outputs": [],
   "source": [
    "from sklearn.model_selection import train_test_split\n",
    "from sklearn.metrics import make_scorer\n",
    "X_train, X_test, y_train, y_test = train_test_split(dataStacked.iloc[:,1:], dataStacked.iloc[:,0].astype('category'), test_size=0.20, random_state=42,shuffle = False)\n",
    "X_test1  = dataStacked_Test.iloc[:,1:]\n",
    "y_test1 = dataStacked_Test.iloc[:,0]"
   ]
  },
  {
   "cell_type": "code",
   "execution_count": 12,
   "id": "10a949b2",
   "metadata": {},
   "outputs": [],
   "source": [
    "from sklearn.model_selection import train_test_split\n",
    "X_trainS, X_testS, y_trainS, y_testS = train_test_split(dataStacked.iloc[:,1:], dataStacked.iloc[:,0].astype('category'), test_size=0.20, random_state=42,shuffle = True)\n",
    "X_test2  = dataStacked_Test.iloc[:,1:]\n",
    "y_test2 = dataStacked_Test.iloc[:,0]"
   ]
  },
  {
   "cell_type": "code",
   "execution_count": 13,
   "id": "9e941ad4",
   "metadata": {},
   "outputs": [],
   "source": [
    "fnr_score = make_scorer(FNRFPR,greater_is_better =False,\n",
    "                       needs_proba = False)"
   ]
  },
  {
   "cell_type": "markdown",
   "id": "b822d9ee",
   "metadata": {},
   "source": [
    "### Import all the libraries"
   ]
  },
  {
   "cell_type": "code",
   "execution_count": 14,
   "id": "d4232cad",
   "metadata": {},
   "outputs": [],
   "source": [
    "from sklearn.ensemble import RandomForestClassifier\n",
    "from sklearn.neighbors import KNeighborsClassifier\n",
    "from sklearn.metrics import fbeta_score, make_scorer\n",
    "from sklearn.linear_model import LogisticRegression\n",
    "from sklearn.naive_bayes import GaussianNB\n",
    "from sklearn import svm\n",
    "import xgboost as xgb"
   ]
  },
  {
   "cell_type": "markdown",
   "id": "5e814323",
   "metadata": {},
   "source": [
    "### Use the metrics determined after hyperparameter optimization"
   ]
  },
  {
   "cell_type": "code",
   "execution_count": 16,
   "id": "b6f673e3",
   "metadata": {},
   "outputs": [],
   "source": [
    "log_model = LogisticRegression(C= .1,solver= 'liblinear',max_iter = 350,penalty = 'l2',random_state = 21)\n",
    "svclf = svm.SVC(kernel = 'rbf',probability = True,gamma = .001,C = 1)\n",
    "xgbmodel = xgb.XGBClassifier(n_estimators =1000,criterion = 'entropy',eta =0.01,max_depth = 6,subsample = .7,score = 'f1')\n",
    "neigh = KNeighborsClassifier(n_neighbors=1,weights = 'uniform',p = 2 )\n",
    "rfclf = RandomForestClassifier(n_estimators =150,criterion = 'entropy',min_samples_leaf = 2,max_features ='auto')\n",
    "gnb = GaussianNB(var_smoothing = 0.00005336699231206307)\n",
    "# model = KNeighborsClassifier(3,metric = 'Euc')\n",
    "# from yellowbrick.classifier.threshold import discrimination_threshold\n",
    "# discrimination_threshold(model, X_train, y_train)"
   ]
  },
  {
   "cell_type": "code",
   "execution_count": 55,
   "id": "9a7348b2",
   "metadata": {},
   "outputs": [],
   "source": [
    "# Instantiate the classification model and visualizer\n",
    "\n",
    "# visualizer = DiscriminationThreshold(model)\n",
    "# visualizer.fit(X_train, y_train)        # Fit the data to the visualizer\n",
    "# visualizer.show()           # Finalize and render the figure\n"
   ]
  },
  {
   "cell_type": "markdown",
   "id": "505fdfb4",
   "metadata": {},
   "source": [
    "### Fit the models"
   ]
  },
  {
   "cell_type": "code",
   "execution_count": 108,
   "id": "7a43c40b",
   "metadata": {},
   "outputs": [],
   "source": [
    "log_modeltrained = log_model.fit(X_train,y_train)\n",
    "gnb_modeltrained =gnb.fit(X_train,y_train)\n",
    "# svm_model_training = svclf.fit(X_train,y_train)\n",
    "# xgb_model_training  = xgbmodel.fit(np.array(X_trainS),y_trainS)\n",
    "# rfclf_training  = rfclf.fit(X_trainS,y_trainS)"
   ]
  },
  {
   "cell_type": "code",
   "execution_count": 43,
   "id": "89a0f65d",
   "metadata": {},
   "outputs": [
    {
     "data": {
      "text/plain": [
       "[<matplotlib.lines.Line2D at 0x196750be0d0>]"
      ]
     },
     "execution_count": 43,
     "metadata": {},
     "output_type": "execute_result"
    },
    {
     "data": {
      "image/png": "[encoded data removed]",
      "text/plain": [
       "<Figure size 432x288 with 1 Axes>"
      ]
     },
     "metadata": {
      "needs_background": "light"
     },
     "output_type": "display_data"
    }
   ],
   "source": [
    "plt.plot(y_test1)"
   ]
  },
  {
   "cell_type": "markdown",
   "id": "146d741f",
   "metadata": {},
   "source": [
    "### Threshold testing to see which threshold holds best for each of the algorithm"
   ]
  },
  {
   "cell_type": "code",
   "execution_count": 109,
   "id": "031547cc",
   "metadata": {},
   "outputs": [],
   "source": [
    "threshold = {}\n",
    "with warnings.catch_warnings(record=True):\n",
    "    warnings.simplefilter(\"always\")\n",
    "    for i in np.arange(.1,1,.1):\n",
    "        threshold[i] = ModelthresholdTesting(log_modeltrained,X_test1.values,y_test1.astype('category'),threshold = i)\n",
    "    "
   ]
  },
  {
   "cell_type": "code",
   "execution_count": 110,
   "id": "8d06a971",
   "metadata": {},
   "outputs": [
    {
     "data": {
      "text/plain": [
       "{0.1: (0.0022156339301472186, 7, 137, 0.9986388893617375),\n",
       " 0.2: (0.0019241286917683715, 8, 116, 0.998828000365684),\n",
       " 0.30000000000000004: (0.0017443164803211044, 8, 104, 0.9989414530702253),\n",
       " 0.4: (0.0016553643047628034, 10, 95, 0.9990076409161754),\n",
       " 0.5: (0.0015743058044008437, 13, 85, 0.9990738297727974),\n",
       " 0.6: (0.0015911242358296717, 17, 80, 0.9990833021125255),\n",
       " 0.7000000000000001: (0.0015478343095270569, 21, 71, 0.9991305841771939),\n",
       " 0.8: (0.0023971642132710105, 62, 65, 0.9987999754967429),\n",
       " 0.9: (0.011715790830947394, 483, 51, 0.994959846320728)}"
      ]
     },
     "execution_count": 110,
     "metadata": {},
     "output_type": "execute_result"
    }
   ],
   "source": [
    "threshold"
   ]
  },
  {
   "cell_type": "code",
   "execution_count": 111,
   "id": "53a5d744",
   "metadata": {},
   "outputs": [],
   "source": [
    "threshold = {}\n",
    "with warnings.catch_warnings(record=True):\n",
    "    warnings.simplefilter(\"always\")\n",
    "    for i in np.arange(.1,1,.1):\n",
    "        threshold[i] = ModelthresholdTesting(gnb_modeltrained,X_test.values,y_test.astype('category'),threshold = i)\n",
    "    "
   ]
  },
  {
   "cell_type": "code",
   "execution_count": 112,
   "id": "bb8f3a02",
   "metadata": {},
   "outputs": [
    {
     "data": {
      "text/plain": [
       "{0.1: (0.013533610559856362, 9, 136, 0.9953497001136519),\n",
       " 0.2: (0.013247343156062581, 9, 133, 0.9954457471323799),\n",
       " 0.30000000000000004: (0.012960909704580048, 9, 130, 0.9955418010510442),\n",
       " 0.4: (0.012960909704580048, 9, 130, 0.9955418010510442),\n",
       " 0.5: (0.012674310060830717, 9, 127, 0.995637861877225),\n",
       " 0.6: (0.012483151231154838, 9, 125, 0.9957019062692664),\n",
       " 0.7000000000000001: (0.01219627427855359, 9, 122, 0.9957979786248293),\n",
       " 0.8: (0.01210061161737991, 9, 121, 0.9958300042824747),\n",
       " 0.9: (0.011717775777791645, 9, 117, 0.9959581146161768)}"
      ]
     },
     "execution_count": 112,
     "metadata": {},
     "output_type": "execute_result"
    }
   ],
   "source": [
    "threshold"
   ]
  },
  {
   "cell_type": "code",
   "execution_count": 62,
   "id": "952455f2",
   "metadata": {},
   "outputs": [],
   "source": [
    "threshold = {}\n",
    "with warnings.catch_warnings(record=True):\n",
    "    warnings.simplefilter(\"always\")\n",
    "    for i in np.arange(.1,1,.1):\n",
    "        threshold[i] = ModelthresholdTesting(gnb_modeltrained,X_test.values,y_test.astype('category'),threshold = i)\n",
    "    "
   ]
  },
  {
   "cell_type": "code",
   "execution_count": 63,
   "id": "cb8bf216",
   "metadata": {},
   "outputs": [
    {
     "data": {
      "text/plain": [
       "{0.1: (0.01226252037228545, 9, 136, 0.9953497001136519),\n",
       " 0.2: (0.012004867836030692, 9, 133, 0.9954457471323799),\n",
       " 0.30000000000000004: (0.011747065860282402, 9, 130, 0.9955418010510442),\n",
       " 0.4: (0.011747065860282402, 9, 130, 0.9955418010510442),\n",
       " 0.5: (0.011489114314918848, 9, 127, 0.995637861877225),\n",
       " 0.6: (0.011317063459453087, 9, 125, 0.9957019062692664),\n",
       " 0.7000000000000001: (0.011058862341827612, 9, 122, 0.9957979786248293),\n",
       " 0.8: (0.010972761994103457, 9, 121, 0.9958300042824747),\n",
       " 0.9: (0.010628193931602558, 9, 117, 0.9959581146161768)}"
      ]
     },
     "execution_count": 63,
     "metadata": {},
     "output_type": "execute_result"
    }
   ],
   "source": [
    "threshold"
   ]
  },
  {
   "cell_type": "code",
   "execution_count": 64,
   "id": "9ce8db5f",
   "metadata": {},
   "outputs": [],
   "source": [
    "threshold = {}\n",
    "with warnings.catch_warnings(record=True):\n",
    "    warnings.simplefilter(\"always\")\n",
    "    for i in np.arange(.1,1,.1):\n",
    "        threshold[i] = ModelthresholdTesting(xgb_model_training,X_test.values,y_test.astype('category'),threshold = i)\n",
    "    "
   ]
  },
  {
   "cell_type": "code",
   "execution_count": 65,
   "id": "ae986c37",
   "metadata": {},
   "outputs": [
    {
     "data": {
      "text/plain": [
       "{0.1: (0.0017661279319281158, 2, 19, 0.9993255960426466),\n",
       " 0.2: (0.0015905780600824866, 2, 17, 0.9993898097826931),\n",
       " 0.30000000000000004: (0.0012392724289196112, 2, 13, 0.9995182468508926),\n",
       " 0.4: (0.0010235298054890648, 3, 10, 0.9995824597581618),\n",
       " 0.5: (0.0007195683843541855, 4, 6, 0.9996787951329925),\n",
       " 0.6: (0.0006392086014414314, 6, 4, 0.9996787790633775),\n",
       " 0.7000000000000001: (0.0007424032644094713, 10, 3, 0.9995823866414003),\n",
       " 0.8: (0.000852754589593507, 16, 1, 0.999453835444106),\n",
       " 0.9: (0.0018069884348696017, 36, 1, 0.9988109898554037)}"
      ]
     },
     "execution_count": 65,
     "metadata": {},
     "output_type": "execute_result"
    }
   ],
   "source": [
    "threshold"
   ]
  },
  {
   "cell_type": "code",
   "execution_count": 66,
   "id": "a64370e8",
   "metadata": {},
   "outputs": [],
   "source": [
    "threshold = {}\n",
    "with warnings.catch_warnings(record=True):\n",
    "    warnings.simplefilter(\"always\")\n",
    "    for i in np.arange(.1,1,.1):\n",
    "        threshold[i] = ModelthresholdTesting(rfclf_training,X_test.values,y_test.astype('category'),threshold = i)\n",
    "    "
   ]
  },
  {
   "cell_type": "code",
   "execution_count": 67,
   "id": "f354bcab",
   "metadata": {},
   "outputs": [
    {
     "data": {
      "text/plain": [
       "{0.1: (0.0023714257831560456, 0, 27, 0.9991330171024868),\n",
       " 0.2: (0.0018455228981544773, 0, 21, 0.999325629636976),\n",
       " 0.30000000000000004: (0.0013190034196384954, 0, 15, 0.9995182708810734),\n",
       " 0.4: (0.0008797653958944282, 0, 10, 0.99967882722652),\n",
       " 0.5: (0.00039997341413786167, 1, 4, 0.9998393995740077),\n",
       " 0.6: (0.0004956811877056995, 3, 4, 0.9997751537819123),\n",
       " 0.7000000000000001: (0.0005108674751624787, 7, 2, 0.9997108903010474),\n",
       " 0.8: (0.0007167773689492043, 15, 0, 0.9995180900977405),\n",
       " 0.9: (0.0020043905698196047, 42, 0, 0.9986501936168943)}"
      ]
     },
     "execution_count": 67,
     "metadata": {},
     "output_type": "execute_result"
    }
   ],
   "source": [
    "threshold"
   ]
  },
  {
   "cell_type": "code",
   "execution_count": 44,
   "id": "a0682061",
   "metadata": {},
   "outputs": [],
   "source": [
    "threshold = {}\n",
    "with warnings.catch_warnings(record=True):\n",
    "    warnings.simplefilter(\"always\")\n",
    "    for i in np.arange(.1,1,.1):\n",
    "        threshold[i] = ModelthresholdTesting(rfclf_training,X_test.values,y_test.astype('category'),threshold = i)\n",
    "    "
   ]
  },
  {
   "cell_type": "code",
   "execution_count": 45,
   "id": "49e5baac",
   "metadata": {},
   "outputs": [
    {
     "data": {
      "text/plain": [
       "{0.1: (0.0022838180753464764, 0, 26, 0.9991651172004566),\n",
       " 0.2: (0.0018455228981544773, 0, 21, 0.999325629636976),\n",
       " 0.30000000000000004: (0.0014067995310668231, 0, 16, 0.9994861620107226),\n",
       " 0.4: (0.0007918662625867631, 0, 9, 0.9997109408963443),\n",
       " 0.5: (0.0005759482294567291, 1, 6, 0.9997751650226432),\n",
       " 0.6: (0.00040764616838130375, 3, 3, 0.999807272260054),\n",
       " 0.7000000000000001: (0.0005108674751624787, 7, 2, 0.9997108903010474),\n",
       " 0.8: (0.0007645259938837921, 16, 0, 0.9994859563194373),\n",
       " 0.9: (0.0019091256204658267, 40, 0, 0.9987145025636369)}"
      ]
     },
     "execution_count": 45,
     "metadata": {},
     "output_type": "execute_result"
    }
   ],
   "source": [
    "threshold"
   ]
  },
  {
   "cell_type": "code",
   "execution_count": 46,
   "id": "43d221f3",
   "metadata": {},
   "outputs": [],
   "source": [
    "threshold = {}\n",
    "with warnings.catch_warnings(record=True):\n",
    "    warnings.simplefilter(\"always\")\n",
    "    for i in np.arange(.1,1,.1):\n",
    "        threshold[i] = ModelthresholdTesting(rfclf_training,X_test1.values,y_test1.astype('category'),threshold = i)\n",
    "    "
   ]
  },
  {
   "cell_type": "code",
   "execution_count": 47,
   "id": "990ed13a",
   "metadata": {},
   "outputs": [
    {
     "data": {
      "text/plain": [
       "{0.1: (0.005778275475923853, 0, 430, 0.9959323204073938),\n",
       " 0.2: (0.0020779921737957095, 0, 154, 0.9985442756746613),\n",
       " 0.30000000000000004: (0.00047311504956443375, 0, 35, 0.9996692569569289),\n",
       " 0.4: (0.00044609330409444564, 0, 33, 0.9996881581895596),\n",
       " 0.5: (0.00040555764175741643, 0, 30, 0.9997165096675477),\n",
       " 0.6: (0.00039204494247003336, 0, 29, 0.999725960061313),\n",
       " 0.7000000000000001: (0.00040400874080725964, 1, 28, 0.9997259614931671),\n",
       " 0.8: (0.0004653488578639228, 5, 25, 0.9997165170718321),\n",
       " 0.9: (0.0009695444439178967, 28, 19, 0.9995559103311298)}"
      ]
     },
     "execution_count": 47,
     "metadata": {},
     "output_type": "execute_result"
    }
   ],
   "source": [
    "threshold"
   ]
  },
  {
   "cell_type": "code",
   "execution_count": 587,
   "id": "bc64e3ce",
   "metadata": {},
   "outputs": [
    {
     "name": "stdout",
     "output_type": "stream",
     "text": [
      "The autoreload extension is already loaded. To reload it, use:\n",
      "  %reload_ext autoreload\n"
     ]
    }
   ],
   "source": [
    "%run C:/Users/z004csar/Thesis_Project/MasterThesis_2022_CombustionFlameComparison/Master_thesis_Final_script.py\n",
    "%load_ext autoreload\n",
    "%run Pyscripts/Oldscripts/MT_SE_PT_Preprocess.py\n",
    "%run  Pyscripts/MT_SE_PT_Stacked_Ind_DF_Model.py\n",
    "# %run  Pyscripts/MT_SE_PT_Stacked_Ind_DF_Visualisation.py\n",
    "\n",
    "# %run  Pyscripts/Combinedf/MT_SE_PT_CombineDF_Model.py"
   ]
  },
  {
   "cell_type": "markdown",
   "id": "ab3ecb6c",
   "metadata": {},
   "source": [
    "### Test with tuned threshold limits"
   ]
  },
  {
   "cell_type": "code",
   "execution_count": 581,
   "id": "8fb8db14",
   "metadata": {},
   "outputs": [],
   "source": [
    "neigh = KNeighborsClassifier(n_neighbors=3,weights = 'uniform',p = 2)"
   ]
  },
  {
   "cell_type": "code",
   "execution_count": 615,
   "id": "f7e439a6",
   "metadata": {},
   "outputs": [
    {
     "name": "stdout",
     "output_type": "stream",
     "text": [
      "FN : 18 \n",
      "FP : 78\n",
      "Total number of negatives are 96\n",
      "FN : 18 \n",
      "FP : 77\n",
      "Total number of negatives are 95\n"
     ]
    },
    {
     "name": "stderr",
     "output_type": "stream",
     "text": [
      "C:\\Users\\z004csar\\Anaconda3\\lib\\site-packages\\scipy\\optimize\\linesearch.py:426: LineSearchWarning: Rounding errors prevent the line search from converging\n",
      "  warn(msg, LineSearchWarning)\n",
      "C:\\Users\\z004csar\\Anaconda3\\lib\\site-packages\\scipy\\optimize\\linesearch.py:314: LineSearchWarning: The line search algorithm did not converge\n",
      "  warn('The line search algorithm did not converge', LineSearchWarning)\n",
      "C:\\Users\\z004csar\\Anaconda3\\lib\\site-packages\\sklearn\\utils\\optimize.py:203: UserWarning: Line Search failed\n",
      "  warnings.warn(\"Line Search failed\")\n",
      "C:\\Users\\z004csar\\Anaconda3\\lib\\site-packages\\scipy\\optimize\\linesearch.py:426: LineSearchWarning: Rounding errors prevent the line search from converging\n",
      "  warn(msg, LineSearchWarning)\n",
      "C:\\Users\\z004csar\\Anaconda3\\lib\\site-packages\\scipy\\optimize\\linesearch.py:314: LineSearchWarning: The line search algorithm did not converge\n",
      "  warn('The line search algorithm did not converge', LineSearchWarning)\n",
      "C:\\Users\\z004csar\\Anaconda3\\lib\\site-packages\\sklearn\\utils\\optimize.py:203: UserWarning: Line Search failed\n",
      "  warnings.warn(\"Line Search failed\")\n"
     ]
    },
    {
     "name": "stdout",
     "output_type": "stream",
     "text": [
      "FN : 17 \n",
      "FP : 76\n",
      "Total number of negatives are 93\n",
      "FN : 17 \n",
      "FP : 76\n",
      "Total number of negatives are 93\n",
      "FN : 17 \n",
      "FP : 76\n",
      "Total number of negatives are 93\n"
     ]
    },
    {
     "data": {
      "image/png": "[encoded data removed]",
      "text/plain": [
       "<Figure size 936x360 with 3 Axes>"
      ]
     },
     "metadata": {},
     "output_type": "display_data"
    },
    {
     "data": {
      "image/png": "[encoded data removed]",
      "text/plain": [
       "<Figure size 936x360 with 3 Axes>"
      ]
     },
     "metadata": {},
     "output_type": "display_data"
    },
    {
     "data": {
      "image/png": "[encoded data removed]",
      "text/plain": [
       "<Figure size 936x360 with 3 Axes>"
      ]
     },
     "metadata": {},
     "output_type": "display_data"
    },
    {
     "data": {
      "image/png": "[encoded data removed]",
      "text/plain": [
       "<Figure size 936x360 with 3 Axes>"
      ]
     },
     "metadata": {},
     "output_type": "display_data"
    },
    {
     "data": {
      "image/png": "[encoded data removed]",
      "text/plain": [
       "<Figure size 936x360 with 3 Axes>"
      ]
     },
     "metadata": {},
     "output_type": "display_data"
    }
   ],
   "source": [
    "for i in [.01,.1,1,5,10]:\n",
    "    log_model = LogisticRegression(C= i,solver= 'newton-cg',max_iter = 350,penalty = 'l2',random_state = 21)\n",
    "    log_modeltrained = log_model.fit(X_train,y_train)\n",
    "    CFandYplot(X_train,y_train,X_test1,y_test1,log_modeltrained,threshold = 0.7)"
   ]
  },
  {
   "cell_type": "code",
   "execution_count": 612,
   "id": "fd779a88",
   "metadata": {},
   "outputs": [
    {
     "name": "stdout",
     "output_type": "stream",
     "text": [
      "FN : 17 \n",
      "FP : 80\n",
      "Total number of negatives are 97\n"
     ]
    },
    {
     "data": {
      "image/png": "[encoded data removed]",
      "text/plain": [
       "<Figure size 936x360 with 3 Axes>"
      ]
     },
     "metadata": {},
     "output_type": "display_data"
    }
   ],
   "source": [
    "CFandYplot(X_train,y_train,X_test1,y_test1,log_modeltrained,threshold = 0.6)\n",
    "plt.tight_layout()\n",
    "plt.savefig('RFPlot')"
   ]
  },
  {
   "cell_type": "code",
   "execution_count": 584,
   "id": "0e54787b",
   "metadata": {},
   "outputs": [
    {
     "data": {
      "text/plain": [
       "({0: 0.0005439136515348576,\n",
       "  1: 0.0005439136515348576,\n",
       "  2: 0.0004237213438425498,\n",
       "  3: 0.0005439136515348576,\n",
       "  4: 0.0005439136515348576,\n",
       "  5: 0.0003605335897127749,\n",
       "  6: 0.0005439136515348576,\n",
       "  7: 0.0005439136515348576},\n",
       " {0: 0.9993523069418652,\n",
       "  1: 0.9993523069418652,\n",
       "  2: 0.9995141837178448,\n",
       "  3: 0.9993523069418652,\n",
       "  4: 0.9993523069418652,\n",
       "  5: 0.9995142885929873,\n",
       "  6: 0.9993523069418652,\n",
       "  7: 0.9993523069418652},\n",
       " {0: 0.9996976213683223,\n",
       "  1: 0.9996976213683223,\n",
       "  2: 0.9997732207562627,\n",
       "  3: 0.9996976213683223,\n",
       "  4: 0.9996976213683223,\n",
       "  5: 0.9997732112898785,\n",
       "  6: 0.9996976213683223,\n",
       "  7: 0.9996976213683223},\n",
       " 0.00404773684276447,\n",
       " 7.995142313962022,\n",
       " 7.997732160256075)"
      ]
     },
     "execution_count": 584,
     "metadata": {},
     "output_type": "execute_result"
    }
   ],
   "source": [
    "fnrfpr,mcc,fscore,sum(fnrfpr.values()),sum(mcc.values()),sum(fscore.values())"
   ]
  },
  {
   "cell_type": "code",
   "execution_count": 588,
   "id": "085cad80",
   "metadata": {},
   "outputs": [
    {
     "name": "stdout",
     "output_type": "stream",
     "text": [
      "The total Number of False positives in the list is 7\n",
      "The total Number of False negatives in the list is 23\n"
     ]
    },
    {
     "data": {
      "image/png": "[encoded data removed]",
      "text/plain": [
       "<Figure size 1080x720 with 16 Axes>"
      ]
     },
     "metadata": {},
     "output_type": "display_data"
    }
   ],
   "source": [
    "with warnings.catch_warnings(record=True):\n",
    "    warnings.simplefilter(\"always\")\n",
    "    model = plotconfusiongrid_bluematrix(dataPT_Test,neigh,0.5)\n",
    "    plt.tight_layout()\n",
    "    plt.savefig('KNN8burnerConfusionMatrix')"
   ]
  },
  {
   "cell_type": "markdown",
   "id": "bec016eb",
   "metadata": {},
   "source": [
    "### Gridsearch for hyperparameter"
   ]
  },
  {
   "cell_type": "code",
   "execution_count": 18,
   "id": "edc0a1bd",
   "metadata": {},
   "outputs": [
    {
     "ename": "NameError",
     "evalue": "name 'preprocessor' is not defined",
     "output_type": "error",
     "traceback": [
      "\u001b[1;31m---------------------------------------------------------------------------\u001b[0m",
      "\u001b[1;31mNameError\u001b[0m                                 Traceback (most recent call last)",
      "\u001b[1;32m<ipython-input-18-459a1af9e7ff>\u001b[0m in \u001b[0;36m<module>\u001b[1;34m\u001b[0m\n\u001b[0;32m      4\u001b[0m \u001b[1;32mfrom\u001b[0m \u001b[0msklearn\u001b[0m\u001b[1;33m.\u001b[0m\u001b[0mmetrics\u001b[0m \u001b[1;32mimport\u001b[0m \u001b[0mmake_scorer\u001b[0m\u001b[1;33m\u001b[0m\u001b[1;33m\u001b[0m\u001b[0m\n\u001b[0;32m      5\u001b[0m \u001b[0mmodel\u001b[0m \u001b[1;33m=\u001b[0m \u001b[0mLogisticRegression\u001b[0m\u001b[1;33m(\u001b[0m\u001b[1;33m)\u001b[0m\u001b[1;33m\u001b[0m\u001b[1;33m\u001b[0m\u001b[0m\n\u001b[1;32m----> 6\u001b[1;33m \u001b[0mpipe\u001b[0m \u001b[1;33m=\u001b[0m \u001b[0mmake_pipeline\u001b[0m\u001b[1;33m(\u001b[0m\u001b[0mpreprocessor\u001b[0m\u001b[1;33m,\u001b[0m \u001b[0mmodel\u001b[0m\u001b[1;33m)\u001b[0m\u001b[1;33m\u001b[0m\u001b[1;33m\u001b[0m\u001b[0m\n\u001b[0m\u001b[0;32m      7\u001b[0m \u001b[1;33m\u001b[0m\u001b[0m\n\u001b[0;32m      8\u001b[0m \u001b[0mparam_grid\u001b[0m \u001b[1;33m=\u001b[0m \u001b[1;33m{\u001b[0m\u001b[1;34m'logisticregression__C'\u001b[0m\u001b[1;33m:\u001b[0m \u001b[0mnp\u001b[0m\u001b[1;33m.\u001b[0m\u001b[0mlogspace\u001b[0m\u001b[1;33m(\u001b[0m\u001b[1;33m-\u001b[0m\u001b[1;36m2\u001b[0m\u001b[1;33m,\u001b[0m \u001b[1;36m1\u001b[0m\u001b[1;33m,\u001b[0m \u001b[1;36m10\u001b[0m\u001b[1;33m)\u001b[0m\u001b[1;33m}\u001b[0m\u001b[1;33m\u001b[0m\u001b[1;33m\u001b[0m\u001b[0m\n",
      "\u001b[1;31mNameError\u001b[0m: name 'preprocessor' is not defined"
     ]
    }
   ],
   "source": [
    "from sklearn.pipeline import make_union,make_pipeline\n",
    "from sklearn.linear_model import LogisticRegression\n",
    "from sklearn.model_selection import GridSearchCV\n",
    "from sklearn.metrics import make_scorer\n",
    "model = LogisticRegression()\n",
    "pipe = make_pipeline(preprocessor, model)\n",
    "\n",
    "param_grid = {'logisticregression__C': np.logspace(-2, 1, 10)}\n",
    "\n",
    "grid = GridSearchCV(pipe, param_grid, cv=5, scoring='fnr_score',\n",
    "                    n_jobs=-1, verbose=1, return_train_score=True)\n",
    "grid.fit(X_train, y_train)\n",
    "\n",
    "print(grid.best_score_)\n",
    "best_model = grid.best_estimator_"
   ]
  },
  {
   "cell_type": "code",
   "execution_count": null,
   "id": "97d9664b",
   "metadata": {},
   "outputs": [],
   "source": [
    "plt.plot(dataStacked.iloc[:,0])\n",
    "plt.title(\"Train Data\")\n",
    "plt.savefig('Traindata')"
   ]
  },
  {
   "cell_type": "code",
   "execution_count": null,
   "id": "3edf7132",
   "metadata": {},
   "outputs": [],
   "source": [
    "plt.plot(dataStacked_Test.iloc[:,0])\n",
    "plt.title(\"Test Data\")\n",
    "plt.savefig('Testdata')"
   ]
  },
  {
   "cell_type": "markdown",
   "id": "70c63f28",
   "metadata": {},
   "source": [
    "## Index of when the prediction was taken and when the true value was detected"
   ]
  },
  {
   "cell_type": "code",
   "execution_count": null,
   "id": "c2ff810f",
   "metadata": {
    "scrolled": true
   },
   "outputs": [],
   "source": [
    "# for i in range(len(dataStacked['BurnerStatus'].diff())):\n",
    "#         if dataStacked['BurnerStatus'].diff()[i] == 1 or dataStacked['BurnerStatus'].diff()[i] == -1:\n",
    "#             print('true')\n",
    "#         else:\n",
    "#             print('False')"
   ]
  },
  {
   "cell_type": "markdown",
   "id": "099a82aa",
   "metadata": {},
   "source": [
    "## Correlation chart"
   ]
  },
  {
   "cell_type": "code",
   "execution_count": null,
   "id": "511f3a44",
   "metadata": {},
   "outputs": [],
   "source": [
    "heatmap_burner_temperature(dataT,method = 'kendall')\n",
    "plt.tight_layout()\n",
    "plt.savefig('Heatmap_Temperature')"
   ]
  },
  {
   "cell_type": "code",
   "execution_count": null,
   "id": "c3ca495d",
   "metadata": {},
   "outputs": [],
   "source": [
    "heatmap_burner_pressure(dataP,method = 'kendall')\n",
    "plt.tight_layout()\n",
    "plt.savefig('Heatmap_Pressure')"
   ]
  },
  {
   "cell_type": "markdown",
   "id": "29eddb8c",
   "metadata": {},
   "source": [
    "## Logistic Regression "
   ]
  },
  {
   "cell_type": "code",
   "execution_count": 52,
   "id": "46a41e32",
   "metadata": {},
   "outputs": [
    {
     "data": {
      "text/plain": [
       "[<matplotlib.lines.Line2D at 0x1c057d63a30>]"
      ]
     },
     "execution_count": 52,
     "metadata": {},
     "output_type": "execute_result"
    },
    {
     "data": {
      "image/png": "[encoded data removed]",
      "text/plain": [
       "<Figure size 576x396 with 1 Axes>"
      ]
     },
     "metadata": {},
     "output_type": "display_data"
    }
   ],
   "source": [
    "plt.plot(y_test)"
   ]
  },
  {
   "cell_type": "code",
   "execution_count": 126,
   "id": "1cefd1b6",
   "metadata": {},
   "outputs": [
    {
     "name": "stdout",
     "output_type": "stream",
     "text": [
      "Best: 0.999484 using {'C': 0.01, 'penalty': 'l2', 'solver': 'newton-cg'}\n",
      "0.999412 (0.000230) with: {'C': 100, 'penalty': 'l2', 'solver': 'newton-cg'}\n",
      "0.999355 (0.000248) with: {'C': 100, 'penalty': 'l2', 'solver': 'lbfgs'}\n",
      "0.999402 (0.000237) with: {'C': 100, 'penalty': 'l2', 'solver': 'liblinear'}\n",
      "0.999412 (0.000230) with: {'C': 10, 'penalty': 'l2', 'solver': 'newton-cg'}\n",
      "0.999372 (0.000263) with: {'C': 10, 'penalty': 'l2', 'solver': 'lbfgs'}\n",
      "0.999400 (0.000238) with: {'C': 10, 'penalty': 'l2', 'solver': 'liblinear'}\n",
      "0.999413 (0.000230) with: {'C': 1.0, 'penalty': 'l2', 'solver': 'newton-cg'}\n",
      "0.999378 (0.000245) with: {'C': 1.0, 'penalty': 'l2', 'solver': 'lbfgs'}\n",
      "0.999386 (0.000243) with: {'C': 1.0, 'penalty': 'l2', 'solver': 'liblinear'}\n",
      "0.999418 (0.000227) with: {'C': 0.1, 'penalty': 'l2', 'solver': 'newton-cg'}\n",
      "0.999390 (0.000238) with: {'C': 0.1, 'penalty': 'l2', 'solver': 'lbfgs'}\n",
      "0.999304 (0.000271) with: {'C': 0.1, 'penalty': 'l2', 'solver': 'liblinear'}\n",
      "0.999484 (0.000198) with: {'C': 0.01, 'penalty': 'l2', 'solver': 'newton-cg'}\n",
      "0.999448 (0.000227) with: {'C': 0.01, 'penalty': 'l2', 'solver': 'lbfgs'}\n",
      "0.999111 (0.000319) with: {'C': 0.01, 'penalty': 'l2', 'solver': 'liblinear'}\n",
      "Wall time: 4min 26s\n"
     ]
    }
   ],
   "source": [
    "%%time\n",
    "# from sklearn.linear_model import LogisticRegression\n",
    "# log_m = LogisticRegression(max_iter = 300,C=.01,solver = 'liblinear',penalty = 'l2')\n",
    "# log_model = LogisticRegression()\n",
    "from sklearn.model_selection import GridSearchCV, RepeatedStratifiedKFold\n",
    "solvers = ['newton-cg', 'lbfgs', 'liblinear']\n",
    "penalty = ['l2']\n",
    "c_values = [100, 10, 1.0, 0.1, 0.01]\n",
    "# define grid search\n",
    "grid = dict(solver=solvers,penalty=penalty,C=c_values)\n",
    "cv = RepeatedStratifiedKFold(n_splits=10, n_repeats=3, random_state=1)\n",
    "grid_search = GridSearchCV(estimator=log_model, param_grid=grid, n_jobs=-1, cv=cv, scoring='average_precision',error_score=0)\n",
    "grid_result = grid_search.fit(X_train, y_train.astype('category'))\n",
    "# summarize results\n",
    "print(\"Best: %f using %s\" % (grid_result.best_score_, grid_result.best_params_))\n",
    "means = grid_result.cv_results_['mean_test_score']\n",
    "stds = grid_result.cv_results_['std_test_score']\n",
    "params = grid_result.cv_results_['params']\n",
    "for mean, stdev, param in zip(means, stds, params):\n",
    "    print(\"%f (%f) with: %r\" % (mean, stdev, param))"
   ]
  },
  {
   "cell_type": "code",
   "execution_count": 124,
   "id": "f3f3bf73",
   "metadata": {},
   "outputs": [
    {
     "name": "stdout",
     "output_type": "stream",
     "text": [
      "Best: -0.004552 using {'C': 100, 'penalty': 'l2', 'solver': 'lbfgs'}\n",
      "-0.004624 (0.001014) with: {'C': 100, 'penalty': 'l2', 'solver': 'newton-cg'}\n",
      "-0.004552 (0.001076) with: {'C': 100, 'penalty': 'l2', 'solver': 'lbfgs'}\n",
      "-0.004643 (0.001022) with: {'C': 100, 'penalty': 'l2', 'solver': 'liblinear'}\n",
      "-0.008396 (0.001493) with: {'C': 100, 'penalty': 'l2', 'solver': 'sag'}\n",
      "-0.004624 (0.001014) with: {'C': 10, 'penalty': 'l2', 'solver': 'newton-cg'}\n",
      "-0.004604 (0.001140) with: {'C': 10, 'penalty': 'l2', 'solver': 'lbfgs'}\n",
      "-0.004643 (0.001021) with: {'C': 10, 'penalty': 'l2', 'solver': 'liblinear'}\n",
      "-0.008391 (0.001516) with: {'C': 10, 'penalty': 'l2', 'solver': 'sag'}\n",
      "-0.004614 (0.001009) with: {'C': 1.0, 'penalty': 'l2', 'solver': 'newton-cg'}\n",
      "-0.004651 (0.001096) with: {'C': 1.0, 'penalty': 'l2', 'solver': 'lbfgs'}\n",
      "-0.004701 (0.001090) with: {'C': 1.0, 'penalty': 'l2', 'solver': 'liblinear'}\n",
      "-0.008377 (0.001502) with: {'C': 1.0, 'penalty': 'l2', 'solver': 'sag'}\n",
      "-0.004710 (0.001093) with: {'C': 0.1, 'penalty': 'l2', 'solver': 'newton-cg'}\n",
      "-0.004670 (0.001120) with: {'C': 0.1, 'penalty': 'l2', 'solver': 'lbfgs'}\n",
      "-0.004851 (0.001138) with: {'C': 0.1, 'penalty': 'l2', 'solver': 'liblinear'}\n",
      "-0.008375 (0.001492) with: {'C': 0.1, 'penalty': 'l2', 'solver': 'sag'}\n",
      "-0.005025 (0.001156) with: {'C': 0.01, 'penalty': 'l2', 'solver': 'newton-cg'}\n",
      "-0.005042 (0.001192) with: {'C': 0.01, 'penalty': 'l2', 'solver': 'lbfgs'}\n",
      "-0.005221 (0.001225) with: {'C': 0.01, 'penalty': 'l2', 'solver': 'liblinear'}\n",
      "-0.008184 (0.001501) with: {'C': 0.01, 'penalty': 'l2', 'solver': 'sag'}\n",
      "Wall time: 6min 24s\n"
     ]
    },
    {
     "name": "stderr",
     "output_type": "stream",
     "text": [
      "C:\\Users\\z004csar\\Anaconda3\\lib\\site-packages\\sklearn\\linear_model\\_logistic.py:444: ConvergenceWarning: lbfgs failed to converge (status=1):\n",
      "STOP: TOTAL NO. of ITERATIONS REACHED LIMIT.\n",
      "\n",
      "Increase the number of iterations (max_iter) or scale the data as shown in:\n",
      "    https://scikit-learn.org/stable/modules/preprocessing.html\n",
      "Please also refer to the documentation for alternative solver options:\n",
      "    https://scikit-learn.org/stable/modules/linear_model.html#logistic-regression\n",
      "  n_iter_i = _check_optimize_result(\n"
     ]
    }
   ],
   "source": [
    "%%time\n",
    "# from sklearn.linear_model import LogisticRegression\n",
    "# log_m = LogisticRegression(max_iter = 300,C=.01,solver = 'liblinear',penalty = 'l2')\n",
    "# log_model = LogisticRegression()\n",
    "from sklearn.model_selection import GridSearchCV, RepeatedStratifiedKFold\n",
    "solvers = ['newton-cg', 'lbfgs', 'liblinear','sag']\n",
    "penalty = ['l2']\n",
    "c_values = [100, 10, 1.0, 0.1, 0.01]\n",
    "# define grid search\n",
    "grid = dict(solver=solvers,penalty=penalty,C=c_values)\n",
    "cv = RepeatedStratifiedKFold(n_splits=10, n_repeats=3, random_state=1)\n",
    "grid_search = GridSearchCV(estimator=log_model, param_grid=grid, n_jobs=-1, cv=cv, scoring=fnr_score,error_score=0)\n",
    "grid_result = grid_search.fit(X_trainS, y_trainS.astype('category'))\n",
    "# summarize results\n",
    "print(\"Best: %f using %s\" % (grid_result.best_score_, grid_result.best_params_))\n",
    "means = grid_result.cv_results_['mean_test_score']\n",
    "stds = grid_result.cv_results_['std_test_score']\n",
    "params = grid_result.cv_results_['params']\n",
    "for mean, stdev, param in zip(means, stds, params):\n",
    "    print(\"%f (%f) with: %r\" % (mean, stdev, param))"
   ]
  },
  {
   "cell_type": "code",
   "execution_count": 89,
   "id": "47913d8e",
   "metadata": {},
   "outputs": [
    {
     "data": {
      "text/plain": [
       "array([[39208,    72],\n",
       "       [   30, 66514]], dtype=int64)"
      ]
     },
     "execution_count": 89,
     "metadata": {},
     "output_type": "execute_result"
    }
   ],
   "source": [
    "log_fit = log_m.fit(X_train,y_train.astype('category'))\n",
    "log_predicted = log_fit.predict(X_test1)\n",
    "confusion_matrix(y_test1.astype('category'),log_predicted)"
   ]
  },
  {
   "cell_type": "code",
   "execution_count": 83,
   "id": "0f9f5349",
   "metadata": {},
   "outputs": [
    {
     "data": {
      "text/plain": [
       "array([[39193,    87],\n",
       "       [   17, 66527]], dtype=int64)"
      ]
     },
     "execution_count": 83,
     "metadata": {},
     "output_type": "execute_result"
    }
   ],
   "source": [
    "log_fit = log_m.fit(X_train,y_train.astype('category'))\n",
    "log_predicted = log_fit.predict(X_test1)\n",
    "confusion_matrix(y_test1.astype('category'),log_predicted)"
   ]
  },
  {
   "cell_type": "markdown",
   "id": "05f770b7",
   "metadata": {},
   "source": [
    "## Ridge Classifier\n"
   ]
  },
  {
   "cell_type": "code",
   "execution_count": null,
   "id": "1ad58cbd",
   "metadata": {},
   "outputs": [],
   "source": [
    "from sklearn.linear_model import RidgeClassifier\n",
    "# define dataset\n",
    "X, y = make_blobs(n_samples=1000, centers=2, n_features=100, cluster_std=20)\n",
    "# define models and parameters\n",
    "model = RidgeClassifier()\n",
    "alpha = [0.1, 0.2, 0.3, 0.4, 0.5, 0.6, 0.7, 0.8, 0.9, 1.0]\n",
    "# define grid search\n",
    "grid = dict(alpha=alpha)\n",
    "cv = RepeatedStratifiedKFold(n_splits=10, n_repeats=3, random_state=1)\n",
    "grid_search = GridSearchCV(estimator=model, param_grid=grid, n_jobs=-1, cv=cv, scoring='accuracy',error_score=0)\n",
    "grid_result = grid_search.fit(X, y)\n",
    "# summarize results\n",
    "print(\"Best: %f using %s\" % (grid_result.best_score_, grid_result.best_params_))\n",
    "means = grid_result.cv_results_['mean_test_score']\n",
    "stds = grid_result.cv_results_['std_test_score']\n",
    "params = grid_result.cv_results_['params']\n",
    "for mean, stdev, param in zip(means, stds, params):\n",
    "    print(\"%f (%f) with: %r\" % (mean, stdev, param))"
   ]
  },
  {
   "cell_type": "code",
   "execution_count": null,
   "id": "a6e79821",
   "metadata": {},
   "outputs": [],
   "source": [
    "#,multi_class = 'multinomial', max_iter = 1000)\n",
    "\n",
    "# turbine_model_eval(X,y,log_model)\n",
    "# for i in np.arange(0,1,.1):\n",
    "#     log_model = LogisticRegression(solver='saga', random_state=21,penalty = 'elasticnet',max_iter=250,l1_ratio=i)#,multi_class = 'multinomial', max_iter = 1000)\n",
    "    \n",
    "#     print(Model_testing_newdata(dataStacked,dataStacked_Test,log_model,S = True,MS = 'Minmax'))"
   ]
  },
  {
   "cell_type": "code",
   "execution_count": null,
   "id": "39473cca",
   "metadata": {},
   "outputs": [],
   "source": [
    "from sklearn.model_selection import train_test_split\n",
    "\n",
    "X_train1, X_test1, y_train1, y_test1 = train_test_split(dataStacked.iloc[:,1:], dataStacked.iloc[:,0],\n",
    "                                                    test_size=0.10, random_state=42,shuffle = False)\n",
    "# X_train1 = np.array(X_train1)\n",
    "y_train1 = y_train1.astype('category')\n",
    "# X_test1 = np.array(X_test1)\n",
    "y_test1 = y_test1.astype('category')"
   ]
  },
  {
   "cell_type": "code",
   "execution_count": null,
   "id": "82b17356",
   "metadata": {},
   "outputs": [],
   "source": [
    "y_scores = Model_testing_newdata_predict_proba(X_train1,X_test1, y_train1, y_test1,log_m)\n",
    "# y_scores_knn = Model_testing_newdata_predict_proba(X_train1,X_test1, y_train1, y_test1,neigh)\n",
    "# y_scores_svm_rbf = Model_testing_newdata_predict_proba(X_train1,X_test1, y_train1, y_test1,svclf)\n",
    "# y_scores_nb =  Model_testing_newdata_predict_proba(X_train1,X_test1, y_train1, y_test1,gnb)\n",
    "y_scores_svm = Model_testing_newdata_predict_proba(X_train1,X_test1, y_train1, y_test1,svclf1)\n",
    "y_scores_rf  = Model_testing_newdata_predict_proba(X_train1,X_test1, y_train1, y_test1,rfclf)\n",
    "y_scores_XGB = Model_testing_newdata_predict_probaXGB(X_train1,X_test1, y_train1, y_test1,xgbmodel)"
   ]
  },
  {
   "cell_type": "code",
   "execution_count": null,
   "id": "570ae76a",
   "metadata": {},
   "outputs": [],
   "source": [
    "y_scores1 = y_scores[:,1]\n",
    "y_scores_knn1 = y_scores_knn[:,1]\n",
    "y_scores_svm_rbf1 = y_scores_svm_rbf[:,1]\n",
    "y_scores_svm1 = y_scores_svm[:,1]\n",
    "y_scores_rf1 = y_scores_rf[:,1]\n",
    "y_scores_XGB1 = y_scores_XGB[:,1] \n",
    "y_scores_gnb  = y_scores_nb[:,1] "
   ]
  },
  {
   "cell_type": "code",
   "execution_count": null,
   "id": "37c1149d",
   "metadata": {},
   "outputs": [],
   "source": [
    "y_list = [y_scores1,y_scores_knn1,y_scores_svm_rbf1,y_scores_svm1,y_scores_rf1,y_scores_XGB1,y_scores_gnb]"
   ]
  },
  {
   "cell_type": "code",
   "execution_count": null,
   "id": "955c6975",
   "metadata": {},
   "outputs": [],
   "source": [
    "\n",
    "y_pred_new_threshold = (logm.predict_proba(dataStacked_Test)[:,1]>=0.5).astype(int)"
   ]
  },
  {
   "cell_type": "code",
   "execution_count": null,
   "id": "c06ad285",
   "metadata": {},
   "outputs": [],
   "source": [
    "log_m.fit(np.asarray(X_train),y_train.astype('category'))\n",
    "y_pred = log_m.predict(np.asarray(X_test))\n",
    "cf_matrix = confusion_matrix(y_test.astype('category'), y_pred)\n",
    "tn,fp,fn,tp = cf_matrix.ravel()"
   ]
  },
  {
   "cell_type": "code",
   "execution_count": null,
   "id": "420d2112",
   "metadata": {},
   "outputs": [],
   "source": [
    "y_pred_new_threshold = (logm.predict_proba(dataStacked_Test)[:,1]>=0.5).astype(int)"
   ]
  },
  {
   "cell_type": "code",
   "execution_count": null,
   "id": "a4efe073",
   "metadata": {},
   "outputs": [],
   "source": [
    "from sklearn.svm import SVC\n",
    "\n",
    "svclf = SVC(kernel= 'rbf',probability = True)"
   ]
  },
  {
   "cell_type": "code",
   "execution_count": null,
   "id": "c9a358f5",
   "metadata": {},
   "outputs": [],
   "source": [
    "for i in np.arange(.1,1,.1):\n",
    "    \n",
    "    CFandYplot(X_train1,y_train1,X_test1,y_test1,svclf,i)"
   ]
  },
  {
   "cell_type": "code",
   "execution_count": null,
   "id": "6b706712",
   "metadata": {},
   "outputs": [],
   "source": [
    "log_m.predict(X_test1)\n",
    "CFPlot(log_m.predict(X_test1),y_test1)"
   ]
  },
  {
   "cell_type": "code",
   "execution_count": null,
   "id": "12160075",
   "metadata": {},
   "outputs": [],
   "source": [
    "from sklearn.metrics import confusion_matrix\n",
    "\n",
    "#Generate the confusion matrix\n",
    "def CFPlot(y_pred,y_test):\n",
    "    cf_matrix = confusion_matrix(y_test, y_pred)\n",
    "    group_names = ['True Neg','False Pos','False Neg','True Pos']\n",
    "    group_counts = [\"{0:0.0f}\".format(value) for value in\n",
    "                    cf_matrix.flatten()]\n",
    "    group_percentages = [\"{0:.2%}\".format(value) for value in\n",
    "                         cf_matrix.flatten()/np.sum(cf_matrix)]\n",
    "    labels = [f\"{v1}\\n{v2}\\n{v3}\" for v1, v2, v3 in\n",
    "              zip(group_names,group_counts,group_percentages)]\n",
    "    labels = np.asarray(labels).reshape(2,2)\n",
    "    ax = sns.heatmap(cf_matrix, annot=labels, fmt='', cmap='Blues')\n",
    "    ax.set_title('Seaborn Confusion Matrix with labels\\n\\n');\n",
    "    ax.set_xlabel('\\nPredicted Values')\n",
    "    ax.set_ylabel('Actual Values ');\n",
    "    ## Ticket labels - List must be in alphabetical order\n",
    "    ax.xaxis.set_ticklabels(['False','True'])\n",
    "    ax.yaxis.set_ticklabels(['False','True'])\n",
    "\n",
    "    ## Display the visualization of the Confusion Matrix.\n",
    "    plt.show()"
   ]
  },
  {
   "cell_type": "code",
   "execution_count": 19,
   "id": "7fed575b",
   "metadata": {},
   "outputs": [],
   "source": [
    "from sklearn.ensemble import RandomForestClassifier\n",
    "rfclf = RandomForestClassifier(n_estimators =150,criterion = 'entropy',min_samples_leaf = 2,max_features ='auto')"
   ]
  },
  {
   "cell_type": "code",
   "execution_count": 360,
   "id": "bd530b39",
   "metadata": {},
   "outputs": [],
   "source": [
    "from xgboost import XGBClassifier\n",
    "\n",
    "# fit model no training data\n",
    "xgbmodel = XGBClassifier(n_estimators =1000,criterion = 'entropy',eta =0.01,max_depth = 6,subsample = .7,max_child_weight = 6,score = 'f1')"
   ]
  },
  {
   "cell_type": "code",
   "execution_count": null,
   "id": "e761d041",
   "metadata": {},
   "outputs": [],
   "source": [
    "CFandYplot(X_train,y_train,X_test,y_test,svclf,.15)\n",
    "plt.savefig('newsvm.png')\n",
    "plt.show()"
   ]
  },
  {
   "cell_type": "code",
   "execution_count": null,
   "id": "ea04a4d6",
   "metadata": {},
   "outputs": [],
   "source": [
    "dataPT[0]"
   ]
  },
  {
   "cell_type": "code",
   "execution_count": null,
   "id": "ea322f76",
   "metadata": {},
   "outputs": [],
   "source": [
    "svclf.fit(np.array(X_train),y_train.astype('category'))\n",
    "plotconfusiongrid(dataPT_Test,svclf,0.15)\n",
    "plt.savefig('svcballburner')"
   ]
  },
  {
   "cell_type": "code",
   "execution_count": null,
   "id": "354d07ae",
   "metadata": {},
   "outputs": [],
   "source": [
    "for i in np.arange(.1,1,.1):\n",
    "    CFandYplot(X_train1,y_train1,X_test,y_test,xgbmodel,threshold = i)\n"
   ]
  },
  {
   "cell_type": "code",
   "execution_count": null,
   "id": "f05659e3",
   "metadata": {},
   "outputs": [],
   "source": [
    "from sklearn.metrics import roc_auc_score, roc_curve, precision_recall_curve, confusion_matrix"
   ]
  },
  {
   "cell_type": "code",
   "execution_count": null,
   "id": "ba1c5425",
   "metadata": {},
   "outputs": [],
   "source": [
    "y_list"
   ]
  },
  {
   "cell_type": "code",
   "execution_count": null,
   "id": "63010423",
   "metadata": {},
   "outputs": [],
   "source": [
    "pcatcher = {}\n",
    "rcatcher = {}\n",
    "threscather = {}\n",
    "fscore = {}\n",
    "ix = {}\n",
    "for i,j in enumerate(y_list):\n",
    "    \n",
    "    pcatcher[i], rcatcher[i], threscather[i] = precision_recall_curve(y_test1, j)\n",
    "    # convert to f score\n",
    "    fscore[i] = (2 * pcatcher[i] *rcatcher[i]) / (pcatcher[i] + rcatcher[i])\n",
    "    # locate the index of the largest f score\n",
    "    ix[i] = np.argmax(fscore[i])\n",
    "    print('Best Threshold=%f, F-Score=%.3f' % (threscather[i][ix[i]], fscore[i][ix[i]]))\n",
    "    no_skill = len(y_test1[y_test1==1]) / len(y_test1)\n",
    "    plt.plot([0, 1], [no_skill, no_skill])\n",
    "    plt.plot(rcatcher[i], pcatcher[i], marker='.', label=i)\n",
    "    # axis labels\n",
    "    plt.xlabel('Recall')\n",
    "    plt.ylabel('Precision')\n",
    "    # show the legend\n",
    "    plt.legend()\n",
    "    # show the plot\n",
    "plt.show()\n",
    "# plt.plot(precision_recall_curve(y_test1, y_scores1))"
   ]
  },
  {
   "cell_type": "code",
   "execution_count": null,
   "id": "e0b2f7aa",
   "metadata": {},
   "outputs": [],
   "source": [
    "    no_skill = len(y_test1[y_test1==1]) / len(y_test1)\n",
    "    plt.plot([0, 1], [no_skill, no_skill], linestyle='--', label='No Skill')\n",
    "    plt.plot(recall, precision, marker='.', label='Logistic')\n",
    "    \n",
    "    # axis labels\n",
    "    plt.xlabel('Recall')\n",
    "    plt.ylabel('Precision')\n",
    "    # show the legend\n",
    "    plt.legend()\n",
    "    show the plot\n",
    "    plt.show()"
   ]
  },
  {
   "cell_type": "code",
   "execution_count": null,
   "id": "b4a3f0cd",
   "metadata": {},
   "outputs": [],
   "source": [
    "for i,j in enumerate(y_list):\n",
    "    print(i)"
   ]
  },
  {
   "cell_type": "code",
   "execution_count": null,
   "id": "34348e5c",
   "metadata": {},
   "outputs": [],
   "source": [
    "precision, recall, thresholds = precision_recall_curve(y_test1, y_scores1)\n",
    "no_skill = len(y_test1[y_test1==1]) / len(y_test1)\n",
    "plt.plot([0, 1], [no_skill, no_skill], linestyle='--', label='No Skill')\n",
    "plt.plot(recall, precision, marker='.', label='Logistic')\n",
    "# axis labels\n",
    "plt.xlabel('Recall')\n",
    "plt.ylabel('Precision')\n",
    "# show the legend\n",
    "plt.legend()\n",
    "# show the plot\n",
    "plt.show()"
   ]
  },
  {
   "cell_type": "code",
   "execution_count": null,
   "id": "9140026c",
   "metadata": {},
   "outputs": [],
   "source": [
    "class LogisticRegressionWithThreshold(LogisticRegression):\n",
    "    def predict(self, X, threshold=None):\n",
    "        if threshold == None: # If no threshold passed in, simply call the base class predict, effectively threshold=0.5\n",
    "            return LogisticRegression.predict(self, X)\n",
    "        else:\n",
    "            y_scores = LogisticRegression.predict_proba(self, X)[:, 1]\n",
    "            y_pred_with_threshold = (y_scores >= threshold).astype(int)\n",
    "\n",
    "            return y_pred_with_threshold\n",
    "    \n",
    "    def threshold_from_optimal_tpr_minus_fpr(self, X, y):\n",
    "        y_scores = LogisticRegression.predict_proba(self, X)[:, 1]\n",
    "        fpr, tpr, thresholds = roc_curve(y, y_scores) \n",
    "\n",
    "        optimal_idx = np.argmax(tpr - fpr)\n",
    "\n",
    "        return thresholds[optimal_idx], tpr[optimal_idx] - fpr[optimal_idx]"
   ]
  },
  {
   "cell_type": "code",
   "execution_count": null,
   "id": "faabc2eb",
   "metadata": {},
   "outputs": [],
   "source": [
    "\n",
    "threshold, optimal_tpr_minus_fpr = lrt.threshold_from_optimal_tpr_minus_fpr(X_train1, y_train1)\n",
    "y_pred = lrt.predict(X_train, threshold)"
   ]
  },
  {
   "cell_type": "code",
   "execution_count": null,
   "id": "ed8decf4",
   "metadata": {},
   "outputs": [],
   "source": [
    "threshold, optimal_tpr_minus_fpr"
   ]
  },
  {
   "cell_type": "code",
   "execution_count": null,
   "id": "746ac507",
   "metadata": {},
   "outputs": [],
   "source": [
    "fpr, tpr, thresholds = roc_curve(y_test1, y_scores)\n",
    "# plot the roc curve for the model\n",
    "plt.plot([0,1], [0,1], linestyle='--', label='No Skill')\n",
    "plt.plot(fpr, tpr, marker='.', label='Logistic')\n",
    "# axis labels\n",
    "plt.xlabel('False Positive Rate')\n",
    "plt.ylabel('True Positive Rate')\n",
    "plt.legend()\n",
    "# show the plot\n",
    "plt.show()"
   ]
  },
  {
   "cell_type": "code",
   "execution_count": null,
   "id": "906be5c3",
   "metadata": {},
   "outputs": [],
   "source": [
    "y_scores = pd.DataFrame(Model_testing_newdata_predict_proba(X_train1,X_test1, y_train1, y_test1,log_m))\n",
    "threshold_list = [0.05,0.1,0.15,0.2,0.21,0.22,0.23,0.24,0.25,0.3,0.35,0.4,0.45,0.5,0.55]\n",
    "for i in threshold_list:\n",
    "    print ('\\n******** For i = {} ******'.format(i))\n",
    "    Y_test_pred = y_scores.applymap(lambda x: 1 if x>i else 0)\n",
    "    test_accuracy = metrics.accuracy_score(y_test1.to_numpy().reshape(y_test1.to_numpy().size,1),\n",
    "                                           Y_test_pred.iloc[:,1].to_numpy().reshape(Y_test_pred.iloc[:,1].to_numpy().size,1))\n",
    "    print('Our testing accuracy is {}'.format(test_accuracy))\n",
    "\n",
    "    print(confusion_matrix(y_test1.to_numpy().reshape(y_test1.to_numpy().size,1),\n",
    "                           Y_test_pred.iloc[:,1].to_numpy().reshape(Y_test_pred.iloc[:,1].to_numpy().size,1)))"
   ]
  },
  {
   "cell_type": "code",
   "execution_count": null,
   "id": "c8de9922",
   "metadata": {},
   "outputs": [],
   "source": [
    "LogisticRegressionWithThreshold.threshold_from_optimal_tpr_minus_fpr()"
   ]
  },
  {
   "cell_type": "code",
   "execution_count": null,
   "id": "70f47b98",
   "metadata": {},
   "outputs": [],
   "source": [
    "fig, axs = plt.subplots(3, 2)\n",
    "axs[0, 0].plot(y_scores)\n",
    "axs[0, 0].set_title(\"Logistic\")\n",
    "axs[1, 0].plot(y_scores_svm_rbf)\n",
    "axs[1, 0].set_title(\"SVM\")\n",
    "axs[1, 0].sharex(axs[0, 0])\n",
    "axs[0, 1].plot(y_scores_rf+1)\n",
    "axs[0, 1].set_title(\"RandomForest\")\n",
    "axs[1, 1].plot(y_scores_XGB)\n",
    "axs[1, 1].set_title(\"XGBoost\")\n",
    "axs[2, 0].plot(y_scores_svm_rbf)\n",
    "axs[2, 0].set_title(\"SVM_rbf\")\n",
    "axs[2, 1].plot(y_scores_knn)\n",
    "axs[2, 1].set_title(\"KNN\")\n",
    "fig.tight_layout()\n",
    "plt.savefig('Probability_prediction')"
   ]
  },
  {
   "cell_type": "code",
   "execution_count": null,
   "id": "925ea499",
   "metadata": {},
   "outputs": [],
   "source": [
    "%run  Pyscripts/MT_SE_PT_Stacked_Ind_DF_Model.py"
   ]
  },
  {
   "cell_type": "code",
   "execution_count": null,
   "id": "92fff098",
   "metadata": {},
   "outputs": [],
   "source": [
    "from sklearn.model_selection import train_test_split"
   ]
  },
  {
   "cell_type": "code",
   "execution_count": null,
   "id": "08c4f7c5",
   "metadata": {},
   "outputs": [],
   "source": [
    "plt.plot(y_scores[:,0])\n",
    "plt.plot(y_scores_rf[:,0])\n",
    "plt.plot(y_scores_svm[:,0])\n",
    "plt.plot(y_scores_svm_rbf[:,0])\n",
    "plt.plot(y_scores_XGB[:,0])\n"
   ]
  },
  {
   "cell_type": "code",
   "execution_count": null,
   "id": "ec527cc2",
   "metadata": {},
   "outputs": [],
   "source": [
    "from sklearn.metrics import precision_recall_curve\n",
    "fpr, tpr, thresholds = precision_recall_curve(y_test, y_scores[:,1])"
   ]
  },
  {
   "cell_type": "code",
   "execution_count": null,
   "id": "730fa30c",
   "metadata": {},
   "outputs": [],
   "source": [
    "from sklearn.metrics import precision_recall_curve\n",
    "fpr, tpr, thresholds = precision_recall_curve(y_test, y_scores_rf[:,1])"
   ]
  },
  {
   "cell_type": "code",
   "execution_count": null,
   "id": "7207419b",
   "metadata": {},
   "outputs": [],
   "source": [
    "from sklearn.metrics import roc_auc_score\n",
    "from sklearn.metrics import roc_curve\n",
    "lr_auc = roc_auc_score(y_test, y_scores[:,1])\n",
    "lr_auc"
   ]
  },
  {
   "cell_type": "code",
   "execution_count": null,
   "id": "0c4bb4d0",
   "metadata": {},
   "outputs": [],
   "source": [
    "from numpy import sqrt\n",
    "from numpy import argmax\n",
    "gmeans = sqrt(tpr*(1-fpr))\n",
    "plt.plot(gmeans)"
   ]
  },
  {
   "cell_type": "code",
   "execution_count": null,
   "id": "d3425b67",
   "metadata": {},
   "outputs": [],
   "source": [
    "ix = argmax(gmeans)\n",
    "thresholds[ix]"
   ]
  },
  {
   "cell_type": "code",
   "execution_count": null,
   "id": "1c6da756",
   "metadata": {},
   "outputs": [],
   "source": [
    "# plt.plot(tpr)\n",
    "plt.plot(fpr,tpr)\n",
    "plt.scatter(fpr[ix], tpr[ix], marker='o', color='black', label='Best')"
   ]
  },
  {
   "cell_type": "code",
   "execution_count": null,
   "id": "6ba40ff8",
   "metadata": {},
   "outputs": [],
   "source": [
    "fpr, tpr, thresholds = roc_curve(y_test, y_scores[:,1])\n",
    "# plot the roc curve for the model\n",
    "plt.plot([0,1], [0,1], linestyle='--', label='No Skill')\n",
    "plt.plot(fpr, tpr, marker='.', label='Logistic')"
   ]
  },
  {
   "cell_type": "code",
   "execution_count": null,
   "id": "83a05edb",
   "metadata": {},
   "outputs": [],
   "source": [
    "def default_cost_function(tn, fp, fn, tp):\n",
    "    cost = 0\n",
    "    cost += (tn * 1000) \n",
    "    cost += (fp * 1000) \n",
    "    cost += (fn * 1500) \n",
    "    cost += (tp * -20000) \n",
    "    \n",
    "    return cost"
   ]
  },
  {
   "cell_type": "code",
   "execution_count": null,
   "id": "b4652c29",
   "metadata": {},
   "outputs": [],
   "source": [
    "log_model.fit(X_train, y_train.astype('category'))"
   ]
  },
  {
   "cell_type": "code",
   "execution_count": null,
   "id": "b83f2e1a",
   "metadata": {},
   "outputs": [],
   "source": [
    "metrics.plot_roc_curve(log_model, X_test, y_test)"
   ]
  },
  {
   "cell_type": "code",
   "execution_count": null,
   "id": "45e3bff4",
   "metadata": {},
   "outputs": [],
   "source": [
    "log_coef_allburners(dataStacked,log_model)"
   ]
  },
  {
   "cell_type": "code",
   "execution_count": null,
   "id": "2754b7b3",
   "metadata": {},
   "outputs": [],
   "source": [
    "log_coef_allburners(dataStacked_Test,log_model)[0][0]"
   ]
  },
  {
   "cell_type": "code",
   "execution_count": null,
   "id": "bc3ca369",
   "metadata": {},
   "outputs": [],
   "source": [
    "modeltest = Model_testing_newdata_predict_proba(dataStacked,dataStacked_Test,log_model)"
   ]
  },
  {
   "cell_type": "code",
   "execution_count": null,
   "id": "51824c58",
   "metadata": {},
   "outputs": [],
   "source": [
    "plt.plot(modeltest [modeltest<.5])"
   ]
  },
  {
   "cell_type": "code",
   "execution_count": null,
   "id": "ed5118f4",
   "metadata": {},
   "outputs": [],
   "source": [
    "plt.plot(modeltest [modeltest>.5])"
   ]
  },
  {
   "cell_type": "code",
   "execution_count": null,
   "id": "ba62f7c4",
   "metadata": {},
   "outputs": [],
   "source": [
    "plt.plot(Model_testing_newdata_predict_proba(dataStacked,dataStacked_Test,log_model))"
   ]
  },
  {
   "cell_type": "code",
   "execution_count": null,
   "id": "99c9127a",
   "metadata": {},
   "outputs": [],
   "source": [
    "%%time\n",
    "##Scaled \n",
    "Model_testing_newdata(dataStacked,dataStacked_Test,log_model,S = True, MS = 'Minmax')"
   ]
  },
  {
   "cell_type": "code",
   "execution_count": null,
   "id": "6e293a16",
   "metadata": {},
   "outputs": [],
   "source": [
    "def confumatrixCDF(data1,data2,model,S = False,MS = 'Standard'):\n",
    "    ##Confusion Matrix\n",
    "    X_train = np.array(data1.iloc[:,1:])\n",
    "    y_train = data1.iloc[:,0].astype('category')\n",
    "    X_test = np.array(data2.iloc[:,1:])\n",
    "    y_test = data2.iloc[:,0].astype('category')\n",
    "    if S == True:\n",
    "        if MS == 'Standard':\n",
    "            model.fit(stdscaler.fit_transform(X_train),y_train)\n",
    "            cm = confusion_matrix(y_test, model.predict(stdscaler.fit_transform(X_test)))\n",
    "        elif MS == 'Minmax':\n",
    "            model.fit(scalermin.fit_transform(X_train),y_train)\n",
    "            cm = confusion_matrix(y_test, model.predict(scalermin.fit_transform(X_test)))\n",
    "    else:\n",
    "        model.fit(X_train,y_train)\n",
    "        # print(f\"The score using {model}  after training on Data1 and tesy_trainting on Data2 is\",\n",
    "        # model.score(data2.iloc[:,1:],data2.iloc[:,0].astype('category'))*100)\n",
    "        cm = confusion_matrix(y_test, model.predict(X_test))\n",
    "    tn, fp, fn, tp = cm.ravel()\n",
    "    # ax= plt.subplots(1,2,1)\n",
    "    fig, ax = plt.subplots(1, 2,figsize=(13,5))\n",
    "    fig.tight_layout()\n",
    "    sns.heatmap(cm, annot=True, fmt='g', ax=ax[0]);  #annot=True to annotate cells, ftm='g' to disable scientific notation\n",
    "    # labels, title and ticks\n",
    "    ax[0].set_xlabel('Predicted labels')\n",
    "    ax[0].set_ylabel('True labels');\n",
    "    ax[0].set_title('Confusion Matrix');\n",
    "    ax[0].xaxis.set_ticklabels(['0', '1'])\n",
    "    ax[0].yaxis.set_ticklabels(['0', '1'])\n",
    "    # plt.subplot(1, 2, 2)\n",
    "    ploty(ax[1],X_test,y_test,model,S,MS)\n",
    "    plt.tight_layout()\n",
    "#     plt.show()\n",
    "    plt.savefig('Logistic_CF')\n",
    "    print(\"FN :\",fn,\"\\nFP :\",fp,\"\\nTN :\",tn,\"\\nTP :\",tp)\n",
    "    MCC = (tp*tn - fp*fn) / math.sqrt((tp+fp)*(tp+fn)*(tn+fp)*(tn+fn))\n",
    "    return(tn, fp, fn, tp,MCC)\n",
    "# plt.savefig('CF1')"
   ]
  },
  {
   "cell_type": "code",
   "execution_count": null,
   "id": "1bb3c861",
   "metadata": {},
   "outputs": [],
   "source": [
    "dataStacked_Test"
   ]
  },
  {
   "cell_type": "code",
   "execution_count": null,
   "id": "149a2207",
   "metadata": {},
   "outputs": [],
   "source": [
    "# plotconfusiongrid(dataStacked_Test,log_model)"
   ]
  },
  {
   "cell_type": "code",
   "execution_count": null,
   "id": "3653ee7e",
   "metadata": {},
   "outputs": [],
   "source": [
    "%%time\n",
    "ConfusionmatrixTrainHighTestLow  = {\n",
    "    \"LGM\": confumatrixCDF(dataStacked,dataStacked_Test,log_model),\n",
    "}\n",
    "# ConfusionmatrixTrainLowTestHigh = {\n",
    "#     \"LGM\": confumatrixCDF(dataStacked_Test,dataStacked,log_model),\n",
    "# }\n",
    "\n",
    "ConfusionmatrixTrainHighTestLow['LGM']\n",
    "plt.savefig('CF1')"
   ]
  },
  {
   "cell_type": "markdown",
   "id": "fa54e50f",
   "metadata": {},
   "source": [
    "Train confusion matrix with elastic net penalty with minmax scaling incresing the number of iterations to 350"
   ]
  },
  {
   "cell_type": "code",
   "execution_count": null,
   "id": "4d03bbfe",
   "metadata": {},
   "outputs": [],
   "source": [
    "%%time\n",
    "ConfusionmatrixTrainHighTestLow  = {\n",
    "    \"LGM_Minmax\": confumatrixCDF(dataStacked,dataStacked_Test,log_model,S = True,MS = 'Minmax')\n",
    "}"
   ]
  },
  {
   "cell_type": "markdown",
   "id": "5a9b0e49",
   "metadata": {},
   "source": [
    "## NaiveBayes"
   ]
  },
  {
   "cell_type": "code",
   "execution_count": 49,
   "id": "e941fdf8",
   "metadata": {},
   "outputs": [],
   "source": [
    "from sklearn.naive_bayes import GaussianNB\n",
    "from sklearn.naive_bayes import BernoulliNB\n",
    "from sklearn.naive_bayes import ComplementNB\n",
    "from sklearn.naive_bayes import MultinomialNB\n",
    "gnb = GaussianNB(var_smoothing = .0005)\n",
    "bnb = BernoulliNB()\n",
    "cnb = ComplementNB()\n",
    "mnb = MultinomialNB()\n",
    "from sklearn.preprocessing import PowerTransformer"
   ]
  },
  {
   "cell_type": "code",
   "execution_count": null,
   "id": "869c07d2",
   "metadata": {},
   "outputs": [],
   "source": [
    "gnb_predictprob = Model_testing_newdata_predict_proba(dataStacked,dataStacked_Test,gnb)"
   ]
  },
  {
   "cell_type": "code",
   "execution_count": null,
   "id": "dd6ca6fd",
   "metadata": {},
   "outputs": [],
   "source": [
    "plt.plot(gnb_predictprob[:,0])"
   ]
  },
  {
   "cell_type": "code",
   "execution_count": null,
   "id": "e747f603",
   "metadata": {},
   "outputs": [],
   "source": [
    "nb_classifier = GaussianNB()\n",
    "# from sklearn.model_selection import cross_val_score,StratifiedKFold\n",
    "# stratifiedkf=StratifiedKFold(n_splits=5)\n",
    "# params_NB = {'var_smoothing': np.logspace(0,-9, num=100)}\n",
    "# gs_NB = GridSearchCV(estimator=nb_classifier, \n",
    "#                  param_grid=params_NB, \n",
    "#                  cv=stratifiedkf,   # use any cross validation technique \n",
    "#                  verbose=1, \n",
    "#                  scoring='f1_weighted') \n",
    "# gs_NB.fit(X_train, y_train.astype('category'))\n",
    "nb_classifier.fit()\n",
    "gs_NB.best_params_"
   ]
  },
  {
   "cell_type": "code",
   "execution_count": null,
   "id": "72e7f8a2",
   "metadata": {},
   "outputs": [],
   "source": [
    "np.logspace(0,-9, num=100)"
   ]
  },
  {
   "cell_type": "code",
   "execution_count": null,
   "id": "70354a70",
   "metadata": {},
   "outputs": [],
   "source": [
    "%run  Pyscripts/MT_SE_PT_Stacked_Ind_DF_Model.py"
   ]
  },
  {
   "cell_type": "code",
   "execution_count": null,
   "id": "3058fae1",
   "metadata": {},
   "outputs": [],
   "source": [
    "max(b.values())"
   ]
  },
  {
   "cell_type": "code",
   "execution_count": null,
   "id": "41de4a87",
   "metadata": {},
   "outputs": [],
   "source": [
    "np.logspace(.1,-9,num = 100)"
   ]
  },
  {
   "cell_type": "code",
   "execution_count": null,
   "id": "2d1ddef4",
   "metadata": {},
   "outputs": [],
   "source": [
    "from sklearn.model_selection import GridSearchCV,RepeatedStratifiedKFold\n",
    "from sklearn.linear_model import LogisticRegression\n",
    "gnb = GaussianNB()\n",
    "# from sklearn.model_selection import \n",
    "var_smooth = np.logspace(.1,-9,num = 100)\n",
    "# define grid search\n",
    "grid = dict(var_smoothing = var_smooth)\n",
    "cv = RepeatedStratifiedKFold(n_splits=10, n_repeats=3, random_state=1)\n",
    "grid_search = GridSearchCV(estimator=gnb, param_grid=grid, n_jobs=-1, cv=cv, scoring='f1',error_score=0)\n",
    "grid_result = grid_search.fit(X_train1, y_train1)\n",
    "# summarize results\n",
    "print(\"Best: %f using %s\" % (grid_result.best_score_, grid_result.best_params_))\n",
    "means = grid_result.cv_results_['mean_test_score']\n",
    "stds = grid_result.cv_results_['std_test_score']\n",
    "params = grid_result.cv_results_['params']\n",
    "for mean, stdev, param in zip(means, stds, params):\n",
    "    print(\"%f (%f) with: %r\" % (mean, stdev, param))"
   ]
  },
  {
   "cell_type": "code",
   "execution_count": null,
   "id": "ac41c0d0",
   "metadata": {},
   "outputs": [],
   "source": [
    "#logistic\n",
    "from sklearn.linear_model import LogisticRegression\n",
    "log_model = LogisticRegression()\n",
    "# from sklearn.model_selection import \n",
    "solvers = ['newton-cg', 'lbfgs', 'liblinear']\n",
    "penalty = ['l2']\n",
    "c_values = [100, 10, 1.0, 0.1, 0.01]\n",
    "# define grid search\n",
    "grid = dict(solver=solvers,penalty=penalty,C=c_values)\n",
    "cv = RepeatedStratifiedKFold(n_splits=10, n_repeats=3, random_state=1)\n",
    "grid_search = GridSearchCV(estimator=log_model, param_grid=grid, n_jobs=-1, cv=cv, scoring='f1',error_score=0)\n",
    "grid_result = grid_search.fit(X_train1, y_train1)\n",
    "# summarize results\n",
    "print(\"Best: %f using %s\" % (grid_result.best_score_, grid_result.best_params_))\n",
    "means = grid_result.cv_results_['mean_test_score']\n",
    "stds = grid_result.cv_results_['std_test_score']\n",
    "params = grid_result.cv_results_['params']\n",
    "for mean, stdev, param in zip(means, stds, params):\n",
    "    print(\"%f (%f) with: %r\" % (mean, stdev, param))"
   ]
  },
  {
   "cell_type": "code",
   "execution_count": null,
   "id": "15be133d",
   "metadata": {},
   "outputs": [],
   "source": [
    "##knn\n",
    "# define models and parameters\n",
    "model = KNeighborsClassifier()\n",
    "n_neighbors = range(1, 15, 2)\n",
    "weights = ['uniform', 'distance']\n",
    "metric = ['euclidean', 'manhattan', 'minkowski']\n",
    "# define grid search\n",
    "grid = dict(n_neighbors=n_neighbors,weights=weights,metric=metric)\n",
    "cv = RepeatedStratifiedKFold(n_splits=10, n_repeats=3, random_state=1)\n",
    "grid_search = GridSearchCV(estimator=model, param_grid=grid, n_jobs=-1, cv=cv, scoring='f1',error_score=0)\n",
    "grid_result = grid_search.fit(X_train1, y_train1)\n",
    "# summarize results\n",
    "print(\"Best: %f using %s\" % (grid_result.best_score_, grid_result.best_params_))\n",
    "means = grid_result.cv_results_['mean_test_score']\n",
    "stds = grid_result.cv_results_['std_test_score']\n",
    "params = grid_result.cv_results_['params']\n",
    "for mean, stdev, param in zip(means, stds, params):\n",
    "    print(\"%f (%f) with: %r\" % (mean, stdev, param))"
   ]
  },
  {
   "cell_type": "code",
   "execution_count": null,
   "id": "379cc127",
   "metadata": {},
   "outputs": [],
   "source": [
    "%%time\n",
    "from sklearn.model_selection import GridSearchCV,RepeatedStratifiedKFold\n",
    "from sklearn.model_selection import RepeatedStratifiedKFold\n",
    "from sklearn.model_selection import RandomizedSearchCV\n",
    "from sklearn.svm import SVC\n",
    "model = SVC()\n",
    "kernel = ['rbf']\n",
    "C = [.001,.01,.1,1,10]\n",
    "gamma = [.001,.01,.1,1,10]\n",
    "grid = dict(kernel=kernel,C=C,gamma=gamma)\n",
    "cv = RepeatedStratifiedKFold(n_splits=10, n_repeats=3, random_state=1)\n",
    "grid_search = RandomizedSearchCV(estimator=model, param_distributions=grid, n_jobs=-1, cv=cv, scoring='f1',error_score=0)\n",
    "grid_resultRF = grid_search.fit(X_train, y_train.astype('category'))\n",
    "# summarize results\n",
    "print(\"Best: %f using %s\" % (grid_result.best_score_, grid_result.best_params_))\n",
    "means = grid_resultRF.cv_results_['mean_test_score']\n",
    "stds = grid_resultRF.cv_results_['std_test_score']\n",
    "params = grid_resultRF.cv_results_['params']\n",
    "for mean, stdev, param in zip(means, stds, params):\n",
    "    print(\"%f (%f) with: %r\" % (mean, stdev, param))"
   ]
  },
  {
   "cell_type": "code",
   "execution_count": null,
   "id": "17dbbdcb",
   "metadata": {},
   "outputs": [],
   "source": [
    "##rf\n",
    "%time \n",
    "n_estimators = [50,100,200,300,500,700]\n",
    "max_features = ['sqrt', 'log2',0.2]\n",
    "min_samples_leaf = [1,2,4]\n",
    "# define grid search\n",
    "grid = dict(n_estimators=n_estimators,max_features=max_features,min_samples_leaf = min_samples_leaf)\n",
    "cv = RepeatedStratifiedKFold(n_splits=10, n_repeats=3, random_state=1)\n",
    "grid_search = GridSearchCV(estimator=rfclf, param_grid=grid, n_jobs=-1, cv=cv, scoring='f1',error_score=0)\n",
    "grid_resultRF = grid_search.fit(X_train, y_train.astype('category'))\n",
    "# summarize results\n",
    "print(\"Best: %f using %s\" % (grid_result.best_score_, grid_result.best_params_))\n",
    "means = grid_resultRF.cv_results_['mean_test_score']\n",
    "stds = grid_resultRF.cv_results_['std_test_score']\n",
    "params = grid_resultRF.cv_results_['params']\n",
    "for mean, stdev, param in zip(means, stds, params):\n",
    "    print(\"%f (%f) with: %r\" % (mean, stdev, param))"
   ]
  },
  {
   "cell_type": "code",
   "execution_count": null,
   "id": "f6f77394",
   "metadata": {},
   "outputs": [],
   "source": [
    "%%time\n",
    "from xgboost import XGBClassifier\n",
    "\n",
    "# fit model no training data\n",
    "model = XGBClassifier()\n",
    "n_estimators = [10, 100, 1000]\n",
    "learning_rate = [0.001, 0.01, 0.1]\n",
    "subsample = [0.5, 0.7, 1.0]\n",
    "max_depth = [3, 7, 9]\n",
    "min_child_weight = [0,2,4,6,9]\n",
    "# define grid search\n",
    "grid = dict(learning_rate=learning_rate, n_estimators=n_estimators, subsample=subsample, max_depth=max_depth,min_child_weight = min_child_weight)\n",
    "cv = RepeatedStratifiedKFold(n_splits=10, n_repeats=3, random_state=1)\n",
    "grid_search = GridSearchCV(estimator=model, param_grid=grid, n_jobs=-1, cv=cv, scoring='roc_auc',error_score=0)\n",
    "grid_resultXGB = grid_search.fit(np.array(X_train), y_train.astype('category'))\n",
    "# summarize results\n",
    "print(\"Best: %f using %s\" % (grid_result.best_score_, grid_result.best_params_))\n",
    "means = grid_resultXGB.cv_results_['mean_test_score']\n",
    "stds = grid_resultXGB.cv_results_['std_test_score']\n",
    "params = grid_resultXGB.cv_results_['params']\n",
    "for mean, stdev, param in zip(means, stds, params):\n",
    "    print(\"%f (%f) with: %r\" % (mean, stdev, param))"
   ]
  },
  {
   "cell_type": "code",
   "execution_count": null,
   "id": "ea54dd4c",
   "metadata": {},
   "outputs": [],
   "source": [
    "%%time\n",
    "gnb = GaussianNB(var_smoothing = 0.00005336699231206307)\n",
    "Model_testing_newdata(dataStacked,dataStacked_Test,gnb)"
   ]
  },
  {
   "cell_type": "code",
   "execution_count": null,
   "id": "7bfd7b19",
   "metadata": {},
   "outputs": [],
   "source": [
    "%%time\n",
    "ConfusionmatrixTrainHighTestLow  = {\n",
    "    \"NB1\": confumatrixCDF(dataStacked,dataStacked_Test,gnb),\n",
    "}\n",
    "# ConfusionmatrixTrainLowTestHigh = {\n",
    "#     \"NB2\": confumatrixCDF(dataStacked_Test,dataStacked,gnb),\n",
    "# }\n",
    "ConfusionmatrixTrainHighTestLow['NB1']\n",
    "plt.savefig('CF_NB')\n",
    "\n"
   ]
  },
  {
   "cell_type": "markdown",
   "id": "0bf156ca",
   "metadata": {},
   "source": [
    "Naive Bayes cannot be used as it gives a very High number of False Positives.\n",
    "This could be because of the reason that Naive Bayes works well on Multi=Classification and less on binary classification.\n",
    "\n",
    " When classifying a given data point, the Naive Bayes classifier first calculates the probabilities with which it believes the data points belong to each possible class label. It produces a classification by selecting the class label associated with the largest probability. Very often the largest probability is desirably associated with the correct class label. However, beyond the (important) close correlation between the largest probability and the correct class label, the probabilities are not correlated with classification confidence. The largest probability is frequently close to 1, with other probabilities close to 0. This indicates extremely high classification confidence, much more than empirically demonstrated actual classification accuracy justifies.\n",
    "\n",
    "The reason: The Naive Bayes classifier’s conditional independence assumption, namely the assumption that features are independent of one another when conditioned upon class labels, is rarely accurate. Features often depend on one another non-trivial amounts, meaning multiple features often contain similar signals. However, the Naive Bayes classifier’s conditional independence assumption results in its treatment of features as distinct signals each of which should independently contribute additional confidence to the classifier’s prediction. This phenomenon amplifies the contribution of signals to the ultimate classification confidence. The Naive Bayes classifier nonetheless produces competitive classification accuracy because the extent to which the independence assumption favors different class labels roughly evens out on average.\n",
    "\n",
    "The details: For more details (and mathematical rigor) about this topic, check out Domingos and Pazzani’s paper entitled ”On the Optimality of the Simple Bayesian classifier under Zero-One Loss”."
   ]
  },
  {
   "cell_type": "markdown",
   "id": "23430125",
   "metadata": {},
   "source": [
    "## PLS-DA"
   ]
  },
  {
   "cell_type": "code",
   "execution_count": null,
   "id": "9f4bf15b",
   "metadata": {},
   "outputs": [],
   "source": [
    "from sklearn.cross_decomposition import PLSRegression"
   ]
  },
  {
   "cell_type": "code",
   "execution_count": null,
   "id": "ffbf866d",
   "metadata": {},
   "outputs": [],
   "source": [
    "pls_binary =PLSRegression(n_components=2)"
   ]
  },
  {
   "cell_type": "code",
   "execution_count": null,
   "id": "9236ea08",
   "metadata": {},
   "outputs": [],
   "source": [
    "X_pls = pls_binary.fit_transform(dataStacked.iloc[:,1:],dataStacked.iloc[:,0] )[0]"
   ]
  },
  {
   "cell_type": "code",
   "execution_count": null,
   "id": "fd324aa0",
   "metadata": {},
   "outputs": [],
   "source": [
    "y_pred = pls_binary.predict(dataStacked_Test.iloc[:,1:])"
   ]
  },
  {
   "cell_type": "code",
   "execution_count": null,
   "id": "f80f0151",
   "metadata": {},
   "outputs": [],
   "source": [
    "pred[pred>=.5]=1\n",
    "pred[pred<.5]=0\n",
    "##Convert to category\n",
    "y_pred = pd.Categorical(y_pred)\n",
    "y_pred\n",
    "##True Labels\n",
    "y_true = dataStacked_Test.iloc[:,0]"
   ]
  },
  {
   "cell_type": "code",
   "execution_count": null,
   "id": "2a102657",
   "metadata": {},
   "outputs": [],
   "source": [
    "from sklearn import metrics\n",
    "metrics.accuracy_score(y_true.astype('category'),y_pred)\n",
    "confusion_matrix(y_true.astype('category'),y_pred)"
   ]
  },
  {
   "cell_type": "code",
   "execution_count": null,
   "id": "9e53c577",
   "metadata": {},
   "outputs": [],
   "source": [
    "plt.plot(pred,color = 'red')\n",
    "plt.plot(dataStacked_Test.iloc[:,0],color = 'blue')\n",
    "metrics.accuracy_score(y_true.astype('category'), y_pred)"
   ]
  },
  {
   "cell_type": "markdown",
   "id": "195e7547",
   "metadata": {},
   "source": [
    "## KNN "
   ]
  },
  {
   "cell_type": "code",
   "execution_count": null,
   "id": "a5db89c8",
   "metadata": {},
   "outputs": [],
   "source": [
    "neigh.\n"
   ]
  },
  {
   "cell_type": "code",
   "execution_count": null,
   "id": "d74fcfb9",
   "metadata": {},
   "outputs": [],
   "source": [
    "neigh.predict(X_test)"
   ]
  },
  {
   "cell_type": "code",
   "execution_count": null,
   "id": "e7251443",
   "metadata": {},
   "outputs": [],
   "source": [
    "neigh.fit(X_train,y_train.astype('float32'))"
   ]
  },
  {
   "cell_type": "code",
   "execution_count": null,
   "id": "fc1897b7",
   "metadata": {},
   "outputs": [],
   "source": [
    "from sklearn.neighbors import KNeighborsClassifier\n",
    "neigh = KNeighborsClassifier(p=1,weights = 'uniform',n_neighbors=3)\n",
    "from sklearn.model_selection import cross_val_score,StratifiedKFold\n",
    "# stratifiedkf=StratifiedKFold(n_splits=5)\n",
    "\n",
    "# gs_NB = GridSearchCV(estimator=neigh, \n",
    "#                  param_grid=params_NB, \n",
    "#                  cv=stratifiedkf,   # use any cross validation technique \n",
    "#                  verbose=1, \n",
    "#                  scoring='f1_weighted') \n",
    "# gs_NB.fit(X_train, y_train.astype('category'))\n",
    "\n",
    "# gs_NB.best_params_"
   ]
  },
  {
   "cell_type": "code",
   "execution_count": null,
   "id": "3ba1cf92",
   "metadata": {},
   "outputs": [],
   "source": [
    "plt.plot(dfPred)"
   ]
  },
  {
   "cell_type": "code",
   "execution_count": null,
   "id": "cd60f54d",
   "metadata": {},
   "outputs": [],
   "source": [
    "%run C:\\Users\\z004csar\\Thesis_Project\\MasterThesis_2022_CombustionFlameComparison\\Master_thesis_Final_script.py"
   ]
  },
  {
   "cell_type": "code",
   "execution_count": null,
   "id": "3b2da52d",
   "metadata": {},
   "outputs": [],
   "source": [
    "def position_ONOFF(yval): ##The y axis \n",
    "    offondic = {}\n",
    "    onoffdic = {}\n",
    "    for i,j in enumerate(np.diff(yval)):\n",
    "        if (j==1):\n",
    "            offondic[i] = j\n",
    "        elif(j==-1):\n",
    "            onoffdic[i] = j\n",
    "    pos_ON = list()        \n",
    "    for i in offondic.keys():\n",
    "        pos_ON.append(i)\n",
    "    pos_OFF = list()\n",
    "    for i in onoffdic.keys():\n",
    "        pos_OFF.append(i)\n",
    "    return(pos_ON,pos_OFF)\n",
    "    \n",
    "def Timedifference(pred_y,true_y):\n",
    "    Predvals = position_ONOFF(pred_y)\n",
    "    Truevals = position_ONOFF(true_y)\n",
    "    OfftoOndifference = []\n",
    "    OntoOffdifference = []\n",
    "    if len(Predvals[0])==len(Truevals[0]):\n",
    "        OfftoOnlist = zip(Predvals[0], Truevals[0])\n",
    "        OntoOfflist = zip(Predvals[1], Truevals[1])\n",
    "        for list1_i, list2_i in OfftoOnlist:\n",
    "            OfftoOndifference.append(list1_i-list2_i)    \n",
    "        for list1_i, list2_i in OntoOfflist:\n",
    "            OntoOffdifference.append(list1_i-list2_i)\n",
    "        return(OfftoOndifference,OntoOffdifference)\n",
    "    else:\n",
    "        print('Inconsistensies in the classification')\n",
    "        print(f'The number of Off to On inconsistensies are {len(Predvals[0])-len(Truevals[0])}')\n",
    "        print(f'The number of On to Off inconsistensies are {len(Predvals[1])-len(Truevals[1])}')\n",
    "        return(Predvals)"
   ]
  },
  {
   "cell_type": "code",
   "execution_count": null,
   "id": "8f45879e",
   "metadata": {},
   "outputs": [],
   "source": [
    "import plotly.express as px\n",
    "fig = px.line(y_test, title='Life expectancy in Canada')\n",
    "for i in predlocations[1]:\n",
    "    fig.add_trace(i)\n",
    "fig.show()\n"
   ]
  },
  {
   "cell_type": "code",
   "execution_count": null,
   "id": "f1c69922",
   "metadata": {},
   "outputs": [],
   "source": [
    "\n",
    "plt.plot(y_test)\n",
    "# for i in predlocations[0]:\n",
    "#     plt.axvline(x=i, color='b', label='axvline - full height')\n",
    "for i in predlocations[1]:\n",
    "    plt.axvline(x=i, color='r', label='a')"
   ]
  },
  {
   "cell_type": "code",
   "execution_count": null,
   "id": "2afbc50c",
   "metadata": {},
   "outputs": [],
   "source": [
    "predlocations[1]"
   ]
  },
  {
   "cell_type": "code",
   "execution_count": null,
   "id": "c30fb4cc",
   "metadata": {},
   "outputs": [],
   "source": [
    "predlocations = Timedifference(dfPred,y_test)"
   ]
  },
  {
   "cell_type": "code",
   "execution_count": null,
   "id": "95e407ef",
   "metadata": {},
   "outputs": [],
   "source": []
  },
  {
   "cell_type": "code",
   "execution_count": null,
   "id": "54c95945",
   "metadata": {},
   "outputs": [],
   "source": [
    "# %%time\n",
    "# capture = []\n",
    "# for i in range(1,6):\n",
    "#     capture.append(Model_testing_newdata(dataStacked,dataStacked_Test,KNeighborsClassifier(n_neighbors=i)))"
   ]
  },
  {
   "cell_type": "code",
   "execution_count": null,
   "id": "238abecf",
   "metadata": {},
   "outputs": [],
   "source": [
    "%%time\n",
    "ConfusionmatrixTrainHighTestLow  = {\n",
    "    \"KNN\": confumatrixCDF(dataStacked,dataStacked_Test,neigh),\n",
    "}\n",
    "# ConfusionmatrixTrainLowTestHigh = {\n",
    "#     \"KNN\": confumatrixCDF(dataStacked_Test,dataStacked,neigh),\n",
    "# }\n",
    "ConfusionmatrixTrainHighTestLow['KNN']\n",
    "plt.savefig('CF_KNN')"
   ]
  },
  {
   "cell_type": "code",
   "execution_count": null,
   "id": "7cf4994d",
   "metadata": {},
   "outputs": [],
   "source": [
    "print(neigh.get_params)"
   ]
  },
  {
   "cell_type": "markdown",
   "id": "a2ec06de",
   "metadata": {},
   "source": [
    "Despite increasing the number number of neigbours we do not have a change in result and thus we keep the value of K as 2."
   ]
  },
  {
   "cell_type": "markdown",
   "id": "283d27c6",
   "metadata": {},
   "source": [
    "## RandomForest"
   ]
  },
  {
   "cell_type": "code",
   "execution_count": null,
   "id": "acee7408",
   "metadata": {},
   "outputs": [],
   "source": [
    "from sklearn.ensemble import RandomForestClassifier\n",
    "rfclf = RandomForestClassifier()"
   ]
  },
  {
   "cell_type": "code",
   "execution_count": null,
   "id": "2105a651",
   "metadata": {},
   "outputs": [],
   "source": [
    "%%time\n",
    "Model_testing_newdata(dataStacked,dataStacked_Test,rfclf)"
   ]
  },
  {
   "cell_type": "code",
   "execution_count": null,
   "id": "c13a57ab",
   "metadata": {},
   "outputs": [],
   "source": [
    "%%time\n",
    "ConfusionmatrixTrainHighTestLow  = {\n",
    "    \"RF\": confumatrixCDF(dataStacked,dataStacked_Test,rfclf),\n",
    "}\n",
    "\n",
    "plt.savefig('CF_RF')"
   ]
  },
  {
   "cell_type": "markdown",
   "id": "6b8ce8f2",
   "metadata": {},
   "source": [
    "## AdaBoost"
   ]
  },
  {
   "cell_type": "code",
   "execution_count": null,
   "id": "5413ce17",
   "metadata": {},
   "outputs": [],
   "source": [
    "from sklearn.ensemble import AdaBoostClassifier"
   ]
  },
  {
   "cell_type": "code",
   "execution_count": null,
   "id": "e1b259da",
   "metadata": {},
   "outputs": [],
   "source": [
    "adaclf = AdaBoostClassifier(n_estimators=100, random_state=0)"
   ]
  },
  {
   "cell_type": "code",
   "execution_count": null,
   "id": "59af83b8",
   "metadata": {},
   "outputs": [],
   "source": [
    "%%time\n",
    "Model_testing_newdata(dataStacked,dataStacked_Test,adaclf)"
   ]
  },
  {
   "cell_type": "code",
   "execution_count": null,
   "id": "227527a7",
   "metadata": {},
   "outputs": [],
   "source": [
    "%%time\n",
    "ConfusionmatrixTrainHighTestLow  = {\n",
    "    \"RF\": confumatrixCDF(dataStacked,dataStacked_Test,adaclf),\n",
    "}\n",
    "ConfusionmatrixTrainLowTestHigh = {\n",
    "    \"RF\": confumatrixCDF(dataStacked_Test,dataStacked,adaclf),\n",
    "}"
   ]
  },
  {
   "cell_type": "markdown",
   "id": "135640f5",
   "metadata": {},
   "source": [
    "## SVM "
   ]
  },
  {
   "cell_type": "code",
   "execution_count": 57,
   "id": "a9967026",
   "metadata": {},
   "outputs": [],
   "source": [
    "from sklearn import svm\n",
    "svclf = svm.SVC(kernel = 'rbf',probability = True)\n",
    "svclf1 = svm.SVC(kernel = 'linear',probability = True)\n",
    "# svclf2 = svm.SVC(kernel = 'poly')\n",
    "# svclf3 = svm.SVC(kernel = 'precomputed')\n",
    "# svclf4 = svm.SVC(kernel = 'sigmoid')"
   ]
  },
  {
   "cell_type": "code",
   "execution_count": null,
   "id": "15e2e376",
   "metadata": {},
   "outputs": [],
   "source": [
    "# nb_classifier = GaussianNB()\n",
    "from sklearn.model_selection import cross_val_score,StratifiedKFold\n",
    "from sklearn.model_selection import RandomizedSearchCV\n",
    "stratifiedkf=StratifiedKFold(n_splits=5)\n",
    "params_SVM = {'C':  [0.001, 0.01, 0.1, 1, 10,50],'gamma': [1, 0.1, 0.01, 0.001, 0.0001],'kernel' : ['rbf']}\n",
    "gs_NB = RandomizedSearchCV(estimator=svclf, \n",
    "                 param_distributions=params_SVM, \n",
    "                 cv=stratifiedkf,   # use any cross validation technique \n",
    "                 verbose=1, \n",
    "                 scoring='f1_weighted') \n",
    "gs_NB.fit(X_train, y_train.astype('category'))\n",
    "\n",
    "gs_NB.best_params_"
   ]
  },
  {
   "cell_type": "code",
   "execution_count": null,
   "id": "c52f0016",
   "metadata": {},
   "outputs": [],
   "source": [
    "%%time\n",
    "Model_testing_newdata(dataStacked,dataStacked_Test,svclf)"
   ]
  },
  {
   "cell_type": "code",
   "execution_count": null,
   "id": "5395f5b9",
   "metadata": {},
   "outputs": [],
   "source": [
    "%%time\n",
    "Model_testing_newdata(dataStacked,dataStacked_Test,svclf1)"
   ]
  },
  {
   "cell_type": "code",
   "execution_count": null,
   "id": "dfe4512e",
   "metadata": {},
   "outputs": [],
   "source": [
    "%%time\n",
    "Model_testing_newdata(dataStacked,dataStacked_Test,svclf2)"
   ]
  },
  {
   "cell_type": "code",
   "execution_count": null,
   "id": "0a1bb560",
   "metadata": {},
   "outputs": [],
   "source": [
    "%%time\n",
    "Model_testing_newdata(dataStacked,dataStacked_Test,svclf3)"
   ]
  },
  {
   "cell_type": "code",
   "execution_count": null,
   "id": "487585aa",
   "metadata": {},
   "outputs": [],
   "source": [
    "%%time\n",
    "Model_testing_newdata(dataStacked,dataStacked_Test,svclf4)"
   ]
  },
  {
   "cell_type": "code",
   "execution_count": null,
   "id": "bd998151",
   "metadata": {},
   "outputs": [],
   "source": [
    "%%time\n",
    "##Scaled Minmax\n",
    "Model_testing_newdata(dataStacked,dataStacked_Test,svclf,S = True,MS = 'Minmax')"
   ]
  },
  {
   "cell_type": "code",
   "execution_count": null,
   "id": "811106ee",
   "metadata": {},
   "outputs": [],
   "source": [
    "def confumatrixCDF(X_train,y_train,X_test,y_test,model,S = False,MS = 'Standard'):\n",
    "    ##Confusion Matrix\n",
    "    X_train = np.array(X_train)\n",
    "    y_train = y_train.astype('category')\n",
    "    X_test = np.array(X_test)\n",
    "    y_test = y_test.astype('category')\n",
    "    if S == True:\n",
    "        if MS == 'Standard':\n",
    "            model.fit(stdscaler.fit_transform(X_train),y_train)\n",
    "            y_pred = model.predict(stdscaler.fit_transform(X_test))\n",
    "            cm = confusion_matrix(y_test, y_pred)\n",
    "#             f1 = f1_score(y_test, y_pred, average='weighted')\n",
    "        elif MS == 'Minmax':\n",
    "            model.fit(scalermin.fit_transform(X_train),y_train)\n",
    "            y_pred = model.predict(scalermin.fit_transform(X_test))\n",
    "            cm = confusion_matrix(y_test, y_pred)\n",
    "#             f1 = f1_score(y_test, y_pred, average='weighted')\n",
    "    else:\n",
    "        model.fit(X_train,y_train)\n",
    "        # print(f\"The score using {model}  after training on Data1 and tesy_trainting on Data2 is\",\n",
    "        # model.score(data2.iloc[:,1:],data2.iloc[:,0].astype('category'))*100)\n",
    "        y_pred = model.predict(X_test)\n",
    "        cm = confusion_matrix(y_test,y_pred )\n",
    "#         f1 = f1_score(y_test, y_pred, average='weighted')\n",
    "    tn, fp, fn, tp = cm.ravel()\n",
    "    # ax= plt.subplots(1,2,1)\n",
    "    fig, ax = plt.subplots(1, 2,figsize=(13,5))\n",
    "    fig.tight_layout()\n",
    "    sns.heatmap(cm, annot=True, fmt='g', ax=ax[0]);  #annot=True to annotate cells, ftm='g' to disable scientific notation\n",
    "    # labels, title and ticks\n",
    "    ax[0].set_xlabel('Predicted labels')\n",
    "    ax[0].set_ylabel('True labels');\n",
    "    ax[0].set_title('Confusion Matrix');\n",
    "    ax[0].xaxis.set_ticklabels(['0', '1'])\n",
    "    ax[0].yaxis.set_ticklabels(['0', '1'])\n",
    "    # plt.subplot(1, 2, 2)\n",
    "    ploty(ax[1],X_test,y_test,model,S,MS)\n",
    "    plt.tight_layout()\n",
    "    fn,fp,tn,tp = int(fn),int(fp),int(tn),int(tp) \n",
    "    print(\"FN :\",fn,\"\\nFP :\",fp,\"\\nTN :\",tn,\"\\nTP :\",tp)\n",
    "    MCC = ((tp*tn) - (fp*fn))/math.sqrt((tp+fp)*(tp+fn)*(tn+fp)*(tn+fn))\n",
    "    \n",
    "    return(tn, fp, fn, tp,MCC)"
   ]
  },
  {
   "cell_type": "code",
   "execution_count": null,
   "id": "f78c465f",
   "metadata": {},
   "outputs": [],
   "source": [
    "%%time\n",
    "ConfusionmatrixTrainHighTestLow  = {\n",
    "    \"SVM\": confumatrixCDF(X_train,y_train,X_test,y_test,svclf),\n",
    "}\n",
    "plt.savefig('CF_SVM')"
   ]
  },
  {
   "cell_type": "markdown",
   "id": "f7fa1607",
   "metadata": {},
   "source": [
    "## LDA"
   ]
  },
  {
   "cell_type": "code",
   "execution_count": null,
   "id": "74479b97",
   "metadata": {},
   "outputs": [],
   "source": [
    "from sklearn.discriminant_analysis import LinearDiscriminantAnalysis\n",
    "ldaclf = LinearDiscriminantAnalysis()"
   ]
  },
  {
   "cell_type": "code",
   "execution_count": null,
   "id": "e0d40486",
   "metadata": {},
   "outputs": [],
   "source": [
    "%%time\n",
    "Model_testing_newdata(dataStacked,dataStacked_Test,ldaclf)"
   ]
  },
  {
   "cell_type": "code",
   "execution_count": null,
   "id": "946c6dab",
   "metadata": {},
   "outputs": [],
   "source": [
    "%%time\n",
    "ConfusionmatrixTrainHighTestLow  = {\n",
    "    \"LDA\": confumatrixCDF(dataStacked,dataStacked_Test,ldaclf),\n",
    "}\n",
    "ConfusionmatrixTrainLowTestHigh = {\n",
    "    \"LDA\": confumatrixCDF(dataStacked_Test,dataStacked,ldaclf),\n",
    "}"
   ]
  },
  {
   "cell_type": "markdown",
   "id": "de059ab5",
   "metadata": {},
   "source": [
    "## XGBoost GridsearchCV"
   ]
  },
  {
   "cell_type": "code",
   "execution_count": null,
   "id": "92f8fe29",
   "metadata": {},
   "outputs": [],
   "source": [
    "%%time\n",
    "\n",
    "import xgboost as xgb\n",
    "xgbmodel = xgb.XGBClassifier(eval_metric = 'aucpr')\n"
   ]
  },
  {
   "cell_type": "code",
   "execution_count": null,
   "id": "2fd75052",
   "metadata": {},
   "outputs": [],
   "source": []
  },
  {
   "cell_type": "code",
   "execution_count": null,
   "id": "4f778bb1",
   "metadata": {},
   "outputs": [],
   "source": [
    "%%time\n",
    "XGBoost_testing(dataStacked,dataStacked_Test,xgbmodel)"
   ]
  },
  {
   "cell_type": "code",
   "execution_count": null,
   "id": "6925e59f",
   "metadata": {},
   "outputs": [],
   "source": [
    "def algorithm_pipeline(X_train_data, X_test_data, y_train_data, y_test_data, \n",
    "                       model, param_grid, cv=10, scoring_fit='f1',\n",
    "                       do_probabilities = False):\n",
    "    gs = GridSearchCV(\n",
    "        estimator=model,\n",
    "        param_grid=param_grid, \n",
    "        cv=cv, \n",
    "        n_jobs=-1, \n",
    "        scoring=scoring_fit,\n",
    "        verbose=2\n",
    "    )\n",
    "    fitted_model = gs.fit(X_train_data, y_train_data)\n",
    "    \n",
    "    if do_probabilities:\n",
    "        pred = fitted_model.predict_proba(X_test_data)\n",
    "    else:\n",
    "        pred = fitted_model.predict(X_test_data)\n",
    "    \n",
    "    return fitted_model, pred"
   ]
  },
  {
   "cell_type": "code",
   "execution_count": null,
   "id": "85457637",
   "metadata": {},
   "outputs": [],
   "source": [
    "# from sklearn import cross\n",
    "from sklearn.model_selection import GridSearchCV\n",
    "param_grid = {\n",
    "    'n_estimators': [200,300,400],\n",
    "    'colsample_bytree': [0.7, 0.8,0.9,1],\n",
    "    min_\n",
    "    'reg_alpha': [0,1,1.1, 1.2, 1.3],\n",
    "    'reg_lambda': [1,1.1, 1.2, 1.3,1.4],\n",
    "    'subsample': [0.7, 0.8, 0.9]\n",
    "}"
   ]
  },
  {
   "cell_type": "code",
   "execution_count": null,
   "id": "69f7163e",
   "metadata": {},
   "outputs": [],
   "source": [
    "XYTrain = TurbineXandYStacked(dataStacked)\n",
    "XYTest = TurbineXandYStacked(dataStacked_Test)"
   ]
  },
  {
   "cell_type": "code",
   "execution_count": null,
   "id": "b24d4573",
   "metadata": {
    "scrolled": true
   },
   "outputs": [],
   "source": [
    "# %timeit\n",
    "# model,pred = algorithm_pipeline(XYTrain[0], XYTest[0], XYTrain[1],XYTest[1], xgbmodel, \n",
    "#                                  param_grid, cv=5)"
   ]
  },
  {
   "cell_type": "code",
   "execution_count": null,
   "id": "228b8930",
   "metadata": {},
   "outputs": [],
   "source": [
    "XYTrain[0]"
   ]
  },
  {
   "cell_type": "code",
   "execution_count": null,
   "id": "f375033d",
   "metadata": {},
   "outputs": [],
   "source": [
    "XGBoost_testing(dataStacked,dataStacked_Test,xgbmodel)"
   ]
  },
  {
   "cell_type": "code",
   "execution_count": null,
   "id": "7158d247",
   "metadata": {},
   "outputs": [],
   "source": [
    "%%time\n",
    "ConfusionmatrixTrainHighTestLow  = {\n",
    "    \"XGB\": confumatrix_XGB(dataStacked,dataStacked_Test,xgbmodel),\n",
    "}\n",
    "ConfusionmatrixTrainLowTestHigh = {\n",
    "    \"XGB\": confumatrix_XGB(dataStacked_Test,dataStacked,xgbmodel),\n",
    "}"
   ]
  },
  {
   "cell_type": "code",
   "execution_count": null,
   "id": "b1120f8c",
   "metadata": {},
   "outputs": [],
   "source": [
    "X_train = np.array(dataStacked.iloc[:,1:])\n",
    "y_train = dataStacked.iloc[:,0].astype('category') \n",
    "X_test = np.array(dataStacked_Test.iloc[:,1:])\n",
    "y_test = dataStacked_Test.iloc[:,0].astype('category')"
   ]
  },
  {
   "cell_type": "code",
   "execution_count": null,
   "id": "19c6df9e",
   "metadata": {},
   "outputs": [],
   "source": [
    "from hyperopt import hp"
   ]
  },
  {
   "cell_type": "code",
   "execution_count": null,
   "id": "a19764f9",
   "metadata": {},
   "outputs": [],
   "source": [
    "print(hp.quniform('min_child_weight', 0, 10, 1))"
   ]
  },
  {
   "cell_type": "code",
   "execution_count": null,
   "id": "3f963088",
   "metadata": {},
   "outputs": [],
   "source": [
    "space={'max_depth': range(1,9),\n",
    "        'gamma': range( 1,9)\n",
    "        'reg_alpha' : hp.quniform('reg_alpha', 40,180,1),\n",
    "        'reg_lambda' : hp.uniform('reg_lambda', 0,1),\n",
    "        'colsample_bytree' : hp.uniform('colsample_bytree', 0.5,1),\n",
    "        'min_child_weight' : hp.quniform('min_child_weight', 0, 10, 1),\n",
    "        'n_estimators': 180,\n",
    "        'seed': 0\n",
    "    }\n",
    "def objective(space):\n",
    "    clf=xgb.XGBClassifier(\n",
    "                    n_estimators =space['n_estimators'], max_depth = int(space['max_depth']), gamma = space['gamma'],\n",
    "                    reg_alpha = int(space['reg_alpha']),min_child_weight=int(space['min_child_weight']),\n",
    "                    colsample_bytree=int(space['colsample_bytree']))\n",
    "    evaluation = [( X_train, y_train), ( X_test, y_test)]\n",
    "    \n",
    "    clf.fit(X_train, y_train,\n",
    "            eval_set=evaluation, eval_metric=\"auc\",\n",
    "            early_stopping_rounds=10,verbose=False)\n",
    "    \n",
    "\n",
    "    pred = clf.predict(X_test)\n",
    "    accuracy = accuracy_score(y_test, pred>0.5)\n",
    "    print (\"SCORE:\", accuracy)\n",
    "    return {'loss': -accuracy, 'status': STATUS_OK }"
   ]
  },
  {
   "cell_type": "code",
   "execution_count": null,
   "id": "68a97c6e",
   "metadata": {},
   "outputs": [],
   "source": [
    "!pip install hyperopt"
   ]
  },
  {
   "cell_type": "code",
   "execution_count": null,
   "id": "0c558a14",
   "metadata": {},
   "outputs": [],
   "source": [
    "from hyperopt import STATUS_OK, Trials, fmin, hp, tpe\n",
    "# from sklearn.metrics import accuracy_score\n",
    "# trials = Trials()\n",
    "\n",
    "# best_hyperparams = fmin(fn = objective,\n",
    "#                         space = space,\n",
    "#                         algo = tpe.suggest,\n",
    "#                         max_evals = 100,\n",
    "#                         trials = trials)"
   ]
  },
  {
   "cell_type": "code",
   "execution_count": null,
   "id": "b436dcea",
   "metadata": {},
   "outputs": [],
   "source": [
    "print(\"The best hyperparameters are : \",\"\\n\")\n",
    "print(best_hyperparams)"
   ]
  },
  {
   "cell_type": "code",
   "execution_count": null,
   "id": "c8464308",
   "metadata": {},
   "outputs": [],
   "source": [
    "xgbmodel = xgb.XGBClassifier(colsample_bytree =0.8933482492934641,gamma =  2.5369657548237585,max_depth = 8,min_child_weight =4.0,\n",
    "             reg_alpha = 4, reg_lambda =  0.3413754627598761)"
   ]
  },
  {
   "cell_type": "code",
   "execution_count": null,
   "id": "714e1d10",
   "metadata": {},
   "outputs": [],
   "source": [
    "Model_testing_newdata(dataStacked,dataStacked_Test,xgbmodel)"
   ]
  },
  {
   "cell_type": "code",
   "execution_count": null,
   "id": "7a869aa8",
   "metadata": {},
   "outputs": [],
   "source": [
    "confumatrixCDF(dataStacked,dataStacked_Test,xgbmodel)"
   ]
  },
  {
   "cell_type": "markdown",
   "id": "847a9c16",
   "metadata": {},
   "source": [
    "## MultilayerPerceptron"
   ]
  },
  {
   "cell_type": "code",
   "execution_count": null,
   "id": "1292d09c",
   "metadata": {},
   "outputs": [],
   "source": [
    "import tensorflow as tf\n",
    "print(tf.__version__)"
   ]
  },
  {
   "cell_type": "code",
   "execution_count": null,
   "id": "d11e4654",
   "metadata": {},
   "outputs": [],
   "source": [
    "import numpy\n",
    "from tensorflow.keras.models import Sequential\n",
    "from tensorflow.keras.layers import Embedding\n",
    "from tensorflow.keras.preprocessing import sequence\n",
    "from tensorflow.keras.utils import to_categorical\n",
    "from tensorflow.keras.layers import Dense,RNN,LSTM,Activation,Dropout\n",
    "# fix random seed for reproducibility\n",
    "numpy.random.seed(21)\n",
    "from keras.preprocessing.sequence import TimeseriesGenerator"
   ]
  },
  {
   "cell_type": "code",
   "execution_count": null,
   "id": "9d3cca56",
   "metadata": {},
   "outputs": [],
   "source": [
    "from sklearn.neural_network import MLPClassifier\n",
    "mlpclf = MLPClassifier(random_state=21, max_iter=300)\n",
    "# mlpclf.predict_proba(X_test[:1])"
   ]
  },
  {
   "cell_type": "code",
   "execution_count": null,
   "id": "beb49e7e",
   "metadata": {},
   "outputs": [],
   "source": [
    "%%time\n",
    "Model_testing_newdata(dataStacked,dataStacked_Test,mlpclf)"
   ]
  },
  {
   "cell_type": "code",
   "execution_count": null,
   "id": "1e10b167",
   "metadata": {},
   "outputs": [],
   "source": [
    "confumatrixCDF(dataStacked,dataStacked_Test,mlpclf)"
   ]
  },
  {
   "cell_type": "markdown",
   "id": "7f240193",
   "metadata": {},
   "source": [
    "## Predict probability for each model"
   ]
  },
  {
   "cell_type": "code",
   "execution_count": null,
   "id": "1e24b864",
   "metadata": {},
   "outputs": [],
   "source": [
    "models = [log_model,mlpclf]\n",
    "for i in models:\n",
    "Model_testing_newdata_predict_proba(dataStacked,dataStacked_Test,log_model)."
   ]
  },
  {
   "cell_type": "code",
   "execution_count": null,
   "id": "82907102",
   "metadata": {},
   "outputs": [],
   "source": [
    "Model_testing_newdata_predict_proba(dataStacked,dataStacked_Test,log_model)."
   ]
  },
  {
   "cell_type": "code",
   "execution_count": null,
   "id": "74cf05c7",
   "metadata": {},
   "outputs": [],
   "source": [
    "logistic_model = model_eval(log_model,dataStacked)\n",
    "nbmodel = model_eval(gnb,dataStacked)\n",
    "knnmodel = model_eval(neigh,dataStacked)\n",
    "adamodel = model_eval(adaclf,dataStacked)\n",
    "XGBmodel = XGBoost_training(xgbmodel,dataStacked)\n",
    "Mlpmodel = model_eval(mlpclf,dataStacked)"
   ]
  },
  {
   "cell_type": "code",
   "execution_count": null,
   "id": "c158f9a9",
   "metadata": {},
   "outputs": [],
   "source": [
    "modlist = [log_model,gnb,neigh,adaclf,rfclf,xgbmodel,mlpclf]"
   ]
  },
  {
   "cell_type": "code",
   "execution_count": null,
   "id": "63f38672",
   "metadata": {},
   "outputs": [],
   "source": [
    "for i in modlist:\n",
    "    plt.plot(Model_testing_newdata_predict_proba(dataStacked,dataStacked_Test,i))"
   ]
  },
  {
   "cell_type": "markdown",
   "id": "98d29641",
   "metadata": {},
   "source": [
    "## 1D Shallow Neural network"
   ]
  },
  {
   "cell_type": "code",
   "execution_count": null,
   "id": "246c48c1",
   "metadata": {},
   "outputs": [],
   "source": [
    "import keras\n",
    "from keras.models import Sequential\n",
    "from keras.layers import Dense\n",
    "# import autokeras\n",
    "import tensorflow as tf"
   ]
  },
  {
   "cell_type": "code",
   "execution_count": null,
   "id": "2c7ca483",
   "metadata": {},
   "outputs": [],
   "source": [
    "from sklearn.preprocessing import MinMaxScaler\n",
    "from sklearn.preprocessing import StandardScaler\n",
    "from sklearn import preprocessing\n",
    "le = preprocessing.LabelEncoder()\n",
    "scaler = MinMaxScaler()\n",
    "scaler2 = StandardScaler()"
   ]
  },
  {
   "cell_type": "code",
   "execution_count": null,
   "id": "e55e03fa",
   "metadata": {},
   "outputs": [],
   "source": [
    "X  = dataStacked.iloc[:,1:].astype('float32')\n",
    "X1 = scaler.fit_transform(dataStacked.iloc[:,1:])\n",
    "X2 = scaler2.fit_transform(dataStacked.iloc[:,1:])\n",
    "# split into input (X) and output (Y) variables\n",
    "y = dataStacked.iloc[:,0].astype('category')\n",
    "y = le.fit_transform(y)\n",
    "##train test split for the x and y \n",
    "seed = 23\n",
    "test_size = 0.30\n",
    "X_train, X_test, y_train, y_test = train_test_split(X1, y, test_size=test_size, random_state=seed)\n",
    "\n",
    "\n",
    "def create_baseline():\n",
    "    nnmodel = Sequential()\n",
    "    nnmodel.add(Dense(9, input_dim=8, activation='relu'))\n",
    "    nnmodel.add(Dense(1, activation='sigmoid'))\n",
    "    # compile the keras model\n",
    "    nnmodel.compile(loss='binary_crossentropy', optimizer='adam')\n",
    "    return(nnmodel)\n",
    "\n",
    "nnmodel=create_baseline()"
   ]
  },
  {
   "cell_type": "code",
   "execution_count": null,
   "id": "f215c92a",
   "metadata": {},
   "outputs": [],
   "source": [
    "nnmodel.fit(X_train,y_train,epochs = 22,verbose =1,batch_size = 10)"
   ]
  },
  {
   "cell_type": "code",
   "execution_count": null,
   "id": "ae9ce647",
   "metadata": {},
   "outputs": [],
   "source": [
    "# dataset = tf.data.Dataset.from_tensor_slices(X)\n",
    "# dataset2 = tf.data.Dataset.from_tensor_slices(y_train)"
   ]
  },
  {
   "cell_type": "code",
   "execution_count": null,
   "id": "299ad19f",
   "metadata": {},
   "outputs": [],
   "source": [
    "# search = StructuredDataClassifier(max_trials=15)"
   ]
  },
  {
   "cell_type": "code",
   "execution_count": null,
   "id": "1178590c",
   "metadata": {},
   "outputs": [],
   "source": [
    "# X_train1, X_test1, y_train1, y_test1 = train_test_split(X2, y, test_size=test_size, random_state=seed)\n",
    "# search2 = autokeras.StructuredDataClassifier(overwrite=True, max_trials=8, seed=1)\n",
    "# search2.fit(x=X_train1, y=y_train1, verbose=1)"
   ]
  },
  {
   "cell_type": "code",
   "execution_count": null,
   "id": "aa4a39c6",
   "metadata": {},
   "outputs": [],
   "source": [
    "search.fit(x=X_train, y=y_train, verbose=1)"
   ]
  },
  {
   "cell_type": "code",
   "execution_count": null,
   "id": "7a03cb02",
   "metadata": {},
   "outputs": [],
   "source": [
    "search = autokeras.StructuredDataClassifier(overwrite=True, max_trials=8, seed=1)\n",
    "# reg = ak.StructuredDataRegressor(overwrite=True, max_trials=5, seed=1)\n",
    "# perform the search\n",
    "# evaluate the model\n",
    "# loss, acc = search.evaluate(X_test, y_test, verbose=0)\n",
    "# print('Accuracy: %.3f' % acc)"
   ]
  },
  {
   "cell_type": "code",
   "execution_count": null,
   "id": "001f5ab9",
   "metadata": {},
   "outputs": [],
   "source": [
    "# evaluate the model\n",
    "loss, acc = search.evaluate(X_test, y_test, verbose=0)\n",
    "print('Accuracy: %.4f' % acc)\n",
    "print('Loss: %.4f' % loss)"
   ]
  },
  {
   "cell_type": "code",
   "execution_count": null,
   "id": "00e72eab",
   "metadata": {},
   "outputs": [],
   "source": [
    "model = search.export_model()\n",
    "model.summary()"
   ]
  },
  {
   "cell_type": "code",
   "execution_count": null,
   "id": "55cef873",
   "metadata": {},
   "outputs": [],
   "source": [
    "# nnmodel.evaluate(X,y)\n",
    "cm = confusion_matrix(y_test,search.predict(X_test))"
   ]
  },
  {
   "cell_type": "code",
   "execution_count": null,
   "id": "cefe1605",
   "metadata": {},
   "outputs": [],
   "source": [
    "cm1 = confusion_matrix(y_test,nnmodel.predict_classes(X_test))"
   ]
  },
  {
   "cell_type": "code",
   "execution_count": null,
   "id": "637147ca",
   "metadata": {},
   "outputs": [],
   "source": [
    "estimator = KerasClassifier(build_fn=create_baseline, epochs=10, batch_size=5, verbose=0)\n",
    "kfold = StratifiedKFold(n_splits=10, shuffle=True)\n",
    "results = cross_val_score(estimator, X, y, cv=kfold)\n",
    "print(\"Baseline: %.2f%% (%.2f%%)\" % (results.mean()*100, results.std()*100))\n"
   ]
  },
  {
   "cell_type": "code",
   "execution_count": null,
   "id": "5bafd11d",
   "metadata": {},
   "outputs": [],
   "source": [
    " nnmodel.predict_proba(dataStacked.iloc[:,1:].astype(float))"
   ]
  },
  {
   "cell_type": "code",
   "execution_count": null,
   "id": "95676916",
   "metadata": {},
   "outputs": [],
   "source": [
    "cm = confusion_matrix(dataStacked.iloc[:,0].astype('category'), nnmodel.predict(dataStacked.iloc[:,1:].astype(float)))"
   ]
  },
  {
   "cell_type": "code",
   "execution_count": null,
   "id": "76b23632",
   "metadata": {},
   "outputs": [],
   "source": [
    "\n",
    "(dataStacked,dataStacked_Test,nnmodel)"
   ]
  },
  {
   "cell_type": "code",
   "execution_count": null,
   "id": "c1c31d6f",
   "metadata": {},
   "outputs": [],
   "source": [
    "estimator.score(dataStacked_Test.iloc[:,1:],dataStacked_Test.iloc[:,0].astype('category'))"
   ]
  },
  {
   "cell_type": "code",
   "execution_count": null,
   "id": "1b1784c7",
   "metadata": {},
   "outputs": [],
   "source": [
    "#It's a custom function which reshaped the X to serialized (5,5) \n",
    "#Shape of X is  (30000, 5, 5)\n",
    "# Y = to_categorical(y_train,num_classes=2)\n",
    "# model = Sequential()\n",
    "# model.add(LSTM(25,input_shape=(8,8),return_sequences=True))\n",
    "# model.add(Activation('relu'))\n",
    "# model.add(Dropout(0.2))\n",
    "# model.add(LSTM(1))\n",
    "# model.add(Activation('relu'))\n",
    "# model.add(Dense(2))\n",
    "# model.add(Activation('sigmoid'))\n",
    "# model.compile(optimizer='adam',loss='binary_crossentropy',metrics=['accuracy'])\n",
    "# model.fit(X_train.astype('float32'),Y,batch_size=5,epochs=10,validation_split=0.2)\n",
    "# p = model.predict(X_train.astype('float32'))\n",
    "# print(p)"
   ]
  },
  {
   "cell_type": "code",
   "execution_count": null,
   "id": "a2ef5ea8",
   "metadata": {},
   "outputs": [],
   "source": [
    "# Final evaluation of the model\n",
    "# scores = model.evaluate(X_test, y_test, verbose=0)\n",
    "# print(\"Accuracy: %.2f%%\" % (scores[1]*100))"
   ]
  },
  {
   "cell_type": "markdown",
   "id": "5089bff1",
   "metadata": {},
   "source": [
    "## Conclusion "
   ]
  },
  {
   "cell_type": "markdown",
   "id": "3932b2c0",
   "metadata": {},
   "source": [
    "Since we get the result as the High swithcing dataset training gives us a better prediction as compared to the low switching dataset when we combine all burners we conclude that maybe it is not the best to train low performance switching as when we train on low performance switching we get a very High Misclassification on the High swithcing Dataset which shows us that we need to have a High Number of Switch to yield a better result."
   ]
  },
  {
   "cell_type": "markdown",
   "id": "f54d5a58",
   "metadata": {},
   "source": [
    "Thus from this above result we can conclude that we need can concatenate multiple datasets and we can increase the switching and try to Run a Neural network to see how good the estimation with Neural nets is  "
   ]
  },
  {
   "cell_type": "markdown",
   "id": "3215f373",
   "metadata": {},
   "source": [
    "\n",
    "# Adding Extra features\n"
   ]
  },
  {
   "cell_type": "code",
   "execution_count": null,
   "id": "fb4ba1cc",
   "metadata": {},
   "outputs": [],
   "source": [
    "dataStackedDiff = dataStacked.copy(deep=True)\n",
    "dataStackedDiff_Test = dataStacked_Test.copy(deep=True)"
   ]
  },
  {
   "cell_type": "code",
   "execution_count": null,
   "id": "a9661c61",
   "metadata": {},
   "outputs": [],
   "source": [
    "### Train Dataset\n",
    "##Converting to accomodate all the difference in pressure and temperature values to the dataframe \n",
    "ll = ['Ul_PressureDiff','Low_PressureDiff','Med_PressureDiff','High_PressureDiff',\n",
    "#       'SUL_PressureDiff',\n",
    "      'T1Diff','T2Diff','T3Diff']\n",
    "difflist = [dataStackedDiff[i].diff() for i in dataStackedDiff.columns[1:]]\n",
    "for i in range(len(ll)):\n",
    "    dataStackedDiff[ll[i]]  = difflist[i]"
   ]
  },
  {
   "cell_type": "code",
   "execution_count": null,
   "id": "b109819b",
   "metadata": {},
   "outputs": [],
   "source": [
    "### Test Dataset\n",
    "##Converting to accomodate all the difference in pressure and temperature values to the dataframe \n",
    "ll = ['Ul_PressureDiff','Low_PressureDiff','Med_PressureDiff','High_PressureDiff',\n",
    "#       'SUL_PressureDiff',\n",
    "      'T1Diff','T2Diff','T3Diff']\n",
    "difflist_Test = [dataStackedDiff_Test[i].diff() for i in dataStackedDiff_Test.columns[1:]]\n",
    "for i in range(len(ll)):\n",
    "    dataStackedDiff_Test[ll[i]]  = difflist_Test[i]"
   ]
  },
  {
   "cell_type": "code",
   "execution_count": null,
   "id": "fec981d7",
   "metadata": {},
   "outputs": [],
   "source": [
    "dataStackedDiff"
   ]
  },
  {
   "cell_type": "code",
   "execution_count": null,
   "id": "67acc3b8",
   "metadata": {},
   "outputs": [],
   "source": [
    "dataStackedDiff"
   ]
  },
  {
   "cell_type": "code",
   "execution_count": null,
   "id": "fc06eda8",
   "metadata": {},
   "outputs": [],
   "source": [
    "fig,ax = plt.subplots(7,1,figsize=(15,10))\n",
    "for i,j in enumerate(ll):\n",
    "    plt.tight_layout()\n",
    "    ax[i].plot(dataStackedDiff[j])\n",
    "    ax2 = ax[i].twinx()\n",
    "    ax2.plot(dataStackedDiff['BurnerStatus'],color = 'Red')\n",
    "    \n",
    "    ax[i].set_title(j)\n",
    "plt.tight_layout()\n",
    "plt.savefig('NoisyVariables')"
   ]
  },
  {
   "cell_type": "markdown",
   "id": "1e055133",
   "metadata": {},
   "source": [
    "We can drop the T1 T2 and T3 difference as there is a spike in between the On/Off region."
   ]
  },
  {
   "cell_type": "code",
   "execution_count": null,
   "id": "9e11b950",
   "metadata": {},
   "outputs": [],
   "source": [
    "###Remove the first row of both the data frames as there are NA values\n",
    "dataStackedDiff.drop(index=dataStackedDiff.index[0], \n",
    "        axis=0, \n",
    "        inplace=True)\n",
    "\n",
    "dataStackedDiff_Test.drop(index=dataStackedDiff_Test.index[0], \n",
    "        axis=0, \n",
    "        inplace=True)"
   ]
  },
  {
   "cell_type": "code",
   "execution_count": null,
   "id": "f3a59585",
   "metadata": {},
   "outputs": [],
   "source": [
    "### Remove T1 T2 and T3\n",
    "\n",
    "dataStackedDiff_No_Temp_UL = dataStackedDiff.drop(['T1Diff','T2Diff','T3Diff',\n",
    "#                                                    'SUL_PressureDiff',\n",
    "#                                                    'Ul_PressureDiff',\n",
    "                                                   'Low_PressureDiff'\n",
    "                                                  ],axis =1)\n",
    "### Remove T1 T2 and T3\n",
    "dataStackedDiff_No_Temp_UL_Test = dataStackedDiff_Test.drop(['T1Diff','T2Diff','T3Diff',\n",
    "#                                                              'SUL_PressureDiff',\n",
    "#                                                              'Ul_PressureDiff',\n",
    "                                                             'Low_PressureDiff'\n",
    "                                                            ],axis =1)"
   ]
  },
  {
   "cell_type": "markdown",
   "id": "6f71425a",
   "metadata": {},
   "source": [
    "## Logistic Regression PressureDiff"
   ]
  },
  {
   "cell_type": "code",
   "execution_count": null,
   "id": "6a433733",
   "metadata": {},
   "outputs": [],
   "source": [
    "LogitTest_With_PTdiffReadings = Model_testing_newdata(dataStackedDiff,dataStackedDiff_Test,log_model)"
   ]
  },
  {
   "cell_type": "code",
   "execution_count": null,
   "id": "bb653401",
   "metadata": {},
   "outputs": [],
   "source": [
    "LogitTest_With_PTdiffReadings = Model_testing_newdata(dataStackedDiff_No_Temp_UL,dataStackedDiff_No_Temp_UL_Test,log_model)"
   ]
  },
  {
   "cell_type": "code",
   "execution_count": null,
   "id": "6f747384",
   "metadata": {},
   "outputs": [],
   "source": [
    "%%time\n",
    "##Scaled \n",
    "LogitTest_With_PTdiffReadings_MinMax = Model_testing_newdata(dataStacked,dataStacked_Test,log_model,S = True, MS = 'Minmax')"
   ]
  },
  {
   "cell_type": "code",
   "execution_count": null,
   "id": "fa734159",
   "metadata": {},
   "outputs": [],
   "source": [
    "confumatrixCDF(dataStacked,dataStacked_Test,log_model)"
   ]
  },
  {
   "cell_type": "code",
   "execution_count": null,
   "id": "9149c59d",
   "metadata": {},
   "outputs": [],
   "source": [
    "confumatrixCDF(dataStackedDiff,dataStackedDiff_Test,log_model)"
   ]
  },
  {
   "cell_type": "markdown",
   "id": "d1c0451c",
   "metadata": {},
   "source": [
    " Here scaling is not a good idea and the reason the performance post scaling is lower is because there the differential values taken have no units of measure and are very low as compared to the other values which have a significant difference in values as compared to the other values.\n",
    "Hence, this seems to be doing well when we consider the unscaled values as compared to that of the scaled values."
   ]
  },
  {
   "cell_type": "markdown",
   "id": "ebbf4b9d",
   "metadata": {},
   "source": [
    "## XGBoost Differerntial pressure"
   ]
  },
  {
   "cell_type": "code",
   "execution_count": null,
   "id": "5a9e2cc2",
   "metadata": {},
   "outputs": [],
   "source": [
    "%%time\n",
    "XGBoost_testing(dataStacked,dataStacked_Test,xgbmodel)"
   ]
  },
  {
   "cell_type": "code",
   "execution_count": null,
   "id": "9ec338bd",
   "metadata": {},
   "outputs": [],
   "source": [
    "XGB_result"
   ]
  },
  {
   "cell_type": "code",
   "execution_count": null,
   "id": "c21d9cd3",
   "metadata": {},
   "outputs": [],
   "source": [
    "%%time\n",
    "xgbmodel2 = xgb.XGBClassifier(max_depth = 20)\n",
    "XGB_result=XGBoost_testing(dataStackedDiff,dataStackedDiff_Test,xgbmodel2)"
   ]
  },
  {
   "cell_type": "code",
   "execution_count": null,
   "id": "a69e95d2",
   "metadata": {},
   "outputs": [],
   "source": [
    "%%time\n",
    "ConfusionmatrixTrainHighTestLow  = {\n",
    "    \"XGB\": confumatrix_XGB(dataStackedDiff,dataStackedDiff_Test,xgbmodel2),\n",
    "}\n",
    "# ConfusionmatrixTrainLowTestHigh = {\n",
    "#     \"XGB\": confumatrix_XGB(dataStackedDiff_Test,dataStackedDiff,xgbmodel),\n",
    "# }"
   ]
  },
  {
   "cell_type": "markdown",
   "id": "e7f98ce6",
   "metadata": {},
   "source": [
    "Here we see that after using the difference of the values we get a reduced accuracy overall but we inturn get an see a decrease in the number of FN and an increase in the Number of FP values.\n",
    "The FN is a bit more penalised than the FP so hence our main aim would be a reductionin the FP values."
   ]
  },
  {
   "cell_type": "markdown",
   "id": "145f370f",
   "metadata": {},
   "source": [
    "Random Forest works by bagging decision trees and a several number of bagged trees are used to come up with a decision as to whether the given value is 1 or 0.\n"
   ]
  },
  {
   "cell_type": "markdown",
   "id": "5a7c6b89",
   "metadata": {},
   "source": [
    "## KNN Differential Pressure "
   ]
  },
  {
   "cell_type": "code",
   "execution_count": null,
   "id": "425829ae",
   "metadata": {},
   "outputs": [],
   "source": [
    "%%time\n",
    "ConfusionmatrixTrainHighTestLow  = {\n",
    "    \"KNN\": confumatrixCDF(dataStacked,dataStacked_Test,neigh),\n",
    "}\n",
    "# ConfusionmatrixTrainLowTestHigh = {\n",
    "#     \"KNN\": confumatrixCDF(dataStacked_Test,dataStacked,neigh),\n",
    "# }"
   ]
  },
  {
   "cell_type": "code",
   "execution_count": null,
   "id": "4567f636",
   "metadata": {},
   "outputs": [],
   "source": [
    "confumatrixCDF(dataStackedDiff,dataStackedDiff_Test,neigh)"
   ]
  },
  {
   "cell_type": "markdown",
   "id": "137aebfd",
   "metadata": {},
   "source": [
    "## GaussianNB Differential Pressure"
   ]
  },
  {
   "cell_type": "code",
   "execution_count": null,
   "id": "fe132271",
   "metadata": {},
   "outputs": [],
   "source": [
    "%%time\n",
    "Model_testing_newdata(dataStackedDiff,dataStackedDiff_Test,gnb)"
   ]
  },
  {
   "cell_type": "code",
   "execution_count": null,
   "id": "ef3ce392",
   "metadata": {},
   "outputs": [],
   "source": [
    "confumatrixCDF(dataStackedDiff,dataStackedDiff_Test,gnb)"
   ]
  },
  {
   "cell_type": "markdown",
   "id": "c0261270",
   "metadata": {},
   "source": [
    "## AdaBoost Differential Pressure"
   ]
  },
  {
   "cell_type": "code",
   "execution_count": null,
   "id": "5981d647",
   "metadata": {},
   "outputs": [],
   "source": [
    "%%time\n",
    "Model_testing_newdata(dataStackedDiff,dataStackedDiff_Test,adaclf)"
   ]
  },
  {
   "cell_type": "code",
   "execution_count": null,
   "id": "f07b9208",
   "metadata": {},
   "outputs": [],
   "source": [
    "confumatrixCDF(dataStackedDiff,dataStackedDiff_Test,adaclf)"
   ]
  },
  {
   "cell_type": "markdown",
   "id": "e4ada232",
   "metadata": {},
   "source": [
    "## MultiLayer Perceptron Differential Pressure"
   ]
  },
  {
   "cell_type": "code",
   "execution_count": null,
   "id": "719cafdc",
   "metadata": {},
   "outputs": [],
   "source": [
    "%%time\n",
    "Model_testing_newdata(dataStackedDiff,dataStackedDiff_Test,mlpclf)"
   ]
  },
  {
   "cell_type": "code",
   "execution_count": null,
   "id": "4694989c",
   "metadata": {},
   "outputs": [],
   "source": [
    "confumatrixCDF(dataStackedDiff,dataStackedDiff_Test,mlpclf)"
   ]
  },
  {
   "cell_type": "markdown",
   "id": "24259d4d",
   "metadata": {},
   "source": [
    "We observe that using MLP on the dataset with the differential values gives a lesser number of FN valuse by almost half but it has increased the Number of FP Values from 2 to 16.Most of the FP values are observed in turbine 1 befroe the True Switch off status from 1 to 0."
   ]
  },
  {
   "cell_type": "code",
   "execution_count": null,
   "id": "892dc09e",
   "metadata": {},
   "outputs": [],
   "source": [
    "tf = TrueandFalseY_CheckIndex(dataStacked,dataStacked_Test,neigh)"
   ]
  },
  {
   "cell_type": "code",
   "execution_count": null,
   "id": "2d8d75da",
   "metadata": {},
   "outputs": [],
   "source": [
    "tf"
   ]
  },
  {
   "cell_type": "code",
   "execution_count": null,
   "id": "7b6956b7",
   "metadata": {},
   "outputs": [],
   "source": [
    "def Model_training(model,data):\n",
    "        X = np.array(data.iloc[:,1:])\n",
    "        y = data.iloc[:,0].astype('category')\n",
    "        model.fit(X,y)\n",
    "        return(model)\n",
    "    \n",
    "xgmodel = Model_training(xgbmodel,dataStacked)"
   ]
  },
  {
   "cell_type": "code",
   "execution_count": null,
   "id": "00861f4a",
   "metadata": {},
   "outputs": [],
   "source": [
    "plotdata = xgbmodel.predict(np.asarray(dataStacked_Test.iloc[:,1:]))"
   ]
  },
  {
   "cell_type": "code",
   "execution_count": null,
   "id": "18ab1b3d",
   "metadata": {},
   "outputs": [],
   "source": [
    "plotdata[12390:12400]"
   ]
  },
  {
   "cell_type": "code",
   "execution_count": null,
   "id": "32f69fe6",
   "metadata": {},
   "outputs": [],
   "source": [
    "plt.plot(dataStacked_Test.loc[4070:4080,'BurnerStatus'])\n",
    "plt.plot(pd.DataFrame(plotdata).iloc[4070:4080])"
   ]
  },
  {
   "cell_type": "code",
   "execution_count": null,
   "id": "c94f5885",
   "metadata": {},
   "outputs": [],
   "source": [
    "dataStacked_Test.loc[12390:12400,'BurnerStatus']"
   ]
  },
  {
   "cell_type": "code",
   "execution_count": null,
   "id": "5b309473",
   "metadata": {},
   "outputs": [],
   "source": [
    "pd.DataFrame(plotdata).iloc[12390:12400]"
   ]
  },
  {
   "cell_type": "code",
   "execution_count": null,
   "id": "35b0502a",
   "metadata": {},
   "outputs": [],
   "source": [
    "plt.plot(dataStacked_Test.loc[12390:12400,'BurnerStatus'])\n",
    "plt.plot(pd.DataFrame(plotdata).iloc[12390:12400])"
   ]
  },
  {
   "cell_type": "code",
   "execution_count": null,
   "id": "4e1d1631",
   "metadata": {},
   "outputs": [],
   "source": [
    "plt.plot(xgmodel.predict(np.asarray(dataStacked_Test.iloc[4070:4080,1:])))"
   ]
  },
  {
   "cell_type": "code",
   "execution_count": null,
   "id": "3d3a90aa",
   "metadata": {},
   "outputs": [],
   "source": [
    "plt.plot(dataStacked.loc[4070:4080,'BurnerStatus'])"
   ]
  },
  {
   "cell_type": "code",
   "execution_count": null,
   "id": "2b58e136",
   "metadata": {},
   "outputs": [],
   "source": [
    "dataStacked.iloc[4078,:]"
   ]
  },
  {
   "cell_type": "markdown",
   "id": "7dd1e764",
   "metadata": {},
   "source": [
    "## Evaluate with individual turbines in Balanced dataset trained on unbalanced dataset"
   ]
  },
  {
   "cell_type": "code",
   "execution_count": null,
   "id": "fbd0381c",
   "metadata": {},
   "outputs": [],
   "source": [
    "def model_eval(model = log_model,data = dataStacked,data2 = dataPT):\n",
    "    X = data.iloc[:,1:]\n",
    "    y = data.iloc[:,0].astype('category')\n",
    "    model.fit(X,y)\n",
    "    Burnerlist = []\n",
    "    scorelist = []\n",
    "    for i in data2:\n",
    "        X = i.iloc[:,1:]\n",
    "        y = i.iloc[:,0].astype('category')\n",
    "        model_pred = model.predict(X)\n",
    "        Burnerlist.append(model_pred)\n",
    "        scorelist.append(model.score(X,y))\n",
    "    return(scorelist)\n",
    "\n",
    "def model_eval(model,data):\n",
    "    X = data.iloc[:,1:].astype('float')\n",
    "    y = data.iloc[:,0].astype('category')\n",
    "    model.fit(X,y)\n",
    "    return(model)"
   ]
  },
  {
   "cell_type": "markdown",
   "id": "e178d4f9",
   "metadata": {},
   "source": [
    "## Final Results "
   ]
  },
  {
   "cell_type": "code",
   "execution_count": null,
   "id": "074b507d",
   "metadata": {},
   "outputs": [],
   "source": [
    "log_model = model_eval(log_m,dataStacked)\n",
    "knnmodel =model_eval(neigh,dataStacked)\n",
    "svmmodel = model_eval(svclf,dataStacked)\n",
    "rfmodel=model_eval(rfclf,dataStacked)\n",
    "XGBmodel = model_eval(xgbmodel,dataStacked)"
   ]
  },
  {
   "cell_type": "code",
   "execution_count": null,
   "id": "22058332",
   "metadata": {},
   "outputs": [],
   "source": [
    "# logistic_model = model_eval(log_model,dataStacked)\n",
    "# nbmodel = model_eval(gnb,dataStacked)\n",
    "# knnmodel = model_eval(neigh,dataStacked)\n",
    "# adamodel = model_eval(adaclf,dataStacked)\n",
    "# XGBmodel = XGBoost_training(xgbmodel,dataStacked)\n",
    "# Mlpmodel = model_eval(mlpclf,dataStacked)"
   ]
  },
  {
   "cell_type": "code",
   "execution_count": null,
   "id": "0b9b1f1c",
   "metadata": {},
   "outputs": [],
   "source": [
    "# logistic_model_2 = model_eval(log_model,dataStacked)\n",
    "# nbmodel_2 = model_eval(gnb,dataStacked)\n",
    "# knnmodel_2 = model_eval(neigh,dataStacked)\n",
    "# adamodel_2 = model_eval(adaclf,dataStacked)\n",
    "# XGBmodel_2 = XGBoost_training(xgbmodel,dataStacked)\n",
    "# Mlpmodel_2 = model_eval(mlpclf,dataStacked)"
   ]
  },
  {
   "cell_type": "code",
   "execution_count": null,
   "id": "c2845f02",
   "metadata": {},
   "outputs": [],
   "source": [
    "plotconfusiongridXGB(dataPT_Test,log_m)"
   ]
  },
  {
   "cell_type": "code",
   "execution_count": null,
   "id": "b2d224f9",
   "metadata": {},
   "outputs": [],
   "source": [
    "modellist = [logistic_model,nbmodel,knnmodel,adamodel,Mlpmodel]\n",
    "for i in modellist:\n",
    "    print(i)\n",
    "    plotconfusiongrid(dataPT_Test,i)\n",
    "    plt.tight_layout()\n",
    "    plt.savefig('123')\n",
    "    "
   ]
  },
  {
   "cell_type": "code",
   "execution_count": null,
   "id": "554142d1",
   "metadata": {},
   "outputs": [],
   "source": [
    "plotconfusiongridXGB(dataPT_Test,xgbmodel)"
   ]
  },
  {
   "cell_type": "markdown",
   "id": "ddab0920",
   "metadata": {},
   "source": [
    "# Testing on different dataframes"
   ]
  },
  {
   "cell_type": "markdown",
   "id": "35c978ed",
   "metadata": {},
   "source": [
    "We will be choosing only the datasets 1,6,9 and 11 as they have the highest numeber of switching from 0 to 1.\n"
   ]
  },
  {
   "cell_type": "code",
   "execution_count": null,
   "id": "4124af4f",
   "metadata": {},
   "outputs": [],
   "source": [
    "def WholeTurbinePreprocess(df):\n",
    "    df_c = df.copy(deep=True)\n",
    "    df_c.columns = df_c.columns + '_'+df_c.iloc[0,:]+ '_'+df_c.iloc[1,:]\n",
    "    #drop the date\n",
    "    SGT750 = df_c.iloc[2:,:]\n",
    "    #Change the index to sequence\n",
    "    SGT750.index = range(1,SGT750.shape[0]+1)\n",
    "#     check na values\n",
    "    nalist  = [x for x in SGT750.isna().sum() if x>0]\n",
    "    if not(nalist):\n",
    "        print(\"No na values\")\n",
    "    else:\n",
    "    #drop na values\n",
    "        SGT750 = SGT750.dropna()\n",
    "    return(SGT750)"
   ]
  },
  {
   "cell_type": "code",
   "execution_count": null,
   "id": "bcc8a8f1",
   "metadata": {},
   "outputs": [],
   "source": [
    "##Different Data for testing \n",
    "Datalist  = [\n",
    "#             'C:\\\\Users\\\\z004csar\\\\Thesis_Project\\\\Data-Siemens\\\\SGT-750_Data\\\\Data to train\\\\Gazli-2_750_20210701_Provskott3_2.xlsx',\n",
    "            'C:\\\\Users\\\\z004csar\\\\Thesis_Project\\\\Data-Siemens\\\\SGT-750_Data\\\\Data to train\\\\SGT-750, Gazli-2_20210629_Provskott-1_MoreVariables.xlsx',\n",
    "            'C:\\\\Users\\\\z004csar\\\\Thesis_Project\\\\Data-Siemens\\\\SGT-750_Data\\\\Data to train\\\\SGT-750, CastbergSpare_2021112_Provskott-2.xlsx',\n",
    "            'C:\\\\Users\\\\z004csar\\\\Thesis_Project\\\\Data-Siemens\\\\SGT-750_Data\\\\Data to train\\\\SGT-750, Chimei-1_20210906_Kundprov.xlsx',\n",
    "            'C:\\\\Users\\\\z004csar\\\\Thesis_Project\\\\Data-Siemens\\\\SGT-750_Data\\\\Data to train\\\\SGT-750, Chimei-1_20210903_Provskott-2.xlsx',\n",
    "            'C:\\\\Users\\\\z004csar\\\\Thesis_Project\\\\Data-Siemens\\\\SGT-750_Data\\\\Data to train\\\\SGT-750, Chimei-1_20210902_Provskott-1.xlsx',\n",
    "            'C:\\\\Users\\\\z004csar\\\\Thesis_Project\\\\Data-Siemens\\\\SGT-750_Data\\\\Data to train\\\\SGT-750, Gazli-2_20210705_Kundprov.xlsx',\n",
    "            'C:\\\\Users\\\\z004csar\\\\Thesis_Project\\\\Data-Siemens\\\\SGT-750_Data\\\\Data to train\\\\SGT-750, Gazli-2_20210701_Provskott-3.xlsx',\n",
    "            'C:\\\\Users\\\\z004csar\\\\Thesis_Project\\\\Data-Siemens\\\\SGT-750_Data\\\\Data to train\\\\SGT-750, Gazli-2_20210630_Provskott-2.xlsx',\n",
    "            'C:\\\\Users\\\\z004csar\\\\Thesis_Project\\\\Data-Siemens\\\\SGT-750_Data\\\\Data to train\\\\SGT-750, Gazli-2_20210629_Provskott-1.xlsx',\n",
    "            'C:\\\\Users\\\\z004csar\\\\Thesis_Project\\\\Data-Siemens\\\\SGT-750_Data\\\\Data to train\\\\SGT-750, Gazli-1_20210618_Kundprov.xlsx',\n",
    "            'C:\\\\Users\\\\z004csar\\\\Thesis_Project\\\\Data-Siemens\\\\SGT-750_Data\\\\Data to train\\\\SGT-750, Gazli-1_20210617_Provskott.xlsx',\n",
    "            'C:\\\\Users\\\\z004csar\\\\Thesis_Project\\\\Data-Siemens\\\\SGT-750_Data\\\\Data to train\\\\SGT-750, Pipestone_20200605_Förbränningsverifering.xlsx',\n",
    "            'C:\\\\Users\\\\z004csar\\\\Thesis_Project\\\\Data-Siemens\\\\SGT-750_Data\\\\Data to train\\\\SGT-750, Pipestone_20200601_Startprover.xlsx',\n",
    "            'C:\\\\Users\\\\z004csar\\\\Thesis_Project\\\\Data-Siemens\\\\SGT-750_Data\\\\Data to train\\\\SGT-750, Pipestone_20200528_Kundprov.xlsx',        \n",
    "            'C:\\\\Users\\\\z004csar\\\\Thesis_Project\\\\Data-Siemens\\\\SGT-750_Data\\\\Data to train\\\\SGT-750, Pipestone_20200529_Provskott.xlsx'\n",
    "                ]"
   ]
  },
  {
   "cell_type": "code",
   "execution_count": null,
   "id": "7255c2dd",
   "metadata": {},
   "outputs": [],
   "source": [
    "Datadic = {}\n",
    "with warnings.catch_warnings(record=True):\n",
    "    warnings.simplefilter(\"always\")\n",
    "    for i in range(len(Datalist)):\n",
    "        Datadic[i] = pd.read_excel(Datalist[i],engine=\"openpyxl\",index_col=0)"
   ]
  },
  {
   "cell_type": "code",
   "execution_count": null,
   "id": "e7972e06",
   "metadata": {},
   "outputs": [],
   "source": [
    "##Produces a dictionary of dataframes which are preprocessed and values not taken out\n",
    "dataPTdic = {}\n",
    "for i in range(len(Datadic)):\n",
    "    dataPTdic[i] = preprocess_combineburner_T_P_sans_SP(Datadic[i])\n",
    "# dataPT = preprocess_indiv_burner_PTET(Gazli20210618Balanced)"
   ]
  },
  {
   "cell_type": "code",
   "execution_count": null,
   "id": "0dcebdee",
   "metadata": {},
   "outputs": [],
   "source": [
    "dataPTdic[0]"
   ]
  },
  {
   "cell_type": "code",
   "execution_count": null,
   "id": "e7e7b81b",
   "metadata": {},
   "outputs": [],
   "source": [
    "fig,ax = plt.subplots(len(Datadic),1,figsize=(10,20))\n",
    "for i in dataPTdic:\n",
    "    plt.tight_layout()\n",
    "    ax[i].plot(dataPTdic[i]['MBM10CQ005_XE01_Burner 1 Flame_on/off'])\n",
    "#     ax2 = ax[i].twinx()\n",
    "#     ax2.plot(dataStackedDiff['BurnerStatus'],color = 'Red')\n",
    "    ax[i].set_title(i)\n",
    "plt.tight_layout()\n",
    "# plt.savefig('Datasetstotake')"
   ]
  },
  {
   "cell_type": "code",
   "execution_count": null,
   "id": "34f9d66e",
   "metadata": {},
   "outputs": [],
   "source": [
    "logistic_model = model_eval(log_model,dataStacked)\n",
    "nbmodel = model_eval(gnb,dataStacked)\n",
    "knnmodel = model_eval(neigh,dataStacked)\n",
    "adamodel = model_eval(adaclf,dataStacked)\n",
    "XGBmodel = XGBoost_training(xgbmodel,dataStacked)\n",
    "Mlpmodel = model_eval(mlpclf,dataStacked)"
   ]
  },
  {
   "cell_type": "code",
   "execution_count": null,
   "id": "c9206dfb",
   "metadata": {},
   "outputs": [],
   "source": [
    "dataPTdic[0][0]"
   ]
  },
  {
   "cell_type": "code",
   "execution_count": null,
   "id": "ab8e2005",
   "metadata": {},
   "outputs": [],
   "source": [
    "dataPTdic[0]"
   ]
  },
  {
   "cell_type": "code",
   "execution_count": null,
   "id": "6945f0a9",
   "metadata": {},
   "outputs": [],
   "source": [
    "modellist = [logistic_model_2,nbmodel_2,knnmodel_2,adamodel_2,Mlpmodel_2]\n",
    "for i in modellist:\n",
    "    print(i)\n",
    "    plotconfusiongrid(dataPTdic,i)\n",
    "    plt.tight_layout()\n",
    "    plt.savefig('123')\n",
    "    "
   ]
  },
  {
   "cell_type": "code",
   "execution_count": null,
   "id": "1b6ebe3b",
   "metadata": {},
   "outputs": [],
   "source": [
    "dataPTdic"
   ]
  },
  {
   "cell_type": "code",
   "execution_count": null,
   "id": "94399ffc",
   "metadata": {},
   "outputs": [],
   "source": [
    "dataPTdic[0].iloc[:,0]"
   ]
  },
  {
   "cell_type": "code",
   "execution_count": null,
   "id": "f07345c0",
   "metadata": {},
   "outputs": [],
   "source": [
    "dataPTdic[0]"
   ]
  },
  {
   "cell_type": "code",
   "execution_count": null,
   "id": "db2dad52",
   "metadata": {},
   "outputs": [],
   "source": [
    "plotconfusiongridXGB(dataPTdic,XGBmodel)    "
   ]
  },
  {
   "cell_type": "code",
   "execution_count": null,
   "id": "b091e838",
   "metadata": {},
   "outputs": [],
   "source": [
    "plotconfusiongrid(dataPTdic[1],XGBmodel)    "
   ]
  },
  {
   "cell_type": "code",
   "execution_count": null,
   "id": "d8b25da2",
   "metadata": {},
   "outputs": [],
   "source": [
    "plotconfusiongridXGB(dataPTdic[2],XGBmodel)    "
   ]
  },
  {
   "cell_type": "code",
   "execution_count": null,
   "id": "febf6b2e",
   "metadata": {},
   "outputs": [],
   "source": [
    "plotconfusiongridXGB(dataPTdic[3],XGBmodel)    "
   ]
  },
  {
   "cell_type": "code",
   "execution_count": null,
   "id": "eb22f979",
   "metadata": {},
   "outputs": [],
   "source": [
    "data_points = np.random.normal(0, 1, 100)"
   ]
  },
  {
   "cell_type": "code",
   "execution_count": null,
   "id": "ec3e81d7",
   "metadata": {},
   "outputs": [],
   "source": [
    "data_points"
   ]
  },
  {
   "cell_type": "code",
   "execution_count": null,
   "id": "fe0751fa",
   "metadata": {},
   "outputs": [],
   "source": [
    "import statsmodels.api as sm\n",
    "sm.qqplot(dataStacked.iloc[:,1:], line ='45')\n",
    "sm.qqplot(dataStacked.iloc[:,], line ='45')\n",
    "plt.show()"
   ]
  },
  {
   "cell_type": "code",
   "execution_count": null,
   "id": "259f22a0",
   "metadata": {},
   "outputs": [],
   "source": [
    "dataDic"
   ]
  },
  {
   "cell_type": "code",
   "execution_count": null,
   "id": "e391435e",
   "metadata": {},
   "outputs": [],
   "source": []
  }
 ],
 "metadata": {
  "kernelspec": {
   "display_name": "Python 3",
   "language": "python",
   "name": "python3"
  },
  "language_info": {
   "codemirror_mode": {
    "name": "ipython",
    "version": 3
   },
   "file_extension": ".py",
   "mimetype": "text/x-python",
   "name": "python",
   "nbconvert_exporter": "python",
   "pygments_lexer": "ipython3",
   "version": "3.8.8"
  }
 },
 "nbformat": 4,
 "nbformat_minor": 5
}
