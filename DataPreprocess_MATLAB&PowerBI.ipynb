{
 "cells": [
  {
   "cell_type": "markdown",
   "id": "9fbf89ae",
   "metadata": {},
   "source": [
    "## Data_Generation_for_Visualisation and importing to MATLAB"
   ]
  },
  {
   "cell_type": "code",
   "execution_count": 130,
   "id": "3a6373f4",
   "metadata": {},
   "outputs": [],
   "source": [
    "import pandas as pd\n",
    "import matplotlib.pyplot as plt"
   ]
  },
  {
   "cell_type": "code",
   "execution_count": 133,
   "id": "c4a6e23d",
   "metadata": {},
   "outputs": [],
   "source": [
    "\n",
    "##Preprocessing functions - Combining the first 3 rows to make the column name and dropping na values\n",
    "\n",
    "\n",
    "def df_preprocess(df):\n",
    "    \n",
    "    df_c = df.copy(deep=True)\n",
    "    df_c.columns = df_c.columns + '_'+df_c.iloc[0,:]+ '_'+df_c.iloc[1,:]\n",
    "    #drop the date\n",
    "    SGT750 = df_c.iloc[2:,:]\n",
    "    #Change the index to sequence\n",
    "    SGT750.index = range(SGT750.shape[0])\n",
    "    #check na values\n",
    "    nalist  = [x for x in SGT750.isna().sum() if x>0]  \n",
    "    if not(nalist):\n",
    "        print(\"No na values\")\n",
    "    else:\n",
    "    #drop na values\n",
    "        SGT750 = SGT750.dropna()\n",
    "#         SGT750.reset_index(inplace = True)\n",
    "        \n",
    "    #Drop bleed valves\n",
    "    SGT750_Balance = SGT750.iloc[:,:-3]\n",
    "    return(SGT750_Balance)\n",
    "\n",
    "\n",
    "##Dataframe with Bleed valves\n",
    "\n",
    "def df_preprocess_bleed(df):\n",
    "    \n",
    "    df_c = df.copy(deep=True)\n",
    "    df_c.columns = df_c.columns + '_'+df_c.iloc[0,:]+ '_'+df_c.iloc[1,:]\n",
    "    #drop the date\n",
    "    SGT750 = df_c.iloc[2:,:]\n",
    "    #Change the index to sequence\n",
    "    SGT750.index = range(SGT750.shape[0])\n",
    "    #check na values\n",
    "    nalist  = [x for x in SGT750.isna().sum() if x>0]  \n",
    "    if not(nalist):\n",
    "        print(\"No na values\")\n",
    "    else:\n",
    "    #drop na values\n",
    "        SGT750 = SGT750.dropna()\n",
    "#         SGT750.reset_index(inplace = True)\n",
    "#         SGT750.set_index([0])\n",
    "    #Drop bleed valves\n",
    "#     SGT750_Balance = SGT750.iloc[:,:-3]\n",
    "    return(SGT750)"
   ]
  },
  {
   "cell_type": "code",
   "execution_count": 15,
   "id": "aa796ba7",
   "metadata": {},
   "outputs": [
    {
     "name": "stderr",
     "output_type": "stream",
     "text": [
      "C:\\Users\\z004csar\\Anaconda3\\lib\\site-packages\\openpyxl\\styles\\stylesheet.py:221: UserWarning: Workbook contains no default style, apply openpyxl's default\n",
      "  warn(\"Workbook contains no default style, apply openpyxl's default\")\n"
     ]
    }
   ],
   "source": [
    "SGT750_90005 = pd.read_excel ('SGT-750\\\\SGT-750_TestFiles\\\\SGT-750 DD090005.xlsx',engine=\"openpyxl\",index_col=0)\n",
    "SGT750_90006 = pd.read_excel ('SGT-750\\\\SGT-750_TestFiles\\\\SGT-750 DD090006.xlsx',engine=\"openpyxl\",index_col=0)\n",
    "SGT750_90007 = pd.read_excel ('SGT-750\\\\SGT-750_TestFiles\\\\SGT-750 DD090007.xlsx',engine=\"openpyxl\",index_col=0)"
   ]
  },
  {
   "cell_type": "code",
   "execution_count": 135,
   "id": "e502c628",
   "metadata": {},
   "outputs": [
    {
     "name": "stdout",
     "output_type": "stream",
     "text": [
      "No na values\n",
      "No na values\n"
     ]
    }
   ],
   "source": [
    "### Write to local disk\n",
    "\n",
    "df_preprocess(SGT750_90005).to_excel('SGT-750_Data\\\\CleanDataforMATLAB&PowerBI\\\\SGT750_90005.xlsx')\n",
    "df_preprocess(SGT750_90006).to_excel('SGT-750_Data\\\\CleanDataforMATLAB&PowerBI\\\\SGT750_90006.xlsx')\n",
    "df_preprocess(SGT750_90007).to_excel('SGT-750_Data\\\\CleanDataforMATLAB&PowerBI\\\\SGT750_90007.xlsx')"
   ]
  },
  {
   "cell_type": "code",
   "execution_count": 136,
   "id": "ae14849d",
   "metadata": {},
   "outputs": [],
   "source": [
    "# Data_preprocess_Bleed\n",
    "\n",
    "SGT750_90006_bleed = df_preprocess_bleed(SGT750_90006)\n",
    "SGT750_90006_bleed.to_excel('SGT-750_Data\\\\Visualization files\\\\SGT750_90006_bleed.xlsx')"
   ]
  },
  {
   "cell_type": "markdown",
   "id": "c0aa9c6c",
   "metadata": {},
   "source": [
    "### Trying to fit the distribution to check the type of ditribution each of them follow\n",
    "\n",
    "Why are we fitting distribution over a variable?<br>\n",
    "We are fitting a distribution over a variable because it lets us know what kind of distroibution it follows as many of the machine klearning alfogrithms follow an assumption of the distribution.\n",
    "\n",
    "What are the distributions we are using?<br>\n",
    "The Package that we arte usign right now has around 80 distributions and is goin to give us which distribution fits the best and which gives the best results as in which hyperparameters to take and which parameters can we get from this."
   ]
  },
  {
   "cell_type": "code",
   "execution_count": 137,
   "id": "24fce8fc",
   "metadata": {},
   "outputs": [
    {
     "name": "stdout",
     "output_type": "stream",
     "text": [
      "p value for norm = 0.0\n",
      "p value for exponweib = 0.0\n",
      "p value for weibull_max = 0.0\n",
      "p value for weibull_min = 0.0\n",
      "p value for pareto = 0.0\n",
      "p value for genextreme = 0.0\n"
     ]
    },
    {
     "name": "stderr",
     "output_type": "stream",
     "text": [
      "C:\\Users\\z004csar\\Anaconda3\\lib\\site-packages\\scipy\\stats\\_continuous_distns.py:4530: IntegrationWarning: The integral is probably divergent, or slowly convergent.\n",
      "  intg = integrate.quad(f, -xi, np.pi/2, **intg_kwargs)[0]\n"
     ]
    },
    {
     "name": "stdout",
     "output_type": "stream",
     "text": [
      "p value for burr = 2.0817219221796935e-297\n",
      "p value for beta = 0.0\n",
      "Best fitting distribution: burr\n",
      "Best p value: 2.0817219221796935e-297\n",
      "Parameters for the best fit: (96.12565827181066, 0.048775750312674324, -19.358832839970855, 39.571290201192724)\n"
     ]
    },
    {
     "data": {
      "text/plain": [
       "('burr',\n",
       " 2.0817219221796935e-297,\n",
       " (96.12565827181066,\n",
       "  0.048775750312674324,\n",
       "  -19.358832839970855,\n",
       "  39.571290201192724))"
      ]
     },
     "execution_count": 137,
     "metadata": {},
     "output_type": "execute_result"
    }
   ],
   "source": [
    "###Trying to fit the distribution to check the type of ditribution each of them follow \n",
    "import scipy.stats as st\n",
    "def get_best_distribution(data):\n",
    "    dist_names = [\"norm\", \"exponweib\", \"weibull_max\", \"weibull_min\", \"pareto\", \"genextreme\",\"burr\",\"beta\"]\n",
    "    dist_results = []\n",
    "    params = {}\n",
    "    for dist_name in dist_names:\n",
    "        dist = getattr(st, dist_name)\n",
    "        param = dist.fit(data)\n",
    "\n",
    "        params[dist_name] = param\n",
    "        # Applying the Kolmogorov-Smirnov test\n",
    "        D, p = st.kstest(data, dist_name, args=param)\n",
    "        print(\"p value for \"+dist_name+\" = \"+str(p))\n",
    "        dist_results.append((dist_name, p))\n",
    "\n",
    "    # select the best fitted distribution\n",
    "    best_dist, best_p = (max(dist_results, key=lambda item: item[1]))\n",
    "    # store the name of the best fit and its p value\n",
    "\n",
    "    print(\"Best fitting distribution: \"+str(best_dist))\n",
    "    print(\"Best p value: \"+ str(best_p))\n",
    "    print(\"Parameters for the best fit: \"+ str(params[best_dist]))\n",
    "\n",
    "    return best_dist, best_p, params[best_dist]\n",
    "\n",
    "\n",
    "# may take some time since by default, all distributions are tried\n",
    "# but you call manually provide a smaller set of distributions\n",
    "\n",
    "# get_best_distribution(np.array(dddf.iloc[:,16],dtype=float))"
   ]
  },
  {
   "cell_type": "code",
   "execution_count": 128,
   "id": "e6f6eaf8",
   "metadata": {},
   "outputs": [
    {
     "data": {
      "text/html": [
       "\n",
       "            <div style=\"float: left; border: 1px solid black; width:500px\">\n",
       "              <div id=\"635453c8-23f2-46ae-a2dc-171501f720bf\" style=\"background-color:blue; width:0%\">&nbsp;</div>\n",
       "            </div>\n",
       "            <label id=\"64a0ea0d-fc1d-4dec-b366-9f8e1af3b5ee\" style=\"padding-left: 10px;\" text = \"\"/>\n",
       "            "
      ],
      "text/plain": [
       "<IPython.core.display.HTML object>"
      ]
     },
     "metadata": {},
     "output_type": "display_data"
    },
    {
     "name": "stderr",
     "output_type": "stream",
     "text": [
      "C:\\Users\\z004csar\\Anaconda3\\lib\\site-packages\\scipy\\stats\\_distn_infrastructure.py:1790: IntegrationWarning: The integral is probably divergent, or slowly convergent.\n",
      "  return integrate.quad(self._mom_integ1, 0, 1, args=(m,)+args)[0]\n",
      "WARNING:root:SKIPPED kstwo distribution (taking more than 30 seconds)\n",
      "WARNING:root:SKIPPED genextreme distribution (taking more than 30 seconds)\n",
      "WARNING:root:SKIPPED invweibull distribution (taking more than 30 seconds)\n",
      "WARNING:root:SKIPPED johnsonsb distribution (taking more than 30 seconds)\n",
      "WARNING:root:SKIPPED johnsonsu distribution (taking more than 30 seconds)\n",
      "WARNING:root:SKIPPED kappa3 distribution (taking more than 30 seconds)\n",
      "WARNING:root:SKIPPED kappa4 distribution (taking more than 30 seconds)\n",
      "WARNING:root:SKIPPED ksone distribution (taking more than 30 seconds)\n",
      "WARNING:root:SKIPPED levy_l distribution (taking more than 30 seconds)\n",
      "WARNING:root:SKIPPED levy_stable distribution (taking more than 30 seconds)\n",
      "WARNING:root:SKIPPED lognorm distribution (taking more than 30 seconds)\n",
      "WARNING:root:SKIPPED loguniform distribution (taking more than 30 seconds)\n",
      "WARNING:root:SKIPPED lomax distribution (taking more than 30 seconds)\n",
      "WARNING:root:SKIPPED mielke distribution (taking more than 30 seconds)\n",
      "WARNING:root:SKIPPED nakagami distribution (taking more than 30 seconds)\n",
      "WARNING:root:SKIPPED ncf distribution (taking more than 30 seconds)\n",
      "WARNING:root:SKIPPED nct distribution (taking more than 30 seconds)\n",
      "WARNING:root:SKIPPED rv_continuous distribution (taking more than 30 seconds)\n",
      "WARNING:root:SKIPPED ncx2 distribution (taking more than 30 seconds)\n",
      "WARNING:root:SKIPPED rv_histogram distribution (taking more than 30 seconds)\n",
      "WARNING:root:SKIPPED norminvgauss distribution (taking more than 30 seconds)\n",
      "WARNING:root:SKIPPED pareto distribution (taking more than 30 seconds)\n",
      "WARNING:root:SKIPPED pearson3 distribution (taking more than 30 seconds)\n",
      "C:\\Users\\z004csar\\Anaconda3\\lib\\site-packages\\scipy\\stats\\_distn_infrastructure.py:1790: IntegrationWarning: The maximum number of subdivisions (50) has been achieved.\n",
      "  If increasing the limit yields no improvement it is advised to analyze \n",
      "  the integrand in order to determine the difficulties.  If the position of a \n",
      "  local difficulty can be determined (singularity, discontinuity) one will \n",
      "  probably gain from splitting up the interval and calling the integrator \n",
      "  on the subranges.  Perhaps a special-purpose integrator should be used.\n",
      "  return integrate.quad(self._mom_integ1, 0, 1, args=(m,)+args)[0]\n",
      "WARNING:root:SKIPPED powerlaw distribution (taking more than 30 seconds)\n",
      "WARNING:root:SKIPPED powerlognorm distribution (taking more than 30 seconds)\n",
      "C:\\Users\\z004csar\\Anaconda3\\lib\\site-packages\\scipy\\stats\\_distn_infrastructure.py:1790: IntegrationWarning: The algorithm does not converge.  Roundoff error is detected\n",
      "  in the extrapolation table.  It is assumed that the requested tolerance\n",
      "  cannot be achieved, and that the returned result (if full_output = 1) is \n",
      "  the best which can be obtained.\n",
      "  return integrate.quad(self._mom_integ1, 0, 1, args=(m,)+args)[0]\n",
      "WARNING:root:SKIPPED powernorm distribution (taking more than 30 seconds)\n",
      "WARNING:root:SKIPPED rdist distribution (taking more than 30 seconds)\n",
      "WARNING:root:SKIPPED recipinvgauss distribution (taking more than 30 seconds)\n",
      "WARNING:root:SKIPPED reciprocal distribution (taking more than 30 seconds)\n",
      "WARNING:root:SKIPPED rice distribution (taking more than 30 seconds)\n",
      "WARNING:root:SKIPPED semicircular distribution (taking more than 30 seconds)\n",
      "WARNING:root:SKIPPED skewnorm distribution (taking more than 30 seconds)\n",
      "WARNING:root:SKIPPED t distribution (taking more than 30 seconds)\n",
      "WARNING:root:SKIPPED trapezoid distribution (taking more than 30 seconds)\n",
      "WARNING:root:SKIPPED trapz distribution (taking more than 30 seconds)\n",
      "WARNING:root:SKIPPED triang distribution (taking more than 30 seconds)\n",
      "WARNING:root:SKIPPED truncexpon distribution (taking more than 30 seconds)\n",
      "WARNING:root:SKIPPED truncnorm distribution (taking more than 30 seconds)\n",
      "WARNING:root:SKIPPED tukeylambda distribution (taking more than 30 seconds)\n",
      "WARNING:root:SKIPPED vonmises distribution (taking more than 30 seconds)\n",
      "WARNING:root:SKIPPED vonmises_line distribution (taking more than 30 seconds)\n",
      "WARNING:root:SKIPPED weibull_max distribution (taking more than 30 seconds)\n",
      "WARNING:root:SKIPPED weibull_min distribution (taking more than 30 seconds)\n"
     ]
    },
    {
     "data": {
      "text/html": [
       "<div>\n",
       "<style scoped>\n",
       "    .dataframe tbody tr th:only-of-type {\n",
       "        vertical-align: middle;\n",
       "    }\n",
       "\n",
       "    .dataframe tbody tr th {\n",
       "        vertical-align: top;\n",
       "    }\n",
       "\n",
       "    .dataframe thead th {\n",
       "        text-align: right;\n",
       "    }\n",
       "</style>\n",
       "<table border=\"1\" class=\"dataframe\">\n",
       "  <thead>\n",
       "    <tr style=\"text-align: right;\">\n",
       "      <th></th>\n",
       "      <th>sumsquare_error</th>\n",
       "      <th>aic</th>\n",
       "      <th>bic</th>\n",
       "      <th>kl_div</th>\n",
       "    </tr>\n",
       "  </thead>\n",
       "  <tbody>\n",
       "    <tr>\n",
       "      <th>exponpow</th>\n",
       "      <td>0.380261</td>\n",
       "      <td>1038.363962</td>\n",
       "      <td>-167440.304089</td>\n",
       "      <td>inf</td>\n",
       "    </tr>\n",
       "    <tr>\n",
       "      <th>beta</th>\n",
       "      <td>0.390141</td>\n",
       "      <td>760.856153</td>\n",
       "      <td>-167026.589654</td>\n",
       "      <td>inf</td>\n",
       "    </tr>\n",
       "    <tr>\n",
       "      <th>laplace_asymmetric</th>\n",
       "      <td>0.453374</td>\n",
       "      <td>1037.951739</td>\n",
       "      <td>-164670.145350</td>\n",
       "      <td>inf</td>\n",
       "    </tr>\n",
       "    <tr>\n",
       "      <th>genlogistic</th>\n",
       "      <td>0.456182</td>\n",
       "      <td>1197.780740</td>\n",
       "      <td>-164572.874146</td>\n",
       "      <td>inf</td>\n",
       "    </tr>\n",
       "    <tr>\n",
       "      <th>burr</th>\n",
       "      <td>0.466460</td>\n",
       "      <td>1197.513453</td>\n",
       "      <td>-164212.272575</td>\n",
       "      <td>inf</td>\n",
       "    </tr>\n",
       "  </tbody>\n",
       "</table>\n",
       "</div>"
      ],
      "text/plain": [
       "                    sumsquare_error          aic            bic  kl_div\n",
       "exponpow                   0.380261  1038.363962 -167440.304089     inf\n",
       "beta                       0.390141   760.856153 -167026.589654     inf\n",
       "laplace_asymmetric         0.453374  1037.951739 -164670.145350     inf\n",
       "genlogistic                0.456182  1197.780740 -164572.874146     inf\n",
       "burr                       0.466460  1197.513453 -164212.272575     inf"
      ]
     },
     "execution_count": 128,
     "metadata": {},
     "output_type": "execute_result"
    },
    {
     "name": "stderr",
     "output_type": "stream",
     "text": [
      "C:\\Users\\z004csar\\Anaconda3\\lib\\site-packages\\scipy\\stats\\_distn_infrastructure.py:1790: IntegrationWarning: The integral is probably divergent, or slowly convergent.\n",
      "  return integrate.quad(self._mom_integ1, 0, 1, args=(m,)+args)[0]\n"
     ]
    },
    {
     "data": {
      "image/png": "[encoded data removed]",
      "text/plain": [
       "<Figure size 432x288 with 1 Axes>"
      ]
     },
     "metadata": {
      "needs_background": "light"
     },
     "output_type": "display_data"
    }
   ],
   "source": [
    "###Trying using fitter package\n",
    "from scipy import stats\n",
    "from fitter import Fitter\n",
    "f = Fitter(np.array(dddf.iloc[:,16],dtype=float))\n",
    "f.fit()\n",
    "f.summary()\n"
   ]
  },
  {
   "cell_type": "code",
   "execution_count": 138,
   "id": "3ed83e5b",
   "metadata": {},
   "outputs": [
    {
     "data": {
      "text/plain": [
       "(96.12565827181066,\n",
       " 0.048775750312674324,\n",
       " -19.358832839970855,\n",
       " 39.571290201192724)"
      ]
     },
     "execution_count": 138,
     "metadata": {},
     "output_type": "execute_result"
    }
   ],
   "source": [
    "##Retreive the parameters\n",
    "f.fitted_param['burr']\n"
   ]
  },
  {
   "cell_type": "code",
   "execution_count": 151,
   "id": "40761e3c",
   "metadata": {},
   "outputs": [
    {
     "data": {
      "text/plain": [
       "array([0.        , 0.01010101, 0.02020202, 0.03030303, 0.04040404,\n",
       "       0.05050505, 0.06060606, 0.07070707, 0.08080808, 0.09090909,\n",
       "       0.1010101 , 0.11111111, 0.12121212, 0.13131313, 0.14141414,\n",
       "       0.15151515, 0.16161616, 0.17171717, 0.18181818, 0.19191919,\n",
       "       0.2020202 , 0.21212121, 0.22222222, 0.23232323, 0.24242424,\n",
       "       0.25252525, 0.26262626, 0.27272727, 0.28282828, 0.29292929,\n",
       "       0.3030303 , 0.31313131, 0.32323232, 0.33333333, 0.34343434,\n",
       "       0.35353535, 0.36363636, 0.37373737, 0.38383838, 0.39393939,\n",
       "       0.4040404 , 0.41414141, 0.42424242, 0.43434343, 0.44444444,\n",
       "       0.45454545, 0.46464646, 0.47474747, 0.48484848, 0.49494949,\n",
       "       0.50505051, 0.51515152, 0.52525253, 0.53535354, 0.54545455,\n",
       "       0.55555556, 0.56565657, 0.57575758, 0.58585859, 0.5959596 ,\n",
       "       0.60606061, 0.61616162, 0.62626263, 0.63636364, 0.64646465,\n",
       "       0.65656566, 0.66666667, 0.67676768, 0.68686869, 0.6969697 ,\n",
       "       0.70707071, 0.71717172, 0.72727273, 0.73737374, 0.74747475,\n",
       "       0.75757576, 0.76767677, 0.77777778, 0.78787879, 0.7979798 ,\n",
       "       0.80808081, 0.81818182, 0.82828283, 0.83838384, 0.84848485,\n",
       "       0.85858586, 0.86868687, 0.87878788, 0.88888889, 0.8989899 ,\n",
       "       0.90909091, 0.91919192, 0.92929293, 0.93939394, 0.94949495,\n",
       "       0.95959596, 0.96969697, 0.97979798, 0.98989899, 1.        ])"
      ]
     },
     "execution_count": 151,
     "metadata": {},
     "output_type": "execute_result"
    }
   ],
   "source": []
  },
  {
   "cell_type": "code",
   "execution_count": 155,
   "id": "c86c603a",
   "metadata": {},
   "outputs": [],
   "source": [
    "from itertools import combinations\n",
    "for x,y in combinations(df.columns,2):\n",
    "    df['Long '+x+' Short '+y]=df[x]*df[y]"
   ]
  },
  {
   "cell_type": "code",
   "execution_count": 167,
   "id": "0215752c",
   "metadata": {},
   "outputs": [],
   "source": [
    "from itertools import combinations\n",
    "df = pd.DataFrame({\n",
    "    'A': [5, 3, 6, 9, 2, 4],\n",
    "    'B': [4, 5, 4, 5, 5, 4],\n",
    "    'C': [7, 8, 9, 4, 2, 3],\n",
    "    'D': [1, 3, 5, 7, 1, 0],\n",
    "    'E': [7, 8, 9, 4, 2, 3],\n",
    "    'F': [1, 3, 5, 7, 1, 0],\n",
    "})"
   ]
  },
  {
   "cell_type": "code",
   "execution_count": 170,
   "id": "38e4313c",
   "metadata": {},
   "outputs": [
    {
     "name": "stdout",
     "output_type": "stream",
     "text": [
      "A\n",
      "A\n",
      "A\n",
      "A\n",
      "A\n",
      "B\n",
      "B\n",
      "B\n",
      "B\n",
      "C\n",
      "C\n",
      "C\n",
      "D\n",
      "D\n",
      "E\n"
     ]
    }
   ],
   "source": [
    "for x,y in combinations(df.columns,2):\n",
    "    print(x)\n",
    "    "
   ]
  },
  {
   "cell_type": "code",
   "execution_count": 171,
   "id": "bc71c842",
   "metadata": {},
   "outputs": [
    {
     "data": {
      "text/html": [
       "<div>\n",
       "<style scoped>\n",
       "    .dataframe tbody tr th:only-of-type {\n",
       "        vertical-align: middle;\n",
       "    }\n",
       "\n",
       "    .dataframe tbody tr th {\n",
       "        vertical-align: top;\n",
       "    }\n",
       "\n",
       "    .dataframe thead th {\n",
       "        text-align: right;\n",
       "    }\n",
       "</style>\n",
       "<table border=\"1\" class=\"dataframe\">\n",
       "  <thead>\n",
       "    <tr style=\"text-align: right;\">\n",
       "      <th></th>\n",
       "      <th>A</th>\n",
       "      <th>B</th>\n",
       "      <th>C</th>\n",
       "      <th>D</th>\n",
       "      <th>E</th>\n",
       "      <th>F</th>\n",
       "    </tr>\n",
       "  </thead>\n",
       "  <tbody>\n",
       "    <tr>\n",
       "      <th>0</th>\n",
       "      <td>5</td>\n",
       "      <td>4</td>\n",
       "      <td>7</td>\n",
       "      <td>1</td>\n",
       "      <td>7</td>\n",
       "      <td>1</td>\n",
       "    </tr>\n",
       "    <tr>\n",
       "      <th>1</th>\n",
       "      <td>3</td>\n",
       "      <td>5</td>\n",
       "      <td>8</td>\n",
       "      <td>3</td>\n",
       "      <td>8</td>\n",
       "      <td>3</td>\n",
       "    </tr>\n",
       "    <tr>\n",
       "      <th>2</th>\n",
       "      <td>6</td>\n",
       "      <td>4</td>\n",
       "      <td>9</td>\n",
       "      <td>5</td>\n",
       "      <td>9</td>\n",
       "      <td>5</td>\n",
       "    </tr>\n",
       "    <tr>\n",
       "      <th>3</th>\n",
       "      <td>9</td>\n",
       "      <td>5</td>\n",
       "      <td>4</td>\n",
       "      <td>7</td>\n",
       "      <td>4</td>\n",
       "      <td>7</td>\n",
       "    </tr>\n",
       "    <tr>\n",
       "      <th>4</th>\n",
       "      <td>2</td>\n",
       "      <td>5</td>\n",
       "      <td>2</td>\n",
       "      <td>1</td>\n",
       "      <td>2</td>\n",
       "      <td>1</td>\n",
       "    </tr>\n",
       "    <tr>\n",
       "      <th>5</th>\n",
       "      <td>4</td>\n",
       "      <td>4</td>\n",
       "      <td>3</td>\n",
       "      <td>0</td>\n",
       "      <td>3</td>\n",
       "      <td>0</td>\n",
       "    </tr>\n",
       "  </tbody>\n",
       "</table>\n",
       "</div>"
      ],
      "text/plain": [
       "   A  B  C  D  E  F\n",
       "0  5  4  7  1  7  1\n",
       "1  3  5  8  3  8  3\n",
       "2  6  4  9  5  9  5\n",
       "3  9  5  4  7  4  7\n",
       "4  2  5  2  1  2  1\n",
       "5  4  4  3  0  3  0"
      ]
     },
     "execution_count": 171,
     "metadata": {},
     "output_type": "execute_result"
    },
    {
     "name": "stderr",
     "output_type": "stream",
     "text": [
      "C:\\Users\\z004csar\\Anaconda3\\lib\\site-packages\\scipy\\stats\\_continuous_distns.py:4530: IntegrationWarning: The algorithm does not converge.  Roundoff error is detected\n",
      "  in the extrapolation table.  It is assumed that the requested tolerance\n",
      "  cannot be achieved, and that the returned result (if full_output = 1) is \n",
      "  the best which can be obtained.\n",
      "  intg = integrate.quad(f, -xi, np.pi/2, **intg_kwargs)[0]\n"
     ]
    }
   ],
   "source": [
    "df"
   ]
  },
  {
   "cell_type": "code",
   "execution_count": null,
   "id": "84bf54c6",
   "metadata": {},
   "outputs": [],
   "source": []
  }
 ],
 "metadata": {
  "kernelspec": {
   "display_name": "Python 3",
   "language": "python",
   "name": "python3"
  },
  "language_info": {
   "codemirror_mode": {
    "name": "ipython",
    "version": 3
   },
   "file_extension": ".py",
   "mimetype": "text/x-python",
   "name": "python",
   "nbconvert_exporter": "python",
   "pygments_lexer": "ipython3",
   "version": "3.8.8"
  }
 },
 "nbformat": 4,
 "nbformat_minor": 5
}
