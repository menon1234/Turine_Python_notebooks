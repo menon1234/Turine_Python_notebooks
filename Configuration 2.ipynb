{
 "cells": [
  {
   "cell_type": "markdown",
   "id": "aca65ea9",
   "metadata": {},
   "source": [
    "## Configuration -2 \n",
    "\n",
    "This is the config where 15 files are stacked and tested usign stratified k fold cross validation.\n"
   ]
  },
  {
   "cell_type": "markdown",
   "id": "2bc7f878",
   "metadata": {},
   "source": [
    "Here we test the dataframe after combining all the datasets together "
   ]
  },
  {
   "cell_type": "code",
   "execution_count": 1,
   "id": "dc776f4c",
   "metadata": {},
   "outputs": [],
   "source": [
    "%run Master_thesis_Final_script.py\n",
    "%run C:/Users/z004csar/Thesis_Project/Configuration_Turbine/MT_SE_OneBurnerbelowtheother/Pyscripts/MT_SE_PT_Stacked_Ind_DF_Model.py\n",
    "%run C:/Users/z004csar/Thesis_Project/Configuration_Turbine/MT_SE_OneBurnerbelowtheother/Pyscripts/MT_SE_PT_Stacked_Ind_DF_preprocess.py\n",
    "\n",
    "import glob\n",
    "from sklearn.model_selection import GridSearchCV,RepeatedStratifiedKFold"
   ]
  },
  {
   "cell_type": "code",
   "execution_count": 2,
   "id": "0fe24fc9",
   "metadata": {},
   "outputs": [],
   "source": [
    "##Different Data for testing \n",
    "Datalist2  = ['C:\\\\Users\\\\z004csar\\\\Thesis_Project\\\\Data\\\\SGT-750_Data\\\\Data to train\\\\Gazli-2_750_20210618_UnbalancedDataset.xlsx',\n",
    "             'C:\\\\Users\\\\z004csar\\\\Thesis_Project\\\\Data\\\\SGT-750_Data\\\\Data to train\\\\Gazli-1_750_20210629_flamedetector_data(T6 and T7).xlsx' ]"
   ]
  },
  {
   "cell_type": "code",
   "execution_count": 3,
   "id": "a8da11f5",
   "metadata": {},
   "outputs": [],
   "source": [
    "Datadic2 = {}\n",
    "with warnings.catch_warnings(record=True):\n",
    "    warnings.simplefilter(\"always\")\n",
    "    for i in range(len(Datalist2)):\n",
    "        Datadic2[i] = pd.read_excel(Datalist2[i],engine=\"openpyxl\",index_col=0)"
   ]
  },
  {
   "cell_type": "code",
   "execution_count": 4,
   "id": "274861fd",
   "metadata": {},
   "outputs": [
    {
     "name": "stdout",
     "output_type": "stream",
     "text": [
      "No na values\n",
      "No na values\n",
      "No na values\n",
      "Wall time: 733 ms\n"
     ]
    }
   ],
   "source": [
    "%%time\n",
    "##Training Data\n",
    "dataPT = preprocess_indiv_burner_PTET_no_SULFreq(Datadic2[1])\n",
    "dataStacked = preprocess_combineburner_T_P_sans_SP(Datadic2[1],rm = False)\n",
    "\n",
    "## Testing Data\n",
    "\n",
    "dataPT_Test = preprocess_indiv_burner_PTET_no_SULFreq(Datadic2[0])\n",
    "dataStacked_Test = preprocess_combineburner_T_P_sans_SP(Datadic2[0],rm = False)\n",
    "dataStacked_Test2 = preprocess_combineburner_T_P_sans_SP(Datadic2[0])"
   ]
  },
  {
   "cell_type": "code",
   "execution_count": 29,
   "id": "8a845f1f",
   "metadata": {},
   "outputs": [
    {
     "data": {
      "text/plain": [
       "[<matplotlib.lines.Line2D at 0x2588059c6d0>]"
      ]
     },
     "execution_count": 29,
     "metadata": {},
     "output_type": "execute_result"
    },
    {
     "data": {
      "image/png": "[encoded data removed]",
      "text/plain": [
       "<Figure size 432x288 with 1 Axes>"
      ]
     },
     "metadata": {
      "needs_background": "light"
     },
     "output_type": "display_data"
    }
   ],
   "source": [
    "plt.plot(y_test1)"
   ]
  },
  {
   "cell_type": "code",
   "execution_count": 38,
   "id": "591115f5",
   "metadata": {},
   "outputs": [],
   "source": [
    "from sklearn.model_selection import train_test_split\n",
    "# X_train, X_test, y_train, y_test = train_test_split(dataStacked.iloc[:,1:], dataStacked.iloc[:,0].astype('category'), test_size=0.20, random_state=42,shuffle = False)\n",
    "X_test1  = dataStacked_Test.iloc[:,1:]\n",
    "y_test1 = dataStacked_Test.iloc[:,0]"
   ]
  },
  {
   "cell_type": "code",
   "execution_count": 39,
   "id": "fc21fd3b",
   "metadata": {},
   "outputs": [],
   "source": [
    "##Different Data for testing \n",
    "Datalist  = [\n",
    "#             'C:\\\\Users\\\\z004csar\\\\Thesis_Project\\\\Data-Siemens\\\\SGT-750_Data\\\\Data to train\\\\Gazli-2_750_20210629_Provskott1_3.xlsx',\n",
    "#             'C:\\\\Users\\\\z004csar\\\\Thesis_Project\\\\Data-Siemens\\\\SGT-750_Data\\\\Data to train\\\\Gazli-2_750_20210629_Provskott1_2.xlsx',\n",
    "#             'C:\\\\Users\\\\z004csar\\\\Thesis_Project\\\\Data-Siemens\\\\SGT-750_Data\\\\Data to train\\\\Gazli-2_750_20210629_Provskott1_1.xlsx',\n",
    "#             'C:\\\\Users\\\\z004csar\\\\Thesis_Project\\\\Data\\\\SGT-750_Data\\\\Data to train\\\\Gazli-2_750_20210701_Provskott3_3.xlsx',\n",
    "#             'C:\\\\Users\\\\z004csar\\\\Thesis_Project\\\\Data\\\\SGT-750_Data\\\\Data to train\\\\Gazli-2_750_20210701_Provskott3_2.xlsx',\n",
    "#             'C:\\\\Users\\\\z004csar\\\\Thesis_Project\\\\Data\\\\SGT-750_Data\\\\Data to train\\\\Gazli-2_750_20210701_Provskott3_1.xlsx',\n",
    "            'C:\\\\Users\\\\z004csar\\\\Thesis_Project\\\\Data\\\\SGT-750_Data\\\\Data to train\\\\SGT-750, Gazli-2_20210629_Provskott-1_MoreVariables.xlsx',\n",
    "            'C:\\\\Users\\\\z004csar\\\\Thesis_Project\\\\Data\\\\SGT-750_Data\\\\Data to train\\\\SGT-750, CastbergSpare_2021112_Provskott-2.xlsx',\n",
    "            'C:\\\\Users\\\\z004csar\\\\Thesis_Project\\\\Data\\\\SGT-750_Data\\\\Data to train\\\\SGT-750, Chimei-1_20210906_Kundprov.xlsx',\n",
    "            'C:\\\\Users\\\\z004csar\\\\Thesis_Project\\\\Data\\\\SGT-750_Data\\\\Data to train\\\\SGT-750, Chimei-1_20210903_Provskott-2.xlsx',\n",
    "            'C:\\\\Users\\\\z004csar\\\\Thesis_Project\\\\Data\\\\SGT-750_Data\\\\Data to train\\\\SGT-750, Chimei-1_20210902_Provskott-1.xlsx',\n",
    "            'C:\\\\Users\\\\z004csar\\\\Thesis_Project\\\\Data\\\\SGT-750_Data\\\\Data to train\\\\SGT-750, Gazli-2_20210705_Kundprov.xlsx',\n",
    "            'C:\\\\Users\\\\z004csar\\\\Thesis_Project\\\\Data\\\\SGT-750_Data\\\\Data to train\\\\SGT-750, Gazli-2_20210701_Provskott-3.xlsx',\n",
    "            'C:\\\\Users\\\\z004csar\\\\Thesis_Project\\\\Data\\\\SGT-750_Data\\\\Data to train\\\\SGT-750, Gazli-2_20210630_Provskott-2.xlsx',\n",
    "            'C:\\\\Users\\\\z004csar\\\\Thesis_Project\\\\Data\\\\SGT-750_Data\\\\Data to train\\\\SGT-750, Gazli-2_20210629_Provskott-1.xlsx',\n",
    "            'C:\\\\Users\\\\z004csar\\\\Thesis_Project\\\\Data\\\\SGT-750_Data\\\\Data to train\\\\SGT-750, Gazli-1_20210618_Kundprov.xlsx',\n",
    "            'C:\\\\Users\\\\z004csar\\\\Thesis_Project\\\\Data\\\\SGT-750_Data\\\\Data to train\\\\SGT-750, Gazli-1_20210617_Provskott.xlsx',\n",
    "            'C:\\\\Users\\\\z004csar\\\\Thesis_Project\\\\Data\\\\SGT-750_Data\\\\Data to train\\\\SGT-750, Pipestone_20200605_Förbränningsverifering.xlsx',\n",
    "            'C:\\\\Users\\\\z004csar\\\\Thesis_Project\\\\Data\\\\SGT-750_Data\\\\Data to train\\\\SGT-750, Pipestone_20200601_Startprover.xlsx',\n",
    "            'C:\\\\Users\\\\z004csar\\\\Thesis_Project\\\\Data\\\\SGT-750_Data\\\\Data to train\\\\SGT-750, Pipestone_20200528_Kundprov.xlsx',        \n",
    "            'C:\\\\Users\\\\z004csar\\\\Thesis_Project\\\\Data\\\\SGT-750_Data\\\\Data to train\\\\SGT-750, Pipestone_20200529_Provskott.xlsx'\n",
    "                ]"
   ]
  },
  {
   "cell_type": "code",
   "execution_count": 40,
   "id": "8e175380",
   "metadata": {},
   "outputs": [],
   "source": [
    "Datadic = {}\n",
    "with warnings.catch_warnings(record=True):\n",
    "    warnings.simplefilter(\"always\")\n",
    "    for i in range(len(Datalist)):\n",
    "        Datadic[i] = pd.read_excel(Datalist[i],engine=\"openpyxl\",index_col=0)"
   ]
  },
  {
   "cell_type": "code",
   "execution_count": 8,
   "id": "07b1399b",
   "metadata": {},
   "outputs": [],
   "source": [
    "###Count the highest number of columns\n",
    "# sets = {}\n",
    "# for i in Datadic.keys():\n",
    "#     sets[i] = len(Datadic[i].columns)"
   ]
  },
  {
   "cell_type": "code",
   "execution_count": 9,
   "id": "f5ec80c8",
   "metadata": {},
   "outputs": [],
   "source": [
    "# ###Test for index finding for each misclassification\n",
    "# # def WholeTurbinePreprocess(df,rm = False):\n",
    "# dftest = WholeTurbinePreprocess(Datadic[0])\n",
    "# y = dftest.filter(regex = 'Flame')\n",
    "# X = dftest.drop(y.columns, axis = 1)\n",
    "# dftest2 = WholeTurbinePreprocess(Datadic[1])\n",
    "# yt = dftest2.filter(regex = 'Flame_on/off')\n",
    "# Xt = dftest2.drop(yt.columns, axis = 1)"
   ]
  },
  {
   "cell_type": "code",
   "execution_count": 10,
   "id": "b929b571",
   "metadata": {},
   "outputs": [],
   "source": [
    "# from sklearn.ensemble import ExtraTreesClassifier\n",
    "# # Building the model\n",
    "# extra_tree_forest = ExtraTreesClassifier(n_estimators = 71,\n",
    "#                                         criterion ='gini', max_features = 'sqrt')\n",
    "  \n",
    "# # Training the model\n",
    "# extra_tree_forest.fit(X,y.iloc[:,0].astype('category'))\n",
    "  \n",
    "# # Computing the importance of each feature\n",
    "# feature_importance = extra_tree_forest.feature_importances_\n",
    "  \n",
    "# # Normalizing the individual importances\n",
    "# feature_importance_normalized = np.std([tree.feature_importances_ for tree in \n",
    "#                                         extra_tree_forest.estimators_],\n",
    "#                                         axis = 0)\n",
    "# # Plotting a Bar Graph to compare the models\n",
    "# feat_importances = pd.Series(feature_importance_normalized, index=X.columns)\n",
    "# plt.figure(figsize=(15,20))\n",
    "# feat_importances.nlargest(71).plot.barh()\n",
    "# plt.gca().invert_yaxis()\n",
    "# plt.xlabel('Entropy Index Value')\n",
    "# plt.ylabel('Features')\n",
    "# plt.tight_layout()\n",
    "# plt.savefig('ExtratreeClassifierFeatures2')"
   ]
  },
  {
   "cell_type": "code",
   "execution_count": 34,
   "id": "8d995b5c",
   "metadata": {
    "scrolled": true
   },
   "outputs": [],
   "source": [
    "# from sklearn import tree\n",
    "# clf = tree.DecisionTreeClassifier(max_depth = 3)\n",
    "# clf = clf.fit(X_train,y_train.astype('category'))\n",
    "# text_representation = tree.export_text(clf)\n",
    "# fig = plt.figure(figsize=(25,20))\n",
    "\n",
    "# _ = tree.plot_tree(clf,feature_names = X_test.columns,filled = True,node_ids = True,\n",
    "#                    proportion = True,rounded = True,fontsize = 30)\n",
    "# # plt.title(\"Decision tree trained on all features of the Turbine\",fontsize=20)\n",
    "# plt.savefig('decision_tree.jpg')"
   ]
  },
  {
   "cell_type": "code",
   "execution_count": 36,
   "id": "3802aa0d",
   "metadata": {},
   "outputs": [],
   "source": [
    "# dftest_1 = dftest.drop(columns=dftest.filter(regex='Flashback').columns)\n",
    "# dftest_2 = dftest_1.drop(columns=dftest_1.filter(regex='Temperature').columns)\n",
    "# dftest_3 = dftest_2.drop(columns=dftest_2.filter(regex='Inlet').columns)"
   ]
  },
  {
   "cell_type": "code",
   "execution_count": null,
   "id": "07936ecb",
   "metadata": {},
   "outputs": [],
   "source": [
    "dftest_3"
   ]
  },
  {
   "cell_type": "code",
   "execution_count": 41,
   "id": "c73f4697",
   "metadata": {},
   "outputs": [
    {
     "ename": "NameError",
     "evalue": "name 'corrmat' is not defined",
     "output_type": "error",
     "traceback": [
      "\u001b[1;31m---------------------------------------------------------------------------\u001b[0m",
      "\u001b[1;31mNameError\u001b[0m                                 Traceback (most recent call last)",
      "\u001b[1;32m<ipython-input-41-782cd6e279b4>\u001b[0m in \u001b[0;36m<module>\u001b[1;34m\u001b[0m\n\u001b[0;32m      1\u001b[0m \u001b[0mf\u001b[0m\u001b[1;33m,\u001b[0m \u001b[0max\u001b[0m \u001b[1;33m=\u001b[0m \u001b[0mplt\u001b[0m\u001b[1;33m.\u001b[0m\u001b[0msubplots\u001b[0m\u001b[1;33m(\u001b[0m\u001b[0mfigsize\u001b[0m \u001b[1;33m=\u001b[0m\u001b[1;33m(\u001b[0m\u001b[1;36m15\u001b[0m\u001b[1;33m,\u001b[0m \u001b[1;36m10\u001b[0m\u001b[1;33m)\u001b[0m\u001b[1;33m)\u001b[0m\u001b[1;33m\u001b[0m\u001b[1;33m\u001b[0m\u001b[0m\n\u001b[1;32m----> 2\u001b[1;33m \u001b[0msns\u001b[0m\u001b[1;33m.\u001b[0m\u001b[0mheatmap\u001b[0m\u001b[1;33m(\u001b[0m\u001b[0mcorrmat\u001b[0m\u001b[1;33m,\u001b[0m \u001b[0max\u001b[0m \u001b[1;33m=\u001b[0m \u001b[0max\u001b[0m\u001b[1;33m,\u001b[0m \u001b[0mcmap\u001b[0m \u001b[1;33m=\u001b[0m\u001b[1;34m\"YlGnBu\"\u001b[0m\u001b[1;33m,\u001b[0m \u001b[0mlinewidths\u001b[0m \u001b[1;33m=\u001b[0m \u001b[1;36m0.2\u001b[0m\u001b[1;33m)\u001b[0m\u001b[1;33m\u001b[0m\u001b[1;33m\u001b[0m\u001b[0m\n\u001b[0m\u001b[0;32m      3\u001b[0m \u001b[0mplt\u001b[0m\u001b[1;33m.\u001b[0m\u001b[0mxlabel\u001b[0m\u001b[1;33m(\u001b[0m\u001b[1;34m'Features'\u001b[0m\u001b[1;33m)\u001b[0m\u001b[1;33m\u001b[0m\u001b[1;33m\u001b[0m\u001b[0m\n\u001b[0;32m      4\u001b[0m \u001b[0mplt\u001b[0m\u001b[1;33m.\u001b[0m\u001b[0mylabel\u001b[0m\u001b[1;33m(\u001b[0m\u001b[1;34m'Features'\u001b[0m\u001b[1;33m)\u001b[0m\u001b[1;33m\u001b[0m\u001b[1;33m\u001b[0m\u001b[0m\n\u001b[0;32m      5\u001b[0m \u001b[0mplt\u001b[0m\u001b[1;33m.\u001b[0m\u001b[0mtight_layout\u001b[0m\u001b[1;33m(\u001b[0m\u001b[1;33m)\u001b[0m\u001b[1;33m\u001b[0m\u001b[1;33m\u001b[0m\u001b[0m\n",
      "\u001b[1;31mNameError\u001b[0m: name 'corrmat' is not defined"
     ]
    },
    {
     "data": {
      "image/png": "[encoded data removed]",
      "text/plain": [
       "<Figure size 1080x720 with 1 Axes>"
      ]
     },
     "metadata": {
      "needs_background": "light"
     },
     "output_type": "display_data"
    }
   ],
   "source": [
    "f, ax = plt.subplots(figsize =(15, 10))\n",
    "sns.heatmap(corrmat, ax = ax, cmap =\"YlGnBu\", linewidths = 0.2)\n",
    "plt.xlabel('Features')\n",
    "plt.ylabel('Features')\n",
    "plt.tight_layout()\n",
    "plt.savefig('CorrelationMatrixNew.jpg')"
   ]
  },
  {
   "cell_type": "code",
   "execution_count": null,
   "id": "9309ed22",
   "metadata": {},
   "outputs": [],
   "source": [
    "k = 100\n",
    "  \n",
    "cols = corrmat.nlargest(k, 'MBM10CQ005_XE01_Burner 1 Flame_on/off')['MBM10CQ005_XE01_Burner 1 Flame_on/off'].index\n",
    "  \n",
    "cm =  np.corrcoef(dftest[cols].astype('float').values.T)\n",
    "f, ax = plt.subplots(figsize =(12, 10))\n",
    "  \n",
    "sns.heatmap(cm, ax = ax, cmap =\"YlGnBu\",\n",
    "            linewidths = 0.1, yticklabels = cols.values, \n",
    "                              xticklabels = cols.values)\n",
    "plt.tight_layout()\n",
    "plt.savefig('correlationvariables.png')"
   ]
  },
  {
   "cell_type": "code",
   "execution_count": null,
   "id": "70a80ab2",
   "metadata": {},
   "outputs": [],
   "source": [
    "# ###Unbalanced Dataset\n",
    "\n",
    "# ##Data from Gazli20210618Unbalanced\n",
    "# with warnings.catch_warnings(record=True):\n",
    "#     warnings.simplefilter(\"always\")\n",
    "#     Gazli20210618Unbalanced = pd.read_excel('C:\\\\Users\\\\z004csar\\\\Thesis_Project\\\\Data\\\\SGT-750_Data\\\\Data to train\\\\Gazli-2_750_20210618_UnbalancedDataset.xlsx',engine=\"openpyxl\",index_col=0)\n",
    "# ###Balanced Dataset\n",
    "# ##Data from Gazli20210618Balanced\n",
    "# with warnings.catch_warnings(record=True):\n",
    "#     warnings.simplefilter(\"always\")\n",
    "#     Gazli20210618Balanced = pd.read_excel('C:\\\\Users\\\\z004csar\\\\Thesis_Project\\\\Data\\\\SGT-750_Data\\\\Data to train\\\\Gazli-1_750_20210629_flamedetector_data(T6 and T7).xlsx',engine=\"openpyxl\",index_col=0)"
   ]
  },
  {
   "cell_type": "code",
   "execution_count": null,
   "id": "250ebf4f",
   "metadata": {},
   "outputs": [],
   "source": [
    "# dfrain = preprocess_Indiv_burner_T_P_sans_SULP(Gazli20210618Unbalanced)"
   ]
  },
  {
   "cell_type": "code",
   "execution_count": null,
   "id": "3615c119",
   "metadata": {},
   "outputs": [],
   "source": [
    "# dftest = preprocess_Indiv_burner_T_P_sans_SULP(Gazli20210618Balanced)"
   ]
  },
  {
   "cell_type": "code",
   "execution_count": null,
   "id": "90fc2a38",
   "metadata": {},
   "outputs": [],
   "source": [
    "preprocesseddf1 = {}\n",
    "for i in range(len(Datadic)):\n",
    "    preprocesseddf1[i] = preprocess_Indiv_burner_T_P_sans_SULP(Datadic[i],rm = True)"
   ]
  },
  {
   "cell_type": "code",
   "execution_count": null,
   "id": "22fd5a6b",
   "metadata": {},
   "outputs": [],
   "source": [
    "Combined_dataframe1 = pd.concat(preprocesseddf1,ignore_index=True)\n",
    "Combined_dataframe1"
   ]
  },
  {
   "cell_type": "code",
   "execution_count": null,
   "id": "c58ecb11",
   "metadata": {},
   "outputs": [],
   "source": [
    "testdatasetdiff.reset_index(drop = True ,inplace = True)"
   ]
  },
  {
   "cell_type": "code",
   "execution_count": null,
   "id": "15f0bdf6",
   "metadata": {},
   "outputs": [],
   "source": [
    "indexes###remove i and i-1"
   ]
  },
  {
   "cell_type": "code",
   "execution_count": null,
   "id": "5672a4d6",
   "metadata": {},
   "outputs": [],
   "source": [
    "testdatasetdiff\n",
    "indexes = []\n",
    "for i in range(2,len(testdatasetdiff)):\n",
    "    if (testdatasetdiff.iloc[i,:].item()-testdatasetdiff.iloc[i-1,:].item())==-2 or (testdatasetdiff.iloc[i,:].item()-testdatasetdiff.iloc[i-1,:].item())==2:\n",
    "        indexes.append([i,i-1])\n",
    "        \n",
    "#     print(i)\n",
    "        "
   ]
  },
  {
   "cell_type": "code",
   "execution_count": null,
   "id": "7b18d2e7",
   "metadata": {},
   "outputs": [],
   "source": [
    "testdatasetdiff\n",
    "indexes = []\n",
    "for i in range(2,len(testdatasetdiff)):\n",
    "    if (testdatasetdiff.iloc[i,:].item()-testdatasetdiff.iloc[i-1,:].item())==-2 or (testdatasetdiff.iloc[i,:].item()-testdatasetdiff.iloc[i-1,:].item())==2:\n",
    "        print(i)\n",
    "        \n",
    "\n",
    "        \n",
    "        "
   ]
  },
  {
   "cell_type": "code",
   "execution_count": 18,
   "id": "70e218de",
   "metadata": {},
   "outputs": [
    {
     "ename": "NameError",
     "evalue": "name 'Combined_dataframe1' is not defined",
     "output_type": "error",
     "traceback": [
      "\u001b[1;31m---------------------------------------------------------------------------\u001b[0m",
      "\u001b[1;31mNameError\u001b[0m                                 Traceback (most recent call last)",
      "\u001b[1;32m<ipython-input-18-5a49f5ab09d3>\u001b[0m in \u001b[0;36m<module>\u001b[1;34m\u001b[0m\n\u001b[1;32m----> 1\u001b[1;33m \u001b[0mdiffdataset\u001b[0m \u001b[1;33m=\u001b[0m \u001b[0mCombined_dataframe1\u001b[0m\u001b[1;33m.\u001b[0m\u001b[0mdiff\u001b[0m\u001b[1;33m(\u001b[0m\u001b[1;33m)\u001b[0m\u001b[1;33m\u001b[0m\u001b[1;33m\u001b[0m\u001b[0m\n\u001b[0m\u001b[0;32m      2\u001b[0m \u001b[0mdiffdataset\u001b[0m\u001b[1;33m\u001b[0m\u001b[1;33m\u001b[0m\u001b[0m\n",
      "\u001b[1;31mNameError\u001b[0m: name 'Combined_dataframe1' is not defined"
     ]
    }
   ],
   "source": [
    "diffdataset = Combined_dataframe1.diff()\n",
    "diffdataset\n"
   ]
  },
  {
   "cell_type": "code",
   "execution_count": 22,
   "id": "0bad732b",
   "metadata": {},
   "outputs": [],
   "source": [
    "y = Combined_dataframe1.loc[:,'BurnerStatus'].astype('category')\n",
    "X = Combined_dataframe1.iloc[:,1:]"
   ]
  },
  {
   "cell_type": "code",
   "execution_count": 23,
   "id": "afecccb6",
   "metadata": {},
   "outputs": [],
   "source": [
    "X_train, X_test, y_train, y_test = train_test_split(X, y,test_size=0.20, random_state=42,shuffle = False)\n"
   ]
  },
  {
   "cell_type": "code",
   "execution_count": 42,
   "id": "56d8dcb2",
   "metadata": {},
   "outputs": [],
   "source": [
    "from sklearn import svm\n",
    "from sklearn.naive_bayes import GaussianNB\n",
    "from sklearn.linear_model import LogisticRegression\n",
    "# Instantiate the classification model and visualizer\n",
    "log_model = LogisticRegression(C= .1,solver= 'liblinear',max_iter = 350,penalty = 'l2',random_state = 21)\n",
    "# visualizer = DiscriminationThreshold(model)\n",
    "svclf = svm.SVC(kernel = 'rbf',probability = True,gamma = .001,C = 1)\n",
    "gnb = GaussianNB(var_smoothing = .0005)\n",
    "from sklearn.ensemble import RandomForestClassifier\n",
    "import xgboost as xgb\n",
    "from xgboost import XGBClassifier\n",
    "xgbmodel = XGBClassifier(n_estimators =1000,criterion = 'entropy',eta =0.01,max_depth = 6,subsample = .7,score = 'f1')\n",
    "from sklearn.ensemble import RandomForestClassifier\n",
    "rfclf = RandomForestClassifier(n_estimators =150,criterion = 'entropy',min_samples_leaf = 2,max_features ='auto')\n",
    "from sklearn.neighbors import KNeighborsClassifier\n",
    "neigh = KNeighborsClassifier(p=1,weights = 'uniform',n_neighbors=1)\n",
    "neigh2 = KNeighborsClassifier(p=2,weights = 'uniform',n_neighbors=1)"
   ]
  },
  {
   "cell_type": "code",
   "execution_count": null,
   "id": "21adafbf",
   "metadata": {},
   "outputs": [],
   "source": [
    "for i in [.01,.1,1,5,10]:\n",
    "    log_model = LogisticRegression(C= i,solver= 'liblinear',max_iter = 350,penalty = 'l2',random_state = 21)\n",
    "    log_modeltrained = log_model.fit(X_train,y_train)\n",
    "    CFandYplot(X_train,y_train,X_test1,y_test1,log_modeltrained,threshold = 0.7)"
   ]
  },
  {
   "cell_type": "code",
   "execution_count": null,
   "id": "4acaa13a",
   "metadata": {},
   "outputs": [],
   "source": [
    "for i in np.arange(.4,1,.1):\n",
    "    CFandYplot2(svm_model,X_test1,y_test1,threshold = i)"
   ]
  },
  {
   "cell_type": "code",
   "execution_count": 43,
   "id": "779258f5",
   "metadata": {},
   "outputs": [
    {
     "name": "stderr",
     "output_type": "stream",
     "text": [
      "C:\\Users\\z004csar\\Anaconda3\\lib\\site-packages\\sklearn\\ensemble\\_forest.py:427: FutureWarning: `max_features='auto'` has been deprecated in 1.1 and will be removed in 1.3. To keep the past behaviour, explicitly set `max_features='sqrt'` or remove this parameter as it is also the default value for RandomForestClassifiers and ExtraTreesClassifiers.\n",
      "  warn(\n",
      "C:\\Users\\z004csar\\Anaconda3\\lib\\site-packages\\xgboost\\sklearn.py:888: UserWarning: The use of label encoder in XGBClassifier is deprecated and will be removed in a future release. To remove this warning, do the following: 1) Pass option use_label_encoder=False when constructing XGBClassifier object; and 2) Encode your labels (y) as integers starting with 0, i.e. 0, 1, 2, ..., [num_class - 1].\n",
      "  warnings.warn(label_encoder_deprecation_msg, UserWarning)\n"
     ]
    },
    {
     "name": "stdout",
     "output_type": "stream",
     "text": [
      "[20:45:42] WARNING: ..\\src\\learner.cc:541: \n",
      "Parameters: { criterion, score } might not be used.\n",
      "\n",
      "  This may not be accurate due to some parameters are only used in language bindings but\n",
      "  passed down to XGBoost core.  Or some parameters are not used but slip through this\n",
      "  verification. Please open an issue if you find above cases.\n",
      "\n",
      "\n",
      "[20:45:42] WARNING: ..\\src\\learner.cc:1061: Starting in XGBoost 1.3.0, the default evaluation metric used with the objective 'binary:logistic' was changed from 'error' to 'logloss'. Explicitly set eval_metric if you'd like to restore the old behavior.\n"
     ]
    }
   ],
   "source": [
    "log_modeltrained = log_model.fit(X_train,y_train)\n",
    "# svmtrained =  svclf.fit(X_train,y_train)\n",
    "gnb_trained = gnb.fit(X_train,y_train)\n",
    "rftrained =rfclf.fit(X_train,y_train)\n",
    "xgbtrained = xgbmodel.fit(np.array(X_train),y_train)\n",
    "knn_trained = neigh.fit(X_train,y_train)\n",
    "# knn_trained2 = neigh2.fit(X_train,y_train)"
   ]
  },
  {
   "cell_type": "code",
   "execution_count": 44,
   "id": "97c0cbb5",
   "metadata": {},
   "outputs": [
    {
     "ename": "NameError",
     "evalue": "name 'svmtrained' is not defined",
     "output_type": "error",
     "traceback": [
      "\u001b[1;31m---------------------------------------------------------------------------\u001b[0m",
      "\u001b[1;31mNameError\u001b[0m                                 Traceback (most recent call last)",
      "\u001b[1;32m<ipython-input-44-84260e5c6e77>\u001b[0m in \u001b[0;36m<module>\u001b[1;34m\u001b[0m\n\u001b[0;32m      1\u001b[0m \u001b[1;32mimport\u001b[0m \u001b[0mpickle\u001b[0m\u001b[1;33m\u001b[0m\u001b[1;33m\u001b[0m\u001b[0m\n\u001b[0;32m      2\u001b[0m \u001b[0mfilename\u001b[0m \u001b[1;33m=\u001b[0m \u001b[1;34m'svm_modeltrained.sav'\u001b[0m\u001b[1;33m\u001b[0m\u001b[1;33m\u001b[0m\u001b[0m\n\u001b[1;32m----> 3\u001b[1;33m \u001b[0mpickle\u001b[0m\u001b[1;33m.\u001b[0m\u001b[0mdump\u001b[0m\u001b[1;33m(\u001b[0m\u001b[0msvmtrained\u001b[0m\u001b[1;33m,\u001b[0m \u001b[0mopen\u001b[0m\u001b[1;33m(\u001b[0m\u001b[0mfilename\u001b[0m\u001b[1;33m,\u001b[0m \u001b[1;34m'wb'\u001b[0m\u001b[1;33m)\u001b[0m\u001b[1;33m)\u001b[0m\u001b[1;33m\u001b[0m\u001b[1;33m\u001b[0m\u001b[0m\n\u001b[0m",
      "\u001b[1;31mNameError\u001b[0m: name 'svmtrained' is not defined"
     ]
    }
   ],
   "source": [
    "import pickle\n",
    "filename = 'svm_modeltrained.sav'\n",
    "pickle.dump(svmtrained, open(filename, 'wb'))"
   ]
  },
  {
   "cell_type": "code",
   "execution_count": 45,
   "id": "ee8cd909",
   "metadata": {},
   "outputs": [],
   "source": [
    "from sklearn import pipeline"
   ]
  },
  {
   "cell_type": "code",
   "execution_count": 27,
   "id": "3fdba1db",
   "metadata": {},
   "outputs": [
    {
     "name": "stdout",
     "output_type": "stream",
     "text": [
      "Wall time: 3min 38s\n"
     ]
    }
   ],
   "source": [
    "%%time\n",
    "threshold = {}\n",
    "with warnings.catch_warnings(record=True):\n",
    "    warnings.simplefilter(\"always\")\n",
    "    for i in np.arange(.1,1,.1):\n",
    "        threshold[i] = ModelthresholdTesting(knn_trained,X_test.values,y_test.astype('category'),threshold = i)\n",
    "    "
   ]
  },
  {
   "cell_type": "code",
   "execution_count": 28,
   "id": "b9e9670f",
   "metadata": {},
   "outputs": [
    {
     "data": {
      "text/plain": [
       "{0.1: (0.008811515982059703, 705, 1039, 0.9954219354903983),\n",
       " 0.2: (0.008811515982059703, 705, 1039, 0.9954219354903983),\n",
       " 0.30000000000000004: (0.008811515982059703, 705, 1039, 0.9954219354903983),\n",
       " 0.4: (0.008811515982059703, 705, 1039, 0.9954219354903983),\n",
       " 0.5: (0.008811515982059703, 705, 1039, 0.9954219354903983),\n",
       " 0.6: (0.008811515982059703, 705, 1039, 0.9954219354903983),\n",
       " 0.7000000000000001: (0.008811515982059703, 705, 1039, 0.9954219354903983),\n",
       " 0.8: (0.008811515982059703, 705, 1039, 0.9954219354903983),\n",
       " 0.9: (0.008811515982059703, 705, 1039, 0.9954219354903983)}"
      ]
     },
     "execution_count": 28,
     "metadata": {},
     "output_type": "execute_result"
    }
   ],
   "source": [
    "threshold"
   ]
  },
  {
   "cell_type": "code",
   "execution_count": 30,
   "id": "534a047e",
   "metadata": {},
   "outputs": [
    {
     "name": "stdout",
     "output_type": "stream",
     "text": [
      "Wall time: 10.6 s\n"
     ]
    }
   ],
   "source": [
    "%%time\n",
    "threshold = {}\n",
    "with warnings.catch_warnings(record=True):\n",
    "    warnings.simplefilter(\"always\")\n",
    "    for i in np.arange(.1,1,.1):\n",
    "        threshold[i] = ModelthresholdTesting(knn_trained,X_test1.values,y_test1.astype('category'),threshold = i)\n",
    "    "
   ]
  },
  {
   "cell_type": "code",
   "execution_count": 31,
   "id": "0922c8f5",
   "metadata": {},
   "outputs": [
    {
     "data": {
      "text/plain": [
       "{0.1: (9.466282005048684e-05, 0, 7, 0.999933856227233),\n",
       " 0.2: (9.466282005048684e-05, 0, 7, 0.999933856227233),\n",
       " 0.30000000000000004: (9.466282005048684e-05, 0, 7, 0.999933856227233),\n",
       " 0.4: (9.466282005048684e-05, 0, 7, 0.999933856227233),\n",
       " 0.5: (9.466282005048684e-05, 0, 7, 0.999933856227233),\n",
       " 0.6: (9.466282005048684e-05, 0, 7, 0.999933856227233),\n",
       " 0.7000000000000001: (9.466282005048684e-05, 0, 7, 0.999933856227233),\n",
       " 0.8: (9.466282005048684e-05, 0, 7, 0.999933856227233),\n",
       " 0.9: (9.466282005048684e-05, 0, 7, 0.999933856227233)}"
      ]
     },
     "execution_count": 31,
     "metadata": {},
     "output_type": "execute_result"
    }
   ],
   "source": [
    "threshold"
   ]
  },
  {
   "cell_type": "code",
   "execution_count": 33,
   "id": "7a735585",
   "metadata": {},
   "outputs": [
    {
     "data": {
      "text/plain": [
       "105832"
      ]
     },
     "execution_count": 33,
     "metadata": {},
     "output_type": "execute_result"
    }
   ],
   "source": [
    "len(y_test1)"
   ]
  },
  {
   "cell_type": "code",
   "execution_count": 32,
   "id": "4e810568",
   "metadata": {},
   "outputs": [
    {
     "name": "stderr",
     "output_type": "stream",
     "text": [
      "C:\\Users\\z004csar\\Anaconda3\\lib\\site-packages\\sklearn\\base.py:450: UserWarning: X does not have valid feature names, but KNeighborsClassifier was fitted with feature names\n",
      "  warnings.warn(\n"
     ]
    },
    {
     "name": "stdout",
     "output_type": "stream",
     "text": [
      "Wall time: 1.25 s\n"
     ]
    },
    {
     "data": {
      "text/plain": [
       "(9.466282005048684e-05, 0, 7, 0.999933856227233)"
      ]
     },
     "execution_count": 32,
     "metadata": {},
     "output_type": "execute_result"
    }
   ],
   "source": [
    "%%time\n",
    "ModelthresholdTesting(knn_trained,X_test1.values,y_test1.astype('category'),threshold = 0.5)"
   ]
  },
  {
   "cell_type": "code",
   "execution_count": null,
   "id": "fe958a12",
   "metadata": {},
   "outputs": [],
   "source": [
    "svm_model = pickle.load(open('svm_modeltrained.sav', 'rb'))\n"
   ]
  },
  {
   "cell_type": "code",
   "execution_count": null,
   "id": "e8651ec6",
   "metadata": {},
   "outputs": [],
   "source": [
    "ploty2"
   ]
  },
  {
   "cell_type": "code",
   "execution_count": null,
   "id": "8a9db2ea",
   "metadata": {},
   "outputs": [],
   "source": [
    "CFandYplot2(knn_trained2,X_test1,y_test1,threshold = 0.5)\n",
    "plt.tight_layout()\n",
    "plt.savefig('KNNPlotConfig2')"
   ]
  },
  {
   "cell_type": "code",
   "execution_count": null,
   "id": "9f34b7ce",
   "metadata": {},
   "outputs": [],
   "source": [
    "with warnings.catch_warnings(record=True):\n",
    "    warnings.simplefilter(\"always\")\n",
    "    model = plotconfusiongrid_bluematrix(dataPT_Test,svmtrained,0.8)\n",
    "    plt.tight_layout()\n",
    "    plt.savefig('SVM8burnerConfusionMatrixConfig2')"
   ]
  },
  {
   "cell_type": "code",
   "execution_count": null,
   "id": "e873dd21",
   "metadata": {},
   "outputs": [],
   "source": [
    "model"
   ]
  },
  {
   "cell_type": "code",
   "execution_count": null,
   "id": "81502374",
   "metadata": {},
   "outputs": [],
   "source": [
    "CFandYplot(X_train,y_train,X_test1,y_test1,gnb_trained,threshold = 0.9)\n",
    "plt.tight_layout()\n",
    "plt.savefig('gnbPlotConfig2')"
   ]
  },
  {
   "cell_type": "code",
   "execution_count": null,
   "id": "b240459d",
   "metadata": {},
   "outputs": [],
   "source": [
    "with warnings.catch_warnings(record=True):\n",
    "    warnings.simplefilter(\"always\")\n",
    "    model = plotconfusiongrid_bluematrix(dataPT_Test,gnb_trained,0.9)\n",
    "    plt.tight_layout()\n",
    "    plt.savefig('gnb8burnerConfusionMatrixConfig2')"
   ]
  },
  {
   "cell_type": "code",
   "execution_count": null,
   "id": "1dbc9bed",
   "metadata": {},
   "outputs": [],
   "source": [
    "model"
   ]
  },
  {
   "cell_type": "code",
   "execution_count": null,
   "id": "a861fc29",
   "metadata": {},
   "outputs": [],
   "source": [
    "CFandYplot(X_train,y_train,X_test1,y_test1,rftrained,threshold = 0.5)\n",
    "plt.tight_layout()\n",
    "plt.savefig('rfPlotConfig2')"
   ]
  },
  {
   "cell_type": "code",
   "execution_count": null,
   "id": "03fe9ea4",
   "metadata": {},
   "outputs": [],
   "source": [
    "with warnings.catch_warnings(record=True):\n",
    "    warnings.simplefilter(\"always\")\n",
    "    model = plotconfusiongrid_bluematrix(dataPT_Test,rftrained,0.5)\n",
    "    plt.tight_layout()\n",
    "    plt.savefig('rf8burnerConfusionMatrixConfig2')"
   ]
  },
  {
   "cell_type": "code",
   "execution_count": null,
   "id": "e38362c3",
   "metadata": {},
   "outputs": [],
   "source": [
    "model"
   ]
  },
  {
   "cell_type": "code",
   "execution_count": null,
   "id": "482ff0e9",
   "metadata": {},
   "outputs": [],
   "source": [
    "CFandYplot(X_train,y_train,X_test1,y_test1,xgbtrained,threshold = 0.5)\n",
    "plt.tight_layout()\n",
    "plt.savefig('xgbPlotConfig2')"
   ]
  },
  {
   "cell_type": "code",
   "execution_count": null,
   "id": "169d523e",
   "metadata": {},
   "outputs": [],
   "source": [
    "with warnings.catch_warnings(record=True):\n",
    "    warnings.simplefilter(\"always\")\n",
    "    model = plotconfusiongrid_bluematrix(dataPT_Test,xgbtrained,0.5)\n",
    "    plt.tight_layout()\n",
    "    plt.savefig('xgb8burnerConfusionMatrixConfig2')"
   ]
  },
  {
   "cell_type": "code",
   "execution_count": null,
   "id": "241a242c",
   "metadata": {},
   "outputs": [],
   "source": [
    "model"
   ]
  },
  {
   "cell_type": "code",
   "execution_count": null,
   "id": "fe38336b",
   "metadata": {},
   "outputs": [],
   "source": [
    "CFandYplot(X_train,y_train,X_test1,y_test1,knn_trained,threshold = 0.5)\n",
    "plt.tight_layout()\n",
    "plt.savefig('knnPlotConfig2')"
   ]
  },
  {
   "cell_type": "code",
   "execution_count": null,
   "id": "595b7946",
   "metadata": {},
   "outputs": [],
   "source": [
    "with warnings.catch_warnings(record=True):\n",
    "    warnings.simplefilter(\"always\")\n",
    "    model = plotconfusiongrid_bluematrix(dataPT_Test,knn_trained,0.5)\n",
    "    plt.tight_layout()\n",
    "    plt.savefig('knn8burnerConfusionMatrixConfig2')"
   ]
  },
  {
   "cell_type": "code",
   "execution_count": null,
   "id": "e990bef7",
   "metadata": {},
   "outputs": [],
   "source": [
    "model"
   ]
  },
  {
   "cell_type": "code",
   "execution_count": null,
   "id": "99f2156a",
   "metadata": {},
   "outputs": [],
   "source": [
    "threshold = {}\n",
    "with warnings.catch_warnings(record=True):\n",
    "    warnings.simplefilter(\"always\")\n",
    "    for i in np.arange(.1,1,.1):\n",
    "        threshold[i] = ModelthresholdTesting(gnb_trained,X_test.values,y_test.astype('category'),threshold = i)\n",
    "    "
   ]
  },
  {
   "cell_type": "code",
   "execution_count": null,
   "id": "3c77de4c",
   "metadata": {},
   "outputs": [],
   "source": [
    "threshold"
   ]
  },
  {
   "cell_type": "code",
   "execution_count": null,
   "id": "820ff190",
   "metadata": {},
   "outputs": [],
   "source": [
    "threshold = {}\n",
    "with warnings.catch_warnings(record=True):\n",
    "    warnings.simplefilter(\"always\")\n",
    "    for i in np.arange(.1,1,.1):\n",
    "        threshold[i] = ModelthresholdTesting(rftrained,X_test.values,y_test.astype('category'),threshold = i)\n",
    "    "
   ]
  },
  {
   "cell_type": "code",
   "execution_count": null,
   "id": "afe12e17",
   "metadata": {},
   "outputs": [],
   "source": [
    "threshold"
   ]
  },
  {
   "cell_type": "code",
   "execution_count": null,
   "id": "c43b2c45",
   "metadata": {},
   "outputs": [],
   "source": [
    "threshold = {}\n",
    "with warnings.catch_warnings(record=True):\n",
    "    warnings.simplefilter(\"always\")\n",
    "    for i in np.arange(.1,1,.1):\n",
    "        threshold[i] = ModelthresholdTesting(xgbtrained,X_test.values,y_test.astype('category'),threshold = i)\n",
    "    "
   ]
  },
  {
   "cell_type": "code",
   "execution_count": null,
   "id": "ab85c4cc",
   "metadata": {},
   "outputs": [],
   "source": [
    "threshold"
   ]
  },
  {
   "cell_type": "markdown",
   "id": "3fd9a86f",
   "metadata": {},
   "source": [
    "## KNN "
   ]
  },
  {
   "cell_type": "code",
   "execution_count": null,
   "id": "242a1ae0",
   "metadata": {},
   "outputs": [],
   "source": [
    "%time\n",
    "from sklearn.neighbors import KNeighborsClassifier\n",
    "model = KNeighborsClassifier()\n",
    "# n_neighbors = range(1, 11, 2)\n",
    "# weights = ['uniform', 'distance']\n",
    "# metric = ['euclidean', 'manhattan', 'minkowski']\n",
    "# # define grid search\n",
    "# grid = dict(n_neighbors=n_neighbors,weights=weights,metric=metric)\n",
    "# cv = RepeatedStratifiedKFold(n_splits=10, n_repeats=3, random_state=1)\n",
    "# grid_search = GridSearchCV(estimator=model, param_grid=grid, n_jobs=-1, cv=cv, scoring='roc_auc',error_score=0)\n",
    "# grid_resultKNN = grid_search.fit(X,y.astype('category'))\n",
    "# # summarize results\n",
    "# print(\"Best: %f using %s\" % (grid_resultKNN.best_score_, grid_resultKNN.best_params_))\n",
    "# means = grid_resultKNN.cv_results_['mean_test_score']\n",
    "# stds = grid_resultKNN.cv_results_['std_test_score']\n",
    "# params = grid_resultKNN.cv_results_['params']\n",
    "# for mean, stdev, param in zip(means, stds, params):\n",
    "#     print(\"%f (%f) with: %r\" % (mean, stdev, param))"
   ]
  },
  {
   "cell_type": "code",
   "execution_count": null,
   "id": "68428280",
   "metadata": {},
   "outputs": [],
   "source": [
    "import pickle\n",
    "filename = 'KNN_RepeatedGridSearchCV.sav'\n",
    "pickle.dump(grid_resultKNN, open(filename, 'wb'))"
   ]
  },
  {
   "cell_type": "markdown",
   "id": "334490fa",
   "metadata": {},
   "source": [
    "## SVM "
   ]
  },
  {
   "cell_type": "code",
   "execution_count": null,
   "id": "5a937cce",
   "metadata": {},
   "outputs": [],
   "source": [
    "from sklearn import svm"
   ]
  },
  {
   "cell_type": "code",
   "execution_count": null,
   "id": "3bd0d4df",
   "metadata": {},
   "outputs": [],
   "source": [
    "\n",
    "# kernel = ['poly', 'rbf', 'sigmoid']\n",
    "# C = [50, 10, 1.0, 0.1, 0.01]\n",
    "# gamma = ['scale']\n",
    "# # define grid search\n",
    "# grid = dict(kernel=kernel,C=C,gamma=gamma)\n",
    "# cv = RepeatedStratifiedKFold(n_splits=10, n_repeats=3, random_state=1)\n",
    "# grid_search = GridSearchCV(estimator=model, param_grid=grid, n_jobs=-1, cv=cv, scoring='accuracy',error_score=0)\n",
    "# grid_resultSVM = grid_search.fit(X_train, y_train.astype('category'))\n",
    "# # summarize results\n",
    "# print(\"Best: %f using %s\" % (grid_result.best_score_, grid_result.best_params_))\n",
    "# means = grid_resultSVM.cv_results_['mean_test_score']\n",
    "# stds = grid_resultSVM.cv_results_['std_test_score']\n",
    "# params = grid_resultSVM.cv_results_['params']\n",
    "# for mean, stdev, param in zip(means, stds, params):\n",
    "#     print(\"%f (%f) with: %r\" % (mean, stdev, param))\n"
   ]
  },
  {
   "cell_type": "code",
   "execution_count": null,
   "id": "a3b604ed",
   "metadata": {},
   "outputs": [],
   "source": [
    "model = svm.SVC(C = 1,kernel = 'rbf',gamma = .001)\n",
    "svclf = model.fit(X_train,y_train.astype('category'))"
   ]
  },
  {
   "cell_type": "code",
   "execution_count": null,
   "id": "2473abaf",
   "metadata": {},
   "outputs": [],
   "source": [
    "filename = 'SVM_RepeatedGridSearchCV_Config2.sav'\n",
    "pickle.dump(grid_resultSVM, open(filename, 'wb'))"
   ]
  },
  {
   "cell_type": "markdown",
   "id": "2edbcd50",
   "metadata": {},
   "source": [
    "## Random Forest"
   ]
  },
  {
   "cell_type": "code",
   "execution_count": null,
   "id": "6bb22851",
   "metadata": {},
   "outputs": [],
   "source": [
    "%time \n",
    "n_estimators = [10, 100, 1000]\n",
    "max_features = ['sqrt', 'log2']\n",
    "# define grid search\n",
    "grid = dict(n_estimators=n_estimators,max_features=max_features)\n",
    "cv = RepeatedStratifiedKFold(n_splits=10, n_repeats=3, random_state=1)\n",
    "grid_search = GridSearchCV(estimator=model, param_grid=grid, n_jobs=-1, cv=cv, scoring='roc_auc',error_score=0)\n",
    "grid_resultRF = grid_search.fit(X_train, y_train.astype('category'))\n",
    "# summarize results\n",
    "print(\"Best: %f using %s\" % (grid_result.best_score_, grid_result.best_params_))\n",
    "means = grid_resultRF.cv_results_['mean_test_score']\n",
    "stds = grid_resultRF.cv_results_['std_test_score']\n",
    "params = grid_resultRF.cv_results_['params']\n",
    "for mean, stdev, param in zip(means, stds, params):\n",
    "    print(\"%f (%f) with: %r\" % (mean, stdev, param))"
   ]
  },
  {
   "cell_type": "code",
   "execution_count": null,
   "id": "ff65e4d5",
   "metadata": {},
   "outputs": [],
   "source": [
    "\n",
    "filename = 'RF_RepeatedGridSearchCV_Config2.sav'\n",
    "pickle.dump(grid_resultRF, open(filename, 'wb'))"
   ]
  },
  {
   "cell_type": "markdown",
   "id": "30b93175",
   "metadata": {},
   "source": [
    "## XGBoost"
   ]
  },
  {
   "cell_type": "code",
   "execution_count": null,
   "id": "75114a61",
   "metadata": {},
   "outputs": [],
   "source": [
    "%time\n",
    "\n",
    "\n",
    "from xgboost import XGBClassifier\n",
    "\n",
    "# fit model no training data\n",
    "model = XGBClassifier()\n",
    "n_estimators = [10, 100, 1000]\n",
    "learning_rate = [0.001, 0.01, 0.1]\n",
    "subsample = [0.5, 0.7, 1.0]\n",
    "max_depth = [3, 7, 9]\n",
    "# define grid search\n",
    "grid = dict(learning_rate=learning_rate, n_estimators=n_estimators, subsample=subsample, max_depth=max_depth)\n",
    "cv = RepeatedStratifiedKFold(n_splits=10, n_repeats=3, random_state=1)\n",
    "grid_search = GridSearchCV(estimator=model, param_grid=grid, n_jobs=-1, cv=cv, scoring='roc_auc',error_score=0)\n",
    "grid_resultXGB = grid_search.fit(np.array(X_train), y_train.astype('category'))\n",
    "# summarize results\n",
    "print(\"Best: %f using %s\" % (grid_result.best_score_, grid_result.best_params_))\n",
    "means = grid_resultXGB.cv_results_['mean_test_score']\n",
    "stds = grid_resultXGB.cv_results_['std_test_score']\n",
    "params = grid_resultXGB.cv_results_['params']\n",
    "for mean, stdev, param in zip(means, stds, params):\n",
    "    print(\"%f (%f) with: %r\" % (mean, stdev, param))"
   ]
  },
  {
   "cell_type": "code",
   "execution_count": null,
   "id": "c1682db6",
   "metadata": {},
   "outputs": [],
   "source": [
    "\n",
    "filename = 'XGB_RepeatedGridSearchCV_Config2.sav'\n",
    "pickle.dump(grid_resultXGB, open(filename, 'wb'))"
   ]
  },
  {
   "cell_type": "code",
   "execution_count": null,
   "id": "e1f4cc4d",
   "metadata": {},
   "outputs": [],
   "source": []
  }
 ],
 "metadata": {
  "kernelspec": {
   "display_name": "Python 3",
   "language": "python",
   "name": "python3"
  },
  "language_info": {
   "codemirror_mode": {
    "name": "ipython",
    "version": 3
   },
   "file_extension": ".py",
   "mimetype": "text/x-python",
   "name": "python",
   "nbconvert_exporter": "python",
   "pygments_lexer": "ipython3",
   "version": "3.8.8"
  }
 },
 "nbformat": 4,
 "nbformat_minor": 5
}
