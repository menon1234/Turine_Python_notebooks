{
 "cells": [
  {
   "cell_type": "code",
   "execution_count": 3,
   "id": "d5367dd8",
   "metadata": {},
   "outputs": [],
   "source": [
    "##Run all the scripts\n",
    "\n",
    "%run Pyscripts\\MT_SE_PT_Preprocess.py\n",
    "%run Pyscripts\\MT_SE_PT_Visusalisation.py"
   ]
  },
  {
   "cell_type": "code",
   "execution_count": 4,
   "id": "3fd98178",
   "metadata": {},
   "outputs": [],
   "source": [
    "%run Pyscripts\\MT_SE_PT_Funtions.py\n",
    "%run Pyscripts\\MT_SE_PT_Heatmap.py\n",
    "%run Pyscripts\\MT_SE_PT_Tuner.py"
   ]
  },
  {
   "cell_type": "code",
   "execution_count": 7,
   "id": "a9b1e3d3",
   "metadata": {},
   "outputs": [],
   "source": [
    "###Unbalanced Dataset\n",
    "\n",
    "##Data from Gazli20210618Unbalanced\n",
    "with warnings.catch_warnings(record=True):\n",
    "    warnings.simplefilter(\"always\")\n",
    "    Gazli20210618Unbalanced = pd.read_excel('C:\\\\Users\\\\z004csar\\\\Thesis_Project\\\\Data-Siemens\\\\SGT-750_Data\\\\Data to train\\\\Gazli-2_750_20210618_UnbalancedDataset.xlsx',engine=\"openpyxl\",index_col=0)\n"
   ]
  },
  {
   "cell_type": "code",
   "execution_count": 8,
   "id": "7a24880b",
   "metadata": {},
   "outputs": [],
   "source": [
    "# Data Arrangement is totally different from the previous arrangements.\n",
    "# Get new dataarrangement\n",
    "\n",
    "###Balanced Dataset\n",
    "##Data from Gazli20210618Unbalanced\n",
    "with warnings.catch_warnings(record=True):\n",
    "    warnings.simplefilter(\"always\")\n",
    "    Gazli20210618Balanced = pd.read_excel('C:\\\\Users\\\\z004csar\\\\Thesis_Project\\\\Data-Siemens\\\\SGT-750_Data\\\\Data to train\\\\Gazli-1_750_20210629_flamedetector_data(T6 and T7).xlsx',engine=\"openpyxl\",index_col=0)\n",
    "\n"
   ]
  },
  {
   "cell_type": "code",
   "execution_count": 9,
   "id": "91a63f6a",
   "metadata": {},
   "outputs": [
    {
     "name": "stdout",
     "output_type": "stream",
     "text": [
      "No na values\n"
     ]
    }
   ],
   "source": [
    "####Preprocess the data\n",
    "##Train\n",
    "dataTV = preprocess_indivburn_TV(Gazli20210618Balanced)\n",
    "##Test \n",
    "dataTV2 = preprocess_indivburn_TV(Gazli20210618Unbalanced)"
   ]
  },
  {
   "cell_type": "code",
   "execution_count": 13,
   "id": "0b8c8c16",
   "metadata": {},
   "outputs": [
    {
     "ename": "ValueError",
     "evalue": "Length mismatch: Expected axis has 7 elements, new values have 5 elements",
     "output_type": "error",
     "traceback": [
      "\u001b[1;31m---------------------------------------------------------------------------\u001b[0m",
      "\u001b[1;31mValueError\u001b[0m                                Traceback (most recent call last)",
      "\u001b[1;32m<ipython-input-13-84f63e675e18>\u001b[0m in \u001b[0;36m<module>\u001b[1;34m\u001b[0m\n\u001b[1;32m----> 1\u001b[1;33m \u001b[0mheatmap_burner_temperature\u001b[0m\u001b[1;33m(\u001b[0m\u001b[0mdataTV\u001b[0m\u001b[1;33m)\u001b[0m\u001b[1;33m\u001b[0m\u001b[1;33m\u001b[0m\u001b[0m\n\u001b[0m\u001b[0;32m      2\u001b[0m \u001b[1;31m# heatmap_burner_pressure(dataTV)\u001b[0m\u001b[1;33m\u001b[0m\u001b[1;33m\u001b[0m\u001b[1;33m\u001b[0m\u001b[0m\n",
      "\u001b[1;32m~\\Thesis_Project\\TurbineTesting_DifferentAlignments\\MT_SE_IndivBurner\\Pyscripts\\MT_SE_PT_Heatmap.py\u001b[0m in \u001b[0;36mheatmap_burner_temperature\u001b[1;34m(data)\u001b[0m\n\u001b[0;32m     63\u001b[0m             corrmatrix.columns = [\"Burner Flame_on/off\", \"RPL Burner Temperature_°C\",\n\u001b[0;32m     64\u001b[0m                                   \u001b[1;34m\"T7 Exhaust Temp Average Ring1_°C\"\u001b[0m\u001b[1;33m,\u001b[0m \u001b[1;34m\"T7 Exhaust Temp Average Ring 2_°C\"\u001b[0m\u001b[1;33m,\u001b[0m\u001b[1;33m\u001b[0m\u001b[1;33m\u001b[0m\u001b[0m\n\u001b[1;32m---> 65\u001b[1;33m                                   \"T7 Exhaust Temp Average Ring 3_°C\"]\n\u001b[0m\u001b[0;32m     66\u001b[0m             corrmatrix.index = [\"Burner Flame_on/off\", \"RPL Burner Temperature_°C\",\n\u001b[0;32m     67\u001b[0m                                   \u001b[1;34m\"T7 Exhaust Temp Average Ring1_°C\"\u001b[0m\u001b[1;33m,\u001b[0m \u001b[1;34m\"T7 Exhaust Temp Average Ring 2_°C\"\u001b[0m\u001b[1;33m,\u001b[0m\u001b[1;33m\u001b[0m\u001b[1;33m\u001b[0m\u001b[0m\n",
      "\u001b[1;32m~\\Anaconda3\\envs\\tensor\\lib\\site-packages\\pandas\\core\\generic.py\u001b[0m in \u001b[0;36m__setattr__\u001b[1;34m(self, name, value)\u001b[0m\n\u001b[0;32m   5152\u001b[0m         \u001b[1;32mtry\u001b[0m\u001b[1;33m:\u001b[0m\u001b[1;33m\u001b[0m\u001b[1;33m\u001b[0m\u001b[0m\n\u001b[0;32m   5153\u001b[0m             \u001b[0mobject\u001b[0m\u001b[1;33m.\u001b[0m\u001b[0m__getattribute__\u001b[0m\u001b[1;33m(\u001b[0m\u001b[0mself\u001b[0m\u001b[1;33m,\u001b[0m \u001b[0mname\u001b[0m\u001b[1;33m)\u001b[0m\u001b[1;33m\u001b[0m\u001b[1;33m\u001b[0m\u001b[0m\n\u001b[1;32m-> 5154\u001b[1;33m             \u001b[1;32mreturn\u001b[0m \u001b[0mobject\u001b[0m\u001b[1;33m.\u001b[0m\u001b[0m__setattr__\u001b[0m\u001b[1;33m(\u001b[0m\u001b[0mself\u001b[0m\u001b[1;33m,\u001b[0m \u001b[0mname\u001b[0m\u001b[1;33m,\u001b[0m \u001b[0mvalue\u001b[0m\u001b[1;33m)\u001b[0m\u001b[1;33m\u001b[0m\u001b[1;33m\u001b[0m\u001b[0m\n\u001b[0m\u001b[0;32m   5155\u001b[0m         \u001b[1;32mexcept\u001b[0m \u001b[0mAttributeError\u001b[0m\u001b[1;33m:\u001b[0m\u001b[1;33m\u001b[0m\u001b[1;33m\u001b[0m\u001b[0m\n\u001b[0;32m   5156\u001b[0m             \u001b[1;32mpass\u001b[0m\u001b[1;33m\u001b[0m\u001b[1;33m\u001b[0m\u001b[0m\n",
      "\u001b[1;32mpandas\\_libs\\properties.pyx\u001b[0m in \u001b[0;36mpandas._libs.properties.AxisProperty.__set__\u001b[1;34m()\u001b[0m\n",
      "\u001b[1;32m~\\Anaconda3\\envs\\tensor\\lib\\site-packages\\pandas\\core\\generic.py\u001b[0m in \u001b[0;36m_set_axis\u001b[1;34m(self, axis, labels)\u001b[0m\n\u001b[0;32m    562\u001b[0m     \u001b[1;32mdef\u001b[0m \u001b[0m_set_axis\u001b[0m\u001b[1;33m(\u001b[0m\u001b[0mself\u001b[0m\u001b[1;33m,\u001b[0m \u001b[0maxis\u001b[0m\u001b[1;33m:\u001b[0m \u001b[0mint\u001b[0m\u001b[1;33m,\u001b[0m \u001b[0mlabels\u001b[0m\u001b[1;33m:\u001b[0m \u001b[0mIndex\u001b[0m\u001b[1;33m)\u001b[0m \u001b[1;33m->\u001b[0m \u001b[1;32mNone\u001b[0m\u001b[1;33m:\u001b[0m\u001b[1;33m\u001b[0m\u001b[1;33m\u001b[0m\u001b[0m\n\u001b[0;32m    563\u001b[0m         \u001b[0mlabels\u001b[0m \u001b[1;33m=\u001b[0m \u001b[0mensure_index\u001b[0m\u001b[1;33m(\u001b[0m\u001b[0mlabels\u001b[0m\u001b[1;33m)\u001b[0m\u001b[1;33m\u001b[0m\u001b[1;33m\u001b[0m\u001b[0m\n\u001b[1;32m--> 564\u001b[1;33m         \u001b[0mself\u001b[0m\u001b[1;33m.\u001b[0m\u001b[0m_mgr\u001b[0m\u001b[1;33m.\u001b[0m\u001b[0mset_axis\u001b[0m\u001b[1;33m(\u001b[0m\u001b[0maxis\u001b[0m\u001b[1;33m,\u001b[0m \u001b[0mlabels\u001b[0m\u001b[1;33m)\u001b[0m\u001b[1;33m\u001b[0m\u001b[1;33m\u001b[0m\u001b[0m\n\u001b[0m\u001b[0;32m    565\u001b[0m         \u001b[0mself\u001b[0m\u001b[1;33m.\u001b[0m\u001b[0m_clear_item_cache\u001b[0m\u001b[1;33m(\u001b[0m\u001b[1;33m)\u001b[0m\u001b[1;33m\u001b[0m\u001b[1;33m\u001b[0m\u001b[0m\n\u001b[0;32m    566\u001b[0m \u001b[1;33m\u001b[0m\u001b[0m\n",
      "\u001b[1;32m~\\Anaconda3\\envs\\tensor\\lib\\site-packages\\pandas\\core\\internals\\managers.py\u001b[0m in \u001b[0;36mset_axis\u001b[1;34m(self, axis, new_labels)\u001b[0m\n\u001b[0;32m    225\u001b[0m         \u001b[1;32mif\u001b[0m \u001b[0mnew_len\u001b[0m \u001b[1;33m!=\u001b[0m \u001b[0mold_len\u001b[0m\u001b[1;33m:\u001b[0m\u001b[1;33m\u001b[0m\u001b[1;33m\u001b[0m\u001b[0m\n\u001b[0;32m    226\u001b[0m             raise ValueError(\n\u001b[1;32m--> 227\u001b[1;33m                 \u001b[1;34mf\"Length mismatch: Expected axis has {old_len} elements, new \"\u001b[0m\u001b[1;33m\u001b[0m\u001b[1;33m\u001b[0m\u001b[0m\n\u001b[0m\u001b[0;32m    228\u001b[0m                 \u001b[1;34mf\"values have {new_len} elements\"\u001b[0m\u001b[1;33m\u001b[0m\u001b[1;33m\u001b[0m\u001b[0m\n\u001b[0;32m    229\u001b[0m             )\n",
      "\u001b[1;31mValueError\u001b[0m: Length mismatch: Expected axis has 7 elements, new values have 5 elements"
     ]
    },
    {
     "data": {
      "image/png": "[encoded data removed]",
      "text/plain": [
       "<Figure size 1080x720 with 8 Axes>"
      ]
     },
     "metadata": {
      "needs_background": "light"
     },
     "output_type": "display_data"
    }
   ],
   "source": [
    "heatmap_burner_temperature(dataTV)\n",
    "# heatmap_burner_pressure(dataTV)"
   ]
  },
  {
   "cell_type": "markdown",
   "id": "21d61fb2",
   "metadata": {},
   "source": [
    "## Logistic Regression"
   ]
  },
  {
   "cell_type": "code",
   "execution_count": 14,
   "id": "121b1eff",
   "metadata": {},
   "outputs": [],
   "source": [
    "from sklearn.linear_model import LogisticRegression\n",
    "log_model = LogisticRegression(solver='liblinear', random_state=21,penalty = 'l2',max_iter=249)"
   ]
  },
  {
   "cell_type": "code",
   "execution_count": 15,
   "id": "c6fde5bd",
   "metadata": {},
   "outputs": [
    {
     "name": "stdout",
     "output_type": "stream",
     "text": [
      "\n",
      "The Burner which gives the highest accuracy after testing on all other burners are:  4\n",
      "The Burner which gives the lowest accuracy after testing on all other burners are: 2 \n",
      "\n"
     ]
    },
    {
     "ename": "TypeError",
     "evalue": "'LogisticRegression' object does not support indexing",
     "output_type": "error",
     "traceback": [
      "\u001b[1;31m---------------------------------------------------------------------------\u001b[0m",
      "\u001b[1;31mTypeError\u001b[0m                                 Traceback (most recent call last)",
      "\u001b[1;32m<ipython-input-15-d49552f3f3ca>\u001b[0m in \u001b[0;36m<module>\u001b[1;34m\u001b[0m\n\u001b[0;32m      2\u001b[0m \u001b[1;31m###Train on more switching dataset and train on less switching dataset\u001b[0m\u001b[1;33m\u001b[0m\u001b[1;33m\u001b[0m\u001b[1;33m\u001b[0m\u001b[0m\n\u001b[0;32m      3\u001b[0m \u001b[0mbestburner\u001b[0m \u001b[1;33m=\u001b[0m \u001b[0mhighestpredburner\u001b[0m\u001b[1;33m(\u001b[0m\u001b[0mdataTV\u001b[0m\u001b[1;33m,\u001b[0m\u001b[0mlog_model\u001b[0m\u001b[1;33m)\u001b[0m\u001b[1;33m\u001b[0m\u001b[1;33m\u001b[0m\u001b[0m\n\u001b[1;32m----> 4\u001b[1;33m \u001b[0mevalmodeltest\u001b[0m\u001b[1;33m(\u001b[0m\u001b[0mdataTV\u001b[0m\u001b[1;33m,\u001b[0m\u001b[0mbestburner\u001b[0m\u001b[1;33m,\u001b[0m\u001b[0mlog_model\u001b[0m\u001b[1;33m,\u001b[0m\u001b[0mdataTV2\u001b[0m\u001b[1;33m)\u001b[0m\u001b[1;33m\u001b[0m\u001b[1;33m\u001b[0m\u001b[0m\n\u001b[0m",
      "\u001b[1;32m~\\Thesis_Project\\TurbineTesting_DifferentAlignments\\MT_SE_IndivBurner\\Pyscripts\\MT_SE_PT_Funtions.py\u001b[0m in \u001b[0;36mevalmodeltest\u001b[1;34m(datatrain, datatest, bestburner, classfier, S, MS)\u001b[0m\n\u001b[0;32m    186\u001b[0m             \u001b[0mX\u001b[0m \u001b[1;33m=\u001b[0m \u001b[0mscaler\u001b[0m\u001b[1;33m.\u001b[0m\u001b[0mfit_transform\u001b[0m\u001b[1;33m(\u001b[0m\u001b[0mdatatrain\u001b[0m\u001b[1;33m[\u001b[0m\u001b[0mint\u001b[0m\u001b[1;33m(\u001b[0m\u001b[0mbestburner\u001b[0m\u001b[1;33m[\u001b[0m\u001b[1;36m0\u001b[0m\u001b[1;33m]\u001b[0m\u001b[1;33m[\u001b[0m\u001b[1;36m0\u001b[0m\u001b[1;33m]\u001b[0m\u001b[1;33m)\u001b[0m\u001b[1;33m]\u001b[0m\u001b[1;33m.\u001b[0m\u001b[0miloc\u001b[0m\u001b[1;33m[\u001b[0m\u001b[1;33m:\u001b[0m\u001b[1;33m,\u001b[0m\u001b[1;36m1\u001b[0m\u001b[1;33m:\u001b[0m\u001b[1;33m]\u001b[0m\u001b[1;33m)\u001b[0m\u001b[1;33m\u001b[0m\u001b[1;33m\u001b[0m\u001b[0m\n\u001b[0;32m    187\u001b[0m     \u001b[1;32melse\u001b[0m\u001b[1;33m:\u001b[0m\u001b[1;33m\u001b[0m\u001b[1;33m\u001b[0m\u001b[0m\n\u001b[1;32m--> 188\u001b[1;33m         \u001b[0mX\u001b[0m \u001b[1;33m=\u001b[0m \u001b[0mdatatrain\u001b[0m\u001b[1;33m[\u001b[0m\u001b[0mint\u001b[0m\u001b[1;33m(\u001b[0m\u001b[0mbestburner\u001b[0m\u001b[1;33m[\u001b[0m\u001b[1;36m0\u001b[0m\u001b[1;33m]\u001b[0m\u001b[1;33m[\u001b[0m\u001b[1;36m0\u001b[0m\u001b[1;33m]\u001b[0m\u001b[1;33m)\u001b[0m\u001b[1;33m]\u001b[0m\u001b[1;33m.\u001b[0m\u001b[0miloc\u001b[0m\u001b[1;33m[\u001b[0m\u001b[1;33m:\u001b[0m\u001b[1;33m,\u001b[0m\u001b[1;36m1\u001b[0m\u001b[1;33m:\u001b[0m\u001b[1;33m]\u001b[0m\u001b[1;33m\u001b[0m\u001b[1;33m\u001b[0m\u001b[0m\n\u001b[0m\u001b[0;32m    189\u001b[0m     \u001b[0my\u001b[0m \u001b[1;33m=\u001b[0m \u001b[0mdatatrain\u001b[0m\u001b[1;33m[\u001b[0m\u001b[0mint\u001b[0m\u001b[1;33m(\u001b[0m\u001b[0mbestburner\u001b[0m\u001b[1;33m[\u001b[0m\u001b[1;36m0\u001b[0m\u001b[1;33m]\u001b[0m\u001b[1;33m[\u001b[0m\u001b[1;36m0\u001b[0m\u001b[1;33m]\u001b[0m\u001b[1;33m)\u001b[0m\u001b[1;33m]\u001b[0m\u001b[1;33m.\u001b[0m\u001b[0miloc\u001b[0m\u001b[1;33m[\u001b[0m\u001b[1;33m:\u001b[0m\u001b[1;33m,\u001b[0m\u001b[1;36m0\u001b[0m\u001b[1;33m]\u001b[0m\u001b[1;33m.\u001b[0m\u001b[0mastype\u001b[0m\u001b[1;33m(\u001b[0m\u001b[1;34m'category'\u001b[0m\u001b[1;33m)\u001b[0m\u001b[1;33m\u001b[0m\u001b[1;33m\u001b[0m\u001b[0m\n\u001b[0;32m    190\u001b[0m     \u001b[0mclassfier\u001b[0m\u001b[1;33m.\u001b[0m\u001b[0mfit\u001b[0m\u001b[1;33m(\u001b[0m\u001b[0mX\u001b[0m\u001b[1;33m,\u001b[0m\u001b[0my\u001b[0m\u001b[1;33m)\u001b[0m\u001b[1;33m\u001b[0m\u001b[1;33m\u001b[0m\u001b[0m\n",
      "\u001b[1;31mTypeError\u001b[0m: 'LogisticRegression' object does not support indexing"
     ]
    }
   ],
   "source": [
    "###Training on Best evaluated burner and testing on new data dataTV2\n",
    "###Train on more switching dataset and train on less switching dataset\n",
    "bestburner = highestpredburner(dataTV,log_model)\n",
    "evalmodeltest(dataTV,bestburner,log_model,dataTV2)"
   ]
  },
  {
   "cell_type": "code",
   "execution_count": null,
   "id": "89f8cb03",
   "metadata": {},
   "outputs": [],
   "source": [
    "plotconfusiongrid(dataTV,log_model)"
   ]
  },
  {
   "cell_type": "code",
   "execution_count": 16,
   "id": "7fa459dd",
   "metadata": {},
   "outputs": [
    {
     "name": "stdout",
     "output_type": "stream",
     "text": [
      "The total Number of False positives in the list is 9\n",
      "The total Number of False negatives in the list is 95\n"
     ]
    },
    {
     "data": {
      "text/plain": [
       "(9, 95, 104)"
      ]
     },
     "execution_count": 16,
     "metadata": {},
     "output_type": "execute_result"
    },
    {
     "data": {
      "image/png": "[encoded data removed]",
      "text/plain": [
       "<Figure size 1080x720 with 16 Axes>"
      ]
     },
     "metadata": {
      "needs_background": "light"
     },
     "output_type": "display_data"
    }
   ],
   "source": [
    "plotconfusiongrid(dataTV2,log_model)"
   ]
  },
  {
   "cell_type": "code",
   "execution_count": 17,
   "id": "593d6640",
   "metadata": {},
   "outputs": [
    {
     "name": "stdout",
     "output_type": "stream",
     "text": [
      "\n",
      "The Burner which gives the highest accuracy after testing on all other burners are:  0\n",
      "The Burner which gives the lowest accuracy after testing on all other burners are: 7 \n",
      "\n"
     ]
    },
    {
     "ename": "TypeError",
     "evalue": "'LogisticRegression' object does not support indexing",
     "output_type": "error",
     "traceback": [
      "\u001b[1;31m---------------------------------------------------------------------------\u001b[0m",
      "\u001b[1;31mTypeError\u001b[0m                                 Traceback (most recent call last)",
      "\u001b[1;32m<ipython-input-17-a621756e4192>\u001b[0m in \u001b[0;36m<module>\u001b[1;34m\u001b[0m\n\u001b[0;32m      2\u001b[0m \u001b[1;31m###Train on less switching dataset and testing on more switching dataset.\u001b[0m\u001b[1;33m\u001b[0m\u001b[1;33m\u001b[0m\u001b[1;33m\u001b[0m\u001b[0m\n\u001b[0;32m      3\u001b[0m \u001b[0mbestburner\u001b[0m \u001b[1;33m=\u001b[0m \u001b[0mhighestpredburner\u001b[0m\u001b[1;33m(\u001b[0m\u001b[0mdataTV2\u001b[0m\u001b[1;33m,\u001b[0m\u001b[0mlog_model\u001b[0m\u001b[1;33m)\u001b[0m\u001b[1;33m\u001b[0m\u001b[1;33m\u001b[0m\u001b[0m\n\u001b[1;32m----> 4\u001b[1;33m \u001b[0mevalmodeltest\u001b[0m\u001b[1;33m(\u001b[0m\u001b[0mdataTV2\u001b[0m\u001b[1;33m,\u001b[0m\u001b[0mbestburner\u001b[0m\u001b[1;33m,\u001b[0m\u001b[0mlog_model\u001b[0m\u001b[1;33m,\u001b[0m\u001b[0mdataTV\u001b[0m\u001b[1;33m)\u001b[0m\u001b[1;33m\u001b[0m\u001b[1;33m\u001b[0m\u001b[0m\n\u001b[0m",
      "\u001b[1;32m~\\Thesis_Project\\TurbineTesting_DifferentAlignments\\MT_SE_IndivBurner\\Pyscripts\\MT_SE_PT_Funtions.py\u001b[0m in \u001b[0;36mevalmodeltest\u001b[1;34m(datatrain, datatest, bestburner, classfier, S, MS)\u001b[0m\n\u001b[0;32m    186\u001b[0m             \u001b[0mX\u001b[0m \u001b[1;33m=\u001b[0m \u001b[0mscaler\u001b[0m\u001b[1;33m.\u001b[0m\u001b[0mfit_transform\u001b[0m\u001b[1;33m(\u001b[0m\u001b[0mdatatrain\u001b[0m\u001b[1;33m[\u001b[0m\u001b[0mint\u001b[0m\u001b[1;33m(\u001b[0m\u001b[0mbestburner\u001b[0m\u001b[1;33m[\u001b[0m\u001b[1;36m0\u001b[0m\u001b[1;33m]\u001b[0m\u001b[1;33m[\u001b[0m\u001b[1;36m0\u001b[0m\u001b[1;33m]\u001b[0m\u001b[1;33m)\u001b[0m\u001b[1;33m]\u001b[0m\u001b[1;33m.\u001b[0m\u001b[0miloc\u001b[0m\u001b[1;33m[\u001b[0m\u001b[1;33m:\u001b[0m\u001b[1;33m,\u001b[0m\u001b[1;36m1\u001b[0m\u001b[1;33m:\u001b[0m\u001b[1;33m]\u001b[0m\u001b[1;33m)\u001b[0m\u001b[1;33m\u001b[0m\u001b[1;33m\u001b[0m\u001b[0m\n\u001b[0;32m    187\u001b[0m     \u001b[1;32melse\u001b[0m\u001b[1;33m:\u001b[0m\u001b[1;33m\u001b[0m\u001b[1;33m\u001b[0m\u001b[0m\n\u001b[1;32m--> 188\u001b[1;33m         \u001b[0mX\u001b[0m \u001b[1;33m=\u001b[0m \u001b[0mdatatrain\u001b[0m\u001b[1;33m[\u001b[0m\u001b[0mint\u001b[0m\u001b[1;33m(\u001b[0m\u001b[0mbestburner\u001b[0m\u001b[1;33m[\u001b[0m\u001b[1;36m0\u001b[0m\u001b[1;33m]\u001b[0m\u001b[1;33m[\u001b[0m\u001b[1;36m0\u001b[0m\u001b[1;33m]\u001b[0m\u001b[1;33m)\u001b[0m\u001b[1;33m]\u001b[0m\u001b[1;33m.\u001b[0m\u001b[0miloc\u001b[0m\u001b[1;33m[\u001b[0m\u001b[1;33m:\u001b[0m\u001b[1;33m,\u001b[0m\u001b[1;36m1\u001b[0m\u001b[1;33m:\u001b[0m\u001b[1;33m]\u001b[0m\u001b[1;33m\u001b[0m\u001b[1;33m\u001b[0m\u001b[0m\n\u001b[0m\u001b[0;32m    189\u001b[0m     \u001b[0my\u001b[0m \u001b[1;33m=\u001b[0m \u001b[0mdatatrain\u001b[0m\u001b[1;33m[\u001b[0m\u001b[0mint\u001b[0m\u001b[1;33m(\u001b[0m\u001b[0mbestburner\u001b[0m\u001b[1;33m[\u001b[0m\u001b[1;36m0\u001b[0m\u001b[1;33m]\u001b[0m\u001b[1;33m[\u001b[0m\u001b[1;36m0\u001b[0m\u001b[1;33m]\u001b[0m\u001b[1;33m)\u001b[0m\u001b[1;33m]\u001b[0m\u001b[1;33m.\u001b[0m\u001b[0miloc\u001b[0m\u001b[1;33m[\u001b[0m\u001b[1;33m:\u001b[0m\u001b[1;33m,\u001b[0m\u001b[1;36m0\u001b[0m\u001b[1;33m]\u001b[0m\u001b[1;33m.\u001b[0m\u001b[0mastype\u001b[0m\u001b[1;33m(\u001b[0m\u001b[1;34m'category'\u001b[0m\u001b[1;33m)\u001b[0m\u001b[1;33m\u001b[0m\u001b[1;33m\u001b[0m\u001b[0m\n\u001b[0;32m    190\u001b[0m     \u001b[0mclassfier\u001b[0m\u001b[1;33m.\u001b[0m\u001b[0mfit\u001b[0m\u001b[1;33m(\u001b[0m\u001b[0mX\u001b[0m\u001b[1;33m,\u001b[0m\u001b[0my\u001b[0m\u001b[1;33m)\u001b[0m\u001b[1;33m\u001b[0m\u001b[1;33m\u001b[0m\u001b[0m\n",
      "\u001b[1;31mTypeError\u001b[0m: 'LogisticRegression' object does not support indexing"
     ]
    }
   ],
   "source": [
    "###Training on Best evaluated burner and testing on new data dataTV\n",
    "###Train on less switching dataset and testing on more switching dataset.\n",
    "bestburner = highestpredburner(dataTV2,log_model)\n",
    "evalmodeltest(dataTV2,bestburner,log_model,dataTV)"
   ]
  },
  {
   "cell_type": "code",
   "execution_count": 18,
   "id": "6e45b996",
   "metadata": {},
   "outputs": [
    {
     "name": "stdout",
     "output_type": "stream",
     "text": [
      "The total Number of False positives in the list is 5\n",
      "The total Number of False negatives in the list is 90\n"
     ]
    },
    {
     "data": {
      "text/plain": [
       "(5, 90, 95)"
      ]
     },
     "execution_count": 18,
     "metadata": {},
     "output_type": "execute_result"
    },
    {
     "data": {
      "image/png": "[encoded data removed]",
      "text/plain": [
       "<Figure size 1080x720 with 16 Axes>"
      ]
     },
     "metadata": {
      "needs_background": "light"
     },
     "output_type": "display_data"
    }
   ],
   "source": [
    "plotconfusiongrid(dataTV2,log_model)"
   ]
  },
  {
   "cell_type": "code",
   "execution_count": 19,
   "id": "d80896a6",
   "metadata": {},
   "outputs": [
    {
     "name": "stdout",
     "output_type": "stream",
     "text": [
      "The total Number of False positives in the list is 75\n",
      "The total Number of False negatives in the list is 632\n"
     ]
    },
    {
     "data": {
      "text/plain": [
       "(75, 632, 707)"
      ]
     },
     "execution_count": 19,
     "metadata": {},
     "output_type": "execute_result"
    },
    {
     "data": {
      "image/png": "[encoded data removed]",
      "text/plain": [
       "<Figure size 1080x720 with 16 Axes>"
      ]
     },
     "metadata": {
      "needs_background": "light"
     },
     "output_type": "display_data"
    }
   ],
   "source": [
    "plotconfusiongrid(dataTV,log_model)"
   ]
  },
  {
   "cell_type": "markdown",
   "id": "af1294fd",
   "metadata": {},
   "source": [
    "Improvement - Could take the mean of all the testing and see which burner testing is performing best when mean is taken."
   ]
  },
  {
   "cell_type": "markdown",
   "id": "4d988082",
   "metadata": {},
   "source": [
    "## Logistic Rergression - Standard Scaler"
   ]
  },
  {
   "cell_type": "code",
   "execution_count": null,
   "id": "5c3ac1f0",
   "metadata": {},
   "outputs": [],
   "source": [
    "log_model_scale = LogisticRegression(solver='liblinear', random_state=21,penalty = 'l2',max_iter=249)\n",
    "###Training on Best evaluated burner and testing on new data dataTV2\n",
    "###Train on more switching dataset and test on less switching dataset\n",
    "bestburner = highestpredburnerscale(dataTV,log_model_scale,scaler)\n",
    "evalmodeltest(dataTV,bestburner,log_model_scale,dataTV2,S = True,MS = 'Standard')"
   ]
  },
  {
   "cell_type": "code",
   "execution_count": null,
   "id": "83fb1b98",
   "metadata": {},
   "outputs": [],
   "source": [
    "# plotconfusiongrid_scale(dataTV,log_model_scale,scaler)"
   ]
  },
  {
   "cell_type": "code",
   "execution_count": null,
   "id": "72bd0b19",
   "metadata": {},
   "outputs": [],
   "source": [
    "# plotconfusiongrid_scale(dataTV2,log_model_scale,scaler)"
   ]
  },
  {
   "cell_type": "code",
   "execution_count": null,
   "id": "2db278da",
   "metadata": {},
   "outputs": [],
   "source": [
    "###Training on Best evaluated burner and testing on new data dataTV2\n",
    "###Train on less switching dataset and test on more switching dataset\n",
    "bestburner = highestpredburnerscale(dataTV2,log_model_scale,scaler)\n",
    "evalmodeltest(dataTV2,bestburner,log_model_scale,dataTV,S = True,MS = 'Standard')"
   ]
  },
  {
   "cell_type": "markdown",
   "id": "7f5cd2f2",
   "metadata": {},
   "source": [
    "### Logistic regression scaled- Minmax Sclaer"
   ]
  },
  {
   "cell_type": "code",
   "execution_count": null,
   "id": "187782b5",
   "metadata": {},
   "outputs": [],
   "source": [
    "###Training on Best evaluated burner and testing on new data dataTV2\n",
    "###Train on more switching dataset and train on less switching dataset\n",
    "bestburner = highestpredburnerscale(dataTV,log_model_scale,scalermin)\n",
    "evalmodeltest(dataTV,bestburner,log_model_scale,dataTV2,S = True,MS = 'Minmax')"
   ]
  },
  {
   "cell_type": "code",
   "execution_count": null,
   "id": "1476dc3f",
   "metadata": {},
   "outputs": [],
   "source": [
    "plotconfusiongrid_scale(dataTV,log_model_scale,scalermin)"
   ]
  },
  {
   "cell_type": "code",
   "execution_count": null,
   "id": "825ac375",
   "metadata": {},
   "outputs": [],
   "source": [
    "plotconfusiongrid_scale(dataTV2,log_model_scale,scalermin)"
   ]
  },
  {
   "cell_type": "code",
   "execution_count": null,
   "id": "c9d868ed",
   "metadata": {},
   "outputs": [],
   "source": [
    "###Training on Best evaluated burner and testing on new data dataTV\n",
    "###Train on less switching dataset and train on more switching dataset\n",
    "bestburner = highestpredburnerscale(dataTV2,log_model_scale,scalermin)\n",
    "evalmodeltest(dataTV2,bestburner,log_model_scale,dataTV,S = True,MS = 'Minmax')"
   ]
  },
  {
   "cell_type": "code",
   "execution_count": null,
   "id": "2b187e9a",
   "metadata": {},
   "outputs": [],
   "source": [
    "plotconfusiongrid_scale(dataTV,log_model_scale,scalermin)"
   ]
  },
  {
   "cell_type": "code",
   "execution_count": null,
   "id": "0e0f03bf",
   "metadata": {},
   "outputs": [],
   "source": [
    "plotconfusiongrid_scale(dataTV2,log_model_scale,scalermin)"
   ]
  },
  {
   "cell_type": "markdown",
   "id": "d9c0fdd6",
   "metadata": {},
   "source": [
    "#### Coefficent differences\n"
   ]
  },
  {
   "cell_type": "code",
   "execution_count": null,
   "id": "5359b8c7",
   "metadata": {},
   "outputs": [],
   "source": [
    "log_model.coef_"
   ]
  },
  {
   "cell_type": "code",
   "execution_count": null,
   "id": "a3d1c80b",
   "metadata": {},
   "outputs": [],
   "source": [
    "log_model_scale.coef_"
   ]
  },
  {
   "cell_type": "markdown",
   "id": "576c40b0",
   "metadata": {},
   "source": [
    "You are right that although you should be able to calculate the OLS coefficient estimate in logit space, you can't do it directly because the logit, g(y)=logp1−p, goes either to −∞ for y=0 or ∞ for y=1. An added difficulty is that the variance in this model depends on x.\n",
    "\n",
    "The likelihood for logistic regression is optimized by an algorithm called iteratively reweighted least squares (IRLS). There is a nice breakdown of this in Shalizi's Advanced Data Analysis from an Elementary Point of View, from which I have the details below:\n",
    "\n",
    "To deal with the infinite logit problem, make a first-order Taylor approximation to g(y) around the point p such that g(y)≈g(p)+(y−p)g′(p). Since g(p) is by definition β0+βx, put that in there instead of g(p) and say that your effective response is z=β0+βx+(y−p)g′(p).\n",
    "Calculate the variance V[Z|X=x]=V[(Y−p)g′(p)|X=x]=g′(p)2V(p). Use this to weight your samples so that you can simply do a weighted regression of z on x.\n",
    "At this point you might ask yourself how you can use the regression coefficients you're trying to estimate to calculate your effective response, z. Of course you can't. And what is p anyway? That's where the iterative part of IRLS comes in: you start with some guess at the βs, for instance to set them all to 0. From this you can first calculate the fitted probabilities p, and second use these fitted probabilities and your current coefficient estimates to calculate z.\n",
    "\n",
    "All this and you get a new estimate for your βs, and it should be closer to the right one, but probably not the right one. So you iterate: use the new coefficients to calculate new fitted probabilities, calculate new effective responses, new weights, and go again. Sooner or later, unless you're unlucky, the βs will converge to a nice estimate. Says Shalizi:"
   ]
  },
  {
   "cell_type": "markdown",
   "id": "b828d385",
   "metadata": {},
   "source": [
    "## Logistic Regression Difference Coefficents"
   ]
  },
  {
   "cell_type": "code",
   "execution_count": null,
   "id": "2b1c6b82",
   "metadata": {},
   "outputs": [],
   "source": [
    "from sklearn.linear_model import LogisticRegression\n",
    "log_model = LogisticRegression(solver='liblinear', random_state=21,penalty = 'l2',max_iter=249)"
   ]
  },
  {
   "cell_type": "code",
   "execution_count": null,
   "id": "fb2ee99b",
   "metadata": {},
   "outputs": [],
   "source": [
    "log_model.fit(dataTV[0].iloc[:,1:],dataTV[0].iloc[:,0].astype('category'))"
   ]
  },
  {
   "cell_type": "code",
   "execution_count": null,
   "id": "640c75d1",
   "metadata": {},
   "outputs": [],
   "source": [
    "coef1 = log_coef(dataTV,log_model)\n",
    "flat_list = []\n",
    "for i in coef1:\n",
    "    flat_list.append(list(itertools.chain(*i)))"
   ]
  },
  {
   "cell_type": "code",
   "execution_count": null,
   "id": "806be7ab",
   "metadata": {},
   "outputs": [],
   "source": [
    "\n",
    "# for i in flat_list:\n",
    "#     print(sum(i))\n",
    "[sum(i) for i in coef1[0]]\n",
    "# a = map(sum,coef1[1])\n",
    "# [item.sum() for item in coef1[1]]\n",
    "# coef1[1]\n",
    "# sum(flat_list[0])"
   ]
  },
  {
   "cell_type": "code",
   "execution_count": null,
   "id": "5dc18738",
   "metadata": {},
   "outputs": [],
   "source": [
    "##Coefficient matrix\n",
    "##Make a matrix of 8X8\n",
    "# \n",
    "matrix = [ [ 0 for i in range(len(dataTV)) ] for j in range(len(dataTV))]"
   ]
  },
  {
   "cell_type": "code",
   "execution_count": null,
   "id": "aa555a51",
   "metadata": {},
   "outputs": [],
   "source": [
    "# for i in range(len(matrix)):\n",
    "#     for j in range(len(matrix)):\n",
    "#         matrix[i][j] = sum(flat_list[i])-sum(flat_list[i])  \n",
    "\n",
    "for i in range(len(matrix)):\n",
    "    for j in range(len(matrix)):\n",
    "        matrix[i][j] = abs(sum(flat_list[i]))-abs(sum(flat_list[j]))\n"
   ]
  },
  {
   "cell_type": "code",
   "execution_count": null,
   "id": "8d280c5a",
   "metadata": {},
   "outputs": [],
   "source": [
    "\n",
    "\n",
    "ax = sns.heatmap(matrix, annot=True)\n",
    "\n",
    "coef_df = pd.DataFrame(data=matrix)\n",
    "mask = np.zeros_like(coef_df)\n",
    "mask[np.triu_indices_from(mask)] = True\n",
    "with sns.axes_style(\"white\"):\n",
    "    f, ax = plt.subplots(figsize=(7, 5))\n",
    "    ax = sns.heatmap(coef_df, mask=mask, vmax=.3, square=True,annot=True)"
   ]
  },
  {
   "cell_type": "code",
   "execution_count": null,
   "id": "34995477",
   "metadata": {},
   "outputs": [],
   "source": [
    "sublist = []\n",
    "for i in range(len(flat_list)):\n",
    "    for i in range(len(flat_list)):\n",
    "        sublist.append(sum([y - x for x in flat_list[i] for y in flat_list[j]]))"
   ]
  },
  {
   "cell_type": "code",
   "execution_count": null,
   "id": "e877e339",
   "metadata": {},
   "outputs": [],
   "source": [
    "for i in enumerate(sublist):\n",
    "    print(i)\n",
    "    \n",
    "print(min(sublist))"
   ]
  },
  {
   "cell_type": "code",
   "execution_count": null,
   "id": "039e9c16",
   "metadata": {},
   "outputs": [],
   "source": [
    "d  = flat_list[0]\n",
    "f  = flat_list[1]\n"
   ]
  },
  {
   "cell_type": "code",
   "execution_count": null,
   "id": "4c040bd3",
   "metadata": {},
   "outputs": [],
   "source": [
    "import time\n",
    "for i in flat_list:\n",
    "    print(i)\n",
    "    print(sum(i))\n",
    "    time.sleep(1)\n",
    "\n",
    "    "
   ]
  },
  {
   "cell_type": "code",
   "execution_count": null,
   "id": "0a999a3d",
   "metadata": {},
   "outputs": [],
   "source": [
    "import itertools"
   ]
  },
  {
   "cell_type": "code",
   "execution_count": null,
   "id": "296aabab",
   "metadata": {},
   "outputs": [],
   "source": [
    "flat_list = []\n",
    "for i in coef1:\n",
    "    flat_list.append(list(itertools.chain(*i)))"
   ]
  },
  {
   "cell_type": "code",
   "execution_count": null,
   "id": "31b9fdd6",
   "metadata": {},
   "outputs": [],
   "source": [
    "flat_list"
   ]
  },
  {
   "cell_type": "code",
   "execution_count": null,
   "id": "9a8a292a",
   "metadata": {},
   "outputs": [],
   "source": []
  }
 ],
 "metadata": {
  "kernelspec": {
   "display_name": "Python 3",
   "language": "python",
   "name": "python3"
  },
  "language_info": {
   "codemirror_mode": {
    "name": "ipython",
    "version": 3
   },
   "file_extension": ".py",
   "mimetype": "text/x-python",
   "name": "python",
   "nbconvert_exporter": "python",
   "pygments_lexer": "ipython3",
   "version": "3.6.13"
  }
 },
 "nbformat": 4,
 "nbformat_minor": 5
}
