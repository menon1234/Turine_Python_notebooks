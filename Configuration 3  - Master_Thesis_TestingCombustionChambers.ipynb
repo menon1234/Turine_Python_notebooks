{
 "cells": [
  {
   "cell_type": "markdown",
   "id": "53947479",
   "metadata": {},
   "source": [
    "## Configuration 3 \n",
    "\n",
    "This is when all 83 files are used and tested usign stratified k fold cross validation."
   ]
  },
  {
   "cell_type": "code",
   "execution_count": null,
   "id": "b09decbf",
   "metadata": {},
   "outputs": [],
   "source": [
    "%load_ext autoreload\n",
    "%reload_ext autoreload \n",
    "%run Master_thesis_Final_script.py"
   ]
  },
  {
   "cell_type": "code",
   "execution_count": null,
   "id": "7320242d",
   "metadata": {},
   "outputs": [],
   "source": [
    "import glob"
   ]
  },
  {
   "cell_type": "code",
   "execution_count": null,
   "id": "435b0626",
   "metadata": {},
   "outputs": [],
   "source": [
    "mylist = glob.glob(\"C:\\\\Users\\\\z004csar\\\\Thesis_Project\\\\Data\\\\SGT-750_Data\\\\Data to train\\\\*.xlsx\")"
   ]
  },
  {
   "cell_type": "code",
   "execution_count": null,
   "id": "1cc8d55b",
   "metadata": {},
   "outputs": [],
   "source": [
    "mylist"
   ]
  },
  {
   "cell_type": "markdown",
   "id": "7cd5a269",
   "metadata": {},
   "source": [
    "#  FlameDetection in Combustion chambers"
   ]
  },
  {
   "cell_type": "markdown",
   "id": "f61cdfb3",
   "metadata": {},
   "source": [
    "## Aim:\n",
    "The aim of this thesis is to test a certain implemented model on the rest of the turbine combustion chamber<br>\n",
    "Check to see if a single chamber can predict for the other chambers as well."
   ]
  },
  {
   "cell_type": "markdown",
   "id": "463ee4b3",
   "metadata": {},
   "source": [
    "## Procedure:\n",
    "\n",
    "Implement a base classifying algorithm to the one of the combustion chamber for the prediction of the flame status in  a turbine.\n"
   ]
  },
  {
   "cell_type": "markdown",
   "id": "2ca8514a",
   "metadata": {},
   "source": [
    "Run ML algorithm over all the turbines stacked one above the other "
   ]
  },
  {
   "cell_type": "markdown",
   "id": "918a8f39",
   "metadata": {},
   "source": [
    "This trained data is used on all the several individual combusiton chambers of the Turbine and is going to be compared with the traditional trained on one of the burners and tested on the other burners."
   ]
  },
  {
   "cell_type": "markdown",
   "id": "b73b405e",
   "metadata": {},
   "source": [
    "Process: <br>\n",
    "1. > Logistic Regression \n",
    "2. > Naive Bayes\n",
    "3. > KNN \n",
    "4. > Random Forest \n",
    "5. > XGBoost \n",
    "6. > MLPClassifier\n",
    "7. > 1D shallow NN"
   ]
  },
  {
   "cell_type": "markdown",
   "id": "eb5ed505",
   "metadata": {},
   "source": [
    "## Configurations: \n",
    "\n",
    "1. > Stacked Burners one over the other.\n",
    "2. > Variables used<br> - Pressure Pulsaions,Exhaust Temperatures,Burner Temperature(High Fluctuations) <br> - Verified from Score from the Pearson correlation . We can use the correlation score of above 3.0\n",
    "3. >After running the check on the whole stacked burners we can try it out on each individual chambers and see if the accuracy is dwindling from the original where we test with one turbine and check on the others.\n",
    "4. >This would show that a dataset with a lot more swithcing status would help in classifying the state of change better than a dataset which is more appealed to dormant data.\n",
    "\n"
   ]
  },
  {
   "cell_type": "markdown",
   "id": "5c5178d2",
   "metadata": {},
   "source": [
    "## Data Arrangement with less swithcing which will be used for Testing\n",
    "### Get new data arrangement"
   ]
  },
  {
   "cell_type": "code",
   "execution_count": 21,
   "id": "e80ba115",
   "metadata": {},
   "outputs": [],
   "source": [
    "##Different Data for testing \n",
    "Datalist  = [\n",
    "#              'C:\\\\Users\\\\z004csar\\\\Thesis_Project\\\\Data\\\\SGT-750_Data\\\\Data to train\\\\Gazli-2_750_20210618_UnbalancedDataset.xlsx',\n",
    "#              'C:\\\\Users\\\\z004csar\\\\Thesis_Project\\\\Data\\\\SGT-750_Data\\\\Data to train\\\\Gazli-1_750_20210629_flamedetector_data(T6 and T7).xlsx',\n",
    "#             'C:\\\\Users\\\\z004csar\\\\Thesis_Project\\\\Data-Siemens\\\\SGT-750_Data\\\\Data to train\\\\Gazli-2_750_20210629_Provskott1_3.xlsx',\n",
    "#             'C:\\\\Users\\\\z004csar\\\\Thesis_Project\\\\Data-Siemens\\\\SGT-750_Data\\\\Data to train\\\\Gazli-2_750_20210629_Provskott1_2.xlsx',\n",
    "#             'C:\\\\Users\\\\z004csar\\\\Thesis_Project\\\\Data-Siemens\\\\SGT-750_Data\\\\Data to train\\\\Gazli-2_750_20210629_Provskott1_1.xlsx',\n",
    "#             'C:\\\\Users\\\\z004csar\\\\Thesis_Project\\\\Data\\\\SGT-750_Data\\\\Data to train\\\\Gazli-2_750_20210701_Provskott3_3.xlsx',\n",
    "#             'C:\\\\Users\\\\z004csar\\\\Thesis_Project\\\\Data\\\\SGT-750_Data\\\\Data to train\\\\Gazli-2_750_20210701_Provskott3_2.xlsx',\n",
    "#             'C:\\\\Users\\\\z004csar\\\\Thesis_Project\\\\Data\\\\SGT-750_Data\\\\Data to train\\\\Gazli-2_750_20210701_Provskott3_1.xlsx',\n",
    "            'C:\\\\Users\\\\z004csar\\\\Thesis_Project\\\\Data\\\\SGT-750_Data\\\\Data to train\\\\SGT-750, Gazli-2_20210629_Provskott-1_MoreVariables.xlsx',\n",
    "            'C:\\\\Users\\\\z004csar\\\\Thesis_Project\\\\Data\\\\SGT-750_Data\\\\Data to train\\\\SGT-750, CastbergSpare_2021112_Provskott-2.xlsx',\n",
    "            'C:\\\\Users\\\\z004csar\\\\Thesis_Project\\\\Data\\\\SGT-750_Data\\\\Data to train\\\\SGT-750, Chimei-1_20210906_Kundprov.xlsx',\n",
    "#             'C:\\\\Users\\\\z004csar\\\\Thesis_Project\\\\Data\\\\SGT-750_Data\\\\Data to train\\\\SGT-750, Chimei-1_20210903_Provskott-2.xlsx',\n",
    "            'C:\\\\Users\\\\z004csar\\\\Thesis_Project\\\\Data\\\\SGT-750_Data\\\\Data to train\\\\SGT-750, Chimei-1_20210902_Provskott-1.xlsx',\n",
    "            'C:\\\\Users\\\\z004csar\\\\Thesis_Project\\\\Data\\\\SGT-750_Data\\\\Data to train\\\\SGT-750, Gazli-2_20210705_Kundprov.xlsx',\n",
    "            'C:\\\\Users\\\\z004csar\\\\Thesis_Project\\\\Data\\\\SGT-750_Data\\\\Data to train\\\\SGT-750, Gazli-2_20210701_Provskott-3.xlsx',\n",
    "            'C:\\\\Users\\\\z004csar\\\\Thesis_Project\\\\Data\\\\SGT-750_Data\\\\Data to train\\\\SGT-750, Gazli-2_20210630_Provskott-2.xlsx',\n",
    "            'C:\\\\Users\\\\z004csar\\\\Thesis_Project\\\\Data\\\\SGT-750_Data\\\\Data to train\\\\SGT-750, Gazli-2_20210629_Provskott-1.xlsx',\n",
    "            'C:\\\\Users\\\\z004csar\\\\Thesis_Project\\\\Data\\\\SGT-750_Data\\\\Data to train\\\\SGT-750, Gazli-1_20210618_Kundprov.xlsx',\n",
    "            'C:\\\\Users\\\\z004csar\\\\Thesis_Project\\\\Data\\\\SGT-750_Data\\\\Data to train\\\\SGT-750, Gazli-1_20210617_Provskott.xlsx',\n",
    "            'C:\\\\Users\\\\z004csar\\\\Thesis_Project\\\\Data\\\\SGT-750_Data\\\\Data to train\\\\SGT-750, Pipestone_20200605_Förbränningsverifering.xlsx',\n",
    "            'C:\\\\Users\\\\z004csar\\\\Thesis_Project\\\\Data\\\\SGT-750_Data\\\\Data to train\\\\SGT-750, Pipestone_20200601_Startprover.xlsx',\n",
    "            'C:\\\\Users\\\\z004csar\\\\Thesis_Project\\\\Data\\\\SGT-750_Data\\\\Data to train\\\\SGT-750, Pipestone_20200528_Kundprov.xlsx',        \n",
    "            'C:\\\\Users\\\\z004csar\\\\Thesis_Project\\\\Data\\\\SGT-750_Data\\\\Data to train\\\\SGT-750, Pipestone_20200529_Provskott.xlsx'\n",
    "                ]"
   ]
  },
  {
   "cell_type": "code",
   "execution_count": 22,
   "id": "d4944ccf",
   "metadata": {},
   "outputs": [
    {
     "data": {
      "text/plain": [
       "14"
      ]
     },
     "execution_count": 22,
     "metadata": {},
     "output_type": "execute_result"
    }
   ],
   "source": [
    "len(Datalist)"
   ]
  },
  {
   "cell_type": "code",
   "execution_count": 2,
   "id": "bb45d975",
   "metadata": {},
   "outputs": [
    {
     "ename": "NameError",
     "evalue": "name 'Datadic' is not defined",
     "output_type": "error",
     "traceback": [
      "\u001b[1;31m---------------------------------------------------------------------------\u001b[0m",
      "\u001b[1;31mNameError\u001b[0m                                 Traceback (most recent call last)",
      "\u001b[1;32m<ipython-input-2-c54a8c32b37a>\u001b[0m in \u001b[0;36m<module>\u001b[1;34m\u001b[0m\n\u001b[1;32m----> 1\u001b[1;33m \u001b[0mDatadic\u001b[0m\u001b[1;33m\u001b[0m\u001b[1;33m\u001b[0m\u001b[0m\n\u001b[0m",
      "\u001b[1;31mNameError\u001b[0m: name 'Datadic' is not defined"
     ]
    }
   ],
   "source": [
    "Datadic"
   ]
  },
  {
   "cell_type": "code",
   "execution_count": null,
   "id": "430c3723",
   "metadata": {},
   "outputs": [],
   "source": [
    "Datadic = {}\n",
    "with warnings.catch_warnings(record=True):\n",
    "    warnings.simplefilter(\"always\")\n",
    "    for i in range(len(Datalist)):\n",
    "        Datadic[i] = pd.read_excel(Datalist[i],engine=\"openpyxl\",index_col=0)"
   ]
  },
  {
   "cell_type": "code",
   "execution_count": 8,
   "id": "2c5a0d3f",
   "metadata": {},
   "outputs": [],
   "source": [
    "Datadic = {}\n",
    "with warnings.catch_warnings(record=True):\n",
    "    warnings.simplefilter(\"always\")\n",
    "    for i in range(len(mylist)):\n",
    "        Datadic[i] = pd.read_excel(mylist[i],engine=\"openpyxl\",index_col=0)"
   ]
  },
  {
   "cell_type": "markdown",
   "id": "4dc279ff",
   "metadata": {},
   "source": [
    "## Preprocess of all the dataframes provided"
   ]
  },
  {
   "cell_type": "markdown",
   "id": "d3b0f800",
   "metadata": {},
   "source": [
    "### Preprocesseddf1 is with anomaly values removes and \n",
    "\n",
    "\n",
    "### preprocesseddf2 is without removal of unoiform values "
   ]
  },
  {
   "cell_type": "code",
   "execution_count": 9,
   "id": "8246f4bd",
   "metadata": {},
   "outputs": [
    {
     "name": "stdout",
     "output_type": "stream",
     "text": [
      "No na values\n",
      "No na values\n",
      "No na values\n",
      "No na values\n",
      "No na values\n",
      "No na values\n",
      "No na values\n",
      "No na values\n",
      "No na values\n",
      "No na values\n",
      "No na values\n",
      "No na values\n",
      "No na values\n",
      "No na values\n",
      "No na values\n",
      "No na values\n",
      "No na values\n",
      "No na values\n",
      "No na values\n",
      "No na values\n"
     ]
    },
    {
     "ename": "KeyError",
     "evalue": "\"None of [Index(['MBM10CQ005_XE01_Burner 1 Flame_on/off',\\n       'MBM10CP005_XE01_Ultra Low Frequency Pulsation_mbar',\\n       'MBM10CP005_XE02_Low Frequency Pulsation_mbar',\\n       'MBM10CP005_XE03_Medium Frequency Pulsation_mbar',\\n       'MBM10CP005_XE04_High Frequency Pulsation_mbar',\\n       'MBB10FT923_ZE11_T7 Exhaust Temp Average Ring1_°C',\\n       'MBB10FT923_ZE12_T7 Exhaust Temp Average Ring 2_°C',\\n       'MBB10FT923_ZE13_T7 Exhaust Temp Average Ring 3_°C'],\\n      dtype='object')] are in the [columns]\"",
     "output_type": "error",
     "traceback": [
      "\u001b[1;31m---------------------------------------------------------------------------\u001b[0m",
      "\u001b[1;31mKeyError\u001b[0m                                  Traceback (most recent call last)",
      "\u001b[1;32m<ipython-input-9-c2fcade59429>\u001b[0m in \u001b[0;36m<module>\u001b[1;34m\u001b[0m\n\u001b[0;32m      1\u001b[0m \u001b[0mpreprocesseddf2\u001b[0m \u001b[1;33m=\u001b[0m \u001b[1;33m{\u001b[0m\u001b[1;33m}\u001b[0m\u001b[1;33m\u001b[0m\u001b[1;33m\u001b[0m\u001b[0m\n\u001b[0;32m      2\u001b[0m \u001b[1;32mfor\u001b[0m \u001b[0mi\u001b[0m \u001b[1;32min\u001b[0m \u001b[0mrange\u001b[0m\u001b[1;33m(\u001b[0m\u001b[0mlen\u001b[0m\u001b[1;33m(\u001b[0m\u001b[0mDatadic\u001b[0m\u001b[1;33m)\u001b[0m\u001b[1;33m)\u001b[0m\u001b[1;33m:\u001b[0m\u001b[1;33m\u001b[0m\u001b[1;33m\u001b[0m\u001b[0m\n\u001b[1;32m----> 3\u001b[1;33m     \u001b[0mpreprocesseddf2\u001b[0m\u001b[1;33m[\u001b[0m\u001b[0mi\u001b[0m\u001b[1;33m]\u001b[0m \u001b[1;33m=\u001b[0m \u001b[0mpreprocess_Indiv_burner_T_P_sans_SULP\u001b[0m\u001b[1;33m(\u001b[0m\u001b[0mDatadic\u001b[0m\u001b[1;33m[\u001b[0m\u001b[0mi\u001b[0m\u001b[1;33m]\u001b[0m\u001b[1;33m,\u001b[0m\u001b[0mrm\u001b[0m \u001b[1;33m=\u001b[0m \u001b[1;32mFalse\u001b[0m\u001b[1;33m)\u001b[0m\u001b[1;33m\u001b[0m\u001b[1;33m\u001b[0m\u001b[0m\n\u001b[0m",
      "\u001b[1;32m~\\Thesis_Project\\MasterThesis_2022_CombustionFlameComparison\\Master_thesis_Final_script.py\u001b[0m in \u001b[0;36mpreprocess_Indiv_burner_T_P_sans_SULP\u001b[1;34m(df, rm, form)\u001b[0m\n\u001b[0;32m     79\u001b[0m     \u001b[1;32melse\u001b[0m\u001b[1;33m:\u001b[0m\u001b[1;33m\u001b[0m\u001b[1;33m\u001b[0m\u001b[0m\n\u001b[0;32m     80\u001b[0m         \u001b[1;32mpass\u001b[0m\u001b[1;33m\u001b[0m\u001b[1;33m\u001b[0m\u001b[0m\n\u001b[1;32m---> 81\u001b[1;33m     Burner1 = SGT750.loc[:,['MBM10CQ005_XE01_Burner 1 Flame_on/off','MBM10CP005_XE01_Ultra Low Frequency Pulsation_mbar','MBM10CP005_XE02_Low Frequency Pulsation_mbar','MBM10CP005_XE03_Medium Frequency Pulsation_mbar',\n\u001b[0m\u001b[0;32m     82\u001b[0m 'MBM10CP005_XE04_High Frequency Pulsation_mbar','MBB10FT923_ZE11_T7 Exhaust Temp Average Ring1_°C','MBB10FT923_ZE12_T7 Exhaust Temp Average Ring 2_°C','MBB10FT923_ZE13_T7 Exhaust Temp Average Ring 3_°C']]\n\u001b[0;32m     83\u001b[0m     Burner2 = SGT750.loc[:,['MBM10CQ010_XE01_Burner 2 Flame_on/off','MBM10CP010_XE01_Ultra Low Frequency Pulsation_mbar','MBM10CP010_XE02_Low Frequency Pulsation_mbar','MBM10CP010_XE03_Medium Frequency Pulsation_mbar',\n",
      "\u001b[1;32m~\\Anaconda3\\lib\\site-packages\\pandas\\core\\indexing.py\u001b[0m in \u001b[0;36m__getitem__\u001b[1;34m(self, key)\u001b[0m\n\u001b[0;32m    887\u001b[0m                     \u001b[1;31m# AttributeError for IntervalTree get_value\u001b[0m\u001b[1;33m\u001b[0m\u001b[1;33m\u001b[0m\u001b[1;33m\u001b[0m\u001b[0m\n\u001b[0;32m    888\u001b[0m                     \u001b[1;32mreturn\u001b[0m \u001b[0mself\u001b[0m\u001b[1;33m.\u001b[0m\u001b[0mobj\u001b[0m\u001b[1;33m.\u001b[0m\u001b[0m_get_value\u001b[0m\u001b[1;33m(\u001b[0m\u001b[1;33m*\u001b[0m\u001b[0mkey\u001b[0m\u001b[1;33m,\u001b[0m \u001b[0mtakeable\u001b[0m\u001b[1;33m=\u001b[0m\u001b[0mself\u001b[0m\u001b[1;33m.\u001b[0m\u001b[0m_takeable\u001b[0m\u001b[1;33m)\u001b[0m\u001b[1;33m\u001b[0m\u001b[1;33m\u001b[0m\u001b[0m\n\u001b[1;32m--> 889\u001b[1;33m             \u001b[1;32mreturn\u001b[0m \u001b[0mself\u001b[0m\u001b[1;33m.\u001b[0m\u001b[0m_getitem_tuple\u001b[0m\u001b[1;33m(\u001b[0m\u001b[0mkey\u001b[0m\u001b[1;33m)\u001b[0m\u001b[1;33m\u001b[0m\u001b[1;33m\u001b[0m\u001b[0m\n\u001b[0m\u001b[0;32m    890\u001b[0m         \u001b[1;32melse\u001b[0m\u001b[1;33m:\u001b[0m\u001b[1;33m\u001b[0m\u001b[1;33m\u001b[0m\u001b[0m\n\u001b[0;32m    891\u001b[0m             \u001b[1;31m# we by definition only have the 0th axis\u001b[0m\u001b[1;33m\u001b[0m\u001b[1;33m\u001b[0m\u001b[1;33m\u001b[0m\u001b[0m\n",
      "\u001b[1;32m~\\Anaconda3\\lib\\site-packages\\pandas\\core\\indexing.py\u001b[0m in \u001b[0;36m_getitem_tuple\u001b[1;34m(self, tup)\u001b[0m\n\u001b[0;32m   1067\u001b[0m             \u001b[1;32mreturn\u001b[0m \u001b[0mself\u001b[0m\u001b[1;33m.\u001b[0m\u001b[0m_multi_take\u001b[0m\u001b[1;33m(\u001b[0m\u001b[0mtup\u001b[0m\u001b[1;33m)\u001b[0m\u001b[1;33m\u001b[0m\u001b[1;33m\u001b[0m\u001b[0m\n\u001b[0;32m   1068\u001b[0m \u001b[1;33m\u001b[0m\u001b[0m\n\u001b[1;32m-> 1069\u001b[1;33m         \u001b[1;32mreturn\u001b[0m \u001b[0mself\u001b[0m\u001b[1;33m.\u001b[0m\u001b[0m_getitem_tuple_same_dim\u001b[0m\u001b[1;33m(\u001b[0m\u001b[0mtup\u001b[0m\u001b[1;33m)\u001b[0m\u001b[1;33m\u001b[0m\u001b[1;33m\u001b[0m\u001b[0m\n\u001b[0m\u001b[0;32m   1070\u001b[0m \u001b[1;33m\u001b[0m\u001b[0m\n\u001b[0;32m   1071\u001b[0m     \u001b[1;32mdef\u001b[0m \u001b[0m_get_label\u001b[0m\u001b[1;33m(\u001b[0m\u001b[0mself\u001b[0m\u001b[1;33m,\u001b[0m \u001b[0mlabel\u001b[0m\u001b[1;33m,\u001b[0m \u001b[0maxis\u001b[0m\u001b[1;33m:\u001b[0m \u001b[0mint\u001b[0m\u001b[1;33m)\u001b[0m\u001b[1;33m:\u001b[0m\u001b[1;33m\u001b[0m\u001b[1;33m\u001b[0m\u001b[0m\n",
      "\u001b[1;32m~\\Anaconda3\\lib\\site-packages\\pandas\\core\\indexing.py\u001b[0m in \u001b[0;36m_getitem_tuple_same_dim\u001b[1;34m(self, tup)\u001b[0m\n\u001b[0;32m    773\u001b[0m                 \u001b[1;32mcontinue\u001b[0m\u001b[1;33m\u001b[0m\u001b[1;33m\u001b[0m\u001b[0m\n\u001b[0;32m    774\u001b[0m \u001b[1;33m\u001b[0m\u001b[0m\n\u001b[1;32m--> 775\u001b[1;33m             \u001b[0mretval\u001b[0m \u001b[1;33m=\u001b[0m \u001b[0mgetattr\u001b[0m\u001b[1;33m(\u001b[0m\u001b[0mretval\u001b[0m\u001b[1;33m,\u001b[0m \u001b[0mself\u001b[0m\u001b[1;33m.\u001b[0m\u001b[0mname\u001b[0m\u001b[1;33m)\u001b[0m\u001b[1;33m.\u001b[0m\u001b[0m_getitem_axis\u001b[0m\u001b[1;33m(\u001b[0m\u001b[0mkey\u001b[0m\u001b[1;33m,\u001b[0m \u001b[0maxis\u001b[0m\u001b[1;33m=\u001b[0m\u001b[0mi\u001b[0m\u001b[1;33m)\u001b[0m\u001b[1;33m\u001b[0m\u001b[1;33m\u001b[0m\u001b[0m\n\u001b[0m\u001b[0;32m    776\u001b[0m             \u001b[1;31m# We should never have retval.ndim < self.ndim, as that should\u001b[0m\u001b[1;33m\u001b[0m\u001b[1;33m\u001b[0m\u001b[1;33m\u001b[0m\u001b[0m\n\u001b[0;32m    777\u001b[0m             \u001b[1;31m#  be handled by the _getitem_lowerdim call above.\u001b[0m\u001b[1;33m\u001b[0m\u001b[1;33m\u001b[0m\u001b[1;33m\u001b[0m\u001b[0m\n",
      "\u001b[1;32m~\\Anaconda3\\lib\\site-packages\\pandas\\core\\indexing.py\u001b[0m in \u001b[0;36m_getitem_axis\u001b[1;34m(self, key, axis)\u001b[0m\n\u001b[0;32m   1111\u001b[0m                     \u001b[1;32mraise\u001b[0m \u001b[0mValueError\u001b[0m\u001b[1;33m(\u001b[0m\u001b[1;34m\"Cannot index with multidimensional key\"\u001b[0m\u001b[1;33m)\u001b[0m\u001b[1;33m\u001b[0m\u001b[1;33m\u001b[0m\u001b[0m\n\u001b[0;32m   1112\u001b[0m \u001b[1;33m\u001b[0m\u001b[0m\n\u001b[1;32m-> 1113\u001b[1;33m                 \u001b[1;32mreturn\u001b[0m \u001b[0mself\u001b[0m\u001b[1;33m.\u001b[0m\u001b[0m_getitem_iterable\u001b[0m\u001b[1;33m(\u001b[0m\u001b[0mkey\u001b[0m\u001b[1;33m,\u001b[0m \u001b[0maxis\u001b[0m\u001b[1;33m=\u001b[0m\u001b[0maxis\u001b[0m\u001b[1;33m)\u001b[0m\u001b[1;33m\u001b[0m\u001b[1;33m\u001b[0m\u001b[0m\n\u001b[0m\u001b[0;32m   1114\u001b[0m \u001b[1;33m\u001b[0m\u001b[0m\n\u001b[0;32m   1115\u001b[0m             \u001b[1;31m# nested tuple slicing\u001b[0m\u001b[1;33m\u001b[0m\u001b[1;33m\u001b[0m\u001b[1;33m\u001b[0m\u001b[0m\n",
      "\u001b[1;32m~\\Anaconda3\\lib\\site-packages\\pandas\\core\\indexing.py\u001b[0m in \u001b[0;36m_getitem_iterable\u001b[1;34m(self, key, axis)\u001b[0m\n\u001b[0;32m   1051\u001b[0m \u001b[1;33m\u001b[0m\u001b[0m\n\u001b[0;32m   1052\u001b[0m         \u001b[1;31m# A collection of keys\u001b[0m\u001b[1;33m\u001b[0m\u001b[1;33m\u001b[0m\u001b[1;33m\u001b[0m\u001b[0m\n\u001b[1;32m-> 1053\u001b[1;33m         \u001b[0mkeyarr\u001b[0m\u001b[1;33m,\u001b[0m \u001b[0mindexer\u001b[0m \u001b[1;33m=\u001b[0m \u001b[0mself\u001b[0m\u001b[1;33m.\u001b[0m\u001b[0m_get_listlike_indexer\u001b[0m\u001b[1;33m(\u001b[0m\u001b[0mkey\u001b[0m\u001b[1;33m,\u001b[0m \u001b[0maxis\u001b[0m\u001b[1;33m,\u001b[0m \u001b[0mraise_missing\u001b[0m\u001b[1;33m=\u001b[0m\u001b[1;32mFalse\u001b[0m\u001b[1;33m)\u001b[0m\u001b[1;33m\u001b[0m\u001b[1;33m\u001b[0m\u001b[0m\n\u001b[0m\u001b[0;32m   1054\u001b[0m         return self.obj._reindex_with_indexers(\n\u001b[0;32m   1055\u001b[0m             \u001b[1;33m{\u001b[0m\u001b[0maxis\u001b[0m\u001b[1;33m:\u001b[0m \u001b[1;33m[\u001b[0m\u001b[0mkeyarr\u001b[0m\u001b[1;33m,\u001b[0m \u001b[0mindexer\u001b[0m\u001b[1;33m]\u001b[0m\u001b[1;33m}\u001b[0m\u001b[1;33m,\u001b[0m \u001b[0mcopy\u001b[0m\u001b[1;33m=\u001b[0m\u001b[1;32mTrue\u001b[0m\u001b[1;33m,\u001b[0m \u001b[0mallow_dups\u001b[0m\u001b[1;33m=\u001b[0m\u001b[1;32mTrue\u001b[0m\u001b[1;33m\u001b[0m\u001b[1;33m\u001b[0m\u001b[0m\n",
      "\u001b[1;32m~\\Anaconda3\\lib\\site-packages\\pandas\\core\\indexing.py\u001b[0m in \u001b[0;36m_get_listlike_indexer\u001b[1;34m(self, key, axis, raise_missing)\u001b[0m\n\u001b[0;32m   1264\u001b[0m             \u001b[0mkeyarr\u001b[0m\u001b[1;33m,\u001b[0m \u001b[0mindexer\u001b[0m\u001b[1;33m,\u001b[0m \u001b[0mnew_indexer\u001b[0m \u001b[1;33m=\u001b[0m \u001b[0max\u001b[0m\u001b[1;33m.\u001b[0m\u001b[0m_reindex_non_unique\u001b[0m\u001b[1;33m(\u001b[0m\u001b[0mkeyarr\u001b[0m\u001b[1;33m)\u001b[0m\u001b[1;33m\u001b[0m\u001b[1;33m\u001b[0m\u001b[0m\n\u001b[0;32m   1265\u001b[0m \u001b[1;33m\u001b[0m\u001b[0m\n\u001b[1;32m-> 1266\u001b[1;33m         \u001b[0mself\u001b[0m\u001b[1;33m.\u001b[0m\u001b[0m_validate_read_indexer\u001b[0m\u001b[1;33m(\u001b[0m\u001b[0mkeyarr\u001b[0m\u001b[1;33m,\u001b[0m \u001b[0mindexer\u001b[0m\u001b[1;33m,\u001b[0m \u001b[0maxis\u001b[0m\u001b[1;33m,\u001b[0m \u001b[0mraise_missing\u001b[0m\u001b[1;33m=\u001b[0m\u001b[0mraise_missing\u001b[0m\u001b[1;33m)\u001b[0m\u001b[1;33m\u001b[0m\u001b[1;33m\u001b[0m\u001b[0m\n\u001b[0m\u001b[0;32m   1267\u001b[0m         \u001b[1;32mreturn\u001b[0m \u001b[0mkeyarr\u001b[0m\u001b[1;33m,\u001b[0m \u001b[0mindexer\u001b[0m\u001b[1;33m\u001b[0m\u001b[1;33m\u001b[0m\u001b[0m\n\u001b[0;32m   1268\u001b[0m \u001b[1;33m\u001b[0m\u001b[0m\n",
      "\u001b[1;32m~\\Anaconda3\\lib\\site-packages\\pandas\\core\\indexing.py\u001b[0m in \u001b[0;36m_validate_read_indexer\u001b[1;34m(self, key, indexer, axis, raise_missing)\u001b[0m\n\u001b[0;32m   1306\u001b[0m             \u001b[1;32mif\u001b[0m \u001b[0mmissing\u001b[0m \u001b[1;33m==\u001b[0m \u001b[0mlen\u001b[0m\u001b[1;33m(\u001b[0m\u001b[0mindexer\u001b[0m\u001b[1;33m)\u001b[0m\u001b[1;33m:\u001b[0m\u001b[1;33m\u001b[0m\u001b[1;33m\u001b[0m\u001b[0m\n\u001b[0;32m   1307\u001b[0m                 \u001b[0maxis_name\u001b[0m \u001b[1;33m=\u001b[0m \u001b[0mself\u001b[0m\u001b[1;33m.\u001b[0m\u001b[0mobj\u001b[0m\u001b[1;33m.\u001b[0m\u001b[0m_get_axis_name\u001b[0m\u001b[1;33m(\u001b[0m\u001b[0maxis\u001b[0m\u001b[1;33m)\u001b[0m\u001b[1;33m\u001b[0m\u001b[1;33m\u001b[0m\u001b[0m\n\u001b[1;32m-> 1308\u001b[1;33m                 \u001b[1;32mraise\u001b[0m \u001b[0mKeyError\u001b[0m\u001b[1;33m(\u001b[0m\u001b[1;34mf\"None of [{key}] are in the [{axis_name}]\"\u001b[0m\u001b[1;33m)\u001b[0m\u001b[1;33m\u001b[0m\u001b[1;33m\u001b[0m\u001b[0m\n\u001b[0m\u001b[0;32m   1309\u001b[0m \u001b[1;33m\u001b[0m\u001b[0m\n\u001b[0;32m   1310\u001b[0m             \u001b[0max\u001b[0m \u001b[1;33m=\u001b[0m \u001b[0mself\u001b[0m\u001b[1;33m.\u001b[0m\u001b[0mobj\u001b[0m\u001b[1;33m.\u001b[0m\u001b[0m_get_axis\u001b[0m\u001b[1;33m(\u001b[0m\u001b[0maxis\u001b[0m\u001b[1;33m)\u001b[0m\u001b[1;33m\u001b[0m\u001b[1;33m\u001b[0m\u001b[0m\n",
      "\u001b[1;31mKeyError\u001b[0m: \"None of [Index(['MBM10CQ005_XE01_Burner 1 Flame_on/off',\\n       'MBM10CP005_XE01_Ultra Low Frequency Pulsation_mbar',\\n       'MBM10CP005_XE02_Low Frequency Pulsation_mbar',\\n       'MBM10CP005_XE03_Medium Frequency Pulsation_mbar',\\n       'MBM10CP005_XE04_High Frequency Pulsation_mbar',\\n       'MBB10FT923_ZE11_T7 Exhaust Temp Average Ring1_°C',\\n       'MBB10FT923_ZE12_T7 Exhaust Temp Average Ring 2_°C',\\n       'MBB10FT923_ZE13_T7 Exhaust Temp Average Ring 3_°C'],\\n      dtype='object')] are in the [columns]\""
     ]
    }
   ],
   "source": [
    "preprocesseddf2 = {}\n",
    "for i in range(len(Datadic)):\n",
    "    preprocesseddf2[i] = preprocess_Indiv_burner_T_P_sans_SULP(Datadic[i],rm = False)"
   ]
  },
  {
   "cell_type": "code",
   "execution_count": null,
   "id": "ea703551",
   "metadata": {},
   "outputs": [],
   "source": [
    "preprocesseddf1 = {}\n",
    "for i in range(len(Datadic)):\n",
    "    preprocesseddf1[i] = preprocess_Indiv_burner_T_P_sans_SULP(Datadic[i],rm = True)"
   ]
  },
  {
   "cell_type": "code",
   "execution_count": null,
   "id": "2f853762",
   "metadata": {},
   "outputs": [],
   "source": [
    "len(preprocesseddf1[0])\n",
    "# len(preprocesseddf2[0])"
   ]
  },
  {
   "cell_type": "code",
   "execution_count": 195,
   "id": "a9f46514",
   "metadata": {},
   "outputs": [],
   "source": [
    "# fig,ax = plt.subplots(len(dfdic),1,figsize=(10,20))\n",
    "# for i in range(len(preprocesseddf)):\n",
    "#     plt.tight_layout()\n",
    "#     ax[i].plot(preprocesseddf[i]['BurnerStatus'])\n",
    "# #     ax2 = ax[i].twinx()\n",
    "# #     ax2.plot(dataStackedDiff['BurnerStatus'],color = 'Red')\n",
    "#     ax[i].set_title(i)\n",
    "# plt.tight_layout()\n",
    "# plt.savefig('Datasetstotake')"
   ]
  },
  {
   "cell_type": "markdown",
   "id": "20c43e4d",
   "metadata": {},
   "source": [
    "### Stack all dataframes over each Other\n"
   ]
  },
  {
   "cell_type": "markdown",
   "id": "3149558a",
   "metadata": {},
   "source": [
    "Post combining all the values we get n value to be close to 2 million and a train test split with shuffle is performed on this to retrieve the result and to check if this model would perform better when run on several burners or if increasing of data does not cause a change in accuracy values."
   ]
  },
  {
   "cell_type": "code",
   "execution_count": 32,
   "id": "9bf03a29",
   "metadata": {},
   "outputs": [
    {
     "data": {
      "text/html": [
       "<div>\n",
       "<style scoped>\n",
       "    .dataframe tbody tr th:only-of-type {\n",
       "        vertical-align: middle;\n",
       "    }\n",
       "\n",
       "    .dataframe tbody tr th {\n",
       "        vertical-align: top;\n",
       "    }\n",
       "\n",
       "    .dataframe thead th {\n",
       "        text-align: right;\n",
       "    }\n",
       "</style>\n",
       "<table border=\"1\" class=\"dataframe\">\n",
       "  <thead>\n",
       "    <tr style=\"text-align: right;\">\n",
       "      <th></th>\n",
       "      <th>BurnerStatus</th>\n",
       "      <th>UltraLow_Frequency</th>\n",
       "      <th>Low_Frequency</th>\n",
       "      <th>Medium_Frequency</th>\n",
       "      <th>High_Frequency</th>\n",
       "      <th>TempRing1</th>\n",
       "      <th>TempRing2</th>\n",
       "      <th>TempRing3</th>\n",
       "    </tr>\n",
       "  </thead>\n",
       "  <tbody>\n",
       "    <tr>\n",
       "      <th>0</th>\n",
       "      <td>0</td>\n",
       "      <td>0.244155</td>\n",
       "      <td>0.396753</td>\n",
       "      <td>0.244155</td>\n",
       "      <td>0.396753</td>\n",
       "      <td>22.88333</td>\n",
       "      <td>22.52153</td>\n",
       "      <td>22.52014</td>\n",
       "    </tr>\n",
       "    <tr>\n",
       "      <th>1</th>\n",
       "      <td>0</td>\n",
       "      <td>0.244155</td>\n",
       "      <td>0.396753</td>\n",
       "      <td>0.244155</td>\n",
       "      <td>0.396753</td>\n",
       "      <td>22.88333</td>\n",
       "      <td>22.52153</td>\n",
       "      <td>22.52639</td>\n",
       "    </tr>\n",
       "    <tr>\n",
       "      <th>2</th>\n",
       "      <td>0</td>\n",
       "      <td>0.305194</td>\n",
       "      <td>0.305194</td>\n",
       "      <td>0.244155</td>\n",
       "      <td>0.396753</td>\n",
       "      <td>22.88264</td>\n",
       "      <td>22.52153</td>\n",
       "      <td>22.52639</td>\n",
       "    </tr>\n",
       "    <tr>\n",
       "      <th>3</th>\n",
       "      <td>0</td>\n",
       "      <td>0.335714</td>\n",
       "      <td>0.366233</td>\n",
       "      <td>0.244155</td>\n",
       "      <td>0.396753</td>\n",
       "      <td>22.88264</td>\n",
       "      <td>22.52153</td>\n",
       "      <td>22.52639</td>\n",
       "    </tr>\n",
       "    <tr>\n",
       "      <th>4</th>\n",
       "      <td>0</td>\n",
       "      <td>0.305194</td>\n",
       "      <td>0.366233</td>\n",
       "      <td>0.244155</td>\n",
       "      <td>0.396753</td>\n",
       "      <td>22.87153</td>\n",
       "      <td>22.52153</td>\n",
       "      <td>22.52014</td>\n",
       "    </tr>\n",
       "    <tr>\n",
       "      <th>...</th>\n",
       "      <td>...</td>\n",
       "      <td>...</td>\n",
       "      <td>...</td>\n",
       "      <td>...</td>\n",
       "      <td>...</td>\n",
       "      <td>...</td>\n",
       "      <td>...</td>\n",
       "      <td>...</td>\n",
       "    </tr>\n",
       "    <tr>\n",
       "      <th>1744475</th>\n",
       "      <td>0</td>\n",
       "      <td>0.366233</td>\n",
       "      <td>0.366233</td>\n",
       "      <td>0.305194</td>\n",
       "      <td>0.396753</td>\n",
       "      <td>176.3375</td>\n",
       "      <td>181.1465</td>\n",
       "      <td>179.4208</td>\n",
       "    </tr>\n",
       "    <tr>\n",
       "      <th>1744476</th>\n",
       "      <td>0</td>\n",
       "      <td>0.366233</td>\n",
       "      <td>0.366233</td>\n",
       "      <td>0.335714</td>\n",
       "      <td>0.396753</td>\n",
       "      <td>176.2618</td>\n",
       "      <td>181.0549</td>\n",
       "      <td>179.2889</td>\n",
       "    </tr>\n",
       "    <tr>\n",
       "      <th>1744477</th>\n",
       "      <td>0</td>\n",
       "      <td>0.335714</td>\n",
       "      <td>0.366233</td>\n",
       "      <td>0.305194</td>\n",
       "      <td>0.396753</td>\n",
       "      <td>176.1931</td>\n",
       "      <td>180.9021</td>\n",
       "      <td>179.1417</td>\n",
       "    </tr>\n",
       "    <tr>\n",
       "      <th>1744478</th>\n",
       "      <td>0</td>\n",
       "      <td>0.244155</td>\n",
       "      <td>0.366233</td>\n",
       "      <td>0.305194</td>\n",
       "      <td>0.396753</td>\n",
       "      <td>176.1063</td>\n",
       "      <td>180.7667</td>\n",
       "      <td>178.9938</td>\n",
       "    </tr>\n",
       "    <tr>\n",
       "      <th>1744479</th>\n",
       "      <td>0</td>\n",
       "      <td>0.396753</td>\n",
       "      <td>0.335714</td>\n",
       "      <td>0.305194</td>\n",
       "      <td>0.396753</td>\n",
       "      <td>176.0305</td>\n",
       "      <td>180.7132</td>\n",
       "      <td>178.9021</td>\n",
       "    </tr>\n",
       "  </tbody>\n",
       "</table>\n",
       "<p>1744480 rows × 8 columns</p>\n",
       "</div>"
      ],
      "text/plain": [
       "        BurnerStatus UltraLow_Frequency Low_Frequency Medium_Frequency  \\\n",
       "0                  0           0.244155      0.396753         0.244155   \n",
       "1                  0           0.244155      0.396753         0.244155   \n",
       "2                  0           0.305194      0.305194         0.244155   \n",
       "3                  0           0.335714      0.366233         0.244155   \n",
       "4                  0           0.305194      0.366233         0.244155   \n",
       "...              ...                ...           ...              ...   \n",
       "1744475            0           0.366233      0.366233         0.305194   \n",
       "1744476            0           0.366233      0.366233         0.335714   \n",
       "1744477            0           0.335714      0.366233         0.305194   \n",
       "1744478            0           0.244155      0.366233         0.305194   \n",
       "1744479            0           0.396753      0.335714         0.305194   \n",
       "\n",
       "        High_Frequency TempRing1 TempRing2 TempRing3  \n",
       "0             0.396753  22.88333  22.52153  22.52014  \n",
       "1             0.396753  22.88333  22.52153  22.52639  \n",
       "2             0.396753  22.88264  22.52153  22.52639  \n",
       "3             0.396753  22.88264  22.52153  22.52639  \n",
       "4             0.396753  22.87153  22.52153  22.52014  \n",
       "...                ...       ...       ...       ...  \n",
       "1744475       0.396753  176.3375  181.1465  179.4208  \n",
       "1744476       0.396753  176.2618  181.0549  179.2889  \n",
       "1744477       0.396753  176.1931  180.9021  179.1417  \n",
       "1744478       0.396753  176.1063  180.7667  178.9938  \n",
       "1744479       0.396753  176.0305  180.7132  178.9021  \n",
       "\n",
       "[1744480 rows x 8 columns]"
      ]
     },
     "execution_count": 32,
     "metadata": {},
     "output_type": "execute_result"
    }
   ],
   "source": [
    "Combined_dataframe1 = pd.concat(preprocesseddf1,ignore_index=True)\n",
    "Combined_dataframe1"
   ]
  },
  {
   "cell_type": "code",
   "execution_count": 10,
   "id": "4a0d06c1",
   "metadata": {},
   "outputs": [
    {
     "data": {
      "text/html": [
       "<div>\n",
       "<style scoped>\n",
       "    .dataframe tbody tr th:only-of-type {\n",
       "        vertical-align: middle;\n",
       "    }\n",
       "\n",
       "    .dataframe tbody tr th {\n",
       "        vertical-align: top;\n",
       "    }\n",
       "\n",
       "    .dataframe thead th {\n",
       "        text-align: right;\n",
       "    }\n",
       "</style>\n",
       "<table border=\"1\" class=\"dataframe\">\n",
       "  <thead>\n",
       "    <tr style=\"text-align: right;\">\n",
       "      <th></th>\n",
       "      <th>BurnerStatus</th>\n",
       "      <th>UltraLow_Frequency</th>\n",
       "      <th>Low_Frequency</th>\n",
       "      <th>Medium_Frequency</th>\n",
       "      <th>High_Frequency</th>\n",
       "      <th>TempRing1</th>\n",
       "      <th>TempRing2</th>\n",
       "      <th>TempRing3</th>\n",
       "    </tr>\n",
       "  </thead>\n",
       "  <tbody>\n",
       "    <tr>\n",
       "      <th>0</th>\n",
       "      <td>0</td>\n",
       "      <td>0.488311</td>\n",
       "      <td>0.396753</td>\n",
       "      <td>0.305194</td>\n",
       "      <td>0.396753</td>\n",
       "      <td>28.24236</td>\n",
       "      <td>27.98125</td>\n",
       "      <td>27.96528</td>\n",
       "    </tr>\n",
       "    <tr>\n",
       "      <th>1</th>\n",
       "      <td>0</td>\n",
       "      <td>0.488311</td>\n",
       "      <td>0.396753</td>\n",
       "      <td>0.305194</td>\n",
       "      <td>0.396753</td>\n",
       "      <td>28.24236</td>\n",
       "      <td>27.98125</td>\n",
       "      <td>27.96528</td>\n",
       "    </tr>\n",
       "    <tr>\n",
       "      <th>2</th>\n",
       "      <td>0</td>\n",
       "      <td>0.305194</td>\n",
       "      <td>0.396753</td>\n",
       "      <td>0.305194</td>\n",
       "      <td>0.396753</td>\n",
       "      <td>28.24861</td>\n",
       "      <td>27.975</td>\n",
       "      <td>27.96042</td>\n",
       "    </tr>\n",
       "    <tr>\n",
       "      <th>3</th>\n",
       "      <td>0</td>\n",
       "      <td>0.305194</td>\n",
       "      <td>0.457792</td>\n",
       "      <td>0.305194</td>\n",
       "      <td>0.396753</td>\n",
       "      <td>28.24792</td>\n",
       "      <td>27.975</td>\n",
       "      <td>27.95972</td>\n",
       "    </tr>\n",
       "    <tr>\n",
       "      <th>4</th>\n",
       "      <td>0</td>\n",
       "      <td>0.51883</td>\n",
       "      <td>0.396753</td>\n",
       "      <td>0.305194</td>\n",
       "      <td>0.396753</td>\n",
       "      <td>28.23611</td>\n",
       "      <td>27.975</td>\n",
       "      <td>27.95972</td>\n",
       "    </tr>\n",
       "    <tr>\n",
       "      <th>...</th>\n",
       "      <td>...</td>\n",
       "      <td>...</td>\n",
       "      <td>...</td>\n",
       "      <td>...</td>\n",
       "      <td>...</td>\n",
       "      <td>...</td>\n",
       "      <td>...</td>\n",
       "      <td>...</td>\n",
       "    </tr>\n",
       "    <tr>\n",
       "      <th>2167403</th>\n",
       "      <td>0</td>\n",
       "      <td>0.366233</td>\n",
       "      <td>0.366233</td>\n",
       "      <td>0.305194</td>\n",
       "      <td>0.396753</td>\n",
       "      <td>176.3375</td>\n",
       "      <td>181.1465</td>\n",
       "      <td>179.4208</td>\n",
       "    </tr>\n",
       "    <tr>\n",
       "      <th>2167404</th>\n",
       "      <td>0</td>\n",
       "      <td>0.366233</td>\n",
       "      <td>0.366233</td>\n",
       "      <td>0.335714</td>\n",
       "      <td>0.396753</td>\n",
       "      <td>176.2618</td>\n",
       "      <td>181.0549</td>\n",
       "      <td>179.2889</td>\n",
       "    </tr>\n",
       "    <tr>\n",
       "      <th>2167405</th>\n",
       "      <td>0</td>\n",
       "      <td>0.335714</td>\n",
       "      <td>0.366233</td>\n",
       "      <td>0.305194</td>\n",
       "      <td>0.396753</td>\n",
       "      <td>176.1931</td>\n",
       "      <td>180.9021</td>\n",
       "      <td>179.1417</td>\n",
       "    </tr>\n",
       "    <tr>\n",
       "      <th>2167406</th>\n",
       "      <td>0</td>\n",
       "      <td>0.244155</td>\n",
       "      <td>0.366233</td>\n",
       "      <td>0.305194</td>\n",
       "      <td>0.396753</td>\n",
       "      <td>176.1063</td>\n",
       "      <td>180.7667</td>\n",
       "      <td>178.9938</td>\n",
       "    </tr>\n",
       "    <tr>\n",
       "      <th>2167407</th>\n",
       "      <td>0</td>\n",
       "      <td>0.396753</td>\n",
       "      <td>0.335714</td>\n",
       "      <td>0.305194</td>\n",
       "      <td>0.396753</td>\n",
       "      <td>176.0305</td>\n",
       "      <td>180.7132</td>\n",
       "      <td>178.9021</td>\n",
       "    </tr>\n",
       "  </tbody>\n",
       "</table>\n",
       "<p>2167408 rows × 8 columns</p>\n",
       "</div>"
      ],
      "text/plain": [
       "        BurnerStatus UltraLow_Frequency Low_Frequency Medium_Frequency  \\\n",
       "0                  0           0.488311      0.396753         0.305194   \n",
       "1                  0           0.488311      0.396753         0.305194   \n",
       "2                  0           0.305194      0.396753         0.305194   \n",
       "3                  0           0.305194      0.457792         0.305194   \n",
       "4                  0            0.51883      0.396753         0.305194   \n",
       "...              ...                ...           ...              ...   \n",
       "2167403            0           0.366233      0.366233         0.305194   \n",
       "2167404            0           0.366233      0.366233         0.335714   \n",
       "2167405            0           0.335714      0.366233         0.305194   \n",
       "2167406            0           0.244155      0.366233         0.305194   \n",
       "2167407            0           0.396753      0.335714         0.305194   \n",
       "\n",
       "        High_Frequency TempRing1 TempRing2 TempRing3  \n",
       "0             0.396753  28.24236  27.98125  27.96528  \n",
       "1             0.396753  28.24236  27.98125  27.96528  \n",
       "2             0.396753  28.24861    27.975  27.96042  \n",
       "3             0.396753  28.24792    27.975  27.95972  \n",
       "4             0.396753  28.23611    27.975  27.95972  \n",
       "...                ...       ...       ...       ...  \n",
       "2167403       0.396753  176.3375  181.1465  179.4208  \n",
       "2167404       0.396753  176.2618  181.0549  179.2889  \n",
       "2167405       0.396753  176.1931  180.9021  179.1417  \n",
       "2167406       0.396753  176.1063  180.7667  178.9938  \n",
       "2167407       0.396753  176.0305  180.7132  178.9021  \n",
       "\n",
       "[2167408 rows x 8 columns]"
      ]
     },
     "execution_count": 10,
     "metadata": {},
     "output_type": "execute_result"
    }
   ],
   "source": [
    "Combined_dataframe2 = pd.concat(preprocesseddf2,ignore_index=True)\n",
    "Combined_dataframe2"
   ]
  },
  {
   "cell_type": "code",
   "execution_count": 33,
   "id": "577b49e8",
   "metadata": {},
   "outputs": [],
   "source": [
    "Total_rows_removed = Combined_dataframe2.shape[0] - Combined_dataframe.shape[0]"
   ]
  },
  {
   "cell_type": "code",
   "execution_count": 34,
   "id": "94b1101d",
   "metadata": {},
   "outputs": [
    {
     "data": {
      "text/plain": [
       "1592"
      ]
     },
     "execution_count": 34,
     "metadata": {},
     "output_type": "execute_result"
    }
   ],
   "source": [
    "Total_rows_removed"
   ]
  },
  {
   "cell_type": "code",
   "execution_count": 38,
   "id": "2cf5cddf",
   "metadata": {},
   "outputs": [
    {
     "name": "stdout",
     "output_type": "stream",
     "text": [
      "The total number of On-Off is 512\n",
      "The total number of Off-On is 512\n"
     ]
    },
    {
     "data": {
      "text/plain": [
       "[512, 512]"
      ]
     },
     "execution_count": 38,
     "metadata": {},
     "output_type": "execute_result"
    }
   ],
   "source": [
    "valuecounts_stackedburner(Combined_dataframe)"
   ]
  },
  {
   "cell_type": "code",
   "execution_count": 40,
   "id": "5d985ab5",
   "metadata": {
    "scrolled": true
   },
   "outputs": [],
   "source": [
    "# plt.plot(Combined_dataframe.iloc[:,0])\n",
    "# plt.xlabel('Million')\n",
    "# plt.title('Training Data')\n",
    "# valueCount_stackedburners(Combined_dataframe)\n",
    "# plt.savefig('Data Config2')"
   ]
  },
  {
   "cell_type": "code",
   "execution_count": 202,
   "id": "174fa7ff",
   "metadata": {},
   "outputs": [
    {
     "name": "stdout",
     "output_type": "stream",
     "text": [
      "No na values\n"
     ]
    }
   ],
   "source": [
    "# dfUnbalanced = preprocess_Indiv_burner_T_P_sans_SULP(Gazli20210618Unbalanced,rm = True)\n",
    "# dfBalanced = preprocess_Indiv_burner_T_P_sans_SULP(Gazli20210618Balanced,rm = False)"
   ]
  },
  {
   "cell_type": "markdown",
   "id": "81b3ab61",
   "metadata": {},
   "source": [
    "To have a steady result we set a random seed to "
   ]
  },
  {
   "cell_type": "code",
   "execution_count": 203,
   "id": "4ee9442b",
   "metadata": {},
   "outputs": [],
   "source": [
    "X_train,X_test,y_train,y_test = train_test_split(TurbineXandY(Combined_dataframe)[0],\n",
    "                                                 TurbineXandY(Combined_dataframe)[1],\n",
    "                                                 test_size=0.20, random_state=42,\n",
    "                                                shuffle = False)"
   ]
  },
  {
   "cell_type": "code",
   "execution_count": 204,
   "id": "69a8e198",
   "metadata": {
    "scrolled": true
   },
   "outputs": [],
   "source": [
    "# plt.plot(dataPT_Test[7].iloc[:,0])\n",
    "# plt.plot(dfBalanced[2].iloc[:,0])"
   ]
  },
  {
   "cell_type": "code",
   "execution_count": 205,
   "id": "744caae1",
   "metadata": {},
   "outputs": [],
   "source": [
    "%run Master_thesis_Final_script.py"
   ]
  },
  {
   "cell_type": "markdown",
   "id": "ea905363",
   "metadata": {},
   "source": [
    "## Logistic Regression"
   ]
  },
  {
   "cell_type": "code",
   "execution_count": 243,
   "id": "a06756bb",
   "metadata": {},
   "outputs": [
    {
     "name": "stdout",
     "output_type": "stream",
     "text": [
      "Wall time: 0 ns\n"
     ]
    }
   ],
   "source": [
    "%%time\n",
    "from sklearn.linear_model import LogisticRegression\n",
    "from sklearn.model_selection import cross_val_score\n",
    "\n",
    "log_model = LogisticRegression(solver='newton-cg',C=.01, random_state=21,penalty = 'l2',max_iter=350)#,multi_class = 'multinomial', max_iter = 1000)\n"
   ]
  },
  {
   "cell_type": "code",
   "execution_count": 208,
   "id": "85f93b96",
   "metadata": {},
   "outputs": [
    {
     "data": {
      "text/plain": [
       "<generator object _RepeatedSplits.split at 0x0000017BB75FFA50>"
      ]
     },
     "execution_count": 208,
     "metadata": {},
     "output_type": "execute_result"
    }
   ],
   "source": [
    "skf = RepeatedStratifiedKFold(n_splits=10, random_state=None)\n",
    "skf.split(X_train,y_train)"
   ]
  },
  {
   "cell_type": "code",
   "execution_count": 213,
   "id": "08a4b826",
   "metadata": {},
   "outputs": [],
   "source": [
    "y_train = y_train.astype('category')"
   ]
  },
  {
   "cell_type": "code",
   "execution_count": 48,
   "id": "80527c98",
   "metadata": {},
   "outputs": [
    {
     "ename": "NameError",
     "evalue": "name 'X_train' is not defined",
     "output_type": "error",
     "traceback": [
      "\u001b[1;31m---------------------------------------------------------------------------\u001b[0m",
      "\u001b[1;31mNameError\u001b[0m                                 Traceback (most recent call last)",
      "\u001b[1;32m<ipython-input-48-40496bd6f72d>\u001b[0m in \u001b[0;36m<module>\u001b[1;34m\u001b[0m\n\u001b[0;32m     10\u001b[0m \u001b[0mcv\u001b[0m \u001b[1;33m=\u001b[0m \u001b[0mRepeatedStratifiedKFold\u001b[0m\u001b[1;33m(\u001b[0m\u001b[0mn_splits\u001b[0m\u001b[1;33m=\u001b[0m\u001b[1;36m10\u001b[0m\u001b[1;33m,\u001b[0m \u001b[0mn_repeats\u001b[0m\u001b[1;33m=\u001b[0m\u001b[1;36m3\u001b[0m\u001b[1;33m,\u001b[0m \u001b[0mrandom_state\u001b[0m\u001b[1;33m=\u001b[0m\u001b[1;36m1\u001b[0m\u001b[1;33m)\u001b[0m\u001b[1;33m\u001b[0m\u001b[1;33m\u001b[0m\u001b[0m\n\u001b[0;32m     11\u001b[0m \u001b[0mgrid_search\u001b[0m \u001b[1;33m=\u001b[0m \u001b[0mGridSearchCV\u001b[0m\u001b[1;33m(\u001b[0m\u001b[0mestimator\u001b[0m\u001b[1;33m=\u001b[0m\u001b[0mlog_model\u001b[0m\u001b[1;33m,\u001b[0m \u001b[0mparam_grid\u001b[0m\u001b[1;33m=\u001b[0m\u001b[0mgrid\u001b[0m\u001b[1;33m,\u001b[0m \u001b[0mn_jobs\u001b[0m\u001b[1;33m=\u001b[0m\u001b[1;33m-\u001b[0m\u001b[1;36m1\u001b[0m\u001b[1;33m,\u001b[0m \u001b[0mcv\u001b[0m\u001b[1;33m=\u001b[0m\u001b[0mcv\u001b[0m\u001b[1;33m,\u001b[0m \u001b[0mscoring\u001b[0m\u001b[1;33m=\u001b[0m\u001b[1;34m'roc_auc'\u001b[0m\u001b[1;33m,\u001b[0m\u001b[0merror_score\u001b[0m\u001b[1;33m=\u001b[0m\u001b[1;36m0\u001b[0m\u001b[1;33m)\u001b[0m\u001b[1;33m\u001b[0m\u001b[1;33m\u001b[0m\u001b[0m\n\u001b[1;32m---> 12\u001b[1;33m \u001b[0mgrid_result\u001b[0m \u001b[1;33m=\u001b[0m \u001b[0mgrid_search\u001b[0m\u001b[1;33m.\u001b[0m\u001b[0mfit\u001b[0m\u001b[1;33m(\u001b[0m\u001b[0mX_train\u001b[0m\u001b[1;33m,\u001b[0m \u001b[0my_train\u001b[0m\u001b[1;33m)\u001b[0m\u001b[1;33m\u001b[0m\u001b[1;33m\u001b[0m\u001b[0m\n\u001b[0m\u001b[0;32m     13\u001b[0m \u001b[1;31m# summarize results\u001b[0m\u001b[1;33m\u001b[0m\u001b[1;33m\u001b[0m\u001b[1;33m\u001b[0m\u001b[0m\n\u001b[0;32m     14\u001b[0m \u001b[0mprint\u001b[0m\u001b[1;33m(\u001b[0m\u001b[1;34m\"Best: %f using %s\"\u001b[0m \u001b[1;33m%\u001b[0m \u001b[1;33m(\u001b[0m\u001b[0mgrid_result\u001b[0m\u001b[1;33m.\u001b[0m\u001b[0mbest_score_\u001b[0m\u001b[1;33m,\u001b[0m \u001b[0mgrid_result\u001b[0m\u001b[1;33m.\u001b[0m\u001b[0mbest_params_\u001b[0m\u001b[1;33m)\u001b[0m\u001b[1;33m)\u001b[0m\u001b[1;33m\u001b[0m\u001b[1;33m\u001b[0m\u001b[0m\n",
      "\u001b[1;31mNameError\u001b[0m: name 'X_train' is not defined"
     ]
    }
   ],
   "source": [
    "from sklearn.model_selection import GridSearchCV,RepeatedStratifiedKFold\n",
    "from sklearn.linear_model import LogisticRegression\n",
    "log_model = LogisticRegression()\n",
    "# from sklearn.model_selection import \n",
    "solvers = ['newton-cg', 'lbfgs', 'liblinear']\n",
    "penalty = ['l2']\n",
    "c_values = [100, 10, 1.0, 0.1, 0.01]\n",
    "# define grid search\n",
    "grid = dict(solver=solvers,penalty=penalty,C=c_values)\n",
    "cv = RepeatedStratifiedKFold(n_splits=10, n_repeats=3, random_state=1)\n",
    "grid_search = GridSearchCV(estimator=log_model, param_grid=grid, n_jobs=-1, cv=cv, scoring='roc_auc',error_score=0)\n",
    "grid_result = grid_search.fit(X_train, y_train)\n",
    "# summarize results\n",
    "print(\"Best: %f using %s\" % (grid_result.best_score_, grid_result.best_params_))\n",
    "means = grid_result.cv_results_['mean_test_score']\n",
    "stds = grid_result.cv_results_['std_test_score']\n",
    "params = grid_result.cv_results_['params']\n",
    "for mean, stdev, param in zip(means, stds, params):\n",
    "    print(\"%f (%f) with: %r\" % (mean, stdev, param))"
   ]
  },
  {
   "cell_type": "code",
   "execution_count": 219,
   "id": "61bde1f6",
   "metadata": {},
   "outputs": [],
   "source": [
    "import pickle\n",
    "filename = 'GridSearchRepeatedKfoldCV_Logistic.sav'\n",
    "pickle.dump(grid_result, open(filename, 'wb'))"
   ]
  },
  {
   "cell_type": "code",
   "execution_count": 176,
   "id": "08c66b47",
   "metadata": {},
   "outputs": [
    {
     "data": {
      "image/png": "[encoded data removed]",
      "text/plain": [
       "<Figure size 432x288 with 1 Axes>"
      ]
     },
     "metadata": {
      "needs_background": "light"
     },
     "output_type": "display_data"
    }
   ],
   "source": [
    "def abline(slope, intercept):\n",
    "    axes = plt.gca()\n",
    "    x_vals = np.array(axes.get_xlim())\n",
    "    y_vals = intercept + slope * x_vals\n",
    "    plt.plot(x_vals, y_vals, '--')\n",
    "plt.plot(logisitic_accuracy)\n",
    "plt.plot(10, np.mean(logisitic_accuracy),'o-', label='line plot')\n",
    "abline(0, np.mean(logisitic_accuracy))\n",
    "# np.mean(logisitic_accuracy)"
   ]
  },
  {
   "cell_type": "code",
   "execution_count": 221,
   "id": "7b888cf9",
   "metadata": {},
   "outputs": [
    {
     "ename": "KeyboardInterrupt",
     "evalue": "",
     "output_type": "error",
     "traceback": [
      "\u001b[1;31m---------------------------------------------------------------------------\u001b[0m",
      "\u001b[1;31mKeyboardInterrupt\u001b[0m                         Traceback (most recent call last)",
      "\u001b[1;32m<ipython-input-221-a84983738b66>\u001b[0m in \u001b[0;36m<module>\u001b[1;34m\u001b[0m\n\u001b[0;32m      8\u001b[0m \u001b[0mcv\u001b[0m \u001b[1;33m=\u001b[0m \u001b[0mRepeatedStratifiedKFold\u001b[0m\u001b[1;33m(\u001b[0m\u001b[0mn_splits\u001b[0m\u001b[1;33m=\u001b[0m\u001b[1;36m10\u001b[0m\u001b[1;33m,\u001b[0m \u001b[0mn_repeats\u001b[0m\u001b[1;33m=\u001b[0m\u001b[1;36m3\u001b[0m\u001b[1;33m,\u001b[0m \u001b[0mrandom_state\u001b[0m\u001b[1;33m=\u001b[0m\u001b[1;36m1\u001b[0m\u001b[1;33m)\u001b[0m\u001b[1;33m\u001b[0m\u001b[1;33m\u001b[0m\u001b[0m\n\u001b[0;32m      9\u001b[0m \u001b[0mgrid_search\u001b[0m \u001b[1;33m=\u001b[0m \u001b[0mGridSearchCV\u001b[0m\u001b[1;33m(\u001b[0m\u001b[0mestimator\u001b[0m\u001b[1;33m=\u001b[0m\u001b[0mmodel\u001b[0m\u001b[1;33m,\u001b[0m \u001b[0mparam_grid\u001b[0m\u001b[1;33m=\u001b[0m\u001b[0mgrid\u001b[0m\u001b[1;33m,\u001b[0m \u001b[0mn_jobs\u001b[0m\u001b[1;33m=\u001b[0m\u001b[1;33m-\u001b[0m\u001b[1;36m1\u001b[0m\u001b[1;33m,\u001b[0m \u001b[0mcv\u001b[0m\u001b[1;33m=\u001b[0m\u001b[0mcv\u001b[0m\u001b[1;33m,\u001b[0m \u001b[0mscoring\u001b[0m\u001b[1;33m=\u001b[0m\u001b[1;34m'roc_auc'\u001b[0m\u001b[1;33m,\u001b[0m\u001b[0merror_score\u001b[0m\u001b[1;33m=\u001b[0m\u001b[1;36m0\u001b[0m\u001b[1;33m)\u001b[0m\u001b[1;33m\u001b[0m\u001b[1;33m\u001b[0m\u001b[0m\n\u001b[1;32m---> 10\u001b[1;33m \u001b[0mgrid_result\u001b[0m \u001b[1;33m=\u001b[0m \u001b[0mgrid_search\u001b[0m\u001b[1;33m.\u001b[0m\u001b[0mfit\u001b[0m\u001b[1;33m(\u001b[0m\u001b[0mX_train\u001b[0m\u001b[1;33m,\u001b[0m \u001b[0my_train\u001b[0m\u001b[1;33m)\u001b[0m\u001b[1;33m\u001b[0m\u001b[1;33m\u001b[0m\u001b[0m\n\u001b[0m\u001b[0;32m     11\u001b[0m \u001b[1;31m# summarize results\u001b[0m\u001b[1;33m\u001b[0m\u001b[1;33m\u001b[0m\u001b[1;33m\u001b[0m\u001b[0m\n\u001b[0;32m     12\u001b[0m \u001b[0mprint\u001b[0m\u001b[1;33m(\u001b[0m\u001b[1;34m\"Best: %f using %s\"\u001b[0m \u001b[1;33m%\u001b[0m \u001b[1;33m(\u001b[0m\u001b[0mgrid_result\u001b[0m\u001b[1;33m.\u001b[0m\u001b[0mbest_score_\u001b[0m\u001b[1;33m,\u001b[0m \u001b[0mgrid_result\u001b[0m\u001b[1;33m.\u001b[0m\u001b[0mbest_params_\u001b[0m\u001b[1;33m)\u001b[0m\u001b[1;33m)\u001b[0m\u001b[1;33m\u001b[0m\u001b[1;33m\u001b[0m\u001b[0m\n",
      "\u001b[1;32m~\\Anaconda3\\lib\\site-packages\\sklearn\\utils\\validation.py\u001b[0m in \u001b[0;36minner_f\u001b[1;34m(*args, **kwargs)\u001b[0m\n\u001b[0;32m     61\u001b[0m             \u001b[0mextra_args\u001b[0m \u001b[1;33m=\u001b[0m \u001b[0mlen\u001b[0m\u001b[1;33m(\u001b[0m\u001b[0margs\u001b[0m\u001b[1;33m)\u001b[0m \u001b[1;33m-\u001b[0m \u001b[0mlen\u001b[0m\u001b[1;33m(\u001b[0m\u001b[0mall_args\u001b[0m\u001b[1;33m)\u001b[0m\u001b[1;33m\u001b[0m\u001b[1;33m\u001b[0m\u001b[0m\n\u001b[0;32m     62\u001b[0m             \u001b[1;32mif\u001b[0m \u001b[0mextra_args\u001b[0m \u001b[1;33m<=\u001b[0m \u001b[1;36m0\u001b[0m\u001b[1;33m:\u001b[0m\u001b[1;33m\u001b[0m\u001b[1;33m\u001b[0m\u001b[0m\n\u001b[1;32m---> 63\u001b[1;33m                 \u001b[1;32mreturn\u001b[0m \u001b[0mf\u001b[0m\u001b[1;33m(\u001b[0m\u001b[1;33m*\u001b[0m\u001b[0margs\u001b[0m\u001b[1;33m,\u001b[0m \u001b[1;33m**\u001b[0m\u001b[0mkwargs\u001b[0m\u001b[1;33m)\u001b[0m\u001b[1;33m\u001b[0m\u001b[1;33m\u001b[0m\u001b[0m\n\u001b[0m\u001b[0;32m     64\u001b[0m \u001b[1;33m\u001b[0m\u001b[0m\n\u001b[0;32m     65\u001b[0m             \u001b[1;31m# extra_args > 0\u001b[0m\u001b[1;33m\u001b[0m\u001b[1;33m\u001b[0m\u001b[1;33m\u001b[0m\u001b[0m\n",
      "\u001b[1;32m~\\Anaconda3\\lib\\site-packages\\sklearn\\model_selection\\_search.py\u001b[0m in \u001b[0;36mfit\u001b[1;34m(self, X, y, groups, **fit_params)\u001b[0m\n\u001b[0;32m    839\u001b[0m                 \u001b[1;32mreturn\u001b[0m \u001b[0mresults\u001b[0m\u001b[1;33m\u001b[0m\u001b[1;33m\u001b[0m\u001b[0m\n\u001b[0;32m    840\u001b[0m \u001b[1;33m\u001b[0m\u001b[0m\n\u001b[1;32m--> 841\u001b[1;33m             \u001b[0mself\u001b[0m\u001b[1;33m.\u001b[0m\u001b[0m_run_search\u001b[0m\u001b[1;33m(\u001b[0m\u001b[0mevaluate_candidates\u001b[0m\u001b[1;33m)\u001b[0m\u001b[1;33m\u001b[0m\u001b[1;33m\u001b[0m\u001b[0m\n\u001b[0m\u001b[0;32m    842\u001b[0m \u001b[1;33m\u001b[0m\u001b[0m\n\u001b[0;32m    843\u001b[0m             \u001b[1;31m# multimetric is determined here because in the case of a callable\u001b[0m\u001b[1;33m\u001b[0m\u001b[1;33m\u001b[0m\u001b[1;33m\u001b[0m\u001b[0m\n",
      "\u001b[1;32m~\\Anaconda3\\lib\\site-packages\\sklearn\\model_selection\\_search.py\u001b[0m in \u001b[0;36m_run_search\u001b[1;34m(self, evaluate_candidates)\u001b[0m\n\u001b[0;32m   1286\u001b[0m     \u001b[1;32mdef\u001b[0m \u001b[0m_run_search\u001b[0m\u001b[1;33m(\u001b[0m\u001b[0mself\u001b[0m\u001b[1;33m,\u001b[0m \u001b[0mevaluate_candidates\u001b[0m\u001b[1;33m)\u001b[0m\u001b[1;33m:\u001b[0m\u001b[1;33m\u001b[0m\u001b[1;33m\u001b[0m\u001b[0m\n\u001b[0;32m   1287\u001b[0m         \u001b[1;34m\"\"\"Search all candidates in param_grid\"\"\"\u001b[0m\u001b[1;33m\u001b[0m\u001b[1;33m\u001b[0m\u001b[0m\n\u001b[1;32m-> 1288\u001b[1;33m         \u001b[0mevaluate_candidates\u001b[0m\u001b[1;33m(\u001b[0m\u001b[0mParameterGrid\u001b[0m\u001b[1;33m(\u001b[0m\u001b[0mself\u001b[0m\u001b[1;33m.\u001b[0m\u001b[0mparam_grid\u001b[0m\u001b[1;33m)\u001b[0m\u001b[1;33m)\u001b[0m\u001b[1;33m\u001b[0m\u001b[1;33m\u001b[0m\u001b[0m\n\u001b[0m\u001b[0;32m   1289\u001b[0m \u001b[1;33m\u001b[0m\u001b[0m\n\u001b[0;32m   1290\u001b[0m \u001b[1;33m\u001b[0m\u001b[0m\n",
      "\u001b[1;32m~\\Anaconda3\\lib\\site-packages\\sklearn\\model_selection\\_search.py\u001b[0m in \u001b[0;36mevaluate_candidates\u001b[1;34m(candidate_params, cv, more_results)\u001b[0m\n\u001b[0;32m    793\u001b[0m                               n_splits, n_candidates, n_candidates * n_splits))\n\u001b[0;32m    794\u001b[0m \u001b[1;33m\u001b[0m\u001b[0m\n\u001b[1;32m--> 795\u001b[1;33m                 out = parallel(delayed(_fit_and_score)(clone(base_estimator),\n\u001b[0m\u001b[0;32m    796\u001b[0m                                                        \u001b[0mX\u001b[0m\u001b[1;33m,\u001b[0m \u001b[0my\u001b[0m\u001b[1;33m,\u001b[0m\u001b[1;33m\u001b[0m\u001b[1;33m\u001b[0m\u001b[0m\n\u001b[0;32m    797\u001b[0m                                                        \u001b[0mtrain\u001b[0m\u001b[1;33m=\u001b[0m\u001b[0mtrain\u001b[0m\u001b[1;33m,\u001b[0m \u001b[0mtest\u001b[0m\u001b[1;33m=\u001b[0m\u001b[0mtest\u001b[0m\u001b[1;33m,\u001b[0m\u001b[1;33m\u001b[0m\u001b[1;33m\u001b[0m\u001b[0m\n",
      "\u001b[1;32m~\\Anaconda3\\lib\\site-packages\\joblib\\parallel.py\u001b[0m in \u001b[0;36m__call__\u001b[1;34m(self, iterable)\u001b[0m\n\u001b[0;32m   1052\u001b[0m \u001b[1;33m\u001b[0m\u001b[0m\n\u001b[0;32m   1053\u001b[0m             \u001b[1;32mwith\u001b[0m \u001b[0mself\u001b[0m\u001b[1;33m.\u001b[0m\u001b[0m_backend\u001b[0m\u001b[1;33m.\u001b[0m\u001b[0mretrieval_context\u001b[0m\u001b[1;33m(\u001b[0m\u001b[1;33m)\u001b[0m\u001b[1;33m:\u001b[0m\u001b[1;33m\u001b[0m\u001b[1;33m\u001b[0m\u001b[0m\n\u001b[1;32m-> 1054\u001b[1;33m                 \u001b[0mself\u001b[0m\u001b[1;33m.\u001b[0m\u001b[0mretrieve\u001b[0m\u001b[1;33m(\u001b[0m\u001b[1;33m)\u001b[0m\u001b[1;33m\u001b[0m\u001b[1;33m\u001b[0m\u001b[0m\n\u001b[0m\u001b[0;32m   1055\u001b[0m             \u001b[1;31m# Make sure that we get a last message telling us we are done\u001b[0m\u001b[1;33m\u001b[0m\u001b[1;33m\u001b[0m\u001b[1;33m\u001b[0m\u001b[0m\n\u001b[0;32m   1056\u001b[0m             \u001b[0melapsed_time\u001b[0m \u001b[1;33m=\u001b[0m \u001b[0mtime\u001b[0m\u001b[1;33m.\u001b[0m\u001b[0mtime\u001b[0m\u001b[1;33m(\u001b[0m\u001b[1;33m)\u001b[0m \u001b[1;33m-\u001b[0m \u001b[0mself\u001b[0m\u001b[1;33m.\u001b[0m\u001b[0m_start_time\u001b[0m\u001b[1;33m\u001b[0m\u001b[1;33m\u001b[0m\u001b[0m\n",
      "\u001b[1;32m~\\Anaconda3\\lib\\site-packages\\joblib\\parallel.py\u001b[0m in \u001b[0;36mretrieve\u001b[1;34m(self)\u001b[0m\n\u001b[0;32m    931\u001b[0m             \u001b[1;32mtry\u001b[0m\u001b[1;33m:\u001b[0m\u001b[1;33m\u001b[0m\u001b[1;33m\u001b[0m\u001b[0m\n\u001b[0;32m    932\u001b[0m                 \u001b[1;32mif\u001b[0m \u001b[0mgetattr\u001b[0m\u001b[1;33m(\u001b[0m\u001b[0mself\u001b[0m\u001b[1;33m.\u001b[0m\u001b[0m_backend\u001b[0m\u001b[1;33m,\u001b[0m \u001b[1;34m'supports_timeout'\u001b[0m\u001b[1;33m,\u001b[0m \u001b[1;32mFalse\u001b[0m\u001b[1;33m)\u001b[0m\u001b[1;33m:\u001b[0m\u001b[1;33m\u001b[0m\u001b[1;33m\u001b[0m\u001b[0m\n\u001b[1;32m--> 933\u001b[1;33m                     \u001b[0mself\u001b[0m\u001b[1;33m.\u001b[0m\u001b[0m_output\u001b[0m\u001b[1;33m.\u001b[0m\u001b[0mextend\u001b[0m\u001b[1;33m(\u001b[0m\u001b[0mjob\u001b[0m\u001b[1;33m.\u001b[0m\u001b[0mget\u001b[0m\u001b[1;33m(\u001b[0m\u001b[0mtimeout\u001b[0m\u001b[1;33m=\u001b[0m\u001b[0mself\u001b[0m\u001b[1;33m.\u001b[0m\u001b[0mtimeout\u001b[0m\u001b[1;33m)\u001b[0m\u001b[1;33m)\u001b[0m\u001b[1;33m\u001b[0m\u001b[1;33m\u001b[0m\u001b[0m\n\u001b[0m\u001b[0;32m    934\u001b[0m                 \u001b[1;32melse\u001b[0m\u001b[1;33m:\u001b[0m\u001b[1;33m\u001b[0m\u001b[1;33m\u001b[0m\u001b[0m\n\u001b[0;32m    935\u001b[0m                     \u001b[0mself\u001b[0m\u001b[1;33m.\u001b[0m\u001b[0m_output\u001b[0m\u001b[1;33m.\u001b[0m\u001b[0mextend\u001b[0m\u001b[1;33m(\u001b[0m\u001b[0mjob\u001b[0m\u001b[1;33m.\u001b[0m\u001b[0mget\u001b[0m\u001b[1;33m(\u001b[0m\u001b[1;33m)\u001b[0m\u001b[1;33m)\u001b[0m\u001b[1;33m\u001b[0m\u001b[1;33m\u001b[0m\u001b[0m\n",
      "\u001b[1;32m~\\Anaconda3\\lib\\site-packages\\joblib\\_parallel_backends.py\u001b[0m in \u001b[0;36mwrap_future_result\u001b[1;34m(future, timeout)\u001b[0m\n\u001b[0;32m    540\u001b[0m         AsyncResults.get from multiprocessing.\"\"\"\n\u001b[0;32m    541\u001b[0m         \u001b[1;32mtry\u001b[0m\u001b[1;33m:\u001b[0m\u001b[1;33m\u001b[0m\u001b[1;33m\u001b[0m\u001b[0m\n\u001b[1;32m--> 542\u001b[1;33m             \u001b[1;32mreturn\u001b[0m \u001b[0mfuture\u001b[0m\u001b[1;33m.\u001b[0m\u001b[0mresult\u001b[0m\u001b[1;33m(\u001b[0m\u001b[0mtimeout\u001b[0m\u001b[1;33m=\u001b[0m\u001b[0mtimeout\u001b[0m\u001b[1;33m)\u001b[0m\u001b[1;33m\u001b[0m\u001b[1;33m\u001b[0m\u001b[0m\n\u001b[0m\u001b[0;32m    543\u001b[0m         \u001b[1;32mexcept\u001b[0m \u001b[0mCfTimeoutError\u001b[0m \u001b[1;32mas\u001b[0m \u001b[0me\u001b[0m\u001b[1;33m:\u001b[0m\u001b[1;33m\u001b[0m\u001b[1;33m\u001b[0m\u001b[0m\n\u001b[0;32m    544\u001b[0m             \u001b[1;32mraise\u001b[0m \u001b[0mTimeoutError\u001b[0m \u001b[1;32mfrom\u001b[0m \u001b[0me\u001b[0m\u001b[1;33m\u001b[0m\u001b[1;33m\u001b[0m\u001b[0m\n",
      "\u001b[1;32m~\\Anaconda3\\lib\\concurrent\\futures\\_base.py\u001b[0m in \u001b[0;36mresult\u001b[1;34m(self, timeout)\u001b[0m\n\u001b[0;32m    432\u001b[0m                 \u001b[1;32mreturn\u001b[0m \u001b[0mself\u001b[0m\u001b[1;33m.\u001b[0m\u001b[0m__get_result\u001b[0m\u001b[1;33m(\u001b[0m\u001b[1;33m)\u001b[0m\u001b[1;33m\u001b[0m\u001b[1;33m\u001b[0m\u001b[0m\n\u001b[0;32m    433\u001b[0m \u001b[1;33m\u001b[0m\u001b[0m\n\u001b[1;32m--> 434\u001b[1;33m             \u001b[0mself\u001b[0m\u001b[1;33m.\u001b[0m\u001b[0m_condition\u001b[0m\u001b[1;33m.\u001b[0m\u001b[0mwait\u001b[0m\u001b[1;33m(\u001b[0m\u001b[0mtimeout\u001b[0m\u001b[1;33m)\u001b[0m\u001b[1;33m\u001b[0m\u001b[1;33m\u001b[0m\u001b[0m\n\u001b[0m\u001b[0;32m    435\u001b[0m \u001b[1;33m\u001b[0m\u001b[0m\n\u001b[0;32m    436\u001b[0m             \u001b[1;32mif\u001b[0m \u001b[0mself\u001b[0m\u001b[1;33m.\u001b[0m\u001b[0m_state\u001b[0m \u001b[1;32min\u001b[0m \u001b[1;33m[\u001b[0m\u001b[0mCANCELLED\u001b[0m\u001b[1;33m,\u001b[0m \u001b[0mCANCELLED_AND_NOTIFIED\u001b[0m\u001b[1;33m]\u001b[0m\u001b[1;33m:\u001b[0m\u001b[1;33m\u001b[0m\u001b[1;33m\u001b[0m\u001b[0m\n",
      "\u001b[1;32m~\\Anaconda3\\lib\\threading.py\u001b[0m in \u001b[0;36mwait\u001b[1;34m(self, timeout)\u001b[0m\n\u001b[0;32m    300\u001b[0m         \u001b[1;32mtry\u001b[0m\u001b[1;33m:\u001b[0m    \u001b[1;31m# restore state no matter what (e.g., KeyboardInterrupt)\u001b[0m\u001b[1;33m\u001b[0m\u001b[1;33m\u001b[0m\u001b[0m\n\u001b[0;32m    301\u001b[0m             \u001b[1;32mif\u001b[0m \u001b[0mtimeout\u001b[0m \u001b[1;32mis\u001b[0m \u001b[1;32mNone\u001b[0m\u001b[1;33m:\u001b[0m\u001b[1;33m\u001b[0m\u001b[1;33m\u001b[0m\u001b[0m\n\u001b[1;32m--> 302\u001b[1;33m                 \u001b[0mwaiter\u001b[0m\u001b[1;33m.\u001b[0m\u001b[0macquire\u001b[0m\u001b[1;33m(\u001b[0m\u001b[1;33m)\u001b[0m\u001b[1;33m\u001b[0m\u001b[1;33m\u001b[0m\u001b[0m\n\u001b[0m\u001b[0;32m    303\u001b[0m                 \u001b[0mgotit\u001b[0m \u001b[1;33m=\u001b[0m \u001b[1;32mTrue\u001b[0m\u001b[1;33m\u001b[0m\u001b[1;33m\u001b[0m\u001b[0m\n\u001b[0;32m    304\u001b[0m             \u001b[1;32melse\u001b[0m\u001b[1;33m:\u001b[0m\u001b[1;33m\u001b[0m\u001b[1;33m\u001b[0m\u001b[0m\n",
      "\u001b[1;31mKeyboardInterrupt\u001b[0m: "
     ]
    }
   ],
   "source": [
    "# define models and parameters\n",
    "model = KNeighborsClassifier()\n",
    "n_neighbors = range(1, 21, 2)\n",
    "weights = ['uniform', 'distance']\n",
    "metric = ['euclidean', 'manhattan', 'minkowski']\n",
    "# define grid search\n",
    "grid = dict(n_neighbors=n_neighbors,weights=weights,metric=metric)\n",
    "cv = RepeatedStratifiedKFold(n_splits=10, n_repeats=3, random_state=1)\n",
    "grid_search = GridSearchCV(estimator=model, param_grid=grid, n_jobs=-1, cv=cv, scoring='roc_auc',error_score=0)\n",
    "grid_result = grid_search.fit(X_train, y_train)\n",
    "# summarize results\n",
    "print(\"Best: %f using %s\" % (grid_result.best_score_, grid_result.best_params_))\n",
    "means = grid_result.cv_results_['mean_test_score']\n",
    "stds = grid_result.cv_results_['std_test_score']\n",
    "params = grid_result.cv_results_['params']\n",
    "for mean, stdev, param in zip(means, stds, params):\n",
    "    print(\"%f (%f) with: %r\" % (mean, stdev, param))"
   ]
  },
  {
   "cell_type": "code",
   "execution_count": null,
   "id": "18f28479",
   "metadata": {},
   "outputs": [],
   "source": [
    "%%time\n",
    "##Run Model Using Minmax\n",
    "##Scaled \n",
    "# Model_eval(Combined_dataframe,.3,log_model,S = True, MS = 'Standard')\n",
    "# Model_eval(Combined_dataframe2,.3,log_model,S = True, MS = 'Standard')\n",
    "# Model_eval(Combined_dataframe,.3,log_model,S = True, MS = 'Minmax')\n",
    "# Model_eval(Combined_dataframe2,.3,log_model,S = True, MS = 'Minmax')\n",
    "Model_eval(Combined_dataframe,.3,log_model)##Best Model\n",
    "# Model_eval(Combined_dataframe2,.3,log_model)"
   ]
  },
  {
   "cell_type": "code",
   "execution_count": null,
   "id": "b08cb9fd",
   "metadata": {},
   "outputs": [],
   "source": [
    "log_model = Model_training(X_train,y_train,log_m)"
   ]
  },
  {
   "cell_type": "code",
   "execution_count": null,
   "id": "24c9e8ce",
   "metadata": {},
   "outputs": [],
   "source": [
    "%%time\n",
    "log = confumatrixCDF(X_train,y_train,X_test,y_test,log_model)"
   ]
  },
  {
   "cell_type": "markdown",
   "id": "8426465d",
   "metadata": {},
   "source": [
    "## KNN "
   ]
  },
  {
   "cell_type": "code",
   "execution_count": 21,
   "id": "04e15d9f",
   "metadata": {},
   "outputs": [],
   "source": [
    "from sklearn.neighbors import KNeighborsClassifier\n",
    "neigh = KNeighborsClassifier(n_neighbors=3,p=2)"
   ]
  },
  {
   "cell_type": "code",
   "execution_count": 22,
   "id": "1a6309e1",
   "metadata": {
    "scrolled": true
   },
   "outputs": [
    {
     "ename": "NameError",
     "evalue": "name 'Combined_dataframe' is not defined",
     "output_type": "error",
     "traceback": [
      "\u001b[1;31m---------------------------------------------------------------------------\u001b[0m",
      "\u001b[1;31mNameError\u001b[0m                                 Traceback (most recent call last)",
      "\u001b[1;32m<timed eval>\u001b[0m in \u001b[0;36m<module>\u001b[1;34m\u001b[0m\n",
      "\u001b[1;31mNameError\u001b[0m: name 'Combined_dataframe' is not defined"
     ]
    }
   ],
   "source": [
    "%%time\n",
    "##Run Model Using Minmax\n",
    "##Scaled \n",
    "# Model_eval(Combined_dataframe,.3,neigh,S = True, MS = 'Minmax')\n",
    "# Model_eval(Combined_dataframe2,.3,neigh,S = True, MS = 'Minmax')\n",
    "# Model_eval(Combined_dataframe,.3,neigh,S = True, MS = 'Standard')\n",
    "# Model_eval(Combined_dataframe2,.3,neigh,S = True, MS = 'Standard')\n",
    "Model_eval(Combined_dataframe,.3,neigh) ## Best Performing Model\n",
    "# Model_eval(Combined_dataframe2,.3,neigh)"
   ]
  },
  {
   "cell_type": "code",
   "execution_count": 235,
   "id": "7b280222",
   "metadata": {},
   "outputs": [
    {
     "name": "stderr",
     "output_type": "stream",
     "text": [
      "C:\\Users\\z004csar\\Anaconda3\\lib\\site-packages\\sklearn\\neighbors\\_classification.py:179: DataConversionWarning: A column-vector y was passed when a 1d array was expected. Please change the shape of y to (n_samples,), for example using ravel().\n",
      "  return self._fit(X, y)\n"
     ]
    }
   ],
   "source": [
    "knnmodel = Model_training(X_train,y_train,neigh)"
   ]
  },
  {
   "cell_type": "code",
   "execution_count": null,
   "id": "e73bea68",
   "metadata": {},
   "outputs": [],
   "source": [
    "%%time\n",
    "knn = confumatrixCDF(X_train,y_train,X_test,y_test,neigh)"
   ]
  },
  {
   "cell_type": "markdown",
   "id": "a5601aef",
   "metadata": {},
   "source": [
    "## SVM"
   ]
  },
  {
   "cell_type": "code",
   "execution_count": 44,
   "id": "b208586e",
   "metadata": {},
   "outputs": [],
   "source": [
    "from sklearn import svm\n",
    "svclf = svm.SVC(kernel = 'rbf')\n"
   ]
  },
  {
   "cell_type": "markdown",
   "id": "afeb98ca",
   "metadata": {},
   "source": [
    "## Random Forest "
   ]
  },
  {
   "cell_type": "code",
   "execution_count": 45,
   "id": "08d5accf",
   "metadata": {},
   "outputs": [
    {
     "name": "stdout",
     "output_type": "stream",
     "text": [
      "Wall time: 2.39 ms\n"
     ]
    }
   ],
   "source": [
    "%%time\n",
    "from sklearn.ensemble import RandomForestClassifier\n",
    "rfclf = RandomForestClassifier(max_depth=2, random_state=0)"
   ]
  },
  {
   "cell_type": "code",
   "execution_count": null,
   "id": "96782f95",
   "metadata": {},
   "outputs": [],
   "source": [
    "%%time\n",
    "Model_eval(Combined_dataframe,.3,rfclf)\n",
    "Model_eval(Combined_dataframe2,.3,rfclf)"
   ]
  },
  {
   "cell_type": "code",
   "execution_count": 226,
   "id": "afc73c11",
   "metadata": {},
   "outputs": [
    {
     "name": "stderr",
     "output_type": "stream",
     "text": [
      "C:\\Users\\z004csar\\Thesis_Project\\MasterThesis_2022_CombustionFlameComparison\\Master_thesis_Final_script.py:377: DataConversionWarning: A column-vector y was passed when a 1d array was expected. Please change the shape of y to (n_samples,), for example using ravel().\n",
      "  model.fit(Xtrain,ytrain)\n"
     ]
    }
   ],
   "source": [
    "rfmodel = Model_training(X_train,y_train,rfclf)"
   ]
  },
  {
   "cell_type": "code",
   "execution_count": null,
   "id": "89a20e2e",
   "metadata": {},
   "outputs": [],
   "source": [
    "%%time\n",
    "RF = confumatrixCDF(X_train,y_train,X_test,y_test,rfclf)"
   ]
  },
  {
   "cell_type": "markdown",
   "id": "2c3b7811",
   "metadata": {},
   "source": [
    "## Adaboost"
   ]
  },
  {
   "cell_type": "code",
   "execution_count": null,
   "id": "51338775",
   "metadata": {},
   "outputs": [],
   "source": [
    "%%time\n",
    "from sklearn.ensemble import AdaBoostClassifier\n",
    "adaclf = AdaBoostClassifier(n_estimators=100, random_state=0)"
   ]
  },
  {
   "cell_type": "code",
   "execution_count": null,
   "id": "c5b51af3",
   "metadata": {},
   "outputs": [],
   "source": [
    "%%time\n",
    "Model_eval(Combined_dataframe,.3,adaclf)\n",
    "Model_eval(Combined_dataframe2,.3,adaclf)"
   ]
  },
  {
   "cell_type": "code",
   "execution_count": null,
   "id": "de917dfd",
   "metadata": {},
   "outputs": [],
   "source": [
    "\n",
    "adamodel = Model_training(X_train,y_train,adaclf)"
   ]
  },
  {
   "cell_type": "code",
   "execution_count": null,
   "id": "bbf7a615",
   "metadata": {},
   "outputs": [],
   "source": [
    "%%time\n",
    "Ada = confumatrixCDF(X_train,y_train,X_test,y_test,adaclf)"
   ]
  },
  {
   "cell_type": "markdown",
   "id": "098a4a27",
   "metadata": {},
   "source": [
    "## XGBoost"
   ]
  },
  {
   "cell_type": "code",
   "execution_count": 48,
   "id": "8a51b006",
   "metadata": {},
   "outputs": [
    {
     "name": "stdout",
     "output_type": "stream",
     "text": [
      "Wall time: 0 ns\n"
     ]
    }
   ],
   "source": [
    "%%time\n",
    "import xgboost as xgb\n",
    "xgb_m = xgb.XGBClassifier(max_depth = 4,enable_categorical=True,eval_metric='rmse')"
   ]
  },
  {
   "cell_type": "code",
   "execution_count": null,
   "id": "6cb55666",
   "metadata": {},
   "outputs": [],
   "source": [
    "# Model_eval(Combined_dataframe,.3,xgbmodel)\n",
    "# Model_eval(Combined_dataframe2,.3,xgbmodel)"
   ]
  },
  {
   "cell_type": "code",
   "execution_count": 225,
   "id": "53d80181",
   "metadata": {},
   "outputs": [
    {
     "name": "stderr",
     "output_type": "stream",
     "text": [
      "C:\\Users\\z004csar\\Anaconda3\\lib\\site-packages\\xgboost\\sklearn.py:888: UserWarning: The use of label encoder in XGBClassifier is deprecated and will be removed in a future release. To remove this warning, do the following: 1) Pass option use_label_encoder=False when constructing XGBClassifier object; and 2) Encode your labels (y) as integers starting with 0, i.e. 0, 1, 2, ..., [num_class - 1].\n",
      "  warnings.warn(label_encoder_deprecation_msg, UserWarning)\n",
      "C:\\Users\\z004csar\\Anaconda3\\lib\\site-packages\\sklearn\\utils\\validation.py:63: DataConversionWarning: A column-vector y was passed when a 1d array was expected. Please change the shape of y to (n_samples, ), for example using ravel().\n",
      "  return f(*args, **kwargs)\n"
     ]
    },
    {
     "name": "stdout",
     "output_type": "stream",
     "text": [
      "[22:04:28] WARNING: ..\\src\\learner.cc:541: \n",
      "Parameters: { enable_categorical } might not be used.\n",
      "\n",
      "  This may not be accurate due to some parameters are only used in language bindings but\n",
      "  passed down to XGBoost core.  Or some parameters are not used but slip through this\n",
      "  verification. Please open an issue if you find above cases.\n",
      "\n",
      "\n"
     ]
    }
   ],
   "source": [
    "##Train on best model \n",
    "xgbmodel =  Model_training(X_train,y_train,xgb_m)"
   ]
  },
  {
   "cell_type": "code",
   "execution_count": null,
   "id": "f8c293f4",
   "metadata": {},
   "outputs": [],
   "source": [
    "%%time\n",
    "xgboost = confumatrixCDF(X_train,y_train,X_test,y_test,xgbmodel)"
   ]
  },
  {
   "cell_type": "markdown",
   "id": "337bce0f",
   "metadata": {},
   "source": [
    "## MLP"
   ]
  },
  {
   "cell_type": "code",
   "execution_count": null,
   "id": "e741b9ba",
   "metadata": {},
   "outputs": [],
   "source": [
    "from sklearn.neural_network import MLPClassifier\n",
    "mlpclf = MLPClassifier(random_state=21, max_iter=300)\n",
    "# mlpclf.predict_proba(X_test[:1])"
   ]
  },
  {
   "cell_type": "code",
   "execution_count": null,
   "id": "7d3a3513",
   "metadata": {},
   "outputs": [],
   "source": [
    "Model_eval(Combined_dataframe,.3,mlpclf,S = True, MS = 'Minmax')\n",
    "Model_eval(Combined_dataframe2,.3,mlpclf,S = True, MS = 'Minmax')\n",
    "Model_eval(Combined_dataframe,.3,mlpclf,S = True, MS = 'Standard')\n",
    "Model_eval(Combined_dataframe2,.3,mlpclf,S = True, MS = 'Standard')\n",
    "Model_eval(Combined_dataframe,.3,mlpclf)\n",
    "Model_eval(Combined_dataframe2,.3,mlpclf)"
   ]
  },
  {
   "cell_type": "code",
   "execution_count": 224,
   "id": "d3e3e561",
   "metadata": {},
   "outputs": [
    {
     "ename": "NameError",
     "evalue": "name 'mlpclf' is not defined",
     "output_type": "error",
     "traceback": [
      "\u001b[1;31m---------------------------------------------------------------------------\u001b[0m",
      "\u001b[1;31mNameError\u001b[0m                                 Traceback (most recent call last)",
      "\u001b[1;32m<ipython-input-224-34eac55ff0e0>\u001b[0m in \u001b[0;36m<module>\u001b[1;34m\u001b[0m\n\u001b[0;32m      1\u001b[0m \u001b[1;31m##Train on best model\u001b[0m\u001b[1;33m\u001b[0m\u001b[1;33m\u001b[0m\u001b[1;33m\u001b[0m\u001b[0m\n\u001b[1;32m----> 2\u001b[1;33m \u001b[0mmlpmodel\u001b[0m \u001b[1;33m=\u001b[0m  \u001b[0mModel_training\u001b[0m\u001b[1;33m(\u001b[0m\u001b[0mX_train\u001b[0m\u001b[1;33m,\u001b[0m\u001b[0my_train\u001b[0m\u001b[1;33m,\u001b[0m\u001b[0mmlpclf\u001b[0m\u001b[1;33m)\u001b[0m\u001b[1;33m\u001b[0m\u001b[1;33m\u001b[0m\u001b[0m\n\u001b[0m",
      "\u001b[1;31mNameError\u001b[0m: name 'mlpclf' is not defined"
     ]
    }
   ],
   "source": [
    "##Train on best model \n",
    "mlpmodel =  Model_training(X_train,y_train,mlpclf)"
   ]
  },
  {
   "cell_type": "code",
   "execution_count": null,
   "id": "31ca6b5a",
   "metadata": {},
   "outputs": [],
   "source": [
    "%%time\n",
    "mlp = confumatrixCDF(X_train,y_train,X_test,y_test,mlpclf,S = True, MS = 'Standard')"
   ]
  },
  {
   "cell_type": "markdown",
   "id": "505a4a90",
   "metadata": {},
   "source": [
    "## Test This on the Burners"
   ]
  },
  {
   "cell_type": "code",
   "execution_count": 230,
   "id": "3f620c4d",
   "metadata": {},
   "outputs": [
    {
     "name": "stdout",
     "output_type": "stream",
     "text": [
      "No na values\n",
      "No na values\n"
     ]
    }
   ],
   "source": [
    "dataPT = preprocess_Indiv_burner_T_P_sans_SULP(Gazli20210618Balanced,rm = True)\n",
    "dataPT_Test = preprocess_Indiv_burner_T_P_sans_SULP(Gazli20210618Unbalanced,rm = False,form = 2)\n",
    "dataPT_Test_Burners  = preprocess_Indiv_burner_T_P_sans_SULP(Gazli20210618Unbalanced,rm = False,form = 1)"
   ]
  },
  {
   "cell_type": "code",
   "execution_count": 78,
   "id": "c37268db",
   "metadata": {},
   "outputs": [],
   "source": [
    "# plt.plot(dataPT.iloc[:,0])\n",
    "# plt.plot(dataPT_Test.iloc[:,0])"
   ]
  },
  {
   "cell_type": "code",
   "execution_count": 49,
   "id": "d3b88b17",
   "metadata": {},
   "outputs": [
    {
     "name": "stderr",
     "output_type": "stream",
     "text": [
      "C:\\Users\\z004csar\\Anaconda3\\lib\\site-packages\\xgboost\\sklearn.py:888: UserWarning: The use of label encoder in XGBClassifier is deprecated and will be removed in a future release. To remove this warning, do the following: 1) Pass option use_label_encoder=False when constructing XGBClassifier object; and 2) Encode your labels (y) as integers starting with 0, i.e. 0, 1, 2, ..., [num_class - 1].\n",
      "  warnings.warn(label_encoder_deprecation_msg, UserWarning)\n"
     ]
    },
    {
     "name": "stdout",
     "output_type": "stream",
     "text": [
      "[17:10:30] WARNING: ..\\src\\learner.cc:541: \n",
      "Parameters: { enable_categorical } might not be used.\n",
      "\n",
      "  This may not be accurate due to some parameters are only used in language bindings but\n",
      "  passed down to XGBoost core.  Or some parameters are not used but slip through this\n",
      "  verification. Please open an issue if you find above cases.\n",
      "\n",
      "\n"
     ]
    }
   ],
   "source": [
    "log_model = model_eval(log_m,dataPT)\n",
    "knnmodel =model_eval(neigh,dataPT)\n",
    "svmmodel = model_eval(svclf,dataPT)\n",
    "rfmodel=model_eval(rfclf,dataPT)\n",
    "XGBmodel = model_eval(xgb_m,dataPT)"
   ]
  },
  {
   "cell_type": "code",
   "execution_count": 236,
   "id": "d7957450",
   "metadata": {},
   "outputs": [],
   "source": [
    "def valuecounts_allburners(df):\n",
    "    count_dict = {}\n",
    "    for i in range(8):\n",
    "        Values = df[i][1].diff().shift(-1).dropna().value_counts().tolist()[1:]\n",
    "        count_dict[i]  = sum(Values)\n",
    "    print(f'The total number of On-Off is{Values[0]},\\n The total number of Off-On is {Values[1]}')\n",
    "    return(count_dict)"
   ]
  },
  {
   "cell_type": "code",
   "execution_count": null,
   "id": "4eb4c4ba",
   "metadata": {},
   "outputs": [],
   "source": [
    "valuecounts_allburners()"
   ]
  },
  {
   "cell_type": "code",
   "execution_count": 81,
   "id": "1cedf2d1",
   "metadata": {},
   "outputs": [],
   "source": [
    "# modellist = [log_model,knnmodel,rfmodel,adamodel,mlpmodel]\n",
    "# for i in modellist:\n",
    "#     plotconfusiongrid(dataPT_Test,i)\n",
    "#     plt.tight_layout()\n",
    "#     plt.savefig('123')\n",
    "    "
   ]
  },
  {
   "cell_type": "code",
   "execution_count": 19,
   "id": "4a35bf0e",
   "metadata": {},
   "outputs": [],
   "source": [
    "def model_eval(model,data):\n",
    "    X = data.iloc[:,1:].astype('float')\n",
    "    y = data.iloc[:,0].astype('category')\n",
    "    model.fit(X,y)\n",
    "    return(model)"
   ]
  },
  {
   "cell_type": "code",
   "execution_count": 93,
   "id": "04b2722e",
   "metadata": {},
   "outputs": [
    {
     "data": {
      "text/html": [
       "<div>\n",
       "<style scoped>\n",
       "    .dataframe tbody tr th:only-of-type {\n",
       "        vertical-align: middle;\n",
       "    }\n",
       "\n",
       "    .dataframe tbody tr th {\n",
       "        vertical-align: top;\n",
       "    }\n",
       "\n",
       "    .dataframe thead th {\n",
       "        text-align: right;\n",
       "    }\n",
       "</style>\n",
       "<table border=\"1\" class=\"dataframe\">\n",
       "  <thead>\n",
       "    <tr style=\"text-align: right;\">\n",
       "      <th></th>\n",
       "      <th>BurnerStatus</th>\n",
       "      <th>UltraLow_Frequency</th>\n",
       "      <th>Low_Frequency</th>\n",
       "      <th>Medium_Frequency</th>\n",
       "      <th>High_Frequency</th>\n",
       "      <th>TempRing1</th>\n",
       "      <th>TempRing2</th>\n",
       "      <th>TempRing3</th>\n",
       "    </tr>\n",
       "  </thead>\n",
       "  <tbody>\n",
       "    <tr>\n",
       "      <th>0</th>\n",
       "      <td>0</td>\n",
       "      <td>0.244155</td>\n",
       "      <td>0.396753</td>\n",
       "      <td>0.244155</td>\n",
       "      <td>0.396753</td>\n",
       "      <td>22.88333</td>\n",
       "      <td>22.52153</td>\n",
       "      <td>22.52014</td>\n",
       "    </tr>\n",
       "    <tr>\n",
       "      <th>1</th>\n",
       "      <td>0</td>\n",
       "      <td>0.244155</td>\n",
       "      <td>0.396753</td>\n",
       "      <td>0.244155</td>\n",
       "      <td>0.396753</td>\n",
       "      <td>22.88333</td>\n",
       "      <td>22.52153</td>\n",
       "      <td>22.52639</td>\n",
       "    </tr>\n",
       "    <tr>\n",
       "      <th>2</th>\n",
       "      <td>0</td>\n",
       "      <td>0.305194</td>\n",
       "      <td>0.305194</td>\n",
       "      <td>0.244155</td>\n",
       "      <td>0.396753</td>\n",
       "      <td>22.88264</td>\n",
       "      <td>22.52153</td>\n",
       "      <td>22.52639</td>\n",
       "    </tr>\n",
       "    <tr>\n",
       "      <th>3</th>\n",
       "      <td>0</td>\n",
       "      <td>0.335714</td>\n",
       "      <td>0.366233</td>\n",
       "      <td>0.244155</td>\n",
       "      <td>0.396753</td>\n",
       "      <td>22.88264</td>\n",
       "      <td>22.52153</td>\n",
       "      <td>22.52639</td>\n",
       "    </tr>\n",
       "    <tr>\n",
       "      <th>4</th>\n",
       "      <td>0</td>\n",
       "      <td>0.305194</td>\n",
       "      <td>0.366233</td>\n",
       "      <td>0.244155</td>\n",
       "      <td>0.396753</td>\n",
       "      <td>22.87153</td>\n",
       "      <td>22.52153</td>\n",
       "      <td>22.52014</td>\n",
       "    </tr>\n",
       "    <tr>\n",
       "      <th>...</th>\n",
       "      <td>...</td>\n",
       "      <td>...</td>\n",
       "      <td>...</td>\n",
       "      <td>...</td>\n",
       "      <td>...</td>\n",
       "      <td>...</td>\n",
       "      <td>...</td>\n",
       "      <td>...</td>\n",
       "    </tr>\n",
       "    <tr>\n",
       "      <th>155419</th>\n",
       "      <td>0</td>\n",
       "      <td>0.335714</td>\n",
       "      <td>0.396753</td>\n",
       "      <td>0.335714</td>\n",
       "      <td>0.335714</td>\n",
       "      <td>208.8069</td>\n",
       "      <td>214.6111</td>\n",
       "      <td>214.5917</td>\n",
       "    </tr>\n",
       "    <tr>\n",
       "      <th>155420</th>\n",
       "      <td>0</td>\n",
       "      <td>0.305194</td>\n",
       "      <td>0.335714</td>\n",
       "      <td>0.305194</td>\n",
       "      <td>0.335714</td>\n",
       "      <td>208.7208</td>\n",
       "      <td>214.5424</td>\n",
       "      <td>214.5007</td>\n",
       "    </tr>\n",
       "    <tr>\n",
       "      <th>155421</th>\n",
       "      <td>0</td>\n",
       "      <td>0.457792</td>\n",
       "      <td>0.335714</td>\n",
       "      <td>0.335714</td>\n",
       "      <td>0.335714</td>\n",
       "      <td>208.641</td>\n",
       "      <td>214.5194</td>\n",
       "      <td>214.4472</td>\n",
       "    </tr>\n",
       "    <tr>\n",
       "      <th>155422</th>\n",
       "      <td>0</td>\n",
       "      <td>0.396753</td>\n",
       "      <td>0.366233</td>\n",
       "      <td>0.305194</td>\n",
       "      <td>0.335714</td>\n",
       "      <td>208.5548</td>\n",
       "      <td>214.4465</td>\n",
       "      <td>214.3861</td>\n",
       "    </tr>\n",
       "    <tr>\n",
       "      <th>155423</th>\n",
       "      <td>0</td>\n",
       "      <td>0.457792</td>\n",
       "      <td>0.335714</td>\n",
       "      <td>0.335714</td>\n",
       "      <td>0.335714</td>\n",
       "      <td>208.4799</td>\n",
       "      <td>214.4139</td>\n",
       "      <td>214.3465</td>\n",
       "    </tr>\n",
       "  </tbody>\n",
       "</table>\n",
       "<p>155424 rows × 8 columns</p>\n",
       "</div>"
      ],
      "text/plain": [
       "       BurnerStatus UltraLow_Frequency Low_Frequency Medium_Frequency  \\\n",
       "0                 0           0.244155      0.396753         0.244155   \n",
       "1                 0           0.244155      0.396753         0.244155   \n",
       "2                 0           0.305194      0.305194         0.244155   \n",
       "3                 0           0.335714      0.366233         0.244155   \n",
       "4                 0           0.305194      0.366233         0.244155   \n",
       "...             ...                ...           ...              ...   \n",
       "155419            0           0.335714      0.396753         0.335714   \n",
       "155420            0           0.305194      0.335714         0.305194   \n",
       "155421            0           0.457792      0.335714         0.335714   \n",
       "155422            0           0.396753      0.366233         0.305194   \n",
       "155423            0           0.457792      0.335714         0.335714   \n",
       "\n",
       "       High_Frequency TempRing1 TempRing2 TempRing3  \n",
       "0            0.396753  22.88333  22.52153  22.52014  \n",
       "1            0.396753  22.88333  22.52153  22.52639  \n",
       "2            0.396753  22.88264  22.52153  22.52639  \n",
       "3            0.396753  22.88264  22.52153  22.52639  \n",
       "4            0.396753  22.87153  22.52153  22.52014  \n",
       "...               ...       ...       ...       ...  \n",
       "155419       0.335714  208.8069  214.6111  214.5917  \n",
       "155420       0.335714  208.7208  214.5424  214.5007  \n",
       "155421       0.335714   208.641  214.5194  214.4472  \n",
       "155422       0.335714  208.5548  214.4465  214.3861  \n",
       "155423       0.335714  208.4799  214.4139  214.3465  \n",
       "\n",
       "[155424 rows x 8 columns]"
      ]
     },
     "execution_count": 93,
     "metadata": {},
     "output_type": "execute_result"
    }
   ],
   "source": [
    "dataPT"
   ]
  },
  {
   "cell_type": "code",
   "execution_count": 80,
   "id": "7d5c931a",
   "metadata": {},
   "outputs": [],
   "source": [
    "def confumatrixCDF(X_train,y_train,X_test,y_test,model,S = False,MS = 'Standard'):\n",
    "    ##Confusion Matrix\n",
    "    X_train = np.array(X_train)\n",
    "    y_train = y_train.astype('category')\n",
    "    X_test = np.array(X_test)\n",
    "    y_test = y_test.astype('category')\n",
    "    if S == True:\n",
    "        if MS == 'Standard':\n",
    "            model.fit(stdscaler.fit_transform(X_train),y_train)\n",
    "            y_pred = model.predict(stdscaler.fit_transform(X_test))\n",
    "            cm = confusion_matrix(y_test, y_pred)\n",
    "            f1 = f1_score(y_test, y_pred, average='weighted')\n",
    "        elif MS == 'Minmax':\n",
    "            model.fit(scalermin.fit_transform(X_train),y_train)\n",
    "            y_pred = model.predict(scalermin.fit_transform(X_test))\n",
    "            cm = confusion_matrix(y_test, y_pred)\n",
    "            f1 = f1_score(y_test, y_pred, average='weighted')\n",
    "    else:\n",
    "        model.fit(X_train,y_train)\n",
    "        # print(f\"The score using {model}  after training on Data1 and tesy_trainting on Data2 is\",\n",
    "        # model.score(data2.iloc[:,1:],data2.iloc[:,0].astype('category'))*100)\n",
    "        y_pred = model.predict(X_test)\n",
    "        cm = confusion_matrix(y_test,y_pred )\n",
    "        f1 = f1_score(y_test, y_pred, average='weighted')\n",
    "    tn, fp, fn, tp = cm.ravel()\n",
    "    # ax= plt.subplots(1,2,1)\n",
    "    fig, ax = plt.subplots(1, 2,figsize=(13,5))\n",
    "    fig.tight_layout()\n",
    "    sns.heatmap(cm, annot=True, fmt='g', ax=ax[0]);  #annot=True to annotate cells, ftm='g' to disable scientific notation\n",
    "    # labels, title and ticks\n",
    "    ax[0].set_xlabel('Predicted labels')\n",
    "    ax[0].set_ylabel('True labels');\n",
    "    ax[0].set_title('Confusion Matrix');\n",
    "    ax[0].xaxis.set_ticklabels(['0', '1'])\n",
    "    ax[0].yaxis.set_ticklabels(['0', '1'])\n",
    "    # plt.subplot(1, 2, 2)\n",
    "    ploty(ax[1],X_test,y_test,model,S,MS)\n",
    "    plt.tight_layout()\n",
    "    plt.show()\n",
    "    fn,fp,tn,tp = int(fn),int(fp),int(tn),int(tp) \n",
    "    print(\"FN :\",fn,\"\\nFP :\",fp,\"\\nTN :\",tn,\"\\nTP :\",tp)\n",
    "    MCC = ((tp*tn) - (fp*fn))/math.sqrt((tp+fp)*(tp+fn)*(tn+fp)*(tn+fn))\n",
    "    \n",
    "    return(tn, fp, fn, tp,MCC,f1)"
   ]
  },
  {
   "cell_type": "code",
   "execution_count": 105,
   "id": "cb10712a",
   "metadata": {},
   "outputs": [],
   "source": [
    "def plotconfusiongridXGB(data,model):\n",
    "    fig, ax = plt.subplots(nrows=2,ncols=4, figsize=(15,10),sharey=True,sharex=True)\n",
    "    fig.subplots_adjust(wspace=0.1)\n",
    "    co = 0\n",
    "    fplist = []\n",
    "    fnlist = []\n",
    "    tprlist = []\n",
    "    fprlist = []\n",
    "    for i in range(2):\n",
    "        for j in range(4):\n",
    "            cm = confusion_matrix(data[co].iloc[:,0].astype('category'),\n",
    "                              model.predict(data[co].iloc[:,1:].astype('float')))\n",
    "            FP = cm.sum(axis=0) - np.diag(cm)\n",
    "            FN = cm.sum(axis=1) - np.diag(cm)\n",
    "            TP = np.diag(cm)\n",
    "            TN = cm.sum() - (FP + FN + TP)\n",
    "            fprlist.append(FP[0]/(FP[0]+TN[0]))\n",
    "            tprlist.append(TP[0]/(TP[0]+FN[0]))\n",
    "            fplist.append(cm[1,0])\n",
    "            fnlist.append(cm[0,1])\n",
    "            co = co + 1\n",
    "            sns.heatmap(cm, annot=True, fmt='g', ax=ax[i,j],yticklabels=True, xticklabels=True) #annot=True to annotate cells, ftm='g' to disable scientific notation\n",
    "            ax.set_title(\"Plot #{}\".format(co)) # 3\n",
    "    print(\"The total Number of False positives in the list is\",sum(fplist))\n",
    "    print(\"The total Number of False negatives in the list is\",sum(fnlist))\n",
    "    # return(sum(fplist),sum(fnlist),sum(fprlist)+sum(tprlist))"
   ]
  },
  {
   "cell_type": "code",
   "execution_count": 100,
   "id": "ed89aa4f",
   "metadata": {},
   "outputs": [
    {
     "data": {
      "text/plain": [
       "array([[4907,    4],\n",
       "       [   0, 8318]], dtype=int64)"
      ]
     },
     "execution_count": 100,
     "metadata": {},
     "output_type": "execute_result"
    }
   ],
   "source": [
    "confusion_matrix(dataPT_Test_Burners[0].iloc[:,0].astype('category'),\n",
    "                              XGBmodel.predict(dataPT_Test_Burners[0].iloc[:,1:].astype('float')))"
   ]
  },
  {
   "cell_type": "code",
   "execution_count": 92,
   "id": "c84be7ec",
   "metadata": {},
   "outputs": [
    {
     "name": "stderr",
     "output_type": "stream",
     "text": [
      "C:\\Users\\z004csar\\Anaconda3\\lib\\site-packages\\xgboost\\sklearn.py:888: UserWarning: The use of label encoder in XGBClassifier is deprecated and will be removed in a future release. To remove this warning, do the following: 1) Pass option use_label_encoder=False when constructing XGBClassifier object; and 2) Encode your labels (y) as integers starting with 0, i.e. 0, 1, 2, ..., [num_class - 1].\n",
      "  warnings.warn(label_encoder_deprecation_msg, UserWarning)\n"
     ]
    },
    {
     "name": "stdout",
     "output_type": "stream",
     "text": [
      "[12:40:30] WARNING: ..\\src\\learner.cc:1061: Starting in XGBoost 1.3.0, the default evaluation metric used with the objective 'binary:logistic' was changed from 'error' to 'logloss'. Explicitly set eval_metric if you'd like to restore the old behavior.\n"
     ]
    }
   ],
   "source": [
    "XGBmodel = model_eval(xgb_m,dataPT)"
   ]
  },
  {
   "cell_type": "code",
   "execution_count": 79,
   "id": "0dffc44a",
   "metadata": {},
   "outputs": [
    {
     "ename": "TypeError",
     "evalue": "confumatrixCDF() missing 2 required positional arguments: 'y_test' and 'model'",
     "output_type": "error",
     "traceback": [
      "\u001b[1;31m---------------------------------------------------------------------------\u001b[0m",
      "\u001b[1;31mTypeError\u001b[0m                                 Traceback (most recent call last)",
      "\u001b[1;32m<ipython-input-79-ea346644d3f5>\u001b[0m in \u001b[0;36m<module>\u001b[1;34m\u001b[0m\n\u001b[1;32m----> 1\u001b[1;33m \u001b[0mconfumatrixCDF\u001b[0m\u001b[1;33m(\u001b[0m\u001b[0mdataPT\u001b[0m\u001b[1;33m,\u001b[0m\u001b[0mdataPT_Test\u001b[0m\u001b[1;33m,\u001b[0m\u001b[0msvclf\u001b[0m\u001b[1;33m)\u001b[0m\u001b[1;33m\u001b[0m\u001b[1;33m\u001b[0m\u001b[0m\n\u001b[0m",
      "\u001b[1;31mTypeError\u001b[0m: confumatrixCDF() missing 2 required positional arguments: 'y_test' and 'model'"
     ]
    }
   ],
   "source": [
    "confumatrixCDF(dataPT,dataPT_Test,svclf)"
   ]
  },
  {
   "cell_type": "code",
   "execution_count": 40,
   "id": "2396cdd1",
   "metadata": {},
   "outputs": [
    {
     "ename": "NameError",
     "evalue": "name 'XGBmodel' is not defined",
     "output_type": "error",
     "traceback": [
      "\u001b[1;31m---------------------------------------------------------------------------\u001b[0m",
      "\u001b[1;31mNameError\u001b[0m                                 Traceback (most recent call last)",
      "\u001b[1;32m<ipython-input-40-ec4c4889d365>\u001b[0m in \u001b[0;36m<module>\u001b[1;34m\u001b[0m\n\u001b[1;32m----> 1\u001b[1;33m \u001b[0mplotconfusiongridXGB\u001b[0m\u001b[1;33m(\u001b[0m\u001b[0mdataPT_Test_Burners\u001b[0m\u001b[1;33m,\u001b[0m\u001b[0mXGBmodel\u001b[0m\u001b[1;33m)\u001b[0m\u001b[1;33m\u001b[0m\u001b[1;33m\u001b[0m\u001b[0m\n\u001b[0m",
      "\u001b[1;31mNameError\u001b[0m: name 'XGBmodel' is not defined"
     ]
    }
   ],
   "source": [
    "plotconfusiongridXGB(dataPT_Test_Burners,XGBmodel)"
   ]
  },
  {
   "cell_type": "code",
   "execution_count": null,
   "id": "74276205",
   "metadata": {},
   "outputs": [],
   "source": [
    "grid_result"
   ]
  },
  {
   "cell_type": "code",
   "execution_count": 245,
   "id": "4eb7c8a9",
   "metadata": {},
   "outputs": [],
   "source": [
    "log_model = model_eval(log_model,Combined_dataframe)\n",
    "# knnmodel =model_eval(neigh,Combined_dataframe)\n",
    "# svmmodel = model_eval(svclf,Combined_dataframe)\n",
    "# rfmodel=model_eval(rfclf,Combined_dataframe)\n",
    "# XGBmodel = model_eval(xgb_m,Combined_dataframe)"
   ]
  },
  {
   "cell_type": "code",
   "execution_count": 222,
   "id": "9b0321c5",
   "metadata": {},
   "outputs": [
    {
     "name": "stderr",
     "output_type": "stream",
     "text": [
      "C:\\Users\\z004csar\\Anaconda3\\lib\\site-packages\\xgboost\\sklearn.py:888: UserWarning: The use of label encoder in XGBClassifier is deprecated and will be removed in a future release. To remove this warning, do the following: 1) Pass option use_label_encoder=False when constructing XGBClassifier object; and 2) Encode your labels (y) as integers starting with 0, i.e. 0, 1, 2, ..., [num_class - 1].\n",
      "  warnings.warn(label_encoder_deprecation_msg, UserWarning)\n"
     ]
    },
    {
     "name": "stdout",
     "output_type": "stream",
     "text": [
      "[22:01:48] WARNING: ..\\src\\learner.cc:541: \n",
      "Parameters: { enable_categorical } might not be used.\n",
      "\n",
      "  This may not be accurate due to some parameters are only used in language bindings but\n",
      "  passed down to XGBoost core.  Or some parameters are not used but slip through this\n",
      "  verification. Please open an issue if you find above cases.\n",
      "\n",
      "\n"
     ]
    }
   ],
   "source": [
    "log_model = model_eval(log_m,dataPT)\n",
    "knnmodel =model_eval(neigh,dataPT)\n",
    "svmmodel = model_eval(svclf,dataPT)\n",
    "rfmodel=model_eval(rfclf,dataPT)\n",
    "XGBmodel = model_eval(xgb_m,dataPT)"
   ]
  },
  {
   "cell_type": "code",
   "execution_count": 240,
   "id": "beb18dc9",
   "metadata": {},
   "outputs": [
    {
     "name": "stdout",
     "output_type": "stream",
     "text": [
      "The total Number of False positives in the list is 1\n",
      "The total Number of False negatives in the list is 14\n"
     ]
    },
    {
     "data": {
      "image/png": "[encoded data removed]",
      "text/plain": [
       "<Figure size 1080x720 with 16 Axes>"
      ]
     },
     "metadata": {
      "needs_background": "light"
     },
     "output_type": "display_data"
    }
   ],
   "source": [
    "plotconfusiongrid(dataPT_Test_Burners,knnmodel)\n",
    "plt.savefig('KNN_allburners')"
   ]
  },
  {
   "cell_type": "code",
   "execution_count": 246,
   "id": "2fd955b0",
   "metadata": {},
   "outputs": [
    {
     "name": "stdout",
     "output_type": "stream",
     "text": [
      "The total Number of False positives in the list is 8\n",
      "The total Number of False negatives in the list is 128\n"
     ]
    },
    {
     "data": {
      "image/png": "[encoded data removed]",
      "text/plain": [
       "<Figure size 1080x720 with 16 Axes>"
      ]
     },
     "metadata": {
      "needs_background": "light"
     },
     "output_type": "display_data"
    }
   ],
   "source": [
    "plotconfusiongrid(dataPT_Test_Burners,log_model)\n",
    "plt.savefig('logistic_allburners')"
   ]
  },
  {
   "cell_type": "code",
   "execution_count": 238,
   "id": "3270564a",
   "metadata": {},
   "outputs": [
    {
     "name": "stdout",
     "output_type": "stream",
     "text": [
      "The total Number of False positives in the list is 8\n",
      "The total Number of False negatives in the list is 128\n",
      "The total Number of False positives in the list is 1\n",
      "The total Number of False negatives in the list is 14\n",
      "The total Number of False positives in the list is 8\n",
      "The total Number of False negatives in the list is 128\n",
      "Wall time: 9.93 s\n"
     ]
    },
    {
     "data": {
      "image/png": "[encoded data removed]",
      "text/plain": [
       "<Figure size 1080x720 with 16 Axes>"
      ]
     },
     "metadata": {
      "needs_background": "light"
     },
     "output_type": "display_data"
    },
    {
     "data": {
      "image/png": "[encoded data removed]",
      "text/plain": [
       "<Figure size 1080x720 with 16 Axes>"
      ]
     },
     "metadata": {
      "needs_background": "light"
     },
     "output_type": "display_data"
    },
    {
     "data": {
      "image/png": "[encoded data removed]",
      "text/plain": [
       "<Figure size 1080x720 with 16 Axes>"
      ]
     },
     "metadata": {
      "needs_background": "light"
     },
     "output_type": "display_data"
    }
   ],
   "source": [
    "%%time\n",
    "modellist = [log_model,knnmodel,rfmodel]\n",
    "for i in modellist:\n",
    "    plotconfusiongrid(dataPT_Test_Burners,i)\n",
    "    plt.tight_layout()\n",
    "    plt.savefig(f'{modellist}')\n",
    "    "
   ]
  },
  {
   "cell_type": "code",
   "execution_count": 234,
   "id": "fe100d80",
   "metadata": {},
   "outputs": [
    {
     "ename": "NotFittedError",
     "evalue": "This GridSearchCV instance is not fitted yet. Call 'fit' with appropriate arguments before using this estimator.",
     "output_type": "error",
     "traceback": [
      "\u001b[1;31m---------------------------------------------------------------------------\u001b[0m",
      "\u001b[1;31mNotFittedError\u001b[0m                            Traceback (most recent call last)",
      "\u001b[1;32m<ipython-input-234-4ed3159421df>\u001b[0m in \u001b[0;36m<module>\u001b[1;34m\u001b[0m\n\u001b[1;32m----> 1\u001b[1;33m \u001b[0mplotconfusiongrid\u001b[0m\u001b[1;33m(\u001b[0m\u001b[0mdataPT_Test_Burners\u001b[0m\u001b[1;33m,\u001b[0m\u001b[0mgrid_search\u001b[0m\u001b[1;33m)\u001b[0m\u001b[1;33m\u001b[0m\u001b[1;33m\u001b[0m\u001b[0m\n\u001b[0m",
      "\u001b[1;32m~\\Thesis_Project\\MasterThesis_2022_CombustionFlameComparison\\Master_thesis_Final_script.py\u001b[0m in \u001b[0;36mplotconfusiongrid\u001b[1;34m(data, model)\u001b[0m\n\u001b[0;32m    134\u001b[0m         \u001b[1;32mfor\u001b[0m \u001b[0mj\u001b[0m \u001b[1;32min\u001b[0m \u001b[0mrange\u001b[0m\u001b[1;33m(\u001b[0m\u001b[1;36m4\u001b[0m\u001b[1;33m)\u001b[0m\u001b[1;33m:\u001b[0m\u001b[1;33m\u001b[0m\u001b[1;33m\u001b[0m\u001b[0m\n\u001b[0;32m    135\u001b[0m             cm = confusion_matrix(np.array(data[co].iloc[:,0].astype('category')),\n\u001b[1;32m--> 136\u001b[1;33m                               model.predict(np.array(data[co].iloc[:,1:])))\n\u001b[0m\u001b[0;32m    137\u001b[0m             \u001b[0mFP\u001b[0m \u001b[1;33m=\u001b[0m \u001b[0mcm\u001b[0m\u001b[1;33m.\u001b[0m\u001b[0msum\u001b[0m\u001b[1;33m(\u001b[0m\u001b[0maxis\u001b[0m\u001b[1;33m=\u001b[0m\u001b[1;36m0\u001b[0m\u001b[1;33m)\u001b[0m \u001b[1;33m-\u001b[0m \u001b[0mnp\u001b[0m\u001b[1;33m.\u001b[0m\u001b[0mdiag\u001b[0m\u001b[1;33m(\u001b[0m\u001b[0mcm\u001b[0m\u001b[1;33m)\u001b[0m\u001b[1;33m\u001b[0m\u001b[1;33m\u001b[0m\u001b[0m\n\u001b[0;32m    138\u001b[0m             \u001b[0mFN\u001b[0m \u001b[1;33m=\u001b[0m \u001b[0mcm\u001b[0m\u001b[1;33m.\u001b[0m\u001b[0msum\u001b[0m\u001b[1;33m(\u001b[0m\u001b[0maxis\u001b[0m\u001b[1;33m=\u001b[0m\u001b[1;36m1\u001b[0m\u001b[1;33m)\u001b[0m \u001b[1;33m-\u001b[0m \u001b[0mnp\u001b[0m\u001b[1;33m.\u001b[0m\u001b[0mdiag\u001b[0m\u001b[1;33m(\u001b[0m\u001b[0mcm\u001b[0m\u001b[1;33m)\u001b[0m\u001b[1;33m\u001b[0m\u001b[1;33m\u001b[0m\u001b[0m\n",
      "\u001b[1;32m~\\Anaconda3\\lib\\site-packages\\sklearn\\utils\\metaestimators.py\u001b[0m in \u001b[0;36m<lambda>\u001b[1;34m(*args, **kwargs)\u001b[0m\n\u001b[0;32m    118\u001b[0m \u001b[1;33m\u001b[0m\u001b[0m\n\u001b[0;32m    119\u001b[0m         \u001b[1;31m# lambda, but not partial, allows help() to work with update_wrapper\u001b[0m\u001b[1;33m\u001b[0m\u001b[1;33m\u001b[0m\u001b[1;33m\u001b[0m\u001b[0m\n\u001b[1;32m--> 120\u001b[1;33m         \u001b[0mout\u001b[0m \u001b[1;33m=\u001b[0m \u001b[1;32mlambda\u001b[0m \u001b[1;33m*\u001b[0m\u001b[0margs\u001b[0m\u001b[1;33m,\u001b[0m \u001b[1;33m**\u001b[0m\u001b[0mkwargs\u001b[0m\u001b[1;33m:\u001b[0m \u001b[0mself\u001b[0m\u001b[1;33m.\u001b[0m\u001b[0mfn\u001b[0m\u001b[1;33m(\u001b[0m\u001b[0mobj\u001b[0m\u001b[1;33m,\u001b[0m \u001b[1;33m*\u001b[0m\u001b[0margs\u001b[0m\u001b[1;33m,\u001b[0m \u001b[1;33m**\u001b[0m\u001b[0mkwargs\u001b[0m\u001b[1;33m)\u001b[0m\u001b[1;33m\u001b[0m\u001b[1;33m\u001b[0m\u001b[0m\n\u001b[0m\u001b[0;32m    121\u001b[0m         \u001b[1;31m# update the docstring of the returned function\u001b[0m\u001b[1;33m\u001b[0m\u001b[1;33m\u001b[0m\u001b[1;33m\u001b[0m\u001b[0m\n\u001b[0;32m    122\u001b[0m         \u001b[0mupdate_wrapper\u001b[0m\u001b[1;33m(\u001b[0m\u001b[0mout\u001b[0m\u001b[1;33m,\u001b[0m \u001b[0mself\u001b[0m\u001b[1;33m.\u001b[0m\u001b[0mfn\u001b[0m\u001b[1;33m)\u001b[0m\u001b[1;33m\u001b[0m\u001b[1;33m\u001b[0m\u001b[0m\n",
      "\u001b[1;32m~\\Anaconda3\\lib\\site-packages\\sklearn\\model_selection\\_search.py\u001b[0m in \u001b[0;36mpredict\u001b[1;34m(self, X)\u001b[0m\n\u001b[0;32m    537\u001b[0m \u001b[1;33m\u001b[0m\u001b[0m\n\u001b[0;32m    538\u001b[0m         \"\"\"\n\u001b[1;32m--> 539\u001b[1;33m         \u001b[0mself\u001b[0m\u001b[1;33m.\u001b[0m\u001b[0m_check_is_fitted\u001b[0m\u001b[1;33m(\u001b[0m\u001b[1;34m'predict'\u001b[0m\u001b[1;33m)\u001b[0m\u001b[1;33m\u001b[0m\u001b[1;33m\u001b[0m\u001b[0m\n\u001b[0m\u001b[0;32m    540\u001b[0m         \u001b[1;32mreturn\u001b[0m \u001b[0mself\u001b[0m\u001b[1;33m.\u001b[0m\u001b[0mbest_estimator_\u001b[0m\u001b[1;33m.\u001b[0m\u001b[0mpredict\u001b[0m\u001b[1;33m(\u001b[0m\u001b[0mX\u001b[0m\u001b[1;33m)\u001b[0m\u001b[1;33m\u001b[0m\u001b[1;33m\u001b[0m\u001b[0m\n\u001b[0;32m    541\u001b[0m \u001b[1;33m\u001b[0m\u001b[0m\n",
      "\u001b[1;32m~\\Anaconda3\\lib\\site-packages\\sklearn\\model_selection\\_search.py\u001b[0m in \u001b[0;36m_check_is_fitted\u001b[1;34m(self, method_name)\u001b[0m\n\u001b[0;32m    521\u001b[0m                                  % (type(self).__name__, method_name))\n\u001b[0;32m    522\u001b[0m         \u001b[1;32melse\u001b[0m\u001b[1;33m:\u001b[0m\u001b[1;33m\u001b[0m\u001b[1;33m\u001b[0m\u001b[0m\n\u001b[1;32m--> 523\u001b[1;33m             \u001b[0mcheck_is_fitted\u001b[0m\u001b[1;33m(\u001b[0m\u001b[0mself\u001b[0m\u001b[1;33m)\u001b[0m\u001b[1;33m\u001b[0m\u001b[1;33m\u001b[0m\u001b[0m\n\u001b[0m\u001b[0;32m    524\u001b[0m \u001b[1;33m\u001b[0m\u001b[0m\n\u001b[0;32m    525\u001b[0m     \u001b[1;33m@\u001b[0m\u001b[0mif_delegate_has_method\u001b[0m\u001b[1;33m(\u001b[0m\u001b[0mdelegate\u001b[0m\u001b[1;33m=\u001b[0m\u001b[1;33m(\u001b[0m\u001b[1;34m'best_estimator_'\u001b[0m\u001b[1;33m,\u001b[0m \u001b[1;34m'estimator'\u001b[0m\u001b[1;33m)\u001b[0m\u001b[1;33m)\u001b[0m\u001b[1;33m\u001b[0m\u001b[1;33m\u001b[0m\u001b[0m\n",
      "\u001b[1;32m~\\Anaconda3\\lib\\site-packages\\sklearn\\utils\\validation.py\u001b[0m in \u001b[0;36minner_f\u001b[1;34m(*args, **kwargs)\u001b[0m\n\u001b[0;32m     61\u001b[0m             \u001b[0mextra_args\u001b[0m \u001b[1;33m=\u001b[0m \u001b[0mlen\u001b[0m\u001b[1;33m(\u001b[0m\u001b[0margs\u001b[0m\u001b[1;33m)\u001b[0m \u001b[1;33m-\u001b[0m \u001b[0mlen\u001b[0m\u001b[1;33m(\u001b[0m\u001b[0mall_args\u001b[0m\u001b[1;33m)\u001b[0m\u001b[1;33m\u001b[0m\u001b[1;33m\u001b[0m\u001b[0m\n\u001b[0;32m     62\u001b[0m             \u001b[1;32mif\u001b[0m \u001b[0mextra_args\u001b[0m \u001b[1;33m<=\u001b[0m \u001b[1;36m0\u001b[0m\u001b[1;33m:\u001b[0m\u001b[1;33m\u001b[0m\u001b[1;33m\u001b[0m\u001b[0m\n\u001b[1;32m---> 63\u001b[1;33m                 \u001b[1;32mreturn\u001b[0m \u001b[0mf\u001b[0m\u001b[1;33m(\u001b[0m\u001b[1;33m*\u001b[0m\u001b[0margs\u001b[0m\u001b[1;33m,\u001b[0m \u001b[1;33m**\u001b[0m\u001b[0mkwargs\u001b[0m\u001b[1;33m)\u001b[0m\u001b[1;33m\u001b[0m\u001b[1;33m\u001b[0m\u001b[0m\n\u001b[0m\u001b[0;32m     64\u001b[0m \u001b[1;33m\u001b[0m\u001b[0m\n\u001b[0;32m     65\u001b[0m             \u001b[1;31m# extra_args > 0\u001b[0m\u001b[1;33m\u001b[0m\u001b[1;33m\u001b[0m\u001b[1;33m\u001b[0m\u001b[0m\n",
      "\u001b[1;32m~\\Anaconda3\\lib\\site-packages\\sklearn\\utils\\validation.py\u001b[0m in \u001b[0;36mcheck_is_fitted\u001b[1;34m(estimator, attributes, msg, all_or_any)\u001b[0m\n\u001b[0;32m   1039\u001b[0m \u001b[1;33m\u001b[0m\u001b[0m\n\u001b[0;32m   1040\u001b[0m     \u001b[1;32mif\u001b[0m \u001b[1;32mnot\u001b[0m \u001b[0mattrs\u001b[0m\u001b[1;33m:\u001b[0m\u001b[1;33m\u001b[0m\u001b[1;33m\u001b[0m\u001b[0m\n\u001b[1;32m-> 1041\u001b[1;33m         \u001b[1;32mraise\u001b[0m \u001b[0mNotFittedError\u001b[0m\u001b[1;33m(\u001b[0m\u001b[0mmsg\u001b[0m \u001b[1;33m%\u001b[0m \u001b[1;33m{\u001b[0m\u001b[1;34m'name'\u001b[0m\u001b[1;33m:\u001b[0m \u001b[0mtype\u001b[0m\u001b[1;33m(\u001b[0m\u001b[0mestimator\u001b[0m\u001b[1;33m)\u001b[0m\u001b[1;33m.\u001b[0m\u001b[0m__name__\u001b[0m\u001b[1;33m}\u001b[0m\u001b[1;33m)\u001b[0m\u001b[1;33m\u001b[0m\u001b[1;33m\u001b[0m\u001b[0m\n\u001b[0m\u001b[0;32m   1042\u001b[0m \u001b[1;33m\u001b[0m\u001b[0m\n\u001b[0;32m   1043\u001b[0m \u001b[1;33m\u001b[0m\u001b[0m\n",
      "\u001b[1;31mNotFittedError\u001b[0m: This GridSearchCV instance is not fitted yet. Call 'fit' with appropriate arguments before using this estimator."
     ]
    },
    {
     "data": {
      "image/png": "[encoded data removed]",
      "text/plain": [
       "<Figure size 1080x720 with 8 Axes>"
      ]
     },
     "metadata": {
      "needs_background": "light"
     },
     "output_type": "display_data"
    }
   ],
   "source": [
    "plotconfusiongrid(dataPT_Test_Burners,grid_search)"
   ]
  },
  {
   "cell_type": "code",
   "execution_count": 239,
   "id": "09100257",
   "metadata": {},
   "outputs": [
    {
     "name": "stdout",
     "output_type": "stream",
     "text": [
      "The total Number of False positives in the list is 0\n",
      "The total Number of False negatives in the list is 29\n"
     ]
    },
    {
     "data": {
      "image/png": "[encoded data removed]",
      "text/plain": [
       "<Figure size 1080x720 with 16 Axes>"
      ]
     },
     "metadata": {
      "needs_background": "light"
     },
     "output_type": "display_data"
    }
   ],
   "source": [
    "plotconfusiongridXGB(dataPT_Test_Burners,XGBmodel)\n",
    "plt.savefig('XGBoostWholedf')"
   ]
  },
  {
   "cell_type": "code",
   "execution_count": 709,
   "id": "70bb391c",
   "metadata": {},
   "outputs": [
    {
     "data": {
      "text/plain": [
       "1333197"
      ]
     },
     "execution_count": 709,
     "metadata": {},
     "output_type": "execute_result"
    }
   ],
   "source": [
    "len(X_train)"
   ]
  },
  {
   "cell_type": "markdown",
   "id": "6bc3d225",
   "metadata": {},
   "source": [
    "## F1 - scoring "
   ]
  },
  {
   "cell_type": "code",
   "execution_count": 722,
   "id": "5edf88a8",
   "metadata": {},
   "outputs": [
    {
     "data": {
      "text/plain": [
       "0.9926012724408887"
      ]
     },
     "execution_count": 722,
     "metadata": {},
     "output_type": "execute_result"
    }
   ],
   "source": [
    "mlp[4]"
   ]
  },
  {
   "cell_type": "code",
   "execution_count": 724,
   "id": "4a1ad4f0",
   "metadata": {},
   "outputs": [],
   "source": [
    "MCC = {'XGBoost': xgboost[4],'mlp':mlp[4],'ada':Ada[4],'RF':RF[4],'knn':knn[4],'log':log[4]}\n"
   ]
  },
  {
   "cell_type": "code",
   "execution_count": 725,
   "id": "48f2d3c5",
   "metadata": {},
   "outputs": [],
   "source": [
    "f1 = {'XGBoost': xgboost[5],'mlp':mlp[5],'ada':Ada[5],'RF':RF[5],'knn':knn[5],'log':log[5]}\n"
   ]
  },
  {
   "cell_type": "code",
   "execution_count": 735,
   "id": "ae260020",
   "metadata": {},
   "outputs": [
    {
     "data": {
      "text/plain": [
       "dict_keys(['XGBoost', 'mlp', 'ada', 'RF', 'knn', 'log'])"
      ]
     },
     "execution_count": 735,
     "metadata": {},
     "output_type": "execute_result"
    }
   ],
   "source": [
    "MCC.keys()"
   ]
  },
  {
   "cell_type": "code",
   "execution_count": 736,
   "id": "83cf7297",
   "metadata": {},
   "outputs": [
    {
     "data": {
      "text/plain": [
       "dict_values([0.987101787907337, 0.9926012724408887, 0.9933745094041442, 0.9941474015693823, 0.9911821691606534, 0.9917554866561528])"
      ]
     },
     "execution_count": 736,
     "metadata": {},
     "output_type": "execute_result"
    }
   ],
   "source": [
    "MCC.values()"
   ]
  },
  {
   "cell_type": "code",
   "execution_count": 734,
   "id": "facbf594",
   "metadata": {},
   "outputs": [
    {
     "name": "stderr",
     "output_type": "stream",
     "text": [
      "<ipython-input-734-70cddae1e7c3>:7: UserWarning: FixedFormatter should only be used together with FixedLocator\n",
      "  ax.set_xticklabels(MCC.keys())\n"
     ]
    },
    {
     "data": {
      "image/png": "[encoded data removed]",
      "text/plain": [
       "<Figure size 432x288 with 1 Axes>"
      ]
     },
     "metadata": {
      "needs_background": "light"
     },
     "output_type": "display_data"
    }
   ],
   "source": [
    "# plt.plot(MCC.values())\n",
    "# ax.set_xticklabels(MCC.keys())\n",
    "f, ax = plt.subplots()\n",
    "\n",
    "ax.plot(MCC.values())\n",
    "# ax.set_xticks(l)\n",
    "ax.set_xticklabels(MCC.keys())\n",
    "\n",
    "plt.show()"
   ]
  },
  {
   "cell_type": "code",
   "execution_count": 729,
   "id": "5e253da6",
   "metadata": {},
   "outputs": [
    {
     "data": {
      "text/plain": [
       "[<matplotlib.lines.Line2D at 0x2224c815220>]"
      ]
     },
     "execution_count": 729,
     "metadata": {},
     "output_type": "execute_result"
    },
    {
     "data": {
      "image/png": "[encoded data removed]",
      "text/plain": [
       "<Figure size 432x288 with 1 Axes>"
      ]
     },
     "metadata": {
      "needs_background": "light"
     },
     "output_type": "display_data"
    }
   ],
   "source": [
    "plt.plot(f1.values())"
   ]
  },
  {
   "cell_type": "code",
   "execution_count": 713,
   "id": "7086923e",
   "metadata": {},
   "outputs": [
    {
     "data": {
      "text/plain": [
       "(292265, 320, 1796, 276990, 0.9926012724408887)"
      ]
     },
     "execution_count": 713,
     "metadata": {},
     "output_type": "execute_result"
    }
   ],
   "source": [
    "mlp"
   ]
  },
  {
   "cell_type": "code",
   "execution_count": 715,
   "id": "36e3725d",
   "metadata": {},
   "outputs": [
    {
     "data": {
      "text/plain": [
       "(291870, 715, 1177, 277609, 0.9933745094041442, 0.9966885995134744)"
      ]
     },
     "execution_count": 715,
     "metadata": {},
     "output_type": "execute_result"
    }
   ],
   "source": [
    "Ada"
   ]
  },
  {
   "cell_type": "code",
   "execution_count": 716,
   "id": "aabf6c0a",
   "metadata": {},
   "outputs": [
    {
     "data": {
      "text/plain": [
       "(291395, 1190, 482, 278304, 0.9941474015693823, 0.997073788297763)"
      ]
     },
     "execution_count": 716,
     "metadata": {},
     "output_type": "execute_result"
    }
   ],
   "source": [
    "RF"
   ]
  },
  {
   "cell_type": "code",
   "execution_count": 717,
   "id": "dc09d921",
   "metadata": {},
   "outputs": [
    {
     "data": {
      "text/plain": [
       "(291581, 1004, 1514, 277272, 0.9911821691606534, 0.9955929574285066)"
      ]
     },
     "execution_count": 717,
     "metadata": {},
     "output_type": "execute_result"
    }
   ],
   "source": [
    "knn"
   ]
  },
  {
   "cell_type": "code",
   "execution_count": 718,
   "id": "99cefe9e",
   "metadata": {},
   "outputs": [
    {
     "data": {
      "text/plain": [
       "(291514, 1071, 1283, 277503, 0.9917554866561528, 0.9958800474110572)"
      ]
     },
     "execution_count": 718,
     "metadata": {},
     "output_type": "execute_result"
    }
   ],
   "source": [
    "log"
   ]
  },
  {
   "cell_type": "code",
   "execution_count": 738,
   "id": "99c327d8",
   "metadata": {},
   "outputs": [
    {
     "data": {
      "text/plain": [
       "571371"
      ]
     },
     "execution_count": 738,
     "metadata": {},
     "output_type": "execute_result"
    }
   ],
   "source": [
    "len(X_test)"
   ]
  },
  {
   "cell_type": "code",
   "execution_count": null,
   "id": "11d4acd0",
   "metadata": {},
   "outputs": [],
   "source": [
    "dataPT"
   ]
  }
 ],
 "metadata": {
  "kernelspec": {
   "display_name": "Python 3",
   "language": "python",
   "name": "python3"
  },
  "language_info": {
   "codemirror_mode": {
    "name": "ipython",
    "version": 3
   },
   "file_extension": ".py",
   "mimetype": "text/x-python",
   "name": "python",
   "nbconvert_exporter": "python",
   "pygments_lexer": "ipython3",
   "version": "3.8.8"
  }
 },
 "nbformat": 4,
 "nbformat_minor": 5
}
